{
  "nbformat": 4,
  "nbformat_minor": 0,
  "metadata": {
    "colab": {
      "provenance": [],
      "collapsed_sections": []
    },
    "kernelspec": {
      "name": "python3",
      "display_name": "Python 3"
    }
  },
  "cells": [
    {
      "cell_type": "markdown",
      "metadata": {
        "id": "u-BCmwuwhTPH"
      },
      "source": [
        "# Практика решения простейших задач. Занятие 3"
      ]
    },
    {
      "cell_type": "markdown",
      "metadata": {
        "id": "RSXX-KmDMo7M"
      },
      "source": [
        "## Задача 1. Таблица умножения\n",
        "\n",
        "Выведите на экран таблицу умножения размером $row$ строк и $col$ столбцов.\n",
        "\n",
        "**Формат ввода**\n",
        "\n",
        "Два целых числа в порядке $1 \\leq row \\leq 31$ затем $1 \\leq col \\leq 31$ разделённые пробелом.\n",
        "\n",
        "**Формат вывода**\n",
        "\n",
        "Таблица умножения отформатированная в соответствии с примерами.\n",
        "\n",
        "**Пример 1**\n",
        "\n",
        "```\n",
        "Ввод: 1 2\n",
        "Вывод:\n",
        "    |   1   2\n",
        "   ----------\n",
        "   1|   1   2\n",
        "```\n",
        "\n",
        "**Пример 2**\n",
        "\n",
        "```\n",
        "Ввод: 4 4\n",
        "Вывод:\n",
        "    |   1   2   3   4\n",
        "   ------------------\n",
        "   1|   1   2   3   4\n",
        "   2|   2   4   6   8\n",
        "   3|   3   6   9  12\n",
        "   4|   4   8  12  16\n",
        "```"
      ]
    },
    {
      "cell_type": "code",
      "source": [
        "# Ваш код здесь"
      ],
      "metadata": {
        "id": "_QLGq6ciO3c-"
      },
      "execution_count": null,
      "outputs": []
    },
    {
      "cell_type": "markdown",
      "metadata": {
        "id": "ltjznoFCzvSi"
      },
      "source": [
        "## Задача 2. Вывод чисел волнами\n",
        "\n",
        "Дано целое положительное число $N$, выведете на экран последовательность от 1 до $N$, так чтобы ширина \"ёлочки\" росла волнами. Например, для N=49 получим:\n",
        "\n",
        "```\n",
        "1 \n",
        "2 3   --сначала до двух\n",
        "4 \n",
        "5 6 \n",
        "7 8 9 --потом до трёх\n",
        "10 11 \n",
        "12    --возвращаемся к одному\n",
        "13 14 \n",
        "15 16 17 \n",
        "18 19 20 21 --тут уже четыре\n",
        "22 23 24 \n",
        "25 26 \n",
        "27 \n",
        "28 29 \n",
        "30 31 32 \n",
        "33 34 35 36 \n",
        "37 38 39 40 41 \n",
        "42 43 44 45 \n",
        "46 47 48 \n",
        "49\n",
        "```\n",
        "\n",
        "\n",
        "**Формат ввода**\n",
        "\n",
        "Одно число $1 \\leq N \\leq 1000$.\n",
        "\n",
        "**Формат вывода**\n",
        "\n",
        "Числа от 1 до $N$ включительно в форме волн.\n",
        "\n",
        "**Пример 1**\n",
        "\n",
        "```\n",
        "Ввод: 1 1\n",
        "Вывод:\n",
        "1\n",
        "```\n",
        "\n",
        "**Пример 2**\n",
        "\n",
        "```\n",
        "Ввод: 10\n",
        "Вывод:\n",
        "1 \n",
        "2 3 \n",
        "4 \n",
        "5 6 \n",
        "7 8 9 \n",
        "10 \n",
        "```"
      ]
    },
    {
      "cell_type": "code",
      "source": [
        "# Ваш код здесь"
      ],
      "metadata": {
        "id": "1hxqdUGzzyCz"
      },
      "execution_count": null,
      "outputs": []
    },
    {
      "cell_type": "markdown",
      "metadata": {
        "id": "aVVaaZ5lP9rg"
      },
      "source": [
        "## Задача 3. RLE сжатие\n",
        "\n",
        "Дана строка, состоящая из заглавных латинских букв A-Z. Реализуйте алгоритм [RLE](https://ru.wikipedia.org/wiki/Кодирование_длин_серий), который на выходе выдаст строку в сжатом виде.\n",
        "\n",
        "Принцип сжатия: если символ встречается 1 раз, он остаётся без изменений; если символ встречается более 1 раза подряд, к нему добавляется количество повторений.\n",
        "\n",
        "**Формат ввода**\n",
        "\n",
        "Строка, состоящая из $1 \\leq n \\leq 1000000$ заглавных латинских букв A-Z. В конце строки стоит символ `\\n`.\n",
        "\n",
        "**Формат вывода**\n",
        "\n",
        "Строка состоящая из заглавных латинских букв A-Z и цифр.\n",
        "\n",
        "**Пример 1**\n",
        "\n",
        "```\n",
        "Ввод: RRRRRRRWWWWWWWW\n",
        "Вывод: R7W8\n",
        "```\n",
        "\n",
        "**Пример 2**\n",
        "\n",
        "```\n",
        "Ввод: CPBBBZZGKA\n",
        "Вывод: CPB3Z2GKA\n",
        "```"
      ]
    },
    {
      "cell_type": "code",
      "source": [
        "# Ваш код здесь"
      ],
      "metadata": {
        "id": "okydMXRD0iPX"
      },
      "execution_count": null,
      "outputs": []
    },
    {
      "cell_type": "markdown",
      "metadata": {
        "id": "eBHwzD0D0fpG"
      },
      "source": [
        "## Задача 4. Заголовок столбца Excel\n",
        "\n",
        "Определите имя столбца Excel по его целочисленному номеру $n$.\n",
        "\n",
        "Например:\n",
        "\n",
        "```\n",
        "1 -> A\n",
        "2 -> B\n",
        "3 -> C\n",
        "...\n",
        "26 -> Z\n",
        "27 -> AA\n",
        "28 -> AB \n",
        "```\n",
        "\n",
        "\n",
        "**Формат ввода**\n",
        "\n",
        "Одно целое число в диапазоне 1 <= $n$ <= $2^{31} - 1$\n",
        "\n",
        "**Формат вывода**\n",
        "\n",
        "Имя столбца в верхнем регистре.\n",
        "\n",
        "**Пример 1**\n",
        "\n",
        "```\n",
        "Ввод: 2441\n",
        "Вывод:\n",
        "COW\n",
        "```\n",
        "\n",
        "**Пример 2**\n",
        "\n",
        "```\n",
        "Ввод: 12895\n",
        "Вывод:\n",
        "SAY\n",
        "```\n",
        "\n",
        "**Пример 3**\n",
        "\n",
        "```\n",
        "Ввод: 9193\n",
        "Вывод:\n",
        "MOO\n",
        "```"
      ]
    },
    {
      "cell_type": "code",
      "source": [
        "# Ваш код здесь"
      ],
      "metadata": {
        "id": "AaKMM5ET1N05"
      },
      "execution_count": null,
      "outputs": []
    },
    {
      "cell_type": "markdown",
      "metadata": {
        "id": "sB8Fqg5_1LeI"
      },
      "source": [
        "## Задача 5. Дождь над островом\n",
        "\n",
        "Дан остров в двумерном мире. Остров представляет собой набор столбцов различной высоты, состоящих из каменных блоков и окружённый морем. Размер острова $n$ блоков в ширину. Высота столбцов задана при помощи последовательности из $n$ целых чисел, каждое из которых указывает высоту столбца над уровнем моря в блоках. Столбцы перечислены в порядке слева направо.\n",
        "\n",
        "Над островом прошёл дождь, который заполнил водой все низины, а не поместившаяся в них вода стекла в море, не увеличив его уровень.\n",
        "\n",
        "По ландшафту острова определите, сколько воды осталось в низинах острова после дождя.\n",
        "\n",
        "<img alt=\"\" src=\"data:image/png;base64,iVBORw0KGgoAAAANSUhEUgAAAOsAAACRCAMAAAAVbb9AAAAAAXNSR0IArs4c6QAAAARnQU1BAACxjwv8YQUAAAAPUExURQAAANnZ2fLy8o6p2wAAAAd6/0EAAAAFdFJOU/////8A+7YOUwAAAAlwSFlzAAAOwgAADsIBFShKgAAAAU9JREFUeF7t2DFuAkEUREHW9v3PbPXXZAtGQjQyQ1WyQa+ApyGay8+LHLetN+pe1/p1i9YCrQVaQ2uB1gKtobVAa4HW0FqgtUBraC3QWqA1tBZoLVh3wdesN+qca4HW0FqgtUBraC3QWqA1tBZoLdAaWgu0FmgNrQVaC7TG/25d97rPsj617rHWdSJnx/ctb3uu61eeaQ2tobVA6x1aQ2toDa0FWu/QGlpDa2gt0HqH1tAaWkNrwWXd0e5jhV1xefIZrefZQ9+znmcP/Uu0Dq2hNbSG1tAaWkNraB1ah9bQGlpDa2gNraE1tA6tY8PW3aywK/yHh9bQGlpDa2gNraE1tA6tQ2toDa2hNbSG1tAaWofWoTXetvVz/HWu63n2povWsd2idWy3aB3bLVrHdovWsd2idWy3aB3bLVrHdovWsd2idWy3aB3bLZ9zP3wcv+Dwh8ZJOBB7AAAAAElFTkSuQmCC\" />\n",
        "\n",
        "\n",
        "**Формат ввода**\n",
        "\n",
        "В первой строк задано целое положительное число $1 \\leq n \\leq 1000 $. В следующей строке перечислены $n$ целых положительных чисел, разделённых пробелами. Каждое число не превышает 10^9.\n",
        "\n",
        "**Формат вывода**\n",
        "\n",
        "Одно число - суммарное количество воды в низинах острова.\n",
        "\n",
        "**Пример 1**\n",
        "\n",
        "```\n",
        "Ввод:\n",
        "5\n",
        "10 6 3 1 3\n",
        "Вывод: 2\n",
        "```\n",
        "\n",
        "**Пример 2**\n",
        "\n",
        "```\n",
        "Ввод:\n",
        "5\n",
        "4 10 5 10 10\n",
        "Вывод: 5\n",
        "```"
      ]
    },
    {
      "cell_type": "code",
      "source": [
        "# Ваш код здесь"
      ],
      "metadata": {
        "id": "j9PnPQFOP-DH"
      },
      "execution_count": null,
      "outputs": []
    },
    {
      "cell_type": "markdown",
      "source": [
        "## Задача 6. Анаграмма. 2 числа\n",
        "\n",
        "Дано два целых положительных числа без ведущих нулей. Определите, возможно ли получить первое число из второго перестановкой цифр.\n",
        "\n",
        "**Формат ввода**\n",
        "\n",
        "Два целых положительных числа без ведущих нулей разделённые пробелом. Числа по модулю не превышают 10^18.\n",
        "\n",
        "**Формат вывода**\n",
        "\n",
        "`YES`, если возможно и `NO`, если не возможно.\n",
        "\n",
        "**Пример 1**\n",
        "\n",
        "```\n",
        "Ввод: 1896 1968\n",
        "Вывод: YES\n",
        "```\n",
        "\n",
        "**Пример 2**\n",
        "\n",
        "```\n",
        "Ввод: 2670 3287\n",
        "Вывод: NO\n",
        "```"
      ],
      "metadata": {
        "id": "nzAjpL-MTMsX"
      }
    },
    {
      "cell_type": "code",
      "source": [
        "# Ваш код здесь"
      ],
      "metadata": {
        "id": "fPGcN5y9UGMg"
      },
      "execution_count": null,
      "outputs": []
    },
    {
      "cell_type": "markdown",
      "source": [
        "## Задача 7. Частота символов в тексте. Гистограмма\n",
        "\n",
        "Дан текст. Определите сколько раз каждый символ встречается в этом тексте и выведите эту информацию в виде гистограммы. Под каждым столбцом гистограммы выведите соответствующий символ. Символы должны быть отсортированы по возрастанию их кода в таблице ASCII.\n",
        "\n",
        "**Формат ввода**\n",
        "\n",
        "Строка текста состоящая из $1 \\leq n \\leq 10000$ ASCII символов. Текст завершается символом `\\n`.\n",
        "\n",
        "**Формат вывода**\n",
        "\n",
        "Гистограмма. Под каждым столбцом гистограммы выведите соответствующий символ. Символы должны быть отсортированы по возрастанию их кода в таблице ASCII\n",
        "\n",
        "**Пример 1**\n",
        "\n",
        "```\n",
        "Ввод: aaaaabbbbcccdde\n",
        "Вывод:\n",
        "#    \n",
        "##   \n",
        "###  \n",
        "#### \n",
        "#####\n",
        "abcde\n",
        "```\n",
        "\n",
        "**Пример 2**\n",
        "\n",
        "```\n",
        "Ввод: wrei[ipw[[\n",
        "Вывод:\n",
        "#     \n",
        "# #  #\n",
        "######\n",
        "[eiprw\n",
        "```"
      ],
      "metadata": {
        "id": "H_Ffaarmbc_Y"
      }
    },
    {
      "cell_type": "code",
      "source": [
        "# Ваш код здесь"
      ],
      "metadata": {
        "id": "1yaekrLWUGpQ"
      },
      "execution_count": null,
      "outputs": []
    },
    {
      "cell_type": "markdown",
      "source": [
        "## Задача 8. На каком языке текст\n",
        "\n",
        "Вам даны три текста:\n",
        "\n",
        " - про первый известно, что он написан на английском языке и лежит в файле `trainEN.txt`;\n",
        "\n",
        " - про второй известно, что он написан на русском языке с последующей транслитерацией в английские символы и лежит в файле `trainRUS.txt`;\n",
        "\n",
        " - про третий известно, что он написан либо на английском, либо на русском (с транслитерацией) и лежит в файле `input.txt`;\n",
        "\n",
        "Определите, на каком языке написан третий текст и выведите `RUS` или `EN` соответственно.\n",
        "\n",
        "**Возможный алгоритм**\n",
        "\n",
        "Для решения этой задачи можно воспользоваться частотным анализом.\n",
        "\n",
        "Частотный анализ предполагает, что частотность появления заданной буквы алфавита в достаточно длинных текстах одна и та же для разных текстов одного языка.\n",
        "\n",
        "Поэтому для начала, для каждого из трёх текстов, нужно подсчитать количество повторений каждого символа, например при помощи словаря. Затем определить к какому из эталонных текстов \"ближе\", по частотам, текст на неизвестном языке.\n",
        "\n",
        "Как же определить меру близости получившихся словарей?\n",
        "\n",
        "Для этого можно воспользоваться векторной моделью. Т.е. мы представляем, что словарь описывает некоторый вектор, где каждый символ - это ось, а количество повторов - это величина вектора в направлении этой оси.\n",
        "\n",
        "Чтобы определить меру сходства двух векторов часто используют [косинусное_сходство](https://ru.wikipedia.org/wiki/Векторная_модель#Косинусное_сходство).\n",
        "\n",
        "<img alt=\"\" src=\"data:image/png;base64,iVBORw0KGgoAAAANSUhEUgAAATkAAABWCAMAAACD6hH4AAAC91BMVEUAAAAAAAAAAAAAAAAAAAAAAAAAAAAAAAAAAAAAAAAAAAAAAAAAAAAAAAAAAAAAAAAAAAAAAAAAAAAAAAAAAAAAAAAAAAAAAAAAAAAAAAAAAAAAAAAAAAAAAAAAAAAAAAAAAAAAAAAAAAAAAAAAAAAAAAAAAAAAAAAAAAAAAAAAAAAAAAAAAAAAAAAAAAAAAAAAAAAAAAAAAAAAAAAAAAAAAAAAAAAAAAAAAAAAAAAAAAAAAAAAAAAAAAAAAAAAAAAAAAAAAAAAAAAAAAAAAAAAAAAAAAAAAAAAAAAAAAAAAAAAAAAAAAAAAAAAAAAAAAAAAAAAAAAAAAAAAAAAAAAAAAAAAAAAAAAAAAAAAAAAAAAAAAAAAAAAAAAAAAAAAAAAAAAAAAAAAAAAAAAAAAAAAAAAAAAAAAAAAAAAAAAAAAAAAAAAAAAAAAAAAAAAAAAAAAAAAAAAAAAAAAAAAAAAAAAAAAAAAAAAAAAAAAAAAAAAAAAAAAAAAAAAAAAAAAAAAAAAAAAAAAAAAAAAAAAAAAAAAAAAAAAAAAAAAAAAAAAAAAAAAAAAAAAAAAAAAAAAAAAAAAAAAAAAAAAAAAAAAAAAAAAAAAAAAAAAAAAAAAAAAAAAAAAAAAAAAAAAAAAAAAAAAAAAAAAAAAAAAAAAAAAAAAAAAAAAAAAAAAAAAAAAAAAAAAAAAAAAAAAAAAAAAAAAAAAAAAAAAAAAAAAAAAAAAAAAAAAAAAAAAAAAAAAAAAAAAAAAAAAAAAAAAAAAAAAAAAAAAAAAAAAAAAAAAAAAAAAAAAAAAAAAAAAAAAAAAAAAAAAAAAAAAAAAAAAAAAAAAAAAAAAAAAAAAAAAAAAAAAAAAAAAAAAAAAAAAAAAAAAAAAAAAAAAAAAAAAAAAAAAAAAAAAAAAAAAAAAAAAAAAAAAAAAAAAAAAAAAAAAAAAAAAAAAAAAAAAAAAAAAAAAAAAAAAAAAAAAAAAAAAAAAAAAAAAAAAAAAAAAAAAAAAAD///+Ussa0AAAA+3RSTlMAAQIDBAUGBwgJCgsMDQ4PEBESExQVFhcYGRobHB0eHyAhIiMkJSYnKCkqKywtLi8wMTIzNDU2Nzg5Ojs8PT4/QEFCQ0RFRkdISUpLTE1OT1BRUlNUVVZXWFlaW1xdXl9gYWJjZGVmZ2hpamtsbW5vcHFyc3R1dnd4eXp7fH1+f4CBgoOEhYaHiImKi4yNjo+QkZKTlJWWl5iZmpucnZ6foKGio6SlpqeoqaqrrK2ur7CxsrO0tba3uLm6u72+v8DBwsPExcbHyMnKzM3Oz9DR0tTV1tfY2drb3N3e3+Hi4+Tl5ufo6err7O3u7/Dx8vP09fb3+Pn6+/z9/n34jakAAAABYktHRPw8DqN/AAAL3klEQVQYGe3BeVxUBQLA8d+bGQ65ZNBQBvEY804lUPKoEEVQPFg1QvIqURJFwBMrz9RhZrjFC68KzYr1CrRaqNU1NXWtrWVXDa2tdDW1Vt10N33/7LzHIPP8RA5YbsB8vzg4ODj8FulfGjB5Lg61N3HBCo6qcai9vf5ND+BQe6qjjFkch0Ot+aYQuKgDDg4Ov2kDjdWGUE3ljMPPantlMxZu2qDE8k+otmYeVZ4tkLzYDAeFp8U4KrmW9KBK4I8ZVBHSK5zw+f3fVTgobPq+PZV8R2MlbD1eyB37CoCk21ocFNz/dsyJu4wb/dZ7VFFdiQPnj7bicJdH/m1EyeNV8k9QpaeYHDPl96lqHO6WcmswCiu6s/QbwC8Ki+TPg4NDXn9FDZMFHGwJJSXY6lRRVPTxf1WgD8Fiz2agszgcxuKgoN7YCluFTWGM6ItnpApQX5kIjBCDCfPFQSGjN7YmzQOeFLuTnB8EhIitocPptUTHZuNgK+l3WAUAbns+P9CUEX+s+OMA3TEXMB74vGjzrr3jwW/ZKBxsRM3G6qnnUHhidW9sCMd6ulMf+fCr6J5DJVXcFS0KsdkR2HB7bxr1UaTYA6VDX10+X1Hx1cFx3IdmJ7OMRmOaMXfXl+Je7uKEghP10i5xHXeJF7eBV4U4irrrGFOtCw2R7rp41QuleHEbsFU041CzRcvPitNQihe3gefpm324DwHc0cKFhkd9ts2L4gmU4sVzZWUXvo3kPjRZjZVz2hkdDc+IfTx0Q+yNzPfVVkjixW3gtuNmAnWnodohHQ1Pyamysn+Jm5B1+lsPJPHiNmCw+J1AXQ3ImMTIGEk3OKSjwWn9RXu9/mnxqie24sVtwFPidwJ11Wd5NF5aiSsc0lEPuPajkk8w96IO37CzO6rBV0RDKNWeyBTfDx885fTtZOpMdaylEB0j6QaH/PmFeASi0MOL6euHoKDXUReqLQFAQPraVuQ/wj24rDfmJqApyDXmZFPNWCDJX9iLuuv0ykyqBH82QssvY+5NF2yory2i3afJKBzZAarh1Na0GUDLEy2iN+P1oYr/GyFSS5Xw8PAW/DK0T6DQrzmUJKPQrT10yKaW1OVuwK45PPEZ5IyhAXF91Nsfd50KLz8e8oVWnqD28YHiZPDu3Q5w89O0UKP1RbUxm5+l6txdBbTpIAABXbUehJUAgTd9mHAahmyn4ei6LSr9Le8DonfPE+cWJh1baprx92FM+9YMxckEX4re8IZK/Z646dC6yIpSUs6cLBoWuP9qPkcujMfCU2/VDEm7P6XmHcF7e9Lk3f4Ykkb+5THSzMCqo3r9pv3Q/B/IdHorJ+5XK72VhgcsbZWK+TQXvQkRg3j2B19WbIcCMxQn0+0NterCAPg+KTicaaWwMRtwvRjOjL5IeqdZDUeyfyEhm9i8FJ59hy+7Mrwrq+cA5W+npV1eAcJ/NEimpFkFcL8S06z8eMC6Xbi0uxNa0ZugH9XEnYbFu2CNGYpToPvyly/+Dq6EAVNLYWMOFllFFPATPG9HAMKVZyD0lofxVvlCgcLJINwcSLvbQcB3PvyEyPI6WM9PiS7/9U1E1ton9u3jaEVvgm5A7GewcDesMUNJKpPO9OT0aLjyKDC1FDbkMgy63Bw8HVmPBKuBWHjcigCE7yZAxC3PNoFpXz9D/hxwuq1jXikg/FeDJDbBSsf9Gpdg5csDZuqL5h/4iN6E3IS4v8LiPbDWDO+kst+A5lJsNt8HAQmlkL8WI3Dwi6bIvPRWzZG8lwfTvTdkwfx3+RPMeIk0E3DGz/1UB6DZOWT+eitn7leA3sqJB2jcTDCVpBhTdMVX9/Y+8MPO0ScubXru5FfLZ//11NiVZ/8yNvZUkrnw8Mhd1w6MZ/TRcwvodzo9DJj0Kj/J74ONCxLxeiN7+c6WnF2TUBRA/z1AYt72J7GIKKZhKLyuwgNdE2rk2lYluGLDVQsaJvaiBs3csXBvCni4+ANO5S5ACzWSjDhqMAqiURoF0cAoiEahQ3ei+T9Lpw56XvVYhf1mTqaKx2EnarASViDrdLE7spWwAlgJK2D/ccmHG4KAJyNZgX3eKb+nydjaV35PSwD3DOrA7VWDP/ZTFbTEalVvamIAA7JscT0yAxgAAxjA+wVxi1YbePlmMIRGYsAuzeZSO9p52CVSxwPg1p9K2r7UyAjpSFy/Fa81RWKEdMAI6UCquA4oFhfDgCGkC9gjfDC1MzCS+sYEJiQTC8+I05GYwASYwASkiuvA+eStUAgbilHAHvN8qZ05LahvMsCM5MP+C8RPkGSAGcgAM5AqlhcUfHo+CgiLwqTCHmZqyUy9kwmZWHQtF5rfEB/DIhMygUzIBFLF1/X6wONfh8HAYZjV2MNMLZmpd7IgC4vVHxlXnxe3YJEFWUAWZAGp4jpgrHgKBg7HrMEOTZYhcV+aNW19J+zg8jIS9yXZ09Z3oX7IhCzA/dzYmJj54rWmQCZkAZmQBaSK64Cx4kUIG4ZZgx1CYpAEhxdjjMAOvWKRBA3aKxiGUD+YIRPazS7xA/03YpoezJAJmCET2i4XX9e3H/ixuATCojBpsMPzHZHNmsRBb4F7m9oZWcpzHNAK1AsmyIB395YZYW9ZcVkpmCADMEEG7CmTvTYGGDAUowY7ZKqQ7Qjwej/RhXvLUCMrauP5wTRX6oV0MKOUDmYgHcwohA4hXYMdsqgUB1O6YYcsKsVBfDfqBwOYUDKACTCACYXQSAwa7k1lpnZUGdQ/S2AZSktgGbAElqHQN4JlAvfWOYGfF7ckUcBGx2n8vKEvLXDmN8YHfFDyAR/AB3xQcHXDBzvEPQYtSncWSLa8e/z4XqqpekP/FULJWGzE9gXf0p0Fki3vHj++T0ChVSGrXqQRMLgBq692ROY3/3of7nj+ODz8PIaF2FjpAeRd64zMb961fsjiDla8/eamfQN9FhD/Co1ALhaun55woVK/XKpoz3+JhcuRttjIxcL1k49dqdR3FZWSvhZg9o2WCPv60AjkIOl2PQ+rSKpkZN/AYnkPbOUi6XI9H6tIKr21FXhGbEtyOI2ALg3Z87eHc5fuS0eL3pAY/FAK1Vq8gGzq7ZEofTMFfD41EROhnUfDN2wIld64qENBKHR7XOxIn4qKihFUGxpFpe2XW2PrYfG1l7ecGEmbkxUVM2j4XvSjkvfZ/WpsxT1FF/FJ7rbAn0reZw+osTHla2DKWR2NxBqqhH3RFBseHxQUbBFjuNtqqoR+6Y2N7W8CXuJ0GrpWPZHkUyW7B7YMPUD4TxIIach0jyLJp0pWT2wI5xKB4bdDIKUJDdnaeCw8V2I1ewQ2NKP+IECTSzlqGIRs9VQs3NOxSh2JrUfFrqhHfvMCMIiGrPWNHCz6x1Jp5EysHsdi0daicAKKCt9KU8W0QhLwQx4WfeOoNDwFq8exWFAkWRkMRHWlIVu+qwyLmR2RBWZgFbIOhQmjVyJZtuN9LGZ0RtYzC6te61GIHPwmDdmgeeexyFUh0W3RIHNL+HYoCp75oUgGzbmARY4aid8WJ2RNpl4choLnrOdo0KLEh4A8JC5HjpZJDp/6UbzkhILzsT7OSIaILYA8JM6HjpVJDp/6UbzsjNKHgX40ZK3FMNBkInHSV9Oh1HTHOGStxEGgzkSi0VfTcZfdCQINmXAlGXrEY79LqfDIVBwObYAJvZAN0FKlTRA1OLgJxoUgC9VSpXUwjUzBYTC5IpvgidXTxTOpwbqPwOiGbLwXVjF7Umhkkv8lkItM788dc2dSg6SrArnI2vlzx6wUGpkwsQ05SNqNLyU4RhIJc2dSg1CxHTlI2o4vIzhGEgmzUmhkmotRbVKRtI7M4o65M6lBc3F4wGwkrSNyuGNWCo3NP+dHD0C27bH2jydIxsDcZGpybsGIgcgK+zzcP0HyFMxKpbF5/7XFWmRlid5YRby9axA1KNu6qDmyskQtVoN37wmnkcn7czaVmrhSxcPJ2Z0a5HycTaUmrlRxd3Jyp5GZ+kMetRJ/Iw8Hiz7iImolRFyCg4XH7RHUivutaBwkZwKondNtcJDkUEs5Ag4PyP8ALrBrdD+EaAIAAAAASUVORK5CYII=\" />\n",
        "\n",
        "Т.е. для пар векторов вычисляют косинусы углов между ними и выбирают ту пару, у которой косинус ближе всего к 1. \n",
        "\n",
        "Например для таких строк: \n",
        "\n",
        "```\n",
        "d1 = AAAAAACC    => {'A': 6, 'C': 2}\n",
        "d2 = ACCCCC      => {'A': 1, 'C': 5}\n",
        "q  = AAAAAAACCCC => {'A': 7, 'C': 4}\n",
        "```\n",
        "\n",
        "получаем, что `q` и `d1` более похожи, чем `q` и `d2`:\n",
        "\n",
        "<img alt=\"\" src=\"data:image/png;base64,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\" />\n",
        "\n",
        "**Внимание**\n",
        "\n",
        "- Тексты разные и каждый из текстов, может содержать символов, которых нет в других. Нужно убедится, что все 3 словаря имеют одинаковый список ключей, и если это не так, то добавить недостающие ключи с 0 значением для добавляемого символа.\n",
        "\n",
        "- При вычислении скалярного произведения (верхняя часть дроби) перемножать нужно значения с одинаковыми ключами (ключ - это ось, как `X`, `Y`, `Z` и т.д).\n",
        "\n",
        "**Формат ввода**\n",
        "\n",
        "Файл `trainEN.txt` с эталонным английским текстом, файл `trainRUS.txt` с эталонным русским текстом и файл `input.txt` с текстом для анализа.\n",
        "\n",
        "Файлы могут содержать любые ASCII-символы.\n",
        "\n",
        "**Формат вывода**\n",
        "\n",
        "Одно слово `RUS` - для русского языка и `EN` для английского.\n",
        "\n",
        "**Примечания**\n",
        "\n",
        "Для проверки своего решения, перед загрузкой в контест, можете использовать: файлы [`trainEN.txt` и `trainRUS.txt`](https://disk.yandex.ru/d/1IITrBKJIGMz0w),  этот сайт с [текстами](https://www.maminpapin.ru/skazki-bratev-grimm-na-russkom-i-angliieskom/) (тексты для тестов брались оттуда) и этот сайт для [транслитерации](http://translit-online.ru/).\n",
        "\n",
        "**Пример 1**\n",
        "\n",
        "```\n",
        "Ввод:\n",
        "The brothers' initial intention of their first book, Children’s and Household Tales, was to establish a name for themselves in the world.\n",
        "Вывод: EN\n",
        "```\n",
        "\n",
        "**Пример 2**\n",
        "\n",
        "```\n",
        "Ввод:\n",
        "Vliyanie skazok brat'ev Grimm bylo ogromnym, s pervogo zhe izdaniya eti chudesnye istorii zavoevali lyubov' detskoj auditorii.\n",
        "Вывод: RUS\n",
        "```"
      ],
      "metadata": {
        "id": "YB4lHoOdcHLy"
      }
    },
    {
      "cell_type": "code",
      "source": [
        "# Ваш код здесь"
      ],
      "metadata": {
        "id": "4cuQLX1cUHMA"
      },
      "execution_count": null,
      "outputs": []
    }
  ]
}