{
  "nbformat": 4,
  "nbformat_minor": 0,
  "metadata": {
    "colab": {
      "provenance": [],
      "collapsed_sections": []
    },
    "kernelspec": {
      "name": "python3",
      "display_name": "Python 3"
    }
  },
  "cells": [
    {
      "cell_type": "markdown",
      "metadata": {
        "id": "u-BCmwuwhTPH"
      },
      "source": [
        "# Практика решения простейших задач. Занятие 2"
      ]
    },
    {
      "cell_type": "markdown",
      "metadata": {
        "id": "RSXX-KmDMo7M"
      },
      "source": [
        "## Задача 1. Палиндром\n",
        "\n",
        "Дана строка, состоящая из строчных и прописных символов английского алфавита и цифр. Определите, является ли она палиндромом, при условии, что строчные и прописные символы считаются одинаковыми.\n",
        "\n",
        "**Входные данные** Строка состоящая из 1 или более символов из диапазона [0-9A-Za-z]. Строка завершается символом `\\n`.  \n",
        "**Ответ** `YES`, если строка палиндром и `NO`, если нет."
      ]
    },
    {
      "cell_type": "code",
      "source": [
        "# Ваш код здесь"
      ],
      "metadata": {
        "id": "_QLGq6ciO3c-"
      },
      "execution_count": null,
      "outputs": []
    },
    {
      "cell_type": "markdown",
      "metadata": {
        "id": "hViCyOoONuTI"
      },
      "source": [
        "## Задача 2. Количество уникальных чисел в списке\n",
        "\n",
        "Дана последовательность целых чисел. Определите, сколько в ней уникальных чисел.\n",
        "\n",
        "```\n",
        "В списке: 1 2 1 3 3 3 5\n",
        "Уникальных: 4\n",
        "```\n",
        "\n",
        "**Входные данные** Целое число $n$ > 0, затем, в новой строке, список целых чисел, разделённых пробелами.  \n",
        "**Ответ** должен содержать одно целое число."
      ]
    },
    {
      "cell_type": "code",
      "source": [
        "# Ваш код здесь"
      ],
      "metadata": {
        "id": "jN_bX6vcO78w"
      },
      "execution_count": null,
      "outputs": []
    },
    {
      "cell_type": "markdown",
      "metadata": {
        "id": "VZoOcdgsixQX"
      },
      "source": [
        "## Задача 3. Количество нечетных чисел в интервальном диапазоне\n",
        "\n",
        "Даны два неотрицательных целых числа `low` и `high`. Определите количество нечетных чисел между `low` и `high` (пределы включительно).\n",
        "\n",
        "```\n",
        "Ввод: low = 3, high = 7\n",
        "Вывод: 3\n",
        "Объяснение: нечётные номера между 3 и 7 это [3,5,7].\n",
        "```"
      ]
    },
    {
      "cell_type": "code",
      "metadata": {
        "id": "Lqoz7oAHmBeR"
      },
      "source": [
        "# Ваш код здесь"
      ],
      "execution_count": null,
      "outputs": []
    },
    {
      "cell_type": "markdown",
      "metadata": {
        "id": "tH5x-YF0sckd"
      },
      "source": [
        "## Задача 4. Сглаживание Графика Погоды\n",
        "\n",
        "<img alt=\"\" src=\"data:image/png;base64,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\" />\n",
        "\n",
        "Маленький Мерлин хочет стать метеорологом. Он измеряет температуру воздуха каждый час, так что через несколько дней получается длинная последовательность значений.\n",
        "\n",
        "Однако инструменты его несовершенны и измерения не вполне точны - они \"скачут\" вверх и вниз на несколько градусов от реальных значений.\n",
        "\n",
        "Обнаружив это, Мерлин решил \"сгладить\" данные. Чтобы достичь этого, каждое значение нужно заменить средним от трех - его самого и двух соседних (предыдущего и следующего). Например, если у нас последовательность из 5 значений:\n",
        "\n",
        "```\n",
        "3 5 6 4 5\n",
        "```\n",
        "\n",
        "То второе (5) должно быть заменено на (3 + 5 + 6) / 3 = 4.66666666667,  \n",
        "а третье (6) заменяется на (5 + 6 + 4) / 3 = 5,  \n",
        "четвертое же (4) заменим на (6 + 4 + 5) / 3 = 5.  \n",
        "Договоримся также что первое и последнее значения мы не меняем вовсе.\n",
        "\n",
        "На картинке выше синяя линия изображает необработанные результаты измерений, а красная - данные после сглаживания.\n",
        "\n",
        "Напишите программу, которая поможет малышу Мерлину с его хитроумным алгоритмом цифровой обработки сигнала.\n",
        "\n",
        "**Входные данные** указывают длину последовательности (n >= 2) в первой строке.  \n",
        "Вторая строка содержит результаты измерений (значения последовательности).  \n",
        "**Ответ** должен содержать \"сглаженную\" последовательность. Значения нужно сосчитать с точностью 1e-7 или лучше."
      ]
    },
    {
      "cell_type": "code",
      "metadata": {
        "id": "dNyPwsX2shk3"
      },
      "source": [
        "# Ваш код здесь"
      ],
      "execution_count": null,
      "outputs": []
    },
    {
      "cell_type": "markdown",
      "metadata": {
        "id": "7SzaHCW8u61O"
      },
      "source": [
        "## Задача 5. Гипотеза Коллатца\n",
        "\n",
        "Гипотеза Коллатца - одна из наиболее таинственных загадок математики 20 века. Её описание понятно даже школьнику, но даже выдающиеся ученые не знают её доказательства. Зато она может служить отличным упражнением для программистов.\n",
        "\n",
        "**Пусть** мы выбрали некое исходное число `X` и строим от него последовательность значений по следующим правилам:\n",
        "\n",
        "```\n",
        "если X четное (т.е. X mod 2 == 0) тогда\n",
        "    Xследующее = X / 2\n",
        "иначе\n",
        "    Xследующее = 3 * X + 1\n",
        "```\n",
        "\n",
        "Таким образом если `X` нечетно, последовательность растет - а если четно, то убывает. Например, с `X = 15` мы получим:\n",
        "\n",
        "```\n",
        "15 46 23 70 35 106 53 160 80 40 20 10 5 16 8 4 2 1\n",
        "```\n",
        "\n",
        "После достижения 1 последовательность зацикливается `1 4 2 1 4 2 1...`.\n",
        "\n",
        "Интрига заключается в том, что для любого начального `X` получаемая последовательность, по-видимому, рано или поздно достигает `1` - однако хотя это предположение было высказано как гипотеза Коллатца еще в `1937`, до сих пор никто не смог ни доказать её, ни найти контрпример (т.е. число для которого последовательность либо входит в другой цикл, нежели `1 4 2 1` - либо растет бесконечно). Может быть повезет вам?\n",
        "\n",
        "Ваша задача - для заданного исходного `X` посчитать сколько шагов требуется чтобы дойти до `1`.\n",
        "\n",
        "**Входные данные** одно целое положительное число.  \n",
        "**Ответ** должен содержать количество шагов необходимое для достижения 1."
      ]
    },
    {
      "cell_type": "code",
      "metadata": {
        "id": "QLX-j42Zu-cR"
      },
      "source": [
        "# Ваш код здесь"
      ],
      "execution_count": null,
      "outputs": []
    },
    {
      "cell_type": "markdown",
      "metadata": {
        "id": "8PIRiTQ0wdT4"
      },
      "source": [
        "## Задача 6. Подходящие Слова\n",
        "\n",
        "**Али-Баба** нашел тайную пещеру с сокровищами, которые хранили **Сорок Разбойников**. Однако знаменитая волшебная фраза **\"Сезам, откройся\"** явно не работает.\n",
        "\n",
        "Вместо этого на каменной стене начертан длинный и странный текст - и Али-Баба догадался, что в этой надписи нужно найти подходящие слова (то есть те, которые встречаются более одного раза) и произнести их в алфавитном порядке.\n",
        "\n",
        "Мы должны помочь бедному ремесленнику получить доступ к сокровищнице воров. Напишите программу, которая отсеивает необходимые слова из заданного текста и печатает их в нужном порядке.\n",
        "\n",
        "**Входные данные** состоят примерно из `300` слов, каждое из которых состоит из `3` латинских букв. Конец обозначается словом `end`.  \n",
        "**Ответ** должен содержать все слова, которые встречаются более одного раза в лексикографическом порядке, через пробел."
      ]
    },
    {
      "cell_type": "code",
      "source": [
        "# Ваш код здесь"
      ],
      "metadata": {
        "id": "KX9sFY6TyWG2"
      },
      "execution_count": null,
      "outputs": []
    },
    {
      "cell_type": "markdown",
      "metadata": {
        "id": "krGYJHYByobc"
      },
      "source": [
        "## Задача 7. Средняя температура с потерями\n",
        "\n",
        "У вас есть прибор измеряющий температуру окружающей среды. Прибор отсылает данные на сервер, который хранит данные полученные за весь период в виде строки. В качестве разделителя измерений используется символ `;` (точка с запятой).\n",
        "\n",
        "Периодически в полученных данных обнаруживаются ошибки, в этом случае сервер игнорирует их, но разделитель всё равно добавляет. Например данные могут быть такими:\n",
        "\n",
        "```\n",
        "12;15;9;;0;-3;-7;;;-7\n",
        "```\n",
        "\n",
        "Рассчитайте среднюю температуру за весь период.  \n",
        "Если данные пропущены, просто игнорируем это измерение.\n",
        "\n",
        "**Входные данные** Строка состоящая из целых чисел и разделителя `;`. Строка завершается символом перевода строки (`\\n`)  \n",
        "**Ответ** должен содержать одно число."
      ]
    },
    {
      "cell_type": "code",
      "source": [
        "# Ваш код здесь"
      ],
      "metadata": {
        "id": "Br51YCbIyqW0"
      },
      "execution_count": null,
      "outputs": []
    },
    {
      "cell_type": "markdown",
      "metadata": {
        "id": "dhWL0z6i41dZ"
      },
      "source": [
        "## Задача 8. Список уникальных пользователей\n",
        "\n",
        "У вас есть сервер, на котором зарегистрировано $n$ пользователей. Вам известен список логинов.\n",
        "\n",
        "Кроме того вам известен список из $k$ заявок от пользователей, которые пожелали зарегистрироваться. В этом списке могут быть заявки как от старых пользователей, так и от новых, при этом они могут повторяться несколько раз. \n",
        "\n",
        "Определите список уникальных пользователей, которых нужно зарегистрировать.\n",
        "\n",
        "**Входные данные** На первой строке число $n$ затем, с новой строки список строк разделённых пробелами. На третьей строке число $k$ затем, с новой строки список строк разделённых пробелами. Строки состоят только из строчных английских символов и цифр.  \n",
        "**Ответ** должен содержать список уникальных логинов пользователей отсортированных в лексикографическом порядке и разделённых пробелами."
      ]
    },
    {
      "cell_type": "code",
      "source": [
        "# Ваш код здесь"
      ],
      "metadata": {
        "id": "buXcEGyy5BPH"
      },
      "execution_count": null,
      "outputs": []
    },
    {
      "cell_type": "markdown",
      "metadata": {
        "id": "6ZHSGOQc9AET"
      },
      "source": [
        "## Задача 9. Самое частое число\n",
        "\n",
        "Дан список целых чисел. Определите, какое число в этом списке встречается чаще остальных. Гарантируется, что такое число только одно.\n",
        "\n",
        "**Входные данные** Число $n$ затем, с новой строки список из $n$ целых чисел, разделённых пробелами.  \n",
        "**Ответ** должен содержать одно целое число."
      ]
    },
    {
      "cell_type": "code",
      "source": [
        "# Ваш код здесь"
      ],
      "metadata": {
        "id": "9ANVLZBA9Df0"
      },
      "execution_count": null,
      "outputs": []
    },
    {
      "cell_type": "markdown",
      "metadata": {
        "id": "QJF-jvJsPSdC"
      },
      "source": [
        "## Задача 10. Количество нуклеотидов в цепочках\n",
        "\n",
        "![](https://upload.wikimedia.org/wikipedia/commons/c/cd/RNA-codon.png)\n",
        "\n",
        "Дана последовательность нуклеотидов РНК. Каджый нуклеотид обозначен одним из 4х символов [G, U, C, A]:\n",
        "\n",
        "```\n",
        "Например: AUCCUCUAGАААUUAAGAUAA\n",
        "```\n",
        "\n",
        "Тройка нуклеотидов называется **кодон**. Кодон - это единица генетического кода (т.е. пол кодона не бывает).\n",
        "\n",
        "Указанная последовательность кодирует некоторое количество полипептидных цепей, каждая из которых завершается стоп-кодоном.\n",
        "\n",
        "Стоп-кодон - прекращает синтеза полипептидной цепи. Стоп-кодон кодируется одним из следующих триплетов: UAA, UAG, UGA. Т.е. каждый из них - это стоп-кодон.\n",
        "\n",
        "Определите, сколько в заданном фрагменте РНК кодируется полипептидных цепей и выведите на экран сколько нуклеотидов в каждой из них. При подсчёте количества нуклеотидов в цепи, нуклеотиды входящие в стоп-кодон не учитывайте.\n",
        "\n",
        "Гарантируется, что в конце исходной последовательности есть стоп-кодон.\n",
        "\n",
        "```\n",
        "Исходная цепочка: AUCCUCUAGАААUUAAGAUAA\n",
        "Полипептидных цепей: 2 - AUCCUCUAG  АААUUAAGAUAA\n",
        "Ответ: 6 9\n",
        "```\n",
        "\n",
        "**Входные данные** Строка состоящая из символов [G, U, C, A]. В конце строки символ `\\n`.  \n",
        "**Ответ** последовательность целых чисел через пробел."
      ]
    },
    {
      "cell_type": "code",
      "source": [
        "# Ваш код здесь"
      ],
      "metadata": {
        "id": "380u16ptNs1I"
      },
      "execution_count": null,
      "outputs": []
    }
  ]
}