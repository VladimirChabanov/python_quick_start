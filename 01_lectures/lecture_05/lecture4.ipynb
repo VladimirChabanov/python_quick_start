{
  "cells": [
    {
      "cell_type": "markdown",
      "source": [
        "<img src=\"https://www.amd.com/system/files/76826-python-logo-1260x709.jpg\" height=\"300px\">"
      ],
      "metadata": {
        "id": "OWgAQ_Kiwuc3"
      }
    },
    {
      "cell_type": "markdown",
      "metadata": {
        "id": "wu8ZBz-c4M1B"
      },
      "source": [
        "# Урок 4. Функции"
      ]
    },
    {
      "cell_type": "markdown",
      "source": [
        "## Часть 1. Функции"
      ],
      "metadata": {
        "id": "fAjN-vcie_Mx"
      }
    },
    {
      "cell_type": "markdown",
      "metadata": {
        "id": "2bDsw50W4M1C"
      },
      "source": [
        "### 1. Объявление функции\n",
        "\n",
        "def <название_функции> ( <параметр1>,<параметр2>,...,<параметрN>):\n",
        "\n",
        "    <Оператор1>\n",
        "    <Оператор2>\n",
        "    ....\n",
        "    <ОператорN>\n",
        "    return [Выражение]"
      ]
    },
    {
      "cell_type": "code",
      "execution_count": 4,
      "metadata": {
        "id": "q3hvxmwh4M1C",
        "colab": {
          "base_uri": "https://localhost:8080/"
        },
        "outputId": "932b1dde-f58e-402b-afd1-006d44a3bd81"
      },
      "outputs": [
        {
          "output_type": "stream",
          "name": "stdout",
          "text": [
            "Hi dear Andrew\n",
            "Hi dear Andrew\n",
            "1\n"
          ]
        },
        {
          "output_type": "execute_result",
          "data": {
            "text/plain": [
              "3"
            ]
          },
          "metadata": {},
          "execution_count": 4
        }
      ],
      "source": [
        "# Простейшая функция. Ничего не принимает в качестве аргументов и ничего не делает\n",
        "def do_nothing():\n",
        "    pass\n",
        "\n",
        "# вызов функции\n",
        "do_nothing()\n",
        "\n",
        "# Передача параметра\n",
        "def say_hi_to(name): \n",
        "    print(\"Hi dear\", name)\n",
        "    return 0\n",
        "\n",
        "name1 = \"Andrew\"\n",
        "var1 = \"String\"\n",
        "say_hi_to(name1)          # Просто вызов функции. Результат игнорируется\n",
        "var1 = say_hi_to(name1)   # а здесь - вызов с сохранением результата в переменную var1\n",
        "print(var1 + 1)\n",
        "\n",
        "# Существует большое количество встроенных функций (bult in) \n",
        "# Больше функций на https://docs.python.org/3/library/functions.html )\n",
        "# Например функция определения длины списка\n",
        "ls = [1,2,3]\n",
        "len(ls)"
      ]
    },
    {
      "cell_type": "markdown",
      "metadata": {
        "id": "9A_jhvTk4M1D"
      },
      "source": [
        "### 2. Локальные переменные"
      ]
    },
    {
      "cell_type": "markdown",
      "metadata": {
        "id": "kwnChWFQ4M1D"
      },
      "source": [
        "**Внимание!!!** Тут в тетрадках IPython можно запутаться с порядком выполнения кода. Например, переменная k не должна печататься в функции f() ниже, но может, если k была опеределена в другой клетке тетрадки IPython. "
      ]
    },
    {
      "cell_type": "code",
      "execution_count": 5,
      "metadata": {
        "id": "JkbYucek4M1D",
        "colab": {
          "base_uri": "https://localhost:8080/"
        },
        "outputId": "ced10a14-687b-45b1-9010-f116ea1a6c5c"
      },
      "outputs": [
        {
          "output_type": "stream",
          "name": "stdout",
          "text": [
            "Inside\n",
            "Inside\n"
          ]
        }
      ],
      "source": [
        "# Функции имеют права на чтение к объявленным до функции переменным \n",
        "# и не имеют - к объявленным после вызова функции\n",
        "def f(): \n",
        "    print(s)\n",
        "    #s = \"Inside\" #Однако не могут их менять\n",
        "    #print(s)  #Error\n",
        "    #print(k)  #Error\n",
        "    \n",
        "s = \"Outside before f\"\n",
        "f()\n",
        "k = \"Outside after f\""
      ]
    },
    {
      "cell_type": "code",
      "execution_count": 7,
      "metadata": {
        "id": "4wFpj9H44M1D",
        "colab": {
          "base_uri": "https://localhost:8080/"
        },
        "outputId": "c24ce1d5-ca67-43fe-c627-d5494fbda74d"
      },
      "outputs": [
        {
          "output_type": "stream",
          "name": "stdout",
          "text": [
            "Outside\n",
            "Inside\n",
            "===========\n",
            "Outside\n"
          ]
        }
      ],
      "source": [
        "# При объявлении в функции переменной с тем же именем создается новая (внутренняя) переменная, \n",
        "# не связанная с внешней\n",
        "def f(): \n",
        "    print(k)  # Так можно. Тут переменная К не объявляется\n",
        "    #print(s) # Тем не менее попытка обращения к переменной которая потом будет создана вызывает ошибку\n",
        "    s = \"Inside\" \n",
        "    print(s)\n",
        "    print(\"===========\")\n",
        "    \n",
        "k = \"Outside\"\n",
        "s = \"Outside\" \n",
        "f()\n",
        "print(s)"
      ]
    },
    {
      "cell_type": "code",
      "execution_count": 15,
      "metadata": {
        "id": "xXiRPU0s4M1D",
        "colab": {
          "base_uri": "https://localhost:8080/"
        },
        "outputId": "369a4de9-4823-4b41-a739-f833b1d33978"
      },
      "outputs": [
        {
          "output_type": "stream",
          "name": "stdout",
          "text": [
            "Outside\n",
            "Inside\n",
            "=======================\n",
            "Inside\n"
          ]
        }
      ],
      "source": [
        "def f():\n",
        "    global s # Для изменения внешних переменных внутри функции их надо объявить глобальной.\n",
        "    print(s)\n",
        "    s = \"Inside\"\n",
        "    print(s)\n",
        "    print(\"=======================\")\n",
        "\n",
        "\n",
        "s = \"Outside\"\n",
        "f()\n",
        "print(s)"
      ]
    },
    {
      "cell_type": "markdown",
      "metadata": {
        "id": "bVE6ZDwf4M1E"
      },
      "source": [
        "### 3. Передача в функции неизменяемых типов (str, int, tuple, frozenset)\n",
        "\n",
        "Передача происходит по значению, т.е внешняя переменная не зависит от внутренней (локальной) функции"
      ]
    },
    {
      "cell_type": "code",
      "execution_count": 24,
      "metadata": {
        "id": "Dx-pFnor4M1E",
        "colab": {
          "base_uri": "https://localhost:8080/"
        },
        "outputId": "226b9d79-f00e-4884-8fbf-b08968fa38b2"
      },
      "outputs": [
        {
          "output_type": "stream",
          "name": "stdout",
          "text": [
            "Outside\n",
            "10\n",
            "Inside\n",
            "4\n",
            "=========\n",
            "Outside\n",
            "10\n"
          ]
        }
      ],
      "source": [
        "def func(arg, arg2):\n",
        "    print(arg)\n",
        "    print(arg2)\n",
        "    arg = \"Inside\"\n",
        "    arg2 = 4\n",
        "    print(arg)\n",
        "    print(arg2)\n",
        "    print(\"=========\")\n",
        "\n",
        "\n",
        "var1 = \"Outside\"\n",
        "var2 = 10\n",
        "func(var1, var2)\n",
        "print(var1) # значение переменной вне функции не изменилось\n",
        "print(var2)"
      ]
    },
    {
      "cell_type": "markdown",
      "metadata": {
        "id": "cevH3l8R4M1E"
      },
      "source": [
        "**Пример**. Хотим распечатать зарплаты по месяцам в порядке возрастания, но исходные данные не хотим менять"
      ]
    },
    {
      "cell_type": "code",
      "execution_count": 27,
      "metadata": {
        "id": "YGB9fL_A4M1E",
        "outputId": "4efcda4d-1c20-4a45-82fa-665216f6465a",
        "colab": {
          "base_uri": "https://localhost:8080/"
        }
      },
      "outputs": [
        {
          "output_type": "stream",
          "name": "stdout",
          "text": [
            "1 salary is 25000\n",
            "2 salary is 30000\n",
            "3 salary is 40000\n",
            "4 salary is 42000\n"
          ]
        }
      ],
      "source": [
        "salaries = (40000, 30000, 25000, 42000)\n",
        "numbers  = (0    , 1     , 2   ,  3   )\n",
        "\n",
        "def f(salaries):\n",
        "    for (i, salary) in enumerate(sorted(salaries)):\n",
        "        print(\"{0} salary is {1}\".format(i+1, salary))\n",
        "\n",
        "f(salaries)"
      ]
    },
    {
      "cell_type": "markdown",
      "metadata": {
        "id": "S8YKLk7H4M1F"
      },
      "source": [
        "### 4. Передача в функции изменяемых типов (list, dict, set)\n",
        "\n",
        "Передача параметров изменяемых типов происходит по ссылке, т.е изменения в функции влияют на внешние переменные"
      ]
    },
    {
      "cell_type": "code",
      "execution_count": 28,
      "metadata": {
        "id": "N8sEqXZ34M1F",
        "colab": {
          "base_uri": "https://localhost:8080/"
        },
        "outputId": "1ddadc14-8864-49b1-bff9-e3f6069ba9c8"
      },
      "outputs": [
        {
          "output_type": "stream",
          "name": "stdout",
          "text": [
            "List outside:  [10, 20, 30]\n",
            "Dict outside:  {1: 'a', 2: 'b'}\n",
            "==================\n",
            "List inside:  [10, 20, 30, [1, 2, 3, 4]]\n",
            "Dict inside:  {1: 'ccc', 2: 'b'}\n",
            "====================\n",
            "List outside:  [10, 20, 30, [1, 2, 3, 4]]\n",
            "Dict outside:  {1: 'ccc', 2: 'b'}\n"
          ]
        }
      ],
      "source": [
        "def changeme(mylist, mydict):\n",
        "    mylist.append([1, 2, 3, 4])\n",
        "    mydict[1] = \"ccc\"\n",
        "    print(\"List inside: \", mylist)\n",
        "    print(\"Dict inside: \", mydict)\n",
        "    print(\"====================\")\n",
        "\n",
        "l1 = [10, 20, 30]\n",
        "d1 = {1: \"a\", 2: \"b\"}\n",
        "print(\"List outside: \", l1)\n",
        "print(\"Dict outside: \", d1)\n",
        "print(\"==================\")\n",
        "changeme(l1, d1)\n",
        "print(\"List outside: \", l1)\n",
        "print(\"Dict outside: \", d1)"
      ]
    },
    {
      "cell_type": "markdown",
      "metadata": {
        "id": "FeH3gW6f4M1F"
      },
      "source": [
        "Пример функции, которая изменит переданный ей список:"
      ]
    },
    {
      "cell_type": "code",
      "execution_count": 29,
      "metadata": {
        "id": "dktgmoNv4M1F",
        "colab": {
          "base_uri": "https://localhost:8080/"
        },
        "outputId": "8525a569-a15d-4d37-bffc-4861a513f768"
      },
      "outputs": [
        {
          "output_type": "stream",
          "name": "stdout",
          "text": [
            "salaries before calling f: [40000, 30000, 25000, 42000]\n",
            "1 salary is 25000\n",
            "2 salary is 30000\n",
            "3 salary is 40000\n",
            "4 salary is 42000\n",
            "salaries after calling f: [25000, 30000, 40000, 42000]\n"
          ]
        }
      ],
      "source": [
        "salaries = [40000, 30000, 25000, 42000]\n",
        "\n",
        "def f(salaries):\n",
        "    salaries.sort()\n",
        "    for (i, salary) in enumerate(salaries):\n",
        "        print(\"{0} salary is {1}\".format(i+1, salary))\n",
        "\n",
        "print(\"salaries before calling f: {0}\".format(salaries))\n",
        "f(salaries)\n",
        "print(\"salaries after calling f: {0}\".format(salaries))"
      ]
    },
    {
      "cell_type": "markdown",
      "metadata": {
        "id": "rPzHAgAG4M1F"
      },
      "source": [
        "### 5. Именованные аргументы"
      ]
    },
    {
      "cell_type": "code",
      "execution_count": 34,
      "metadata": {
        "id": "qpAnxgFy4M1G",
        "colab": {
          "base_uri": "https://localhost:8080/"
        },
        "outputId": "c616a7be-4f9d-4ee6-88e1-beec81591233"
      },
      "outputs": [
        {
          "output_type": "stream",
          "name": "stdout",
          "text": [
            "First name: Brian\n",
            "Last name: Kernighan\n",
            "Age: 71\n",
            "\n"
          ]
        }
      ],
      "source": [
        "def describe_person(first_name, last_name, age):\n",
        "    print(\"First name: %s\" % first_name.title())\n",
        "    print(\"Last name: %s\" % last_name.title())\n",
        "    print(\"Age: %d\\n\" % age)\n",
        "\n",
        "describe_person(age=71, first_name='brian', last_name='kernighan')"
      ]
    },
    {
      "cell_type": "markdown",
      "metadata": {
        "id": "YpdM3J464M1G"
      },
      "source": [
        "Можно аргумент age сделать необязательным"
      ]
    },
    {
      "cell_type": "code",
      "execution_count": 41,
      "metadata": {
        "id": "x08KAwRi4M1G",
        "colab": {
          "base_uri": "https://localhost:8080/"
        },
        "outputId": "54da0b61-0408-4238-f7af-693c108070e3"
      },
      "outputs": [
        {
          "output_type": "stream",
          "name": "stdout",
          "text": [
            "First name: Brian\n",
            "Last name: Kernighan\n",
            "Age: 10\n",
            "\n"
          ]
        }
      ],
      "source": [
        "def describe_person(first_name, last_name, age=10):\n",
        "    print(\"First name: %s\" % first_name.title())\n",
        "    print(\"Last name: %s\" % last_name.title())\n",
        "    print(\"Age: %d\\n\" % age)\n",
        "\n",
        "describe_person(first_name='brian', last_name='kernighan')"
      ]
    },
    {
      "cell_type": "markdown",
      "metadata": {
        "id": "iqy1M_tU4M1G"
      },
      "source": [
        "### 6. Переменное число аргументов"
      ]
    },
    {
      "cell_type": "code",
      "execution_count": 47,
      "metadata": {
        "id": "KCRmKqSO4M1G",
        "colab": {
          "base_uri": "https://localhost:8080/"
        },
        "outputId": "00d3a7f7-11f1-49ca-887a-45566f888300"
      },
      "outputs": [
        {
          "output_type": "stream",
          "name": "stdout",
          "text": [
            "-- Do you have any Limburger ?\n",
            "-- I'm sorry, we're all out of Limburger\n",
            "It's very runny, sir.\n",
            "It's really very, very runny, sir.\n",
            "----------------------------------------\n",
            "client : John Cleese\n",
            "shopkeeper : Michael Palin\n",
            "sketch : Cheese Shop Sketch\n"
          ]
        }
      ],
      "source": [
        "def cheeseshop(kind, *arguments, **keywords):\n",
        "    print(\"-- Do you have any\", kind, \"?\")\n",
        "    print(\"-- I'm sorry, we're all out of\", kind)\n",
        "    for arg in arguments:\n",
        "        print(arg)\n",
        "    print(\"-\" * 40)\n",
        "    keys = sorted(keywords.keys())\n",
        "    for kw in keys:\n",
        "        print(kw, \":\", keywords[kw])\n",
        "\n",
        "cheeseshop(\"Limburger\", \"It's very runny, sir.\",\n",
        "           \"It's really very, very runny, sir.\",\n",
        "           shopkeeper=\"Michael Palin\",\n",
        "           client=\"John Cleese\",\n",
        "           sketch=\"Cheese Shop Sketch\")"
      ]
    },
    {
      "cell_type": "markdown",
      "metadata": {
        "id": "T1rqJOLJ4M1G"
      },
      "source": [
        "Функция, печатающая переданные ей значения и соответствующие аргументы:"
      ]
    },
    {
      "cell_type": "code",
      "execution_count": 51,
      "metadata": {
        "id": "6XJ6YHTV4M1H",
        "outputId": "33f53b34-395d-4674-92cf-6b3c7b327a15",
        "colab": {
          "base_uri": "https://localhost:8080/"
        }
      },
      "outputs": [
        {
          "output_type": "stream",
          "name": "stdout",
          "text": [
            "{'person': 'Alex', 'lastname': 'Kollins', 'a': 2}\n",
            "person is Alex\n",
            "lastname is Kollins\n",
            "\n",
            "    prints its args and values\n",
            "    \n"
          ]
        }
      ],
      "source": [
        "def simple_print(**kwargs):\n",
        "    \"\"\"\n",
        "    prints its args and values\n",
        "    \"\"\"\n",
        "    print(kwargs)\n",
        "    if 'person' in kwargs:\n",
        "        print(\"{0} is {1}\".format('person', \n",
        "                                  kwargs['person']))\n",
        "    if 'lastname' in kwargs:\n",
        "        print(\"{0} is {1}\".format('lastname', \n",
        "                                  kwargs['lastname']))\n",
        "    if set(kwargs.keys()).difference(\n",
        "               set(['person', 'lastname'])):\n",
        "        print(simple_print.__doc__)\n",
        "    \n",
        "simple_print(person=\"Alex\", lastname=\"Kollins\", a=2)"
      ]
    },
    {
      "cell_type": "markdown",
      "metadata": {
        "id": "QWt0G6IA4M1H"
      },
      "source": [
        "Пример функции со множеством необязательных аргументов:"
      ]
    },
    {
      "cell_type": "code",
      "execution_count": null,
      "metadata": {
        "id": "kzmAFJXc4M1H",
        "outputId": "0df4716a-fa2e-460a-d7db-64a3bbbbb21d",
        "colab": {
          "base_uri": "https://localhost:8080/"
        }
      },
      "outputs": [
        {
          "output_type": "stream",
          "name": "stdout",
          "text": [
            "Help on function simple_print in module __main__:\n",
            "\n",
            "simple_print(**kwargs)\n",
            "    prints its args and values\n",
            "\n"
          ]
        }
      ],
      "source": [
        "help(simple_print)"
      ]
    },
    {
      "cell_type": "code",
      "execution_count": 52,
      "metadata": {
        "id": "RyTpxtF_4M1H",
        "outputId": "a9327e1c-be53-49e6-8466-9be2b759ed20",
        "colab": {
          "base_uri": "https://localhost:8080/",
          "height": 372
        }
      },
      "outputs": [
        {
          "output_type": "stream",
          "name": "stdout",
          "text": [
            "Populating the interactive namespace from numpy and matplotlib\n"
          ]
        },
        {
          "output_type": "stream",
          "name": "stderr",
          "text": [
            "/usr/local/lib/python3.7/dist-packages/IPython/core/magics/pylab.py:160: UserWarning: pylab import has clobbered these variables: ['f']\n",
            "`%matplotlib` prevents importing * from pylab and numpy\n",
            "  \"\\n`%matplotlib` prevents importing * from pylab and numpy\"\n"
          ]
        },
        {
          "output_type": "execute_result",
          "data": {
            "text/plain": [
              "[<matplotlib.lines.Line2D at 0x7f1dd4770890>]"
            ]
          },
          "metadata": {},
          "execution_count": 52
        },
        {
          "output_type": "display_data",
          "data": {
            "text/plain": [
              "<Figure size 432x288 with 1 Axes>"
            ],
            "image/png": "[encoded data removed]"
          },
          "metadata": {
            "needs_background": "light"
          }
        }
      ],
      "source": [
        "%pylab inline\n",
        "# from matplotlib import pylab as plt\n",
        "from math import sin\n",
        "\n",
        "x = range(1000)\n",
        "y = [sin(i / 100) for i in x]\n",
        "\n",
        "plot(x, y)\n",
        "# plot(x, y, color=\"green\")\n",
        "# help(plot)"
      ]
    },
    {
      "cell_type": "code",
      "execution_count": 53,
      "metadata": {
        "id": "9O7F7Qo44M1H",
        "outputId": "3a8b7f00-4de9-4dbd-b0f6-a9620cc2b841",
        "colab": {
          "base_uri": "https://localhost:8080/",
          "height": 282
        }
      },
      "outputs": [
        {
          "output_type": "execute_result",
          "data": {
            "text/plain": [
              "[<matplotlib.lines.Line2D at 0x7f1dd4255c50>]"
            ]
          },
          "metadata": {},
          "execution_count": 53
        },
        {
          "output_type": "display_data",
          "data": {
            "text/plain": [
              "<Figure size 432x288 with 1 Axes>"
            ],
            "image/png": "[encoded data removed]"
          },
          "metadata": {
            "needs_background": "light"
          }
        }
      ],
      "source": [
        "plot(x, y, color=\"red\", linestyle='dashed')\n",
        "#help(plot)"
      ]
    },
    {
      "cell_type": "markdown",
      "metadata": {
        "id": "9pfUMMLT4M1H"
      },
      "source": [
        "### 7. Возврат данных из функции с помощью Return"
      ]
    },
    {
      "cell_type": "markdown",
      "metadata": {
        "id": "-KjDh8lW4M1H"
      },
      "source": [
        "Функция может возвращать что угодно, в том числе и другую функцию"
      ]
    },
    {
      "cell_type": "code",
      "source": [
        "def min(a, b):\n",
        "    if a < b: return a\n",
        "    else: return b\n",
        "\n",
        "print(min(1, 2))"
      ],
      "metadata": {
        "colab": {
          "base_uri": "https://localhost:8080/"
        },
        "id": "a8zF32ZeOjpQ",
        "outputId": "3d7517ed-260f-4f3d-8829-f21625c793db"
      },
      "execution_count": 58,
      "outputs": [
        {
          "output_type": "stream",
          "name": "stdout",
          "text": [
            "1\n"
          ]
        }
      ]
    },
    {
      "cell_type": "code",
      "execution_count": 59,
      "metadata": {
        "id": "Z5U-ru_E4M1I",
        "colab": {
          "base_uri": "https://localhost:8080/"
        },
        "outputId": "a5436eb2-5645-4796-bd29-f3679c23765e"
      },
      "outputs": [
        {
          "output_type": "stream",
          "name": "stdout",
          "text": [
            "<function f1 at 0x7f1dd3da0560>\n",
            "f1\n",
            "<function f1.<locals>.f2 at 0x7f1dd3da0ef0>\n",
            "f1\n",
            "Hello!\n",
            "None\n"
          ]
        }
      ],
      "source": [
        "def f1():\n",
        "    print(\"f1\")\n",
        "    def f2():\n",
        "        print(\"Hello!\")\n",
        "    return f2\n",
        "\n",
        "print(f1)\n",
        "print(f1())\n",
        "print(f1()())"
      ]
    },
    {
      "cell_type": "markdown",
      "metadata": {
        "id": "vmej3ZjH4M1I"
      },
      "source": [
        "### 8. Лямбда функции"
      ]
    },
    {
      "cell_type": "code",
      "source": [
        "def sqr(x):\n",
        "    return x**2\n",
        "\n",
        "lst = [1, 2, 3, 4, 5, 6, 7, 8, 9, 10]\n",
        "print(list(map(lambda x: x**2, lst)))"
      ],
      "metadata": {
        "colab": {
          "base_uri": "https://localhost:8080/"
        },
        "id": "akuUpNH6Pxui",
        "outputId": "135d353f-dc00-4c7d-cce3-365243bfb6c5"
      },
      "execution_count": 61,
      "outputs": [
        {
          "output_type": "stream",
          "name": "stdout",
          "text": [
            "[1, 4, 9, 16, 25, 36, 49, 64, 81, 100]\n"
          ]
        }
      ]
    },
    {
      "cell_type": "code",
      "execution_count": 62,
      "metadata": {
        "id": "wraprk4c4M1I",
        "colab": {
          "base_uri": "https://localhost:8080/"
        },
        "outputId": "cc59fa52-53ca-4cdf-de52-9648a65092ec"
      },
      "outputs": [
        {
          "output_type": "stream",
          "name": "stdout",
          "text": [
            "<function make_incrementor.<locals>.<lambda> at 0x7f1dd3ce2f80>\n",
            "44\n"
          ]
        }
      ],
      "source": [
        "def make_incrementor(n):\n",
        "    return lambda x: x + n\n",
        "\n",
        "f = make_incrementor(42)\n",
        "print(f)\n",
        "\n",
        "print(f(2))"
      ]
    },
    {
      "cell_type": "markdown",
      "metadata": {
        "id": "YLJntWS94M1I"
      },
      "source": [
        "Пример применения одной функции ко всем элементам списка"
      ]
    },
    {
      "cell_type": "code",
      "execution_count": 63,
      "metadata": {
        "id": "9ZI4Qedn4M1I",
        "colab": {
          "base_uri": "https://localhost:8080/"
        },
        "outputId": "78be8f75-b733-48e8-e6e0-f8a7ff7813f4"
      },
      "outputs": [
        {
          "output_type": "stream",
          "name": "stdout",
          "text": [
            "<map object at 0x7f1dd3c68650>\n"
          ]
        },
        {
          "output_type": "execute_result",
          "data": {
            "text/plain": [
              "[45200, 33900, 28250, 47460]"
            ]
          },
          "metadata": {},
          "execution_count": 63
        }
      ],
      "source": [
        "salaries = [40000, 30000, 25000, 42000]\n",
        "salaries_indexed = map(lambda sal: sal * 1.13, salaries)\n",
        "print(salaries_indexed)\n",
        "[round(sal) for sal in salaries_indexed]"
      ]
    },
    {
      "cell_type": "markdown",
      "metadata": {
        "id": "f7ktBeI94M1I"
      },
      "source": [
        "Пример фильтрации списка"
      ]
    },
    {
      "cell_type": "code",
      "execution_count": 66,
      "metadata": {
        "id": "y3ZNMg354M1I",
        "colab": {
          "base_uri": "https://localhost:8080/"
        },
        "outputId": "827d2bf5-dd34-4f36-e152-3480bd1465da"
      },
      "outputs": [
        {
          "output_type": "stream",
          "name": "stdout",
          "text": [
            "<filter object at 0x7f1dd3ca6b90>\n"
          ]
        },
        {
          "output_type": "execute_result",
          "data": {
            "text/plain": [
              "[40000, 42000]"
            ]
          },
          "metadata": {},
          "execution_count": 66
        }
      ],
      "source": [
        "salaries = [40000, 30000, 25000, 42000]\n",
        "filtered_salaries = filter(lambda sal: sal > 30000, \n",
        "                           salaries)\n",
        "print(filtered_salaries)\n",
        "[sal for sal in filtered_salaries]"
      ]
    },
    {
      "cell_type": "markdown",
      "metadata": {
        "id": "263f6c48"
      },
      "source": [
        "## Часть 2. Импорт функций из других модулей"
      ]
    },
    {
      "cell_type": "code",
      "execution_count": 7,
      "metadata": {
        "colab": {
          "base_uri": "https://localhost:8080/"
        },
        "id": "4546dcc5",
        "outputId": "55c3b2ce-69c9-4050-90ce-244cb9f76c2b"
      },
      "outputs": [
        {
          "output_type": "stream",
          "name": "stdout",
          "text": [
            "3.141592653589793\n",
            "16.0\n",
            "['In', 'Out', '_', '__', '___', '__builtin__', '__builtins__', '__doc__', '__loader__', '__name__', '__package__', '__spec__', '_dh', '_i', '_i1', '_i2', '_i3', '_i4', '_i5', '_i6', '_i7', '_ih', '_ii', '_iii', '_oh', 'exit', 'get_ipython', 'math', 'quit']\n"
          ]
        }
      ],
      "source": [
        "import math\n",
        "\n",
        "print(math.pi)\n",
        "print(math.pow(2, 4))\n",
        "print(dir())"
      ]
    },
    {
      "cell_type": "code",
      "execution_count": 11,
      "metadata": {
        "id": "cce04ae3",
        "outputId": "2066d34b-a01b-4d00-bf9e-e28d8f1de2d2",
        "colab": {
          "base_uri": "https://localhost:8080/"
        }
      },
      "outputs": [
        {
          "output_type": "stream",
          "name": "stdout",
          "text": [
            "3.141592653589793\n",
            "16.0\n",
            "<module 'matplotlib.pyplot' from '/usr/local/lib/python3.7/dist-packages/matplotlib/pyplot.py'>\n",
            "['In', 'Out', '_', '__', '___', '__builtin__', '__builtins__', '__doc__', '__loader__', '__name__', '__package__', '__spec__', '_dh', '_i', '_i1', '_i10', '_i11', '_i2', '_i3', '_i4', '_i5', '_i6', '_i7', '_i8', '_i9', '_ih', '_ii', '_iii', '_oh', 'exit', 'get_ipython', 'path', 'pi', 'plt', 'pow', 'pyplot', 'quit']\n"
          ]
        }
      ],
      "source": [
        "import matplotlib.pyplot as plt  # Так можно только для модулей или пакетов\n",
        "from math import pi, pow         # Так можно для всего\n",
        "\n",
        "print(pi)\n",
        "print(pow(2, 4))\n",
        "print(plt)\n",
        "print(dir())"
      ]
    },
    {
      "cell_type": "code",
      "execution_count": 12,
      "metadata": {
        "colab": {
          "base_uri": "https://localhost:8080/"
        },
        "id": "2e6ec92d",
        "outputId": "d5146f63-6ded-48f2-ae46-d6e3d985dc2e"
      },
      "outputs": [
        {
          "output_type": "stream",
          "name": "stdout",
          "text": [
            "3.141592653589793\n",
            "['In', 'Out', '_', '__', '___', '__builtin__', '__builtins__', '__doc__', '__loader__', '__name__', '__package__', '__spec__', '_dh', '_i', '_i1', '_i10', '_i11', '_i12', '_i2', '_i3', '_i4', '_i5', '_i6', '_i7', '_i8', '_i9', '_ih', '_ii', '_iii', '_oh', 'acos', 'acosh', 'asin', 'asinh', 'atan', 'atan2', 'atanh', 'ceil', 'copysign', 'cos', 'cosh', 'degrees', 'e', 'erf', 'erfc', 'exit', 'exp', 'expm1', 'fabs', 'factorial', 'floor', 'fmod', 'frexp', 'fsum', 'gamma', 'gcd', 'get_ipython', 'hypot', 'inf', 'isclose', 'isfinite', 'isinf', 'isnan', 'ldexp', 'lgamma', 'log', 'log10', 'log1p', 'log2', 'modf', 'nan', 'path', 'pi', 'plt', 'pow', 'pyplot', 'quit', 'radians', 'remainder', 'sin', 'sinh', 'sqrt', 'tan', 'tanh', 'tau', 'trunc']\n"
          ]
        }
      ],
      "source": [
        "from math import *\n",
        "\n",
        "print(pi)\n",
        "print(dir())"
      ]
    },
    {
      "cell_type": "code",
      "execution_count": 13,
      "metadata": {
        "id": "aa78672f",
        "outputId": "04b126f1-4896-41ce-ca6f-e7cfa304862e",
        "colab": {
          "base_uri": "https://localhost:8080/"
        }
      },
      "outputs": [
        {
          "output_type": "stream",
          "name": "stdout",
          "text": [
            "3.141592653589793\n",
            "['In', 'Out', '_', '__', '___', '__builtin__', '__builtins__', '__doc__', '__loader__', '__name__', '__package__', '__spec__', '_dh', '_i', '_i1', '_i10', '_i11', '_i12', '_i13', '_i2', '_i3', '_i4', '_i5', '_i6', '_i7', '_i8', '_i9', '_ih', '_ii', '_iii', '_oh', 'acos', 'acosh', 'asin', 'asinh', 'atan', 'atan2', 'atanh', 'ceil', 'copysign', 'cos', 'cosh', 'degrees', 'e', 'erf', 'erfc', 'exit', 'exp', 'expm1', 'fabs', 'factorial', 'floor', 'fmod', 'frexp', 'fsum', 'gamma', 'gcd', 'get_ipython', 'hypot', 'inf', 'isclose', 'isfinite', 'isinf', 'isnan', 'ldexp', 'lgamma', 'log', 'log10', 'log1p', 'log2', 'm', 'modf', 'nan', 'path', 'pi', 'plt', 'pow', 'pyplot', 'quit', 'radians', 'remainder', 'sin', 'sinh', 'sqrt', 'tan', 'tanh', 'tau', 'trunc']\n"
          ]
        }
      ],
      "source": [
        "import math as m\n",
        "\n",
        "print(m.pi)\n",
        "print(dir())"
      ]
    },
    {
      "cell_type": "markdown",
      "metadata": {
        "collapsed": true,
        "id": "CZfH_cRr4Zhg"
      },
      "source": [
        "## Часть 3. Рекурсивные функции"
      ]
    },
    {
      "cell_type": "markdown",
      "metadata": {
        "id": "hqlZwySE4Zhh"
      },
      "source": [
        "Рекурсивная функция - это функция, которая в теле вызывает сама себя."
      ]
    },
    {
      "cell_type": "markdown",
      "metadata": {
        "id": "jCJ0tZJU4Zhh"
      },
      "source": [
        "**Пример.** Вычисление факториала (итеративная версия)"
      ]
    },
    {
      "cell_type": "code",
      "execution_count": null,
      "metadata": {
        "id": "IbzHqyHX4Zhi"
      },
      "outputs": [],
      "source": [
        "def factorial_iter(n):\n",
        "    k = 1\n",
        "    for i in range(2, n + 1):\n",
        "        k *= i\n",
        "    return k"
      ]
    },
    {
      "cell_type": "code",
      "execution_count": null,
      "metadata": {
        "id": "bkbUpQit4Zhi"
      },
      "outputs": [],
      "source": [
        "for i, k in enumerate(range(1, 10)):\n",
        "    print(i+1, factorial_iter(k))"
      ]
    },
    {
      "cell_type": "markdown",
      "metadata": {
        "id": "j41kqnXN4Zhj"
      },
      "source": [
        "Временная сложность - линейная по n. "
      ]
    },
    {
      "cell_type": "code",
      "execution_count": null,
      "metadata": {
        "id": "RxdjeUT24Zhk"
      },
      "outputs": [],
      "source": [
        "%timeit factorial_iter(3200)"
      ]
    },
    {
      "cell_type": "markdown",
      "metadata": {
        "id": "hK02ztSj4Zhk"
      },
      "source": [
        "**Пример.** Вычисление факториала (рекурсивная версия)"
      ]
    },
    {
      "cell_type": "code",
      "execution_count": null,
      "metadata": {
        "id": "nK477l2V4Zhk"
      },
      "outputs": [],
      "source": [
        "def factorial_recur(n):\n",
        "    if n == 1:\n",
        "        return 1\n",
        "    else:\n",
        "        return n * factorial_recur(n-1)\n",
        "\n",
        "# n! = n * (n-1)!\n",
        "# 4! = 4 * 3 * 2 * 1 = 24\n",
        "for i, k in enumerate(range(1, 10)):\n",
        "    print(i+1, factorial_recur(k))"
      ]
    },
    {
      "cell_type": "markdown",
      "metadata": {
        "id": "0RYCiz364Zhl"
      },
      "source": [
        "Временная сложность - линейная по n. "
      ]
    },
    {
      "cell_type": "code",
      "execution_count": null,
      "metadata": {
        "id": "O4-N5dnd4Zhl",
        "outputId": "a05a426b-f787-4b8b-8afd-a59e72646e4b"
      },
      "outputs": [
        {
          "name": "stdout",
          "output_type": "stream",
          "text": [
            "100 loops, best of 3: 4.98 ms per loop\n"
          ]
        }
      ],
      "source": [
        "from sys import setrecursionlimit\n",
        "setrecursionlimit(1000000)\n",
        "%timeit factorial_recur(3200)"
      ]
    },
    {
      "cell_type": "markdown",
      "metadata": {
        "id": "X6Zzohst4Zhl"
      },
      "source": [
        "**Пример.** Вычисление элементов последовательности Фибоначчи (итеративная версия) "
      ]
    },
    {
      "cell_type": "code",
      "execution_count": null,
      "metadata": {
        "collapsed": true,
        "id": "H3Z-WDEG4Zhm"
      },
      "outputs": [],
      "source": [
        "def fib_iter(n):\n",
        "    a, b = 1, 1\n",
        "    for i in range(n):\n",
        "        a, b = b, a + b\n",
        "    return a"
      ]
    },
    {
      "cell_type": "code",
      "execution_count": null,
      "metadata": {
        "id": "kHvshctr4Zhm",
        "outputId": "56407ac6-4b2d-416c-fa85-be3c9686e8ca"
      },
      "outputs": [
        {
          "name": "stdout",
          "output_type": "stream",
          "text": [
            "1, 1, 2, 3, 5, 8, 13, 21, 34, 55, 89, "
          ]
        }
      ],
      "source": [
        "for i in range(11):\n",
        "    print(fib_iter(i), end=\", \")"
      ]
    },
    {
      "cell_type": "markdown",
      "metadata": {
        "id": "NktgJI6u4Zhm"
      },
      "source": [
        "Временная сложность - линейная по n. "
      ]
    },
    {
      "cell_type": "code",
      "execution_count": null,
      "metadata": {
        "id": "8Axz9XhW4Zhm"
      },
      "outputs": [],
      "source": [
        "%timeit fib_iter(20)"
      ]
    },
    {
      "cell_type": "markdown",
      "metadata": {
        "id": "LZnxCEg64Zhm"
      },
      "source": [
        "**Пример.** Вычисление элементов последовательности Фибоначчи (рекурсивная версия) "
      ]
    },
    {
      "cell_type": "code",
      "execution_count": null,
      "metadata": {
        "collapsed": true,
        "id": "rBb9BGPO4Zhn"
      },
      "outputs": [],
      "source": [
        "def fib_recur(n):\n",
        "    if n <= 1:\n",
        "        return 1\n",
        "    else:\n",
        "        return fib_recur(n - 1) + fib_recur(n - 2)"
      ]
    },
    {
      "cell_type": "code",
      "execution_count": null,
      "metadata": {
        "id": "0wC2yhbU4Zhn"
      },
      "outputs": [],
      "source": [
        "for i in range(11):\n",
        "    print(fib_recur(i), end=\", \")"
      ]
    },
    {
      "cell_type": "markdown",
      "metadata": {
        "id": "yxBAWbtw4Zhn"
      },
      "source": [
        "Временная сложность - экспоненциальная по n. "
      ]
    },
    {
      "cell_type": "markdown",
      "metadata": {
        "id": "Ev5MQ9g34Zhn"
      },
      "source": [
        "**Доказательство** (метод математической индукции)\n",
        "\n",
        "Уравнение рекурии $T(n) = T(n-1) + T(n-2) + O(1)$. <a href=\"https://ru.wikipedia.org/wiki/%C2%ABO%C2%BB_%D0%B1%D0%BE%D0%BB%D1%8C%D1%88%D0%BE%D0%B5_%D0%B8_%C2%ABo%C2%BB_%D0%BC%D0%B0%D0%BB%D0%BE%D0%B5\">Обозначение O</a> - пояснение на Википедии\n",
        "\n",
        "$T(n \\leq 1) = O(1)$\n",
        "\n",
        "Пусть $T(n - 1) = O(2^{n-1})$\n",
        "\n",
        "Тогда $T(n) = T(n-1) + T(n-2) + O(1) = O(\\frac{2^{n}}{2}) + O(2^{n-2}) + O(1) = O(2^n)$"
      ]
    },
    {
      "cell_type": "code",
      "execution_count": null,
      "metadata": {
        "id": "krSyXG_G4Zho"
      },
      "outputs": [],
      "source": [
        "%timeit fib_recur(40)"
      ]
    },
    {
      "cell_type": "markdown",
      "metadata": {
        "id": "lxIcwJdo4Zho"
      },
      "source": [
        "**Пример**. Метод сортировки QuickSort"
      ]
    },
    {
      "cell_type": "code",
      "execution_count": null,
      "metadata": {
        "collapsed": true,
        "id": "voUWVAEj4Zho"
      },
      "outputs": [],
      "source": [
        "def qs(a_list):\n",
        "    if len(a_list) <= 1:\n",
        "        return a_list\n",
        "    else:\n",
        "        el0 = a_list[0]\n",
        "        left, right = [], []\n",
        "        for elem in a_list[1:]:\n",
        "            if elem < el0:\n",
        "                left.append(elem)\n",
        "            else:\n",
        "                right.append(elem)\n",
        "        return qs(left) + [el0] + qs(right)\n",
        "        "
      ]
    },
    {
      "cell_type": "code",
      "execution_count": null,
      "metadata": {
        "id": "iyMvd_5B4Zho"
      },
      "outputs": [],
      "source": [
        "qs([9, 8, 7, 6, 5, 4])"
      ]
    },
    {
      "cell_type": "code",
      "execution_count": null,
      "metadata": {
        "collapsed": true,
        "id": "JRhdKvOD4Zho"
      },
      "outputs": [],
      "source": [
        "from random import choice\n",
        "\n",
        "def quick_sort(a_list):\n",
        "    if len(a_list) <= 1:\n",
        "        return a_list\n",
        "    pivot = choice(range(len(a_list)))\n",
        "    return quick_sort([i for i in a_list[:pivot] + a_list[pivot+1:] \n",
        "                       if i < a_list[pivot]]) + [a_list[pivot]] + \\\n",
        "           quick_sort([i for i in a_list[:pivot] + a_list[pivot+1:] \n",
        "                       if i >= a_list[pivot]])"
      ]
    },
    {
      "cell_type": "code",
      "execution_count": null,
      "metadata": {
        "id": "tg2cJ4tD4Zhp"
      },
      "outputs": [],
      "source": [
        "quick_sort([3, 4, 2, 1, 6])"
      ]
    },
    {
      "cell_type": "markdown",
      "metadata": {
        "id": "RV39w8yD4Zhp"
      },
      "source": [
        "Временная сложность - $O(n*log(n))$"
      ]
    },
    {
      "cell_type": "code",
      "execution_count": null,
      "metadata": {
        "id": "Uo_EudBT4Zhp"
      },
      "outputs": [],
      "source": [
        "%timeit quick_sort([3, 4, 2, 1, 6, 145, 56, 23, 45, 234, 21])"
      ]
    },
    {
      "cell_type": "markdown",
      "metadata": {
        "id": "3IqczDmG4Zhp"
      },
      "source": [
        "Примеры дерева рекурсии QuickSort\n",
        "<img src=\"../img/qsort-recur1.png\">"
      ]
    },
    {
      "cell_type": "markdown",
      "metadata": {
        "id": "XpucZL5y4Zhp"
      },
      "source": [
        "Опорный элемент - всегда нулевой\n",
        "<img src=\"../img/qsort-recur2.png\">"
      ]
    },
    {
      "cell_type": "markdown",
      "metadata": {
        "id": "eTM4BHkL4Zhp"
      },
      "source": [
        "T(n) = 2*T(n/2) + O(n)"
      ]
    },
    {
      "cell_type": "markdown",
      "metadata": {
        "id": "0Bz6y83t4Zhp"
      },
      "source": [
        "При случайном выборе опорного элемента\n",
        "<img src=\"../img/qsort_tree.gif\">"
      ]
    },
    {
      "cell_type": "markdown",
      "metadata": {
        "id": "P_9n_Tqs4Zhq"
      },
      "source": [
        "Реализация, мимимизирующая потребление дополнительной памяти "
      ]
    },
    {
      "cell_type": "code",
      "execution_count": null,
      "metadata": {
        "collapsed": true,
        "id": "099LLs984Zhq"
      },
      "outputs": [],
      "source": [
        "import random\n",
        "\n",
        "def sub_partition(array, start, end, idx_pivot):\n",
        "\n",
        "    'returns the position where the pivot winds up'\n",
        "\n",
        "    if not (start <= idx_pivot <= end):\n",
        "        raise ValueError('idx pivot must be between start and end')\n",
        "\n",
        "    array[start], array[idx_pivot] = array[idx_pivot], array[start]\n",
        "    pivot = array[start]\n",
        "    i = start + 1\n",
        "    j = start + 1\n",
        "\n",
        "    while j <= end:\n",
        "        if array[j] <= pivot:\n",
        "            array[j], array[i] = array[i], array[j]\n",
        "            i += 1\n",
        "        j += 1\n",
        "\n",
        "    array[start], array[i - 1] = array[i - 1], array[start]\n",
        "    return i - 1\n",
        "\n",
        "def quicksort_inplace(array, start=0, end=None):\n",
        "\n",
        "    if end is None:\n",
        "        end = len(array) - 1\n",
        "\n",
        "    if end - start < 1:\n",
        "        return\n",
        "\n",
        "    idx_pivot = random.randint(start, end)\n",
        "    i = sub_partition(array, start, end, idx_pivot)\n",
        "    #print array, i, idx_pivot\n",
        "    quicksort_inplace(array, start, i - 1)\n",
        "    quicksort_inplace(array, i + 1, end)"
      ]
    },
    {
      "cell_type": "code",
      "execution_count": null,
      "metadata": {
        "id": "wfC240of4Zhq"
      },
      "outputs": [],
      "source": [
        "a_list = [3, 4, 2, 1, 6, 7]\n",
        "quicksort_inplace(a_list)\n",
        "a_list"
      ]
    },
    {
      "cell_type": "markdown",
      "metadata": {
        "collapsed": true,
        "id": "aw6eK0Cg4Zhq"
      },
      "source": [
        "**Пример**. Простая визуализация бинарного дерева"
      ]
    },
    {
      "cell_type": "code",
      "execution_count": null,
      "metadata": {
        "id": "YEItKYvV4Zhq"
      },
      "outputs": [],
      "source": [
        "class BinaryTree:\n",
        "    def __init__(self, rootObj):\n",
        "        self.root = rootObj\n",
        "        self.leftChild = None\n",
        "        self.rightChild = None\n",
        "\n",
        "    def insertLeft(self, newNode):\n",
        "        if self.leftChild == None:\n",
        "            self.leftChild = BinaryTree(newNode)\n",
        "        else:\n",
        "            t = BinaryTree(newNode)\n",
        "            t.leftChild = self.leftChild\n",
        "            self.leftChild = t\n",
        "\n",
        "    def insertRight(self,newNode):\n",
        "        if self.rightChild == None:\n",
        "            self.rightChild = BinaryTree(newNode)\n",
        "        else:\n",
        "            t = BinaryTree(newNode)\n",
        "            t.rightChild = self.rightChild\n",
        "            self.rightChild = t\n",
        "\n",
        "    def getRightChild(self):\n",
        "        return self.rightChild\n",
        "\n",
        "    def getLeftChild(self):\n",
        "        return self.leftChild\n",
        "\n",
        "    def setRootVal(self,obj):\n",
        "        self.root = obj\n",
        "\n",
        "    def getRootVal(self):\n",
        "        return self.root\n",
        "           \n",
        "    def __str__(self):\n",
        "        output = str(self.root)\n",
        "        if self.leftChild:\n",
        "            output = '/'.join([self.leftChild.__str__(), output]) \n",
        "        else:\n",
        "            output = '[' + output\n",
        "        if self.rightChild:\n",
        "            output = '\\\\'.join([output, self.rightChild.__str__()])     \n",
        "        else:\n",
        "            output = output + ']'\n",
        "        return output"
      ]
    },
    {
      "cell_type": "code",
      "execution_count": null,
      "metadata": {
        "id": "TNucAuwr4Zhr"
      },
      "outputs": [],
      "source": [
        "r = BinaryTree('a')\n",
        "r.insertLeft('b')\n",
        "r.insertRight('c')\n",
        "print(\"Root:\", r.getRootVal())\n",
        "print(\"Left child:\", r.getLeftChild())\n",
        "print(\"Tree:\", r)\n",
        "r.getLeftChild().insertLeft('d')\n",
        "r.getLeftChild().insertRight('e')\n",
        "print(\"Tree:\", r)\n",
        "r.getRightChild().insertLeft('f')\n",
        "r.getRightChild().insertRight('g')\n",
        "print(\"Tree:\", r)\n",
        "\n",
        "#      a\n",
        "#    /   \\\n",
        "#   b     c\n",
        "#  / \\   / \\\n",
        "# d   e f   g"
      ]
    },
    {
      "cell_type": "markdown",
      "metadata": {
        "id": "5bf30c01"
      },
      "source": [
        "## Часть 4. Декораторы"
      ]
    },
    {
      "cell_type": "markdown",
      "metadata": {
        "id": "6e641c00"
      },
      "source": [
        "### Без параметров"
      ]
    },
    {
      "cell_type": "code",
      "execution_count": null,
      "metadata": {
        "id": "7b7fa6f3",
        "colab": {
          "base_uri": "https://localhost:8080/"
        },
        "outputId": "a8871387-fbaf-4f89-efe4-dade4154845b"
      },
      "outputs": [
        {
          "output_type": "stream",
          "name": "stdout",
          "text": [
            "addition_func была исполнена\n"
          ]
        }
      ],
      "source": [
        "from functools import wraps\n",
        "\n",
        "def logit(func):\n",
        "    @wraps(func)\n",
        "    def with_logging(*args, **kwargs):\n",
        "        print(func.__name__ + \" была исполнена\")\n",
        "        return func(*args, **kwargs)\n",
        "    return with_logging\n",
        "\n",
        "@logit\n",
        "def addition_func(x):\n",
        "    \"\"\"Считаем что-нибудь\"\"\"\n",
        "    return x + x\n",
        "\n",
        "\n",
        "result = addition_func(4)\n",
        "# Вывод: addition_func была исполнена"
      ]
    },
    {
      "cell_type": "markdown",
      "metadata": {
        "id": "2fa8b80e"
      },
      "source": [
        "### С параметрами"
      ]
    },
    {
      "cell_type": "code",
      "execution_count": null,
      "metadata": {
        "id": "81da3320"
      },
      "outputs": [],
      "source": [
        "def my_decorator(input_arg):\n",
        " \n",
        "    def the_real_decorator(function):\n",
        "        def wrapper(*args, **kwargs):\n",
        "            result = function(*args, **kwargs)\n",
        "            return f'<{input_arg}>{result}<\\\\{input_arg}>'\n",
        "        return wrapper\n",
        " \n",
        "    return the_real_decorator"
      ]
    },
    {
      "cell_type": "code",
      "execution_count": null,
      "metadata": {
        "id": "72ce018c"
      },
      "outputs": [],
      "source": [
        "# @my_decorator('b')\n",
        "def hello():\n",
        "    return 'hello'\n",
        "\n",
        "b = my_decorator('b')\n",
        "i = my_decorator('i')\n",
        "span = my_decorator('span')\n",
        "\n",
        "@span\n",
        "@b\n",
        "@i\n",
        "def hello():\n",
        "    return 'hello'"
      ]
    },
    {
      "cell_type": "code",
      "execution_count": null,
      "metadata": {
        "colab": {
          "base_uri": "https://localhost:8080/"
        },
        "id": "d1d4dc65",
        "outputId": "e3f9d0e7-982f-4a03-904b-6c3461e7cd35"
      },
      "outputs": [
        {
          "output_type": "stream",
          "name": "stdout",
          "text": [
            "<span><b><i>hello<\\i><\\b><\\span>\n"
          ]
        }
      ],
      "source": [
        "print(hello())"
      ]
    },
    {
      "cell_type": "markdown",
      "metadata": {
        "id": "db61085b"
      },
      "source": [
        "## Часть 5. Генераторы"
      ]
    },
    {
      "cell_type": "markdown",
      "source": [
        "### Функции генераторы"
      ],
      "metadata": {
        "id": "s6trjlz00aNn"
      }
    },
    {
      "cell_type": "code",
      "execution_count": null,
      "metadata": {
        "id": "e878de33"
      },
      "outputs": [],
      "source": [
        "def counter():\n",
        "    i = 1\n",
        "    while(i <= 10):\n",
        "        yield i\n",
        "        i += 1\n",
        "        return"
      ]
    },
    {
      "cell_type": "code",
      "execution_count": null,
      "metadata": {
        "colab": {
          "base_uri": "https://localhost:8080/"
        },
        "id": "3752f39f",
        "outputId": "f0096259-70e0-423e-af80-cd4056d41fa6"
      },
      "outputs": [
        {
          "output_type": "stream",
          "name": "stdout",
          "text": [
            "1\n",
            "2\n",
            "3\n",
            "4\n",
            "5\n",
            "6\n",
            "7\n",
            "8\n",
            "9\n",
            "10\n"
          ]
        }
      ],
      "source": [
        "gen1 = counter()\n",
        "\n",
        "for i in gen1:\n",
        "  print(i)"
      ]
    },
    {
      "cell_type": "code",
      "source": [
        "languages = ['Java', 'Python', 'JavaScript']\n",
        "versions = [14, 3]\n",
        "\n",
        "result = zip(languages, versions)\n",
        "\n",
        "print(next(result))\n",
        "print(next(result))"
      ],
      "metadata": {
        "colab": {
          "base_uri": "https://localhost:8080/"
        },
        "id": "4vLg3_FkR_5k",
        "outputId": "7dfefbfb-a341-46b7-92e7-1e2ec91bee3a"
      },
      "execution_count": null,
      "outputs": [
        {
          "output_type": "stream",
          "name": "stdout",
          "text": [
            "('Java', 14)\n",
            "('Python', 3)\n"
          ]
        }
      ]
    },
    {
      "cell_type": "code",
      "execution_count": null,
      "metadata": {
        "id": "2fa9aab0"
      },
      "outputs": [],
      "source": [
        "def counter():\n",
        "    i = 1\n",
        "    while(True):\n",
        "        yield i\n",
        "        i += 1\n",
        "        if i >= 10:\n",
        "            raise StopIteration # до 3.7\n",
        "            # return\n",
        "\n",
        "def counter_wrapper():\n",
        "  try:\n",
        "    yield from counter()\n",
        "  except StopIteration:\n",
        "    return"
      ]
    },
    {
      "cell_type": "code",
      "execution_count": null,
      "metadata": {
        "colab": {
          "base_uri": "https://localhost:8080/",
          "height": 703
        },
        "id": "77a2c480",
        "outputId": "68813255-ba56-4cad-b821-4c8827ab48a5"
      },
      "outputs": [
        {
          "output_type": "stream",
          "name": "stdout",
          "text": [
            "1\n",
            "2\n",
            "3\n",
            "4\n",
            "5\n",
            "6\n",
            "7\n",
            "8\n",
            "9\n"
          ]
        },
        {
          "output_type": "error",
          "ename": "RuntimeError",
          "evalue": "ignored",
          "traceback": [
            "\u001b[0;31m---------------------------------------------------------------------------\u001b[0m",
            "\u001b[0;31mStopIteration\u001b[0m                             Traceback (most recent call last)",
            "\u001b[0;32m<ipython-input-67-3635cab42189>\u001b[0m in \u001b[0;36mcounter\u001b[0;34m()\u001b[0m\n\u001b[1;32m      6\u001b[0m         \u001b[0;32mif\u001b[0m \u001b[0mi\u001b[0m \u001b[0;34m>=\u001b[0m \u001b[0;36m10\u001b[0m\u001b[0;34m:\u001b[0m\u001b[0;34m\u001b[0m\u001b[0;34m\u001b[0m\u001b[0m\n\u001b[0;32m----> 7\u001b[0;31m             \u001b[0;32mraise\u001b[0m \u001b[0mStopIteration\u001b[0m\u001b[0;34m(\u001b[0m\u001b[0;34m)\u001b[0m \u001b[0;31m# до 3.7\u001b[0m\u001b[0;34m\u001b[0m\u001b[0;34m\u001b[0m\u001b[0m\n\u001b[0m\u001b[1;32m      8\u001b[0m             \u001b[0;31m# return\u001b[0m\u001b[0;34m\u001b[0m\u001b[0;34m\u001b[0m\u001b[0;34m\u001b[0m\u001b[0m\n",
            "\u001b[0;31mStopIteration\u001b[0m: ",
            "\nThe above exception was the direct cause of the following exception:\n",
            "\u001b[0;31mRuntimeError\u001b[0m                              Traceback (most recent call last)",
            "\u001b[0;32m<ipython-input-71-e6fefe4ac2b2>\u001b[0m in \u001b[0;36m<module>\u001b[0;34m()\u001b[0m\n\u001b[1;32m      9\u001b[0m \u001b[0mprint\u001b[0m\u001b[0;34m(\u001b[0m\u001b[0mnext\u001b[0m\u001b[0;34m(\u001b[0m\u001b[0mcount\u001b[0m\u001b[0;34m)\u001b[0m\u001b[0;34m)\u001b[0m\u001b[0;34m\u001b[0m\u001b[0;34m\u001b[0m\u001b[0m\n\u001b[1;32m     10\u001b[0m \u001b[0mprint\u001b[0m\u001b[0;34m(\u001b[0m\u001b[0mnext\u001b[0m\u001b[0;34m(\u001b[0m\u001b[0mcount\u001b[0m\u001b[0;34m)\u001b[0m\u001b[0;34m)\u001b[0m\u001b[0;34m\u001b[0m\u001b[0;34m\u001b[0m\u001b[0m\n\u001b[0;32m---> 11\u001b[0;31m \u001b[0mprint\u001b[0m\u001b[0;34m(\u001b[0m\u001b[0mnext\u001b[0m\u001b[0;34m(\u001b[0m\u001b[0mcount\u001b[0m\u001b[0;34m)\u001b[0m\u001b[0;34m)\u001b[0m\u001b[0;34m\u001b[0m\u001b[0;34m\u001b[0m\u001b[0m\n\u001b[0m\u001b[1;32m     12\u001b[0m \u001b[0;31m# print(list(counter_wrapper()))\u001b[0m\u001b[0;34m\u001b[0m\u001b[0;34m\u001b[0m\u001b[0;34m\u001b[0m\u001b[0m\n",
            "\u001b[0;32m<ipython-input-67-3635cab42189>\u001b[0m in \u001b[0;36mcounter_wrapper\u001b[0;34m()\u001b[0m\n\u001b[1;32m     10\u001b[0m \u001b[0;32mdef\u001b[0m \u001b[0mcounter_wrapper\u001b[0m\u001b[0;34m(\u001b[0m\u001b[0;34m)\u001b[0m\u001b[0;34m:\u001b[0m\u001b[0;34m\u001b[0m\u001b[0;34m\u001b[0m\u001b[0m\n\u001b[1;32m     11\u001b[0m   \u001b[0;32mtry\u001b[0m\u001b[0;34m:\u001b[0m\u001b[0;34m\u001b[0m\u001b[0;34m\u001b[0m\u001b[0m\n\u001b[0;32m---> 12\u001b[0;31m     \u001b[0;32myield\u001b[0m \u001b[0;32mfrom\u001b[0m \u001b[0mcounter\u001b[0m\u001b[0;34m(\u001b[0m\u001b[0;34m)\u001b[0m\u001b[0;34m\u001b[0m\u001b[0;34m\u001b[0m\u001b[0m\n\u001b[0m\u001b[1;32m     13\u001b[0m   \u001b[0;32mexcept\u001b[0m \u001b[0mStopIteration\u001b[0m\u001b[0;34m:\u001b[0m\u001b[0;34m\u001b[0m\u001b[0;34m\u001b[0m\u001b[0m\n\u001b[1;32m     14\u001b[0m     \u001b[0;32mreturn\u001b[0m\u001b[0;34m\u001b[0m\u001b[0;34m\u001b[0m\u001b[0m\n",
            "\u001b[0;31mRuntimeError\u001b[0m: generator raised StopIteration"
          ]
        }
      ],
      "source": [
        "count = counter_wrapper()\n",
        "print(next(count))\n",
        "print(next(count))\n",
        "print(next(count))\n",
        "print(next(count))\n",
        "print(next(count))\n",
        "print(next(count))\n",
        "print(next(count))\n",
        "print(next(count))\n",
        "print(next(count))\n",
        "print(next(count))\n",
        "# print(list(counter_wrapper()))"
      ]
    },
    {
      "cell_type": "markdown",
      "metadata": {
        "id": "7eb4b2c9"
      },
      "source": [
        "### Генераторы списков"
      ]
    },
    {
      "cell_type": "code",
      "execution_count": null,
      "metadata": {
        "id": "3f28541b",
        "outputId": "6a16d16f-81cb-4ea6-9de5-fa4031a4a0b9"
      },
      "outputs": [
        {
          "name": "stdout",
          "output_type": "stream",
          "text": [
            "[0, 1, 4, 9, 16, 25, 36, 49, 64, 81]\n",
            "[0, 1, 4, 9, 16, 25, 36, 49, 64, 81]\n"
          ]
        }
      ],
      "source": [
        "l1 = (x**2 for x in range(10))\n",
        "print(list(l1)) # [x**2 for x in range(10)]"
      ]
    },
    {
      "cell_type": "markdown",
      "metadata": {
        "id": "13d0d8e7"
      },
      "source": [
        "### Генераторы словарей"
      ]
    },
    {
      "cell_type": "code",
      "execution_count": null,
      "metadata": {
        "id": "2ac19fd3",
        "outputId": "afd09d2b-20d7-46c3-e17b-834049aa3a78"
      },
      "outputs": [
        {
          "name": "stdout",
          "output_type": "stream",
          "text": [
            "{0: 0, 1: 1, 2: 4, 3: 9, 4: 16, 5: 25, 6: 36, 7: 49, 8: 64, 9: 81}\n"
          ]
        }
      ],
      "source": [
        "d1 = {x: x**2 for x in range(10)}\n",
        "print(d1)"
      ]
    },
    {
      "cell_type": "markdown",
      "metadata": {
        "id": "2eb99d40"
      },
      "source": [
        "## Часть 6. Итераторы"
      ]
    },
    {
      "cell_type": "code",
      "execution_count": null,
      "metadata": {
        "id": "ccae7e37",
        "outputId": "72633f54-6f89-4e4d-b8bf-9844c1c642da"
      },
      "outputs": [
        {
          "name": "stdout",
          "output_type": "stream",
          "text": [
            "1\n",
            "2\n",
            "3\n",
            "4\n",
            "5\n",
            "6\n",
            "7\n",
            "8\n",
            "9\n",
            "10\n"
          ]
        }
      ],
      "source": [
        "class SimpleIterator:\n",
        "    def __init__(self, limit):\n",
        "        self.limit = limit\n",
        "        self.counter = 0\n",
        "\n",
        "    def __iter__(self):\n",
        "        return self        \n",
        "        \n",
        "    def __next__(self):\n",
        "        if self.counter < self.limit:\n",
        "            self.counter += 1\n",
        "            return self.counter\n",
        "        else:\n",
        "            raise StopIteration\n",
        "\n",
        "s_iter2 = SimpleIterator(10)\n",
        "\n",
        "for i in s_iter2:\n",
        "    print(i)"
      ]
    }
  ],
  "metadata": {
    "kernelspec": {
      "display_name": "Python 3",
      "name": "python3"
    },
    "language_info": {
      "name": "python"
    },
    "name": "seminar2_part1_variables_strings_numbers.ipynb",
    "colab": {
      "provenance": [],
      "collapsed_sections": [
        "263f6c48",
        "CZfH_cRr4Zhg",
        "5bf30c01",
        "db61085b",
        "7eb4b2c9",
        "13d0d8e7",
        "2eb99d40"
      ]
    }
  },
  "nbformat": 4,
  "nbformat_minor": 0
}