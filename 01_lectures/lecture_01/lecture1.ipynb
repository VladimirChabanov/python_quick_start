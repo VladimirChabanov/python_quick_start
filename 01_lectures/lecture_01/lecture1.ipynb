{
  "cells": [
    {
      "cell_type": "markdown",
      "source": [
        "<img src=\"https://www.amd.com/system/files/76826-python-logo-1260x709.jpg\" height=\"300px\">"
      ],
      "metadata": {
        "id": "OWgAQ_Kiwuc3"
      }
    },
    {
      "cell_type": "markdown",
      "metadata": {
        "id": "ye-pwj9Xp9hb"
      },
      "source": [
        "# Урок 1. Основы языка Python"
      ]
    },
    {
      "cell_type": "markdown",
      "metadata": {
        "id": "6e_EJ4Eip9hb"
      },
      "source": [
        "## Часть 1. Встроенные типы данных"
      ]
    },
    {
      "cell_type": "markdown",
      "metadata": {
        "id": "zPFRt4CPp9hc"
      },
      "source": [
        "Зачем нужны встроенные типы данных (объекты)?\n",
        "- Встроенные объекты упрощают создание программ. Так как избавляют от необходимости\n",
        "реализации структур данных.\n",
        "- Встроенные объекты – это компоненты расширений. Для решения сложных задач вы можете\n",
        "создавать собственные объекты, используя для этого встроенные классы языка Python\n",
        "- Встроенные объекты часто более эффективны, чем созданные вручную структуры данных.\n",
        "Встроенные типы языка Python используют уже оптимизированные структуры данных,\n",
        "реализованные на языке C для достижения высокой производительности\n",
        "- Встроенные объекты – это стандартная часть языка. В определенной степени Python многое\n",
        "заимствует как из языков, полагающихся на использование встроенных инструментальных\n",
        "средств (таких как LISP), так и полагающихся на мастерство программиста, который должен\n",
        "выполнить собственную реализацию инструментов и структур данных (таких как C++). В языке\n",
        "Python можно создавать собственные типы объектов, но в самом начале делать это не\n",
        "рекомендуется. Более того, из-за того, что встроенные компоненты являются стандартными\n",
        "составляющими языка Python, они всегда остаются неизменными, тогда как собственные\n",
        "структуры имеют свойство изменяться от случая к случаю."
      ]
    },
    {
      "cell_type": "markdown",
      "metadata": {
        "id": "dNtuTAMwp9hc"
      },
      "source": [
        "Мы рассмотрим следующие встроенные типы данных:\n",
        " - Числа (7382, 3.14, 3+4j, Decimal, Fraction)\n",
        " - Строки ('net', \"your's\", u'радость')\n",
        " - Списки ([1, [2, 'three'], 4])\n",
        " - Словари ({'Alex': 2, 'Brian': 4})\n",
        " - Кортежи ('Leo', 21.7, 'single')\n",
        " - Множества (set(1,2,3), {'a', 'b', 'c'})\n",
        " - Файлы (open('myfile', 'r'))"
      ]
    },
    {
      "cell_type": "markdown",
      "metadata": {
        "id": "rmLz6XDxp9hd"
      },
      "source": [
        "**Динамическая типизация**\n",
        "\n",
        "Типы данных в языке Python определяются автоматически во время выполнения, а не в результате\n",
        "объявлений в программном коде. Переменные создаются при выполнении операции присваивания,\n",
        "могут ссылаться на объекты любых типов и им должны быть присвоены некоторые значения, прежде\n",
        "чем к ним можно будет обратиться."
      ]
    },
    {
      "cell_type": "markdown",
      "metadata": {
        "id": "8xqIPKEmp9he"
      },
      "source": [
        " - Переменные – это записи в системной таблице, где предусмотрено место для хранения ссылок на\n",
        "объекты.\n",
        " - Объекты – это области памяти с объемом, достаточным для представления значений этих объектов.\n",
        "Каждый объект имеет два стандартных поля: описатель типа, используемый для хранения\n",
        "информации о типе объекта, и счетчик ссылок, используемый для определения момента, когда\n",
        "память, занимаемая объектом, может быть освобождена.\n",
        " - Ссылки – это указатели на объекты."
      ]
    },
    {
      "cell_type": "markdown",
      "metadata": {
        "id": "YTiUt-GGqcm7"
      },
      "source": [
        "## Часть 2. Числа"
      ]
    },
    {
      "cell_type": "markdown",
      "metadata": {
        "id": "C_d9y_Axqcm7"
      },
      "source": [
        "Числа в Python бывают разные:\n",
        " - Целые числа (int): 122, -4, 99999999999, 0o177, 0x9ff, 0b101010\n",
        " - Вещественные числа (float): 1.0, 3.14, .5, 4E21, 4.0e21 \n",
        " - Комплексные числа (complex): 3 + 4j, 3.0 + 4.0j,  \n",
        " - Числа фиксированной точности: decimal.Decimal('0.1')\n",
        " - Рациональные числа: fractions.Fraction(3, 4)"
      ]
    },
    {
      "cell_type": "markdown",
      "metadata": {
        "id": "bRoWUN5OqcnB"
      },
      "source": [
        "### Целые числа"
      ]
    },
    {
      "cell_type": "code",
      "execution_count": null,
      "metadata": {
        "id": "-c8WlEdMqcnB",
        "outputId": "a522a0d9-ff77-49ab-85c4-f8f738e9db9b",
        "colab": {
          "base_uri": "https://localhost:8080/"
        }
      },
      "outputs": [
        {
          "output_type": "stream",
          "name": "stdout",
          "text": [
            "5\n"
          ]
        }
      ],
      "source": [
        "print(3+2)"
      ]
    },
    {
      "cell_type": "code",
      "execution_count": null,
      "metadata": {
        "id": "gVavE5OmqcnC",
        "outputId": "46b21f49-2622-4e81-c73b-620c6dd23759",
        "colab": {
          "base_uri": "https://localhost:8080/"
        }
      },
      "outputs": [
        {
          "output_type": "stream",
          "name": "stdout",
          "text": [
            "1\n"
          ]
        }
      ],
      "source": [
        "print(3-2)"
      ]
    },
    {
      "cell_type": "code",
      "execution_count": null,
      "metadata": {
        "id": "Hp0NQ4Z1qcnC",
        "outputId": "d1ce0952-e2f9-410d-e1f2-1e9ee6fd7365",
        "colab": {
          "base_uri": "https://localhost:8080/"
        }
      },
      "outputs": [
        {
          "output_type": "stream",
          "name": "stdout",
          "text": [
            "6\n"
          ]
        }
      ],
      "source": [
        "print(3*2)"
      ]
    },
    {
      "cell_type": "code",
      "execution_count": null,
      "metadata": {
        "id": "GqVxZdhKqcnD",
        "outputId": "3beaf3e9-0bae-4e83-bfbf-53e23b5a8b42",
        "colab": {
          "base_uri": "https://localhost:8080/"
        }
      },
      "outputs": [
        {
          "output_type": "stream",
          "name": "stdout",
          "text": [
            "1.5\n"
          ]
        }
      ],
      "source": [
        "print(3 / 2)"
      ]
    },
    {
      "cell_type": "code",
      "execution_count": null,
      "metadata": {
        "outputId": "6a6b2564-f79e-4335-9866-964383b9e2b9",
        "colab": {
          "base_uri": "https://localhost:8080/"
        },
        "id": "I3mpfDDl5ge_"
      },
      "outputs": [
        {
          "output_type": "stream",
          "name": "stdout",
          "text": [
            "1\n"
          ]
        }
      ],
      "source": [
        "print(3 // 2)"
      ]
    },
    {
      "cell_type": "code",
      "execution_count": null,
      "metadata": {
        "id": "BZDrIzf8qcnD",
        "outputId": "6e52c1e9-418c-4ec3-80d6-c35c9116d4a7",
        "colab": {
          "base_uri": "https://localhost:8080/"
        }
      },
      "outputs": [
        {
          "output_type": "stream",
          "name": "stdout",
          "text": [
            "8\n"
          ]
        }
      ],
      "source": [
        "print(2 ** 3)"
      ]
    },
    {
      "cell_type": "markdown",
      "metadata": {
        "id": "4xhp59wTqcnD"
      },
      "source": [
        "Можно использовать скобки для управления порядком операций"
      ]
    },
    {
      "cell_type": "code",
      "execution_count": null,
      "metadata": {
        "id": "bKudVIqBqcnD",
        "outputId": "3c0b96e6-cb59-4b1b-e4d4-c8b6bea7fef4",
        "colab": {
          "base_uri": "https://localhost:8080/"
        }
      },
      "outputs": [
        {
          "output_type": "stream",
          "name": "stdout",
          "text": [
            "14\n",
            "20\n"
          ]
        }
      ],
      "source": [
        "standard_order = 2 + 3*4\n",
        "print(standard_order)\n",
        "my_order = (2 + 3) * 4\n",
        "print(my_order)"
      ]
    },
    {
      "cell_type": "markdown",
      "metadata": {
        "id": "KHWGeh_FqcnE"
      },
      "source": [
        "#### Целые числа в Python 2 и Python 3\n",
        "В Python 2 результат деления двух челых чисел - тоже целое, а в Python 3 - float."
      ]
    },
    {
      "cell_type": "code",
      "execution_count": null,
      "metadata": {
        "id": "Ys0NMdNEqcnE",
        "outputId": "294d0da8-4639-4203-d3ed-975b45295488",
        "colab": {
          "base_uri": "https://localhost:8080/"
        }
      },
      "outputs": [
        {
          "output_type": "stream",
          "name": "stdout",
          "text": [
            "1.5\n"
          ]
        }
      ],
      "source": [
        "print(3 / 2)"
      ]
    },
    {
      "cell_type": "markdown",
      "metadata": {
        "id": "bY_GKIyHqcnE"
      },
      "source": [
        "В Python 3 результат - 1.5, в Python 2 (без подключения future) - 1 "
      ]
    },
    {
      "cell_type": "markdown",
      "metadata": {
        "id": "1MdvYB0zqcnD"
      },
      "source": [
        "### Вещественные числа"
      ]
    },
    {
      "cell_type": "code",
      "execution_count": null,
      "metadata": {
        "id": "8qdM9lfLqcnE",
        "outputId": "1b04d5e7-28be-4a28-f316-3fdc07d692f8",
        "colab": {
          "base_uri": "https://localhost:8080/"
        }
      },
      "outputs": [
        {
          "output_type": "stream",
          "name": "stdout",
          "text": [
            "0.2\n"
          ]
        }
      ],
      "source": [
        "print(.1 + .1)"
      ]
    },
    {
      "cell_type": "markdown",
      "metadata": {
        "id": "81H7u2kFqcnE"
      },
      "source": [
        "### Комплексные числа"
      ]
    },
    {
      "cell_type": "code",
      "execution_count": null,
      "metadata": {
        "id": "syygY8sBqcnF",
        "outputId": "8eeb859f-ba38-433e-daf0-0aadfae9524d",
        "colab": {
          "base_uri": "https://localhost:8080/"
        }
      },
      "outputs": [
        {
          "output_type": "stream",
          "name": "stdout",
          "text": [
            "|(2+3j)| = 3.605551275463989\n",
            "(1+1j) * (2+3j) = (-1+5j)\n"
          ]
        }
      ],
      "source": [
        "print(\"|{0}| = {1}\".format(complex(2, 3), abs(complex(2, 3))))\n",
        "print(\"{0} * {1} = {2}\".format(complex(1, 1), complex(2, 3), complex(1, 1) * complex(2, 3)))"
      ]
    },
    {
      "cell_type": "code",
      "execution_count": null,
      "metadata": {
        "id": "y0iFeE6rqcnF",
        "outputId": "adf55e92-3d36-4dfa-a453-70bac9bca449",
        "colab": {
          "base_uri": "https://localhost:8080/"
        }
      },
      "outputs": [
        {
          "output_type": "execute_result",
          "data": {
            "text/plain": [
              "(-5+10j)"
            ]
          },
          "metadata": {},
          "execution_count": 11
        }
      ],
      "source": [
        "(1 + 2j) * (3+4j)"
      ]
    },
    {
      "cell_type": "markdown",
      "metadata": {
        "id": "qkIWt_3uqcnF"
      },
      "source": [
        "### Числа фиксированной точности и рациональные числа"
      ]
    },
    {
      "cell_type": "markdown",
      "metadata": {
        "id": "8yheSiyrqcnF"
      },
      "source": [
        "Для решения проблем, связанных с точностью представления простых вещественных чисел введены\n",
        "вещественные числа с фиксированной точностью и рациональные числа (числа, представленные дробью, то есть парой целых чисел – числителем и знаменателем)."
      ]
    },
    {
      "cell_type": "code",
      "execution_count": null,
      "metadata": {
        "id": "mk3ZwgvBqcnF",
        "outputId": "61d702cd-4ae6-40b0-9330-5207dc3c987e",
        "colab": {
          "base_uri": "https://localhost:8080/"
        }
      },
      "outputs": [
        {
          "output_type": "stream",
          "name": "stdout",
          "text": [
            "0.3666666666666667\n"
          ]
        },
        {
          "output_type": "execute_result",
          "data": {
            "text/plain": [
              "True"
            ]
          },
          "metadata": {},
          "execution_count": 219
        }
      ],
      "source": [
        "print(1.1/3)\n",
        "from decimal import Decimal\n",
        "from decimal import getcontext\n",
        "\n",
        "getcontext().prec = 3\n",
        "Decimal('4') / 3 == Decimal('1.33')"
      ]
    },
    {
      "cell_type": "code",
      "execution_count": null,
      "metadata": {
        "id": "5JsjWuHaqcnG",
        "outputId": "797ecd69-3b17-401e-8f1c-6afce0756b8a",
        "colab": {
          "base_uri": "https://localhost:8080/"
        }
      },
      "outputs": [
        {
          "output_type": "stream",
          "name": "stdout",
          "text": [
            "0.37\n"
          ]
        }
      ],
      "source": [
        "from decimal import Decimal\n",
        "from decimal import getcontext\n",
        "getcontext().prec = 2\n",
        "print(Decimal('1.10') / 3)"
      ]
    },
    {
      "cell_type": "code",
      "execution_count": null,
      "metadata": {
        "id": "W_V05Wm0qcnG",
        "outputId": "39a694ec-968c-4fd4-922a-ab8e88a2c4e5",
        "colab": {
          "base_uri": "https://localhost:8080/"
        }
      },
      "outputs": [
        {
          "output_type": "stream",
          "name": "stdout",
          "text": [
            "0.09859154929577464\n",
            "False\n"
          ]
        }
      ],
      "source": [
        "print(7 / 71)\n",
        "print(7 / 71 * 71 == 7)"
      ]
    },
    {
      "cell_type": "code",
      "execution_count": null,
      "metadata": {
        "id": "dF0MbFwWqcnG",
        "outputId": "004722b7-218c-43bb-ce9a-d2f45bccb2ab",
        "colab": {
          "base_uri": "https://localhost:8080/"
        }
      },
      "outputs": [
        {
          "output_type": "stream",
          "name": "stdout",
          "text": [
            "True\n"
          ]
        }
      ],
      "source": [
        "from fractions import Fraction\n",
        "print(Fraction(7, 71) * 71 == 7)"
      ]
    },
    {
      "cell_type": "markdown",
      "metadata": {
        "id": "qoHjYsxtqcnG"
      },
      "source": [
        "### Приоритет арифметических операций в Python\n",
        "\n",
        "Чем выше оператор, тем больше приоритет.\n",
        "\n",
        "<img src=\"https://ylianova.ru/800/600/https/i.imgur.com/s6xAan5.png\">"
      ]
    },
    {
      "cell_type": "markdown",
      "metadata": {
        "id": "binBYUfCrG_P"
      },
      "source": [
        "## Часть 3. Строки"
      ]
    },
    {
      "cell_type": "markdown",
      "metadata": {
        "id": "18rPBC1frG_Q"
      },
      "source": [
        "### Строки выделяются одинарными или двойными кавычками"
      ]
    },
    {
      "cell_type": "code",
      "execution_count": null,
      "metadata": {
        "collapsed": true,
        "id": "00RZHeoyrG_R"
      },
      "outputs": [],
      "source": [
        "my_string = \"This is a \\\"double\\\"-quoted string.\"\n",
        "my_string = 'This is a \\'single-quoted\\' string.'"
      ]
    },
    {
      "cell_type": "code",
      "execution_count": null,
      "metadata": {
        "collapsed": true,
        "id": "0rPxq6XurG_R"
      },
      "outputs": [],
      "source": [
        "quote = \"Linus Torvalds once said, 'Any program is only as good as it is useful.'\""
      ]
    },
    {
      "cell_type": "code",
      "execution_count": null,
      "metadata": {
        "id": "c0nUgurtrG_S",
        "colab": {
          "base_uri": "https://localhost:8080/"
        },
        "outputId": "f0ffe4e8-a62d-42fd-d91a-fb362cd36243"
      },
      "outputs": [
        {
          "output_type": "stream",
          "name": "stdout",
          "text": [
            "eric\n",
            "Eric\n",
            "eric\n"
          ]
        }
      ],
      "source": [
        "first_name = 'eric'\n",
        "\n",
        "print(first_name)\n",
        "print(first_name.title())\n",
        "print(first_name)"
      ]
    },
    {
      "cell_type": "markdown",
      "metadata": {
        "id": "yGFQsWtCrG_S"
      },
      "source": [
        "### Разные регистры"
      ]
    },
    {
      "cell_type": "code",
      "execution_count": null,
      "metadata": {
        "id": "Ibh4ZsaRrG_T",
        "colab": {
          "base_uri": "https://localhost:8080/"
        },
        "outputId": "883dd175-3304-4bf9-8c71-992e98275f1d"
      },
      "outputs": [
        {
          "output_type": "stream",
          "name": "stdout",
          "text": [
            "eric\n",
            "Eric\n",
            "ERIC\n",
            "eric\n"
          ]
        }
      ],
      "source": [
        "first_name = 'eric'\n",
        "\n",
        "print(first_name)\n",
        "print(first_name.title())\n",
        "print(first_name.upper())\n",
        "\n",
        "first_name = 'Eric'\n",
        "print(first_name.lower())"
      ]
    },
    {
      "cell_type": "markdown",
      "metadata": {
        "id": "JyMWx7VxrG_T"
      },
      "source": [
        "*upper()*, *lower()* и *title()* - это методы. \n",
        "\n",
        "Синтаксис: variable_name.action()\n",
        "\n",
        "*action* - это название метода, который можно применить к переменной *variable_name*. В скобках можно указывать другие переменные (аргументы) метода. "
      ]
    },
    {
      "cell_type": "markdown",
      "metadata": {
        "id": "SrTO9EmrrG_T"
      },
      "source": [
        "### Конкатенация (\"склеивание\") строк"
      ]
    },
    {
      "cell_type": "code",
      "execution_count": null,
      "metadata": {
        "id": "ofXmvRgtrG_T",
        "outputId": "44e91fa9-87c4-4f8b-d4e7-a8c3e62c8838",
        "colab": {
          "base_uri": "https://localhost:8080/"
        }
      },
      "outputs": [
        {
          "output_type": "stream",
          "name": "stdout",
          "text": [
            "Ada Lovelace\n"
          ]
        }
      ],
      "source": [
        "first_name = 'ada'\n",
        "last_name = 'lovelace'\n",
        "\n",
        "full_name = first_name + ' ' + last_name\n",
        "\n",
        "print(full_name.title())"
      ]
    },
    {
      "cell_type": "code",
      "execution_count": null,
      "metadata": {
        "id": "b-1sUDK1rG_U",
        "outputId": "daf6527d-1162-492c-bfa7-fb6d928fd9f1",
        "colab": {
          "base_uri": "https://localhost:8080/"
        }
      },
      "outputs": [
        {
          "output_type": "stream",
          "name": "stdout",
          "text": [
            "Ada Lovelace was considered the world's first computer programmer.\n"
          ]
        }
      ],
      "source": [
        "first_name = 'ada'\n",
        "last_name = 'lovelace'\n",
        "full_name = first_name + ' ' + last_name\n",
        "\n",
        "message = full_name.title() + ' ' + \"was considered the world's first computer programmer.\"\n",
        "\n",
        "print(message)"
      ]
    },
    {
      "cell_type": "markdown",
      "metadata": {
        "id": "QLbendEGrG_U"
      },
      "source": [
        "### Пробельные символы (whitespaces)\n",
        " - \" \" - пробел (очевидно)\n",
        " - \"\\t\" - табуляция\n",
        " - \"\\n\" - перенос строки"
      ]
    },
    {
      "cell_type": "code",
      "execution_count": null,
      "metadata": {
        "id": "4hN-PYv-rG_V",
        "colab": {
          "base_uri": "https://localhost:8080/"
        },
        "outputId": "e30453a1-5011-4b42-dbac-cd195c07867e"
      },
      "outputs": [
        {
          "output_type": "stream",
          "name": "stdout",
          "text": [
            "Hello everyone!\n"
          ]
        }
      ],
      "source": [
        "print(\"Hello everyone!\")"
      ]
    },
    {
      "cell_type": "code",
      "execution_count": null,
      "metadata": {
        "id": "2YBSRpYhrG_V",
        "colab": {
          "base_uri": "https://localhost:8080/"
        },
        "outputId": "a98996e6-c833-479f-de5f-fd56a742246f"
      },
      "outputs": [
        {
          "output_type": "stream",
          "name": "stdout",
          "text": [
            "\tHello everyone!\n"
          ]
        }
      ],
      "source": [
        "print(\"\\tHello everyone!\")"
      ]
    },
    {
      "cell_type": "code",
      "execution_count": null,
      "metadata": {
        "id": "7v9y_dEYrG_V",
        "colab": {
          "base_uri": "https://localhost:8080/"
        },
        "outputId": "a6ed2351-d1d6-4e3f-ea58-e578dc18196f"
      },
      "outputs": [
        {
          "output_type": "stream",
          "name": "stdout",
          "text": [
            "Hello \teveryone!\n"
          ]
        }
      ],
      "source": [
        "print(\"Hello \\teveryone!\")"
      ]
    },
    {
      "cell_type": "code",
      "execution_count": null,
      "metadata": {
        "id": "YyGMbBm7rG_V",
        "colab": {
          "base_uri": "https://localhost:8080/"
        },
        "outputId": "7035ae41-92c1-4b64-c7f2-210622b705d0"
      },
      "outputs": [
        {
          "output_type": "stream",
          "name": "stdout",
          "text": [
            "Hello everyone!\n"
          ]
        }
      ],
      "source": [
        "print(\"Hello everyone!\")"
      ]
    },
    {
      "cell_type": "code",
      "execution_count": null,
      "metadata": {
        "id": "nbeTHaCWrG_V",
        "outputId": "b1af101d-da52-4133-9734-3c175c0b3da7",
        "colab": {
          "base_uri": "https://localhost:8080/"
        }
      },
      "outputs": [
        {
          "output_type": "stream",
          "name": "stdout",
          "text": [
            "Hello!\n",
            "\n",
            "Hello everyone!\n"
          ]
        }
      ],
      "source": [
        "print(\"Hello!\\n\")\n",
        "print(\"Hello everyone!\")"
      ]
    },
    {
      "cell_type": "code",
      "execution_count": null,
      "metadata": {
        "id": "_L_JDrL7rG_W",
        "colab": {
          "base_uri": "https://localhost:8080/"
        },
        "outputId": "c480c0d6-5e36-4a6b-fb0c-cb40269b62cd"
      },
      "outputs": [
        {
          "output_type": "stream",
          "name": "stdout",
          "text": [
            "Hello\n",
            " everyone!\n"
          ]
        }
      ],
      "source": [
        "print(\"Hello\\n everyone!\")"
      ]
    },
    {
      "cell_type": "code",
      "execution_count": null,
      "metadata": {
        "id": "9DM8lHerrG_W",
        "outputId": "d1bca557-a3b8-4954-e082-4427729a527a",
        "colab": {
          "base_uri": "https://localhost:8080/"
        }
      },
      "outputs": [
        {
          "output_type": "stream",
          "name": "stdout",
          "text": [
            "\n",
            "\n",
            "\n",
            "Hello everyone!\n"
          ]
        }
      ],
      "source": [
        "print(\"\\n\\n\\nHello everyone!\")"
      ]
    },
    {
      "cell_type": "markdown",
      "metadata": {
        "id": "bd6akThErG_W"
      },
      "source": [
        "### Удаление лишних пробельных символов\n",
        "\n",
        "Часто при заполнении веб-форм появляются лишние пробелы слева и/или справа. От них можно избавиться"
      ]
    },
    {
      "cell_type": "code",
      "execution_count": null,
      "metadata": {
        "id": "jTAJWF1mrG_W",
        "colab": {
          "base_uri": "https://localhost:8080/"
        },
        "outputId": "fb5e955b-06a1-4bf0-b5a0-24a8b16b58a3"
      },
      "outputs": [
        {
          "output_type": "stream",
          "name": "stdout",
          "text": [
            "eric \n",
            " eric\n",
            "eric\n"
          ]
        }
      ],
      "source": [
        "name = ' eric '\n",
        "\n",
        "print(name.lstrip())\n",
        "print(name.rstrip())\n",
        "print(name.strip())"
      ]
    },
    {
      "cell_type": "markdown",
      "metadata": {
        "id": "mJNL2z9RrG_W"
      },
      "source": [
        "Так нагляднее:"
      ]
    },
    {
      "cell_type": "code",
      "execution_count": null,
      "metadata": {
        "id": "MAXQJW0orG_X",
        "outputId": "b2b9342f-c84f-4b4f-ab95-ea7ffbf57138",
        "colab": {
          "base_uri": "https://localhost:8080/"
        }
      },
      "outputs": [
        {
          "output_type": "stream",
          "name": "stdout",
          "text": [
            "-eric -\n",
            "- eric-\n",
            "-eric-\n"
          ]
        }
      ],
      "source": [
        "name = ' eric '\n",
        "\n",
        "print('-' + name.lstrip() + '-')\n",
        "print('-' + name.rstrip() + '-')\n",
        "print('-' + name.strip() + '-')"
      ]
    },
    {
      "cell_type": "markdown",
      "metadata": {
        "id": "rlrX613BrG_X"
      },
      "source": [
        "Избавляться можно не только от пробелов. Здесь ',' - аргумент методов *lstrip()*, *rstrip()* и *strip()*"
      ]
    },
    {
      "cell_type": "code",
      "execution_count": null,
      "metadata": {
        "id": "5nykiHcgrG_X",
        "outputId": "b85731ff-0b3f-421d-e46d-542de3796c39",
        "colab": {
          "base_uri": "https://localhost:8080/"
        }
      },
      "outputs": [
        {
          "output_type": "stream",
          "name": "stdout",
          "text": [
            "-eric ,-\n",
            "-,,,, eric-\n",
            "-eric-\n"
          ]
        }
      ],
      "source": [
        "name = ',,,, eric ,'\n",
        "\n",
        "print('-' + name.lstrip(', ') + '-')\n",
        "print('-' + name.rstrip(', ') + '-')\n",
        "print('-' + name.strip(', ') + '-')"
      ]
    },
    {
      "cell_type": "markdown",
      "metadata": {
        "id": "N-8IQdf-rG_X"
      },
      "source": [
        "### Методы для работы со строками\n",
        "Обзор на <a href=\"http://pythonworld.ru/tipy-dannyx-v-python/stroki-funkcii-i-metody-strok.html\">Pythonworld</a>\n",
        "\n",
        "Все методы строк:"
      ]
    },
    {
      "cell_type": "code",
      "execution_count": null,
      "metadata": {
        "id": "xE8mpFIVrG_X",
        "outputId": "9c6dd89f-d71d-45a7-93fc-d590e7d4b291",
        "colab": {
          "base_uri": "https://localhost:8080/"
        }
      },
      "outputs": [
        {
          "output_type": "execute_result",
          "data": {
            "text/plain": [
              "['__add__',\n",
              " '__class__',\n",
              " '__contains__',\n",
              " '__delattr__',\n",
              " '__dir__',\n",
              " '__doc__',\n",
              " '__eq__',\n",
              " '__format__',\n",
              " '__ge__',\n",
              " '__getattribute__',\n",
              " '__getitem__',\n",
              " '__getnewargs__',\n",
              " '__gt__',\n",
              " '__hash__',\n",
              " '__init__',\n",
              " '__init_subclass__',\n",
              " '__iter__',\n",
              " '__le__',\n",
              " '__len__',\n",
              " '__lt__',\n",
              " '__mod__',\n",
              " '__mul__',\n",
              " '__ne__',\n",
              " '__new__',\n",
              " '__reduce__',\n",
              " '__reduce_ex__',\n",
              " '__repr__',\n",
              " '__rmod__',\n",
              " '__rmul__',\n",
              " '__setattr__',\n",
              " '__sizeof__',\n",
              " '__str__',\n",
              " '__subclasshook__',\n",
              " 'capitalize',\n",
              " 'casefold',\n",
              " 'center',\n",
              " 'count',\n",
              " 'encode',\n",
              " 'endswith',\n",
              " 'expandtabs',\n",
              " 'find',\n",
              " 'format',\n",
              " 'format_map',\n",
              " 'index',\n",
              " 'isalnum',\n",
              " 'isalpha',\n",
              " 'isascii',\n",
              " 'isdecimal',\n",
              " 'isdigit',\n",
              " 'isidentifier',\n",
              " 'islower',\n",
              " 'isnumeric',\n",
              " 'isprintable',\n",
              " 'isspace',\n",
              " 'istitle',\n",
              " 'isupper',\n",
              " 'join',\n",
              " 'ljust',\n",
              " 'lower',\n",
              " 'lstrip',\n",
              " 'maketrans',\n",
              " 'partition',\n",
              " 'replace',\n",
              " 'rfind',\n",
              " 'rindex',\n",
              " 'rjust',\n",
              " 'rpartition',\n",
              " 'rsplit',\n",
              " 'rstrip',\n",
              " 'split',\n",
              " 'splitlines',\n",
              " 'startswith',\n",
              " 'strip',\n",
              " 'swapcase',\n",
              " 'title',\n",
              " 'translate',\n",
              " 'upper',\n",
              " 'zfill']"
            ]
          },
          "metadata": {},
          "execution_count": 177
        }
      ],
      "source": [
        "dir(str)"
      ]
    },
    {
      "cell_type": "markdown",
      "metadata": {
        "id": "K_gMHWPlrG_X"
      },
      "source": [
        "**find** - поиск подстроки в строке. Возвращает номер первого вхождения или -1, если подстрока не найдена"
      ]
    },
    {
      "cell_type": "code",
      "execution_count": null,
      "metadata": {
        "id": "rSyFOgGwrG_Y",
        "outputId": "0fac5ac5-7e82-4c3b-b95d-9c077f1f4f11",
        "colab": {
          "base_uri": "https://localhost:8080/"
        }
      },
      "outputs": [
        {
          "output_type": "execute_result",
          "data": {
            "text/plain": [
              "0"
            ]
          },
          "metadata": {},
          "execution_count": 186
        }
      ],
      "source": [
        "\"we bought a new house and we are happy\".find(\"we\")"
      ]
    },
    {
      "cell_type": "markdown",
      "metadata": {
        "id": "vBG-Y6qIrG_Y"
      },
      "source": [
        "**rfind** - поиск подстроки в строке. Возвращает номер последнего вхождения или -1, если подстрока не найдена"
      ]
    },
    {
      "cell_type": "code",
      "execution_count": null,
      "metadata": {
        "id": "upwaEonLrG_Y",
        "outputId": "211f9857-1935-4b77-c187-9770b6f1ffee",
        "colab": {
          "base_uri": "https://localhost:8080/"
        }
      },
      "outputs": [
        {
          "output_type": "execute_result",
          "data": {
            "text/plain": [
              "26"
            ]
          },
          "metadata": {},
          "execution_count": 34
        }
      ],
      "source": [
        "\"we bought a new house and we are happy\".rfind(\"we\")"
      ]
    },
    {
      "cell_type": "markdown",
      "metadata": {
        "id": "KH2XgkqYrG_Y"
      },
      "source": [
        "**index** - поиск подстроки в строке. Возвращает номер первого вхождения или вызывает ValueError, если подстрока не найдена"
      ]
    },
    {
      "cell_type": "code",
      "execution_count": null,
      "metadata": {
        "id": "VsRHRU2xrG_Y",
        "outputId": "996a6023-eaa1-446d-8d73-25ac99dfe0a0",
        "colab": {
          "base_uri": "https://localhost:8080/"
        }
      },
      "outputs": [
        {
          "output_type": "execute_result",
          "data": {
            "text/plain": [
              "0"
            ]
          },
          "metadata": {},
          "execution_count": 184
        }
      ],
      "source": [
        "\"we bought a new house and we are happy\".index(\"we\")"
      ]
    },
    {
      "cell_type": "code",
      "execution_count": null,
      "metadata": {
        "id": "4sjeadHarG_Z",
        "outputId": "4fa3be5f-fb89-47b0-df7c-292a89dcc8d6",
        "colab": {
          "base_uri": "https://localhost:8080/"
        }
      },
      "outputs": [
        {
          "output_type": "error",
          "ename": "ValueError",
          "evalue": "ignored",
          "traceback": [
            "\u001b[0;31m---------------------------------------------------------------------------\u001b[0m",
            "\u001b[0;31mValueError\u001b[0m                                Traceback (most recent call last)",
            "\u001b[0;32m<ipython-input-187-631ddb9c52ce>\u001b[0m in \u001b[0;36m<module>\u001b[0;34m\u001b[0m\n\u001b[0;32m----> 1\u001b[0;31m \u001b[0;34m\"we bought a new house and we are happy\"\u001b[0m\u001b[0;34m.\u001b[0m\u001b[0mindex\u001b[0m\u001b[0;34m(\u001b[0m\u001b[0;34m\"land\"\u001b[0m\u001b[0;34m)\u001b[0m\u001b[0;34m\u001b[0m\u001b[0;34m\u001b[0m\u001b[0m\n\u001b[0m",
            "\u001b[0;31mValueError\u001b[0m: substring not found"
          ]
        }
      ],
      "source": [
        "\"we bought a new house and we are happy\".index(\"land\") # land не найден, поэтому ошибка"
      ]
    },
    {
      "cell_type": "markdown",
      "metadata": {
        "id": "OxdsFw8TrG_Z"
      },
      "source": [
        "**rindex** - поиск подстроки в строке. Возвращает номер последнего вхождения или вызывает ValueError"
      ]
    },
    {
      "cell_type": "code",
      "execution_count": null,
      "metadata": {
        "id": "Y327zgjjrG_Z",
        "outputId": "c1f7d699-68dd-401c-8221-20c49dc0c0d3",
        "colab": {
          "base_uri": "https://localhost:8080/"
        }
      },
      "outputs": [
        {
          "output_type": "execute_result",
          "data": {
            "text/plain": [
              "26"
            ]
          },
          "metadata": {},
          "execution_count": 188
        }
      ],
      "source": [
        "\"we bought a new house and we are happy\".rindex(\"we\")"
      ]
    },
    {
      "cell_type": "code",
      "execution_count": null,
      "metadata": {
        "id": "NfzUtnLPrG_Z",
        "outputId": "b039cf3a-8623-4fe2-af47-fea5b4d952ba",
        "colab": {
          "base_uri": "https://localhost:8080/"
        }
      },
      "outputs": [
        {
          "output_type": "error",
          "ename": "ValueError",
          "evalue": "ignored",
          "traceback": [
            "\u001b[0;31m---------------------------------------------------------------------------\u001b[0m",
            "\u001b[0;31mValueError\u001b[0m                                Traceback (most recent call last)",
            "\u001b[0;32m<ipython-input-189-10b900489e89>\u001b[0m in \u001b[0;36m<module>\u001b[0;34m\u001b[0m\n\u001b[0;32m----> 1\u001b[0;31m \u001b[0;34m\"we bought a new house and we are happy\"\u001b[0m\u001b[0;34m.\u001b[0m\u001b[0mrindex\u001b[0m\u001b[0;34m(\u001b[0m\u001b[0;34m\"land\"\u001b[0m\u001b[0;34m)\u001b[0m\u001b[0;34m\u001b[0m\u001b[0;34m\u001b[0m\u001b[0m\n\u001b[0m",
            "\u001b[0;31mValueError\u001b[0m: substring not found"
          ]
        }
      ],
      "source": [
        "\"we bought a new house and we are happy\".rindex(\"land\")"
      ]
    },
    {
      "cell_type": "markdown",
      "metadata": {
        "id": "P8gGWPDsrG_Z"
      },
      "source": [
        "**replace** - замена по шаблону\n",
        "\n",
        "**help** - показывает справочную информацию по любому объекту или методу"
      ]
    },
    {
      "cell_type": "code",
      "execution_count": null,
      "metadata": {
        "id": "aGlSMnd-rG_Z",
        "outputId": "e4f71f29-80c0-4b73-fbe3-ff7a29c59b9e",
        "colab": {
          "base_uri": "https://localhost:8080/"
        }
      },
      "outputs": [
        {
          "output_type": "stream",
          "name": "stdout",
          "text": [
            "Help on method_descriptor:\n",
            "\n",
            "replace(self, old, new, count=-1, /)\n",
            "    Return a copy with all occurrences of substring old replaced by new.\n",
            "    \n",
            "      count\n",
            "        Maximum number of occurrences to replace.\n",
            "        -1 (the default value) means replace all occurrences.\n",
            "    \n",
            "    If the optional argument count is given, only the first count occurrences are\n",
            "    replaced.\n",
            "\n"
          ]
        }
      ],
      "source": [
        "help(str.replace)"
      ]
    },
    {
      "cell_type": "code",
      "execution_count": null,
      "metadata": {
        "id": "YgabiAMQrG_Z",
        "outputId": "4d68be1c-5208-4885-eac1-138725448bd2",
        "colab": {
          "base_uri": "https://localhost:8080/"
        }
      },
      "outputs": [
        {
          "output_type": "execute_result",
          "data": {
            "text/plain": [
              "'we bought a new building'"
            ],
            "application/vnd.google.colaboratory.intrinsic+json": {
              "type": "string"
            }
          },
          "metadata": {},
          "execution_count": 191
        }
      ],
      "source": [
        "\"we bought a new house\".replace(\"house\", \"building\")"
      ]
    },
    {
      "cell_type": "code",
      "execution_count": null,
      "metadata": {
        "id": "oOUZzt95rG_Z",
        "outputId": "b46836c6-654d-4454-95e7-9e4d5ffd8117",
        "colab": {
          "base_uri": "https://localhost:8080/"
        }
      },
      "outputs": [
        {
          "output_type": "execute_result",
          "data": {
            "text/plain": [
              "'wow wow bla'"
            ],
            "application/vnd.google.colaboratory.intrinsic+json": {
              "type": "string"
            }
          },
          "metadata": {},
          "execution_count": 224
        }
      ],
      "source": [
        "\"bla bla bla\".replace(\"bla\", \"wow\", 2)"
      ]
    },
    {
      "cell_type": "markdown",
      "metadata": {
        "id": "6pdpOxD6rG_a"
      },
      "source": [
        "**split** - разбиение строки по разделителю"
      ]
    },
    {
      "cell_type": "code",
      "execution_count": null,
      "metadata": {
        "outputId": "4cb42552-d7d9-41cb-e40c-7e91ec2eb1a7",
        "colab": {
          "base_uri": "https://localhost:8080/"
        },
        "id": "LR8u3010Bx0l"
      },
      "outputs": [
        {
          "output_type": "execute_result",
          "data": {
            "text/plain": [
              "['hello', 'great', 'to', 'see', 'you']"
            ]
          },
          "metadata": {},
          "execution_count": 196
        }
      ],
      "source": [
        "\"hello great to see you\".split()"
      ]
    },
    {
      "cell_type": "code",
      "execution_count": null,
      "metadata": {
        "id": "JxPVh8vCrG_a",
        "outputId": "dff5a67d-1434-4bd1-aab6-e0ec09657ec0",
        "colab": {
          "base_uri": "https://localhost:8080/"
        }
      },
      "outputs": [
        {
          "output_type": "execute_result",
          "data": {
            "text/plain": [
              "['hello', 'great', 'to', 'see', 'you']"
            ]
          },
          "metadata": {},
          "execution_count": 42
        }
      ],
      "source": [
        "\"hello#$great#$to#$see#$you\".split(\"#$\")"
      ]
    },
    {
      "cell_type": "markdown",
      "metadata": {
        "id": "zDeIZBRjrG_a"
      },
      "source": [
        "- **isdigit** - состоит ли строка из цифр;\n",
        "- **isalpha** - состоит ли строка из букв;\n",
        "- **isalnum** - состоит ли строка из цифр или букв;\n",
        "- **islower** - состоит ли строка из символов в нижнем регистре;\n",
        "- **isupper** - состоит ли строка из символов в верхнем регистре;\n",
        "- **istitle** - начинаются ли слова в строке с заглавной буквы."
      ]
    },
    {
      "cell_type": "markdown",
      "metadata": {
        "collapsed": true,
        "id": "7G2neKXvrG_a"
      },
      "source": [
        "**join** - сборка строки из списка по разделителю, применяется к разделителю"
      ]
    },
    {
      "cell_type": "code",
      "execution_count": null,
      "metadata": {
        "id": "0ynMZFYVrG_a",
        "outputId": "df68743f-91b7-4747-cb5c-28885870e35a",
        "colab": {
          "base_uri": "https://localhost:8080/"
        }
      },
      "outputs": [
        {
          "output_type": "execute_result",
          "data": {
            "text/plain": [
              "'Ann + Leo + Tiffany'"
            ],
            "application/vnd.google.colaboratory.intrinsic+json": {
              "type": "string"
            }
          },
          "metadata": {},
          "execution_count": 199
        }
      ],
      "source": [
        "\" + \".join([\"Ann\", \"Leo\", \"Tiffany\"])"
      ]
    },
    {
      "cell_type": "markdown",
      "metadata": {
        "id": "jsQAbU8MrG_a"
      },
      "source": [
        "**format** - форматирование строки\n",
        "\n",
        "Пример"
      ]
    },
    {
      "cell_type": "code",
      "execution_count": null,
      "metadata": {
        "id": "FKIXjQBWrG_a",
        "outputId": "d62ad699-7a96-429d-a4c6-2ad7c5d19a9c",
        "colab": {
          "base_uri": "https://localhost:8080/"
        }
      },
      "outputs": [
        {
          "output_type": "stream",
          "name": "stdout",
          "text": [
            "Ann( age 29 ) is a Artist\n",
            "Ann( age 29 ) is a Artist\n"
          ]
        }
      ],
      "source": [
        "name = \"Ann\"\n",
        "age = 29\n",
        "occupation = \"Artist\"\n",
        "print(name + '( age', age, ') is a', occupation) # Плохо читается\n",
        "print(name + '( age '+ str(age) + ' ) is a ' + occupation) # Читается ещё хуже + работает медленней"
      ]
    },
    {
      "cell_type": "code",
      "execution_count": null,
      "metadata": {
        "outputId": "c0d55bcf-6cf1-4a68-a4ed-12a8a872bb11",
        "colab": {
          "base_uri": "https://localhost:8080/"
        },
        "id": "xeI2TOKuEPIv"
      },
      "outputs": [
        {
          "output_type": "stream",
          "name": "stdout",
          "text": [
            "Ann ( age 29 ) is a Artist\n"
          ]
        }
      ],
      "source": [
        "name = \"Ann\"\n",
        "age = 29\n",
        "occupation = \"Artist\"\n",
        "print(f\"{name} ( age {age} ) is a {occupation}\")"
      ]
    },
    {
      "cell_type": "code",
      "execution_count": null,
      "metadata": {
        "outputId": "09bbc86b-e26a-4c58-b326-9d4d926fd300",
        "colab": {
          "base_uri": "https://localhost:8080/"
        },
        "id": "JFHv8ieqCt4g"
      },
      "outputs": [
        {
          "output_type": "stream",
          "name": "stdout",
          "text": [
            "Ann ( age 29 ) is a Artist\n"
          ]
        }
      ],
      "source": [
        "name = \"Ann\"\n",
        "age = 29\n",
        "occupation = \"Artist\"\n",
        "print(\"{0} ( age {1} ) is a {2}\".format(name, age, occupation))"
      ]
    },
    {
      "cell_type": "markdown",
      "metadata": {
        "id": "TVaucnRar29j"
      },
      "source": [
        "## Часть 4. Переменные типа Bool. Условный оператор"
      ]
    },
    {
      "cell_type": "markdown",
      "metadata": {
        "id": "gXC724C5r29l"
      },
      "source": [
        "Для управления логикой программы нужен еще один тип переменной - bool. Переменная типа bool имеет всего два значения - True и False."
      ]
    },
    {
      "cell_type": "code",
      "execution_count": null,
      "metadata": {
        "id": "5lPIv1V5r29l",
        "outputId": "c6293a4d-c2fd-4703-c0e9-36e1fde314f6",
        "colab": {
          "base_uri": "https://localhost:8080/"
        }
      },
      "outputs": [
        {
          "output_type": "stream",
          "name": "stdout",
          "text": [
            "<class 'bool'>\n",
            "False\n",
            "<class 'bool'>\n",
            "True\n",
            "<class 'bool'>\n"
          ]
        }
      ],
      "source": [
        "is_connected = True\n",
        "print(type(is_connected))\n",
        "\n",
        "a, b = 5, 6\n",
        "a_greater_b = a > b\n",
        "print(a_greater_b)\n",
        "print(type(a_greater_b))\n",
        "\n",
        "c = bool(1)\n",
        "print(c)\n",
        "print(type(c))"
      ]
    },
    {
      "cell_type": "markdown",
      "metadata": {
        "id": "bPnHp7i2r29m"
      },
      "source": [
        "#### В простейшем виде условная инструкция в Питоне имеет следующий синтаксис:\n",
        "\n",
        "```python\n",
        "if Условие:\n",
        "   \n",
        "    Блок инструкций 1\n",
        "\n",
        "else:\n",
        "   \n",
        "    Блок инструкций 2\n",
        "```"
      ]
    },
    {
      "cell_type": "markdown",
      "metadata": {
        "id": "KjKyV1mMr29m"
      },
      "source": [
        "#### Пример\n",
        "\n",
        "Если число делится на 7, напечатать это число и строку \"YES\", в противном случае - \"NO\""
      ]
    },
    {
      "cell_type": "code",
      "execution_count": null,
      "metadata": {
        "id": "9e6Mw7tTr29n",
        "outputId": "c906f45b-8926-471d-c6ca-6235cc025ee5",
        "colab": {
          "base_uri": "https://localhost:8080/"
        }
      },
      "outputs": [
        {
          "output_type": "stream",
          "name": "stdout",
          "text": [
            "Insert a number: 56\n",
            "56\n",
            "YES\n"
          ]
        }
      ],
      "source": [
        "a = int(input(\"Insert a number: \"))\n",
        "if a % 7 == 0:\n",
        "    print(a)\n",
        "    print(\"YES\")\n",
        "else:\n",
        "    print(\"NO\")"
      ]
    },
    {
      "cell_type": "markdown",
      "metadata": {
        "id": "FHxrm6OTr29n"
      },
      "source": [
        "#### Если в каждом блоке всего по одной инструкции, можно использовать сокращенный синтаксис:\n",
        "\n",
        "Инструкция 1 if Условие else Инструкция 2"
      ]
    },
    {
      "cell_type": "code",
      "execution_count": null,
      "metadata": {
        "id": "L9fqzK7mr29o",
        "outputId": "93a3854d-3a05-497f-f9c7-a2b9f084e089",
        "colab": {
          "base_uri": "https://localhost:8080/"
        }
      },
      "outputs": [
        {
          "output_type": "stream",
          "name": "stdout",
          "text": [
            "0.07\n"
          ]
        }
      ],
      "source": [
        "has_debts = True\n",
        "comission = 0.07 if has_debts else 0.05\n",
        "print(comission)"
      ]
    },
    {
      "cell_type": "markdown",
      "metadata": {
        "id": "I75p0j6wr29o"
      },
      "source": [
        "#### Пример \n",
        "Написать, что число четное или нечетное"
      ]
    },
    {
      "cell_type": "code",
      "execution_count": null,
      "metadata": {
        "id": "X9wmW9k3r29o",
        "outputId": "117f0124-5e9d-4206-de7b-4dc1b7b53efa",
        "colab": {
          "base_uri": "https://localhost:8080/"
        }
      },
      "outputs": [
        {
          "output_type": "stream",
          "name": "stdout",
          "text": [
            "Insert a number: 7\n",
            "7 is odd\n"
          ]
        }
      ],
      "source": [
        "a = int(input(\"Insert a number: \"))\n",
        "print(str(a) + \" is \" + (\"even\" if a % 2 == 0 else \"odd\"))"
      ]
    },
    {
      "cell_type": "markdown",
      "metadata": {
        "id": "nksTPb7Cr29p"
      },
      "source": [
        "#### Условные конструкции могут быть вложенными. \n",
        "\n",
        "```python\n",
        "if Условие1:\n",
        "    \n",
        "    if Условие2:\n",
        "    \n",
        "        Блок инструкций 1\n",
        "        \n",
        "        ...\n",
        "        \n",
        "    else:\n",
        "    \n",
        "        Блок инструкций 2\n",
        "        \n",
        "else:\n",
        "   \n",
        "    Блок инструкций 3\n",
        "```"
      ]
    },
    {
      "cell_type": "markdown",
      "metadata": {
        "id": "vMJGYupGr29p"
      },
      "source": [
        "#### Пример\n",
        "Определить, в какой четверти находится точка, по ее координатам *(x, y)*"
      ]
    },
    {
      "cell_type": "code",
      "execution_count": null,
      "metadata": {
        "id": "9ZV54Rt5r29p",
        "outputId": "fe4d2e9f-7088-4a38-e95c-3c598628fcfb",
        "colab": {
          "base_uri": "https://localhost:8080/"
        }
      },
      "outputs": [
        {
          "output_type": "stream",
          "name": "stdout",
          "text": [
            "Введите x: 1\n",
            "Введите y: 2\n",
            "Первая четверть\n"
          ]
        }
      ],
      "source": [
        "x = int(input(\"Введите x: \"))\n",
        "y = int(input(\"Введите y: \"))\n",
        "if x > 0:\n",
        "    if y > 0:               # x>0, y>0\n",
        "        print(\"Первая четверть\")\n",
        "    else:                   # x>0, y<0\n",
        "        print(\"Четвертая четверть\")\n",
        "else:\n",
        "    if y > 0:               # x<0, y>0\n",
        "        print(\"Вторая четверть\")\n",
        "    else:                   # x<0, y<0\n",
        "        print(\"Третья четверть\")"
      ]
    },
    {
      "cell_type": "markdown",
      "metadata": {
        "id": "tYbaP2Sxr29p"
      },
      "source": [
        "#### Однако, не стоит злоупотреблять вложением конструкций. Если их слишком много вложенных друг в друга, читаемость кода сильно страдает (\"спагетти-код\") и разобраться в нем сложнее"
      ]
    },
    {
      "cell_type": "markdown",
      "metadata": {
        "id": "WyE44sDyr29q"
      },
      "source": [
        "#### Блок *if-elif-else* (каскадная конструкция)\n",
        "\n",
        "```python\n",
        "if Условие 1:\n",
        "   \n",
        "    Блок инструкций 1\n",
        "\n",
        "elif Условие 2:\n",
        "\n",
        "    Блок инструкций 2\n",
        "    \n",
        "...\n",
        "\n",
        "elif Условие n:\n",
        "\n",
        "    Блок инструкций n\n",
        "    \n",
        "else:\n",
        "   \n",
        "    Блок инструкций n+1\n",
        "```"
      ]
    },
    {
      "cell_type": "markdown",
      "source": [
        "Тот же пример, что и выше, но через `elif`:"
      ],
      "metadata": {
        "id": "ggl7XCkTM3qY"
      }
    },
    {
      "cell_type": "code",
      "execution_count": null,
      "metadata": {
        "id": "7T9j_4cKr29q",
        "outputId": "909ddf23-5acf-4616-e6b5-bf346557536e",
        "colab": {
          "base_uri": "https://localhost:8080/"
        }
      },
      "outputs": [
        {
          "output_type": "stream",
          "name": "stdout",
          "text": [
            "Введите x: 1\n",
            "Введите y: 1\n",
            "Первая четверть\n"
          ]
        }
      ],
      "source": [
        "x = int(input(\"Введите x: \"))\n",
        "y = int(input(\"Введите y: \"))\n",
        "if x > 0 and y > 0:\n",
        "    print(\"Первая четверть\")\n",
        "elif x > 0 and y < 0:\n",
        "    print(\"Четвертая четверть\")\n",
        "elif y > 0:\n",
        "    print(\"Вторая четверть\")\n",
        "else:\n",
        "    print(\"Третья четверть\")"
      ]
    },
    {
      "cell_type": "code",
      "source": [
        "print(1 < 0 < 3)\n",
        "# print((1 < 0) < 3) с точки зрения js\n",
        "# print((1 < 0) and (0 < 3)) с точки зрения Python"
      ],
      "metadata": {
        "colab": {
          "base_uri": "https://localhost:8080/"
        },
        "id": "zMdcFYpXH-wc",
        "outputId": "81d0b1e0-f7c4-46a4-e93c-aef09fd347cb"
      },
      "execution_count": null,
      "outputs": [
        {
          "output_type": "stream",
          "name": "stdout",
          "text": [
            "False\n"
          ]
        }
      ]
    },
    {
      "cell_type": "markdown",
      "metadata": {
        "id": "tBVtuc0Rsqak"
      },
      "source": [
        "## Часть 5. Циклы"
      ]
    },
    {
      "cell_type": "markdown",
      "metadata": {
        "id": "DZpF7jKasqak"
      },
      "source": [
        "### Цикл While \n",
        "\n",
        "Цикл While очень удобен, потому что он позволяет Вашей программе работать, пока Вы не решите её остановить. Эта конструкция позволяет организовать бесконечный цикл, который ждет действий пользователя. "
      ]
    },
    {
      "cell_type": "markdown",
      "metadata": {
        "id": "PXl_jmBHsqal"
      },
      "source": [
        "#### Что такое цикл while?\n",
        "\n",
        "Цикл while проверяет начальные условия. Если условие выполняется, цикл начинает работать. Каждый раз когда проходит одна итерация, условие проверяется снова. До тех пор, пока условие выполняется, цикл продолжает работать. Как только условие перестает выполняться, цикл заканчивает свою работу."
      ]
    },
    {
      "cell_type": "markdown",
      "metadata": {
        "id": "9xnx-dEqsqal"
      },
      "source": [
        "#### Общий синтаксис"
      ]
    },
    {
      "cell_type": "markdown",
      "source": [
        "Следующий код демострирует распространённую ошибку при испольщовании цикла `while`:"
      ],
      "metadata": {
        "id": "XWvj3pBANNiI"
      }
    },
    {
      "cell_type": "code",
      "execution_count": null,
      "metadata": {
        "id": "Ez34Eoaisqan",
        "colab": {
          "base_uri": "https://localhost:8080/"
        },
        "outputId": "f87a045c-c3a6-45f6-8c61-c5d48bc65a4c"
      },
      "outputs": [
        {
          "output_type": "error",
          "ename": "KeyboardInterrupt",
          "evalue": "ignored",
          "traceback": [
            "\u001b[0;31m---------------------------------------------------------------------------\u001b[0m",
            "\u001b[0;31mKeyboardInterrupt\u001b[0m                         Traceback (most recent call last)",
            "\u001b[0;32m<ipython-input-53-b6101d430598>\u001b[0m in \u001b[0;36m<module>\u001b[0;34m\u001b[0m\n\u001b[1;32m      4\u001b[0m \u001b[0mlives\u001b[0m \u001b[0;34m=\u001b[0m \u001b[0;36m3\u001b[0m\u001b[0;34m\u001b[0m\u001b[0;34m\u001b[0m\u001b[0m\n\u001b[1;32m      5\u001b[0m \u001b[0;31m# Сам цикл while\u001b[0m\u001b[0;34m\u001b[0m\u001b[0;34m\u001b[0m\u001b[0;34m\u001b[0m\u001b[0m\n\u001b[0;32m----> 6\u001b[0;31m \u001b[0;32mwhile\u001b[0m \u001b[0mgame_active\u001b[0m\u001b[0;34m:\u001b[0m\u001b[0;34m\u001b[0m\u001b[0;34m\u001b[0m\u001b[0m\n\u001b[0m\u001b[1;32m      7\u001b[0m     \u001b[0;31m# Запускаем игру.\u001b[0m\u001b[0;34m\u001b[0m\u001b[0;34m\u001b[0m\u001b[0;34m\u001b[0m\u001b[0m\n\u001b[1;32m      8\u001b[0m     \u001b[0;31m# В какой-то момент времени необходимо изменить значение game_active на False.\u001b[0m\u001b[0;34m\u001b[0m\u001b[0;34m\u001b[0m\u001b[0;34m\u001b[0m\u001b[0m\n",
            "\u001b[0;31mKeyboardInterrupt\u001b[0m: "
          ]
        }
      ],
      "source": [
        "# Некоторое начальное условие\n",
        "game_active = True\n",
        "\n",
        "lives = 3\n",
        "# Сам цикл while \n",
        "while game_active:\n",
        "    # Запускаем игру.\n",
        "    # В какой-то момент времени необходимо изменить значение game_active на False.\n",
        "    # Когда это случится, цикл закончит свою работу\n",
        "    if lives == 0:\n",
        "        print(\"Game Over!\")\n",
        "        break\n",
        "    \n",
        "# Действия по окончанию цикла"
      ]
    },
    {
      "cell_type": "markdown",
      "metadata": {
        "id": "imF1HeoGsqao"
      },
      "source": [
        "- Каждый цикл должен иметь начальное условие которое выполнятеся\n",
        "- Ключевое слово `while` включает в себя проверяемое условие\n",
        "- Код внутри цикла выполняется до тех пор, пока верно начальное условие\n",
        "- Как только что-то меняется и начальное условие не выполняется, цикл перестает выполняться\n",
        "- По окончании цикла выполняется код, написанный далее"
      ]
    },
    {
      "cell_type": "markdown",
      "metadata": {
        "id": "gBYcUFzzsqao"
      },
      "source": [
        "#### Пример\n",
        "\n",
        "В примере игра, которая продолжается до тех пор, пока у игрока есть силы"
      ]
    },
    {
      "cell_type": "code",
      "execution_count": null,
      "metadata": {
        "id": "Ky2qzdU3sqap",
        "colab": {
          "base_uri": "https://localhost:8080/"
        },
        "outputId": "c3a4bc14-d3b6-4ef8-90fa-fd28ee3361c1"
      },
      "outputs": [
        {
          "output_type": "stream",
          "name": "stdout",
          "text": [
            "You are still playing because your power is 5.\n",
            "You are still playing because your power is 4.\n",
            "You are still playing because your power is 3.\n",
            "You are still playing because your power is 2.\n",
            "You are still playing because your power is 1.\n",
            "\n",
            "Oh no, your power dropped to 0! Game Over.\n"
          ]
        }
      ],
      "source": [
        "# Установим силы игрока - 5.\n",
        "power = 5\n",
        "\n",
        "# Играть можно пока сил не станет - 0.\n",
        "while power > 0:\n",
        "    print(\"You are still playing because your power is %d.\" % power)\n",
        "    # игра начинается тут: \n",
        "    #   возможная потеря сил\n",
        "    # Допустим, с каждым разом сила у Люка уменьшается на 1\n",
        "    power = power - 1\n",
        "else:    \n",
        "    print(\"\\nOh no, your power dropped to 0! Game Over.\")"
      ]
    },
    {
      "cell_type": "markdown",
      "metadata": {
        "id": "0Q0aqmSlsqaq"
      },
      "source": [
        "#### Другое применение цикла while\n",
        "\n",
        "Большинство программ работают до тех пор, пока вы не завершите работу, введя quit, exit ...etc. Рассмотрим пример организации цикла для подобного рода поведения:"
      ]
    },
    {
      "cell_type": "code",
      "execution_count": null,
      "metadata": {
        "id": "AsxgiwbPsqaq",
        "colab": {
          "base_uri": "https://localhost:8080/"
        },
        "outputId": "fc13bfa3-d562-4cd9-d91c-426e9dd89862"
      },
      "outputs": [
        {
          "output_type": "stream",
          "name": "stdout",
          "text": [
            "Please tell me someone I should know or enter 'quit': 1\n",
            "Please tell me someone I should know or enter 'quit': 2\n",
            "Please tell me someone I should know or enter 'quit': 3\n",
            "Please tell me someone I should know or enter 'quit': quit\n",
            "['1', '2', '3', 'quit']\n"
          ]
        }
      ],
      "source": [
        "# Создадим список\n",
        "names = []\n",
        "\n",
        "# Определим переменную new_name отличную от 'quit'.\n",
        "new_name = ''\n",
        "\n",
        "# Начнем цикл, который будет выполняться до тех пор, пока не набрано 'quit'.\n",
        "while new_name != 'quit':\n",
        "    # Попросим пользователя ввести имя\n",
        "    new_name = input(\"Please tell me someone I should know or enter 'quit': \")\n",
        "\n",
        "    # Добавим это имя в список который был создан ранее\n",
        "    names.append(new_name)\n",
        "\n",
        "# Покажем что все, что было набрано - добавлено в наш список.\n",
        "print(names)"
      ]
    },
    {
      "cell_type": "markdown",
      "metadata": {
        "id": "pmREc4RPsqaq"
      },
      "source": [
        "Все хорошо, но! - 'quit' добавилось в лист. Давайте добавим `if` чтобы убрать этот баг:"
      ]
    },
    {
      "cell_type": "code",
      "execution_count": null,
      "metadata": {
        "id": "6_90DXL8sqaq",
        "colab": {
          "base_uri": "https://localhost:8080/"
        },
        "outputId": "e2fac6cf-3d8c-4378-9ef5-09bbd50ca40a"
      },
      "outputs": [
        {
          "output_type": "stream",
          "name": "stdout",
          "text": [
            "Please tell me someone I should know, or enter 'quit': 1\n",
            "Please tell me someone I should know, or enter 'quit': 2\n",
            "Please tell me someone I should know, or enter 'quit': 3\n",
            "Please tell me someone I should know, or enter 'quit': quit\n",
            "['1', '2', '3']\n"
          ]
        }
      ],
      "source": [
        "#Ничего нового\n",
        "names = []\n",
        "\n",
        "new_name = ''\n",
        "\n",
        "while new_name != 'quit':\n",
        "    new_name = input(\"Please tell me someone I should know, or enter 'quit': \")\n",
        "    names.append(new_name)\n",
        "    \n",
        "del names[-1]\n",
        "        \n",
        "print(names)"
      ]
    },
    {
      "cell_type": "markdown",
      "metadata": {
        "id": "1MwyW2V6sqar"
      },
      "source": [
        "Теперь у нас есть способ организации ввода для пользователя и контроля времени выполнения программы."
      ]
    },
    {
      "cell_type": "markdown",
      "metadata": {
        "id": "9fwKEm28sqar"
      },
      "source": [
        "#### Использование цикла while для создания меню"
      ]
    },
    {
      "cell_type": "code",
      "execution_count": null,
      "metadata": {
        "id": "93Q2f3QFsqar",
        "colab": {
          "base_uri": "https://localhost:8080/"
        },
        "outputId": "e79b5de1-947f-47aa-c36d-bb032586f628"
      },
      "outputs": [
        {
          "output_type": "stream",
          "name": "stdout",
          "text": [
            "\n",
            "Welcome to the nature center. What would you like to do?\n",
            "\n",
            "[1] Enter 1 to take a bicycle ride.\n",
            "[2] Enter 2 to go for a run.\n",
            "[3] Enter 3 to climb a mountain.\n",
            "[q] Enter q to quit.\n",
            "\n",
            "What would you like to do? 1\n",
            "\n",
            "Here's a bicycle. Have fun!\n",
            "\n",
            "\n",
            "[1] Enter 1 to take a bicycle ride.\n",
            "[2] Enter 2 to go for a run.\n",
            "[3] Enter 3 to climb a mountain.\n",
            "[q] Enter q to quit.\n",
            "\n",
            "What would you like to do? q\n",
            "\n",
            "Thanks for playing. See you later.\n",
            "\n",
            "Thanks again, bye now.\n"
          ]
        }
      ],
      "source": [
        "# Give the user some context.\n",
        "print(\"\\nWelcome to the nature center. What would you like to do?\")\n",
        "\n",
        "# Set an initial value for choice other than the value for 'quit'.\n",
        "choice = ''\n",
        "\n",
        "# Start a loop that runs until the user enters the value for 'quit'.\n",
        "while choice != 'q':\n",
        "    # Give all the choices in a series of print statements.\n",
        "    print(\"\\n[1] Enter 1 to take a bicycle ride.\")\n",
        "    print(\"[2] Enter 2 to go for a run.\")\n",
        "    print(\"[3] Enter 3 to climb a mountain.\")\n",
        "    print(\"[q] Enter q to quit.\")\n",
        "    \n",
        "    # Ask for the user's choice.\n",
        "    choice = input(\"\\nWhat would you like to do? \")\n",
        "    \n",
        "    # Respond to the user's choice.\n",
        "    if choice == '1':\n",
        "        print(\"\\nHere's a bicycle. Have fun!\\n\")\n",
        "    elif choice == '2':\n",
        "        print(\"\\nHere are some running shoes. Run fast!\\n\")\n",
        "    elif choice == '3':\n",
        "        print(\"\\nHere's a map. Can you leave a trip plan for us?\\n\")\n",
        "    elif choice == 'q':\n",
        "        print(\"\\nThanks for playing. See you later.\\n\")\n",
        "    else:\n",
        "        print(\"\\nI don't understand that choice, please try again.\\n\")\n",
        "        \n",
        "# Print a message that we are all finished.\n",
        "print(\"Thanks again, bye now.\")"
      ]
    },
    {
      "cell_type": "markdown",
      "metadata": {
        "id": "RcHp1kY6sqar"
      },
      "source": [
        "Ещё одно меню, но немного симпатичного кода"
      ]
    },
    {
      "cell_type": "code",
      "execution_count": null,
      "metadata": {
        "id": "fnQu1kKEsqar",
        "colab": {
          "base_uri": "https://localhost:8080/"
        },
        "outputId": "454da98e-5e97-4997-c4ad-bd182e90c5cc"
      },
      "outputs": [
        {
          "output_type": "stream",
          "name": "stdout",
          "text": [
            "\n",
            "Welcome to the nature center. What would you like to do?\n",
            "\n",
            "[1] Enter 1 to take a bicycle ride.\n",
            "[2] Enter 2 to go for a run.\n",
            "[3] Enter 3 to climb a mountain.\n",
            "[q] Enter q to quit.\n",
            "\n",
            "What would you like to do? 1\n",
            "\n",
            "Here's a bicycle. Have fun!\n",
            "\n",
            "\n",
            "[1] Enter 1 to take a bicycle ride.\n",
            "[2] Enter 2 to go for a run.\n",
            "[3] Enter 3 to climb a mountain.\n",
            "[q] Enter q to quit.\n",
            "\n",
            "What would you like to do? q\n",
            "\n",
            "Thanks for playing. See you later.\n",
            "\n",
            "Thanks again, bye now.\n"
          ]
        }
      ],
      "source": [
        "# Define the actions for each choice we want to offer.\n",
        "def ride_bicycle():\n",
        "    print(\"\\nHere's a bicycle. Have fun!\\n\")\n",
        "    \n",
        "def go_running():\n",
        "    print(\"\\nHere are some running shoes. Run fast!\\n\")\n",
        "    \n",
        "def climb_mountain():\n",
        "    print(\"\\nHere's a map. Can you leave a trip plan for us?\\n\")\n",
        "\n",
        "# Give the user some context.\n",
        "print(\"\\nWelcome to the nature center. What would you like to do?\")\n",
        "\n",
        "# Set an initial value for choice other than the value for 'quit'.\n",
        "choice = ''\n",
        "\n",
        "# Start a loop that runs until the user enters the value for 'quit'.\n",
        "while choice != 'q':\n",
        "    # Give all the choices in a series of print statements.\n",
        "    print(\"\\n[1] Enter 1 to take a bicycle ride.\")\n",
        "    print(\"[2] Enter 2 to go for a run.\")\n",
        "    print(\"[3] Enter 3 to climb a mountain.\")\n",
        "    print(\"[q] Enter q to quit.\")\n",
        "    \n",
        "    # Ask for the user's choice.\n",
        "    choice = input(\"\\nWhat would you like to do? \")\n",
        "    \n",
        "    # Respond to the user's choice.\n",
        "    if choice == '1':\n",
        "        ride_bicycle()\n",
        "    elif choice == '2':\n",
        "        go_running()\n",
        "    elif choice == '3':\n",
        "        climb_mountain()\n",
        "    elif choice == 'q':\n",
        "        print(\"\\nThanks for playing. See you later.\\n\")\n",
        "    else:\n",
        "        print(\"\\nI don't understand that choice, please try again.\\n\")\n",
        "        \n",
        "# Print a message that we are all finished.\n",
        "print(\"Thanks again, bye now.\")"
      ]
    },
    {
      "cell_type": "markdown",
      "metadata": {
        "id": "FtIpgFsUsqas"
      },
      "source": [
        "#### Использование while для обработки элементов списка\n",
        "\n",
        "Мы можем достать элемент списка при помощи `pop()`. Цикл позволят нам пройти по элементам списка и применить к ним какие-то методы. Рассмотрим пример с обработкой неподтвержденных пользователей."
      ]
    },
    {
      "cell_type": "code",
      "execution_count": null,
      "metadata": {
        "id": "BS6iC4lqsqas",
        "colab": {
          "base_uri": "https://localhost:8080/"
        },
        "outputId": "5a22d61e-c614-400f-cf08-30625a697897"
      },
      "outputs": [
        {
          "output_type": "stream",
          "name": "stdout",
          "text": [
            "Confirming user Daria...confirmed!\n",
            "Confirming user Clarence...confirmed!\n",
            "Confirming user Billy...confirmed!\n",
            "Confirming user Ada...confirmed!\n",
            "\n",
            "Unconfirmed users:\n",
            "\n",
            "Confirmed users:\n",
            "- Daria\n",
            "- Clarence\n",
            "- Billy\n",
            "- Ada\n"
          ]
        }
      ],
      "source": [
        "# Создадим два списка\n",
        "unconfirmed_users = ['ada', 'billy', 'clarence', 'daria']\n",
        "confirmed_users = []\n",
        "\n",
        "# Пройдем по списку и проверим каждого пользователя\n",
        "while len(unconfirmed_users) > 0:\n",
        "    \n",
        "    # Достанем последнего пользователя\n",
        "    current_user = unconfirmed_users.pop()\n",
        "    print(\"Confirming user %s...confirmed!\" % current_user.title())\n",
        "    \n",
        "    # добавим его в лист подтвержденных\n",
        "    confirmed_users.append(current_user)\n",
        "    \n",
        "# Пруфы обработок\n",
        "print(\"\\nUnconfirmed users:\")\n",
        "for user in unconfirmed_users:\n",
        "    print('- ' + user.title())\n",
        "    \n",
        "print(\"\\nConfirmed users:\")\n",
        "for user in confirmed_users:\n",
        "    print('- ' + user.title())"
      ]
    },
    {
      "cell_type": "markdown",
      "metadata": {
        "id": "LWgj_o1esqas"
      },
      "source": [
        "Все прекрасно, но давайте сделаем небольшое улучшение. Сейчас мы обрабатываем только новых пользователей. Если пользователи появляются быстрее чем мы их обрабатываем, мы пропустим кучу народу, поэтому надо организовать взаимодействие вида 'первый пришел, первый вышел' (FIFO), поэтому каждый раз мы будет выбирать первого."
      ]
    },
    {
      "cell_type": "code",
      "execution_count": null,
      "metadata": {
        "id": "YBorE0aesqas",
        "colab": {
          "base_uri": "https://localhost:8080/"
        },
        "outputId": "d68307a9-ada7-4a8b-ed8f-90fe2f704aae"
      },
      "outputs": [
        {
          "output_type": "stream",
          "name": "stdout",
          "text": [
            "Confirming user Ada...confirmed!\n",
            "Confirming user Billy...confirmed!\n",
            "Confirming user Clarence...confirmed!\n",
            "Confirming user Daria...confirmed!\n",
            "\n",
            "Unconfirmed users:\n",
            "\n",
            "Confirmed users:\n",
            "- Ada\n",
            "- Billy\n",
            "- Clarence\n",
            "- Daria\n"
          ]
        }
      ],
      "source": [
        "# Start with a list of unconfirmed users, and an empty list of confirmed users.\n",
        "unconfirmed_users = ['ada', 'billy', 'clarence', 'daria']\n",
        "confirmed_users = []\n",
        "\n",
        "# Work through the list, and confirm each user.\n",
        "while len(unconfirmed_users) > 0:\n",
        "    \n",
        "    # Get the latest unconfirmed user, and process them.\n",
        "    current_user = unconfirmed_users.pop(0)\n",
        "    print(\"Confirming user %s...confirmed!\" % current_user.title())\n",
        "    \n",
        "    # Move the current user to the list of confirmed users.\n",
        "    confirmed_users.append(current_user)\n",
        "    \n",
        "# Prove that we have finished confirming all users.\n",
        "print(\"\\nUnconfirmed users:\")\n",
        "for user in unconfirmed_users:\n",
        "    print('- ' + user.title())\n",
        "    \n",
        "print(\"\\nConfirmed users:\")\n",
        "for user in confirmed_users:\n",
        "    print('- ' + user.title())"
      ]
    },
    {
      "cell_type": "markdown",
      "metadata": {
        "id": "8Ei3n88gsqas"
      },
      "source": [
        "Так намного лучше - мы обрабатываем пользователей в порядке их поступления! "
      ]
    },
    {
      "cell_type": "markdown",
      "metadata": {
        "id": "19946GNZsqat"
      },
      "source": [
        "#### Случайные бесконечные циклы\n",
        "\n",
        "Иногда нужно выполнить цикл, но неизвестно, сколько итераций нужно совершить. Так часто возникают бесконечные циклы.\n",
        "\n",
        "Давайте посмотрим пример:"
      ]
    },
    {
      "cell_type": "code",
      "execution_count": null,
      "metadata": {
        "id": "C4GyN_PZsqat"
      },
      "outputs": [],
      "source": [
        "current_number = 1\n",
        "\n",
        "# Count up to 5, printing the number each time.\n",
        "while current_number <= 5:\n",
        "    print(current_number)"
      ]
    },
    {
      "cell_type": "code",
      "execution_count": null,
      "metadata": {
        "id": "52pA1uD_sqat"
      },
      "outputs": [],
      "source": [
        "1\n",
        "1\n",
        "1\n",
        "1\n",
        "1\n",
        "..."
      ]
    },
    {
      "cell_type": "markdown",
      "metadata": {
        "id": "lxZfB6Q2sqat"
      },
      "source": [
        "Не советую запускать код выше :) Как видите, цикл никогда не закончится, но пару советов, если дело плохо:\n",
        "\n",
        "- В большинстве систем, Ctrl-C прервет выполнение работающей программы\n",
        "\n",
        "Цикл бесконечный потому, что условие всегда выполняется. Для корректной работы необходимо в тело цикла добавить операцию инкремента переменной, значение которой проверяется в условии:"
      ]
    },
    {
      "cell_type": "code",
      "execution_count": null,
      "metadata": {
        "id": "T-PK33tnsqat"
      },
      "outputs": [],
      "source": [
        "current_number = 1\n",
        "\n",
        "# Count up to 5, printing the number each time.\n",
        "while current_number <= 5:\n",
        "    print(current_number)\n",
        "    current_number = current_number + 1"
      ]
    },
    {
      "cell_type": "markdown",
      "metadata": {
        "id": "tWLmUKpMsqat"
      },
      "source": [
        "Если Вы не написали бесконечный цикл хотя бы один раз, значит Вы никогда не писали циклы. Если Вы все-таки решили узнать, как выглядит бесконечность - нажмите Ctrl + C и ищите логическую ошибку. \n",
        "\n",
        "Ещё пара плохих примеров:"
      ]
    },
    {
      "cell_type": "code",
      "execution_count": null,
      "metadata": {
        "id": "I_Uv382Usqat"
      },
      "outputs": [],
      "source": [
        "current_number = 1\n",
        "\n",
        "# Считаем до 5, печатая номер каждый раз.\n",
        "while current_number <= 5:\n",
        "    print(current_number)\n",
        "    current_number = current_number - 1"
      ]
    },
    {
      "cell_type": "code",
      "execution_count": null,
      "metadata": {
        "id": "yMXHvHuzsqat"
      },
      "outputs": [],
      "source": [
        "1\n",
        "0\n",
        "-1\n",
        "-2\n",
        "-3\n",
        "..."
      ]
    },
    {
      "cell_type": "markdown",
      "metadata": {
        "id": "9IMJPaomsqau"
      },
      "source": [
        "Как видите, мы случайно начали считать не в ту сторону. Будьте внимательны!"
      ]
    },
    {
      "cell_type": "markdown",
      "metadata": {
        "id": "XHvh-fkFsqau"
      },
      "source": [
        "### Инструкции для работы с циклами\n",
        "---\n",
        "- **break** - Производит переход за пределы цикла\n",
        "\n",
        "- **continue** - Производит переход в начало цикла\n",
        "\n",
        "- **pass** - Ничего не делает, используется как заполнитель\n",
        "\n",
        "Блок **else** - выполняется, если цикл завершился необычным образом (break не в счет)\n",
        "\n",
        "Как это выглядит:"
      ]
    },
    {
      "cell_type": "markdown",
      "metadata": {
        "id": "vas6ACiYsqau"
      },
      "source": [
        "```python\n",
        "while <test1>:\n",
        "\n",
        "    <statements1>\n",
        "    \n",
        "    if <test2>: break # Выйти из цикла, пропустив часть else\n",
        "    \n",
        "    if <test3>: continue # Перейти в начало цикла, к выражению test1\n",
        "    \n",
        "else:\n",
        "\n",
        "    <statements2> # Выполняется, если не была использована инструкция ‘break’\n",
        "```"
      ]
    },
    {
      "cell_type": "markdown",
      "metadata": {
        "id": "GtxbZilIsqau"
      },
      "source": [
        "Инструкции **break** и **continue** могут появляться в любом месте внутри тела цикла **while** (или *for*), но, как правило, они используются в условных инструкциях **if**, чтобы выполнить необходимое действие в ответ на некоторое условие."
      ]
    },
    {
      "cell_type": "markdown",
      "metadata": {
        "id": "-LLQ2raZsqau"
      },
      "source": [
        "#### Использование Continue"
      ]
    },
    {
      "cell_type": "code",
      "execution_count": null,
      "metadata": {
        "id": "4LJBQcAPsqau",
        "outputId": "1b3a75bb-ca46-4903-949c-1d87529ef266",
        "colab": {
          "base_uri": "https://localhost:8080/"
        }
      },
      "outputs": [
        {
          "output_type": "stream",
          "name": "stdout",
          "text": [
            "8\n",
            "6\n",
            "4\n",
            "2\n",
            "0\n"
          ]
        }
      ],
      "source": [
        "x = 10\n",
        "while x:\n",
        "    x = x - 1 # Или, x -= 1\n",
        "    if x % 2 != 0: continue # Нечетное? – пропустить вывод\n",
        "    print(x)"
      ]
    },
    {
      "cell_type": "markdown",
      "metadata": {
        "id": "HMYSYcg8sqav"
      },
      "source": [
        "#### Использование Break"
      ]
    },
    {
      "cell_type": "code",
      "execution_count": null,
      "metadata": {
        "id": "16GeCv8usqav",
        "outputId": "dd70f9c2-5f91-4b13-9000-9914ae358923",
        "colab": {
          "base_uri": "https://localhost:8080/"
        }
      },
      "outputs": [
        {
          "name": "stdout",
          "output_type": "stream",
          "text": [
            "Enter name:ivan\n",
            "Enter age: 20\n",
            "Hello ivan => 400\n",
            "Enter name:stop\n"
          ]
        }
      ],
      "source": [
        "while 1:\n",
        "    name = input('Enter name:')\n",
        "    if name == 'stop': break\n",
        "    age = input('Enter age: ')\n",
        "    print('Hello', name, '=>', int(age) ** 2)"
      ]
    },
    {
      "cell_type": "markdown",
      "metadata": {
        "id": "JXPBlUJLsqav"
      },
      "source": [
        "#### Использование Else\n",
        "Пример на проверку, простое ли число y"
      ]
    },
    {
      "cell_type": "code",
      "execution_count": null,
      "metadata": {
        "id": "CQapmI4Msqav",
        "outputId": "750dc72d-3953-41cd-c32a-6ad44eda070f",
        "colab": {
          "base_uri": "https://localhost:8080/"
        }
      },
      "outputs": [
        {
          "output_type": "stream",
          "name": "stdout",
          "text": [
            "23 is prime\n"
          ]
        }
      ],
      "source": [
        "x, y = 4, 23\n",
        "x = y // 2 # Для значений y > 1\n",
        "while x > 1:\n",
        "    if y % x == 0: # y делится на x\n",
        "        print(y, 'has factor', x)\n",
        "        break # Перешагнуть блок else\n",
        "    else: # y не делится на x\n",
        "        x -= 1\n",
        "else: # Нормальное завершение цикла\n",
        "    print(y, 'is prime')"
      ]
    },
    {
      "cell_type": "markdown",
      "metadata": {
        "id": "KJa_Wb3qsqav"
      },
      "source": [
        "### Цикл FOR\n",
        "\n",
        "Цикл `for` в языке Python начинается со строки заголовка, где указывается переменная для присваивания, а также итеритуемый объект, обход которого будет выполнен. Вслед за заголовком следует блок инструкций, которые требуется выполнить.\n",
        "\n",
        "Интерируемый, означает, что элементы объекта можно последовательно перебрать от начала до конца (строки, списки, генераторы, и т.д.):"
      ]
    },
    {
      "cell_type": "markdown",
      "source": [
        "```python\n",
        "for переменная in объект:\n",
        "    Блок инструкций\n",
        "```"
      ],
      "metadata": {
        "id": "ZxEPih5GQMuG"
      }
    },
    {
      "cell_type": "markdown",
      "metadata": {
        "id": "CXHGzPDOsqaw"
      },
      "source": [
        "Когда интерпретатор выполняет цикл `for`, он поочередно, один за другим, присваивает элементы объекта\n",
        "последовательности переменной цикла и выполняет тело цикла для каждого из них. Для обращения к\n",
        "текущему элементу последовательности в теле цикла обычно используется переменная цикла, как если\n",
        "бы это был курсор, шагающий от элемента к элементу.\n",
        "Имя (target), используемое в качестве переменной цикла (возможно, новой), которое указывается в\n",
        "заголовке цикла `for`, обычно находится в области видимости, где располагается сама инструкция `for`. Хотя\n",
        "она может быть изменена в теле цикла, тем не менее ей автоматически будет присвоен следующий\n",
        "элемент последовательности, когда управление вернется в начало цикла. После выхода из цикла эта\n",
        "переменная обычно все еще ссылается на последний элемент последовательности, если цикл не был\n",
        "завершен инструкцией break."
      ]
    },
    {
      "cell_type": "code",
      "execution_count": null,
      "metadata": {
        "id": "z8G-bgvZsqaw",
        "outputId": "55945775-465f-4d8c-b6b6-226d88e93e81",
        "colab": {
          "base_uri": "https://localhost:8080/"
        }
      },
      "outputs": [
        {
          "output_type": "stream",
          "name": "stdout",
          "text": [
            "spam <class 'str'>\n",
            "eggs <class 'str'>\n",
            "ham <class 'str'>\n"
          ]
        }
      ],
      "source": [
        "for x in ['spam', 'eggs', 'ham']:\n",
        "    print(x, type(x))"
      ]
    },
    {
      "cell_type": "markdown",
      "metadata": {
        "id": "RwILnxo6tzgG"
      },
      "source": [
        "# Урок 2. Структуры данных I"
      ]
    },
    {
      "cell_type": "markdown",
      "metadata": {
        "id": "rVdza2vWtzgH"
      },
      "source": [
        "## Часть 1. Списки, кортежи\n",
        "\n",
        "Список - это коллекция объектов, хранящаяся в одной переменной. Между этими объетами есть какая-то смысловая связь, но формально нет никаких ограничений на типы объектов, которые могут храниться в одном списке."
      ]
    },
    {
      "cell_type": "code",
      "execution_count": null,
      "metadata": {
        "id": "c68fvZ7ytzgI",
        "outputId": "c49fbf9c-1a01-4eed-c86a-e799567b6359",
        "colab": {
          "base_uri": "https://localhost:8080/"
        }
      },
      "outputs": [
        {
          "output_type": "stream",
          "name": "stdout",
          "text": [
            "Hello, Bernice!\n",
            "Hello, Aaron!\n",
            "Hello, Cody!\n"
          ]
        }
      ],
      "source": [
        "students = ['bernice', 'aaron', 'cody']\n",
        "\n",
        "for student in students:\n",
        "    print(\"Hello, \" + student.title() + \"!\")"
      ]
    },
    {
      "cell_type": "markdown",
      "metadata": {
        "id": "WEoiwpyftzgJ"
      },
      "source": [
        "#### Инициализация"
      ]
    },
    {
      "cell_type": "code",
      "execution_count": null,
      "metadata": {
        "id": "M03OcpXUtzgK"
      },
      "outputs": [],
      "source": [
        "dogs = ['border collie', 'australian cattle dog', 'labrador retriever']"
      ]
    },
    {
      "cell_type": "markdown",
      "metadata": {
        "id": "bBEp1tNUtzgK"
      },
      "source": [
        "#### Обращение к элементу списка по индексу"
      ]
    },
    {
      "cell_type": "code",
      "execution_count": null,
      "metadata": {
        "id": "mBJUXdJztzgK",
        "outputId": "e340b7de-faa5-4651-b8ce-8d85bf4be984",
        "colab": {
          "base_uri": "https://localhost:8080/"
        }
      },
      "outputs": [
        {
          "output_type": "stream",
          "name": "stdout",
          "text": [
            "Border Collie\n"
          ]
        }
      ],
      "source": [
        "dogs = ['border collie', 'australian cattle dog', 'labrador retriever']\n",
        "dog = dogs[0]\n",
        "print(dog.title())"
      ]
    },
    {
      "cell_type": "code",
      "execution_count": null,
      "metadata": {
        "id": "-Y7nON9ttzgL",
        "outputId": "4429308a-3028-4f82-84af-8acc7d14d04a",
        "colab": {
          "base_uri": "https://localhost:8080/"
        }
      },
      "outputs": [
        {
          "output_type": "stream",
          "name": "stdout",
          "text": [
            "Australian Cattle Dog\n"
          ]
        }
      ],
      "source": [
        "dogs = ['border collie', 'australian cattle dog', 'labrador retriever']\n",
        "dog = dogs[1]\n",
        "print(dog.title())"
      ]
    },
    {
      "cell_type": "markdown",
      "metadata": {
        "id": "Odw-_T4ltzgM"
      },
      "source": [
        "#### Обращение к последнему элементу"
      ]
    },
    {
      "cell_type": "code",
      "execution_count": null,
      "metadata": {
        "id": "UtgOdOgvtzgM",
        "outputId": "a97c1a99-f964-45ca-baaa-c5642d84e10a",
        "colab": {
          "base_uri": "https://localhost:8080/"
        }
      },
      "outputs": [
        {
          "output_type": "stream",
          "name": "stdout",
          "text": [
            "Labrador Retriever\n"
          ]
        }
      ],
      "source": [
        "dogs = ['border collie', 'australian cattle dog', 'labrador retriever']\n",
        "dog = dogs[-1]\n",
        "print(dog.title())"
      ]
    },
    {
      "cell_type": "code",
      "execution_count": null,
      "metadata": {
        "id": "-wqP0ARatzgM",
        "outputId": "6e9595d2-f1d0-4212-c7df-d3db9f05b090",
        "colab": {
          "base_uri": "https://localhost:8080/"
        }
      },
      "outputs": [
        {
          "output_type": "stream",
          "name": "stdout",
          "text": [
            "Australian Cattle Dog\n"
          ]
        }
      ],
      "source": [
        "dogs = ['border collie', 'australian cattle dog', 'labrador retriever']\n",
        "dog = dogs[-2]\n",
        "print(dog.title())"
      ]
    },
    {
      "cell_type": "markdown",
      "metadata": {
        "id": "l25R5AMktzgM"
      },
      "source": [
        "#### Частая ошибка при обращении по индексу"
      ]
    },
    {
      "cell_type": "code",
      "execution_count": null,
      "metadata": {
        "id": "rlVFC1NPtzgN",
        "outputId": "e0f7321c-0a99-4897-f266-d15323bee6d4",
        "colab": {
          "base_uri": "https://localhost:8080/"
        }
      },
      "outputs": [
        {
          "output_type": "error",
          "ename": "IndexError",
          "evalue": "ignored",
          "traceback": [
            "\u001b[0;31m---------------------------------------------------------------------------\u001b[0m",
            "\u001b[0;31mIndexError\u001b[0m                                Traceback (most recent call last)",
            "\u001b[0;32m<ipython-input-250-65ecd951260c>\u001b[0m in \u001b[0;36m<module>\u001b[0;34m\u001b[0m\n\u001b[1;32m      1\u001b[0m \u001b[0mdogs\u001b[0m \u001b[0;34m=\u001b[0m \u001b[0;34m[\u001b[0m\u001b[0;34m'border collie'\u001b[0m\u001b[0;34m,\u001b[0m \u001b[0;34m'australian cattle dog'\u001b[0m\u001b[0;34m,\u001b[0m \u001b[0;34m'labrador retriever'\u001b[0m\u001b[0;34m]\u001b[0m\u001b[0;34m\u001b[0m\u001b[0;34m\u001b[0m\u001b[0m\n\u001b[0;32m----> 2\u001b[0;31m \u001b[0mdog\u001b[0m \u001b[0;34m=\u001b[0m \u001b[0mdogs\u001b[0m\u001b[0;34m[\u001b[0m\u001b[0;34m-\u001b[0m\u001b[0;36m4\u001b[0m\u001b[0;34m]\u001b[0m \u001b[0;31m# Ошибка\u001b[0m\u001b[0;34m\u001b[0m\u001b[0;34m\u001b[0m\u001b[0m\n\u001b[0m\u001b[1;32m      3\u001b[0m \u001b[0mdog\u001b[0m \u001b[0;34m=\u001b[0m \u001b[0mdogs\u001b[0m\u001b[0;34m[\u001b[0m\u001b[0;36m3\u001b[0m\u001b[0;34m]\u001b[0m  \u001b[0;31m# Тоже ошибка\u001b[0m\u001b[0;34m\u001b[0m\u001b[0;34m\u001b[0m\u001b[0m\n\u001b[1;32m      4\u001b[0m \u001b[0mprint\u001b[0m\u001b[0;34m(\u001b[0m\u001b[0mdog\u001b[0m\u001b[0;34m.\u001b[0m\u001b[0mtitle\u001b[0m\u001b[0;34m(\u001b[0m\u001b[0;34m)\u001b[0m\u001b[0;34m)\u001b[0m\u001b[0;34m\u001b[0m\u001b[0;34m\u001b[0m\u001b[0m\n",
            "\u001b[0;31mIndexError\u001b[0m: list index out of range"
          ]
        }
      ],
      "source": [
        "dogs = ['border collie', 'australian cattle dog', 'labrador retriever']\n",
        "dog = dogs[-4] # Ошибка\n",
        "dog = dogs[3]  # Тоже ошибка\n",
        "print(dog.title())"
      ]
    },
    {
      "cell_type": "markdown",
      "metadata": {
        "id": "Ek_L7W2HtzgN"
      },
      "source": [
        "### Списки и циклы"
      ]
    },
    {
      "cell_type": "markdown",
      "metadata": {
        "id": "5PHWxImmtzgN"
      },
      "source": [
        "#### Обращение ко всем элементам списка"
      ]
    },
    {
      "cell_type": "code",
      "execution_count": null,
      "metadata": {
        "id": "-z2vfN48tzgN",
        "outputId": "22940c07-bb24-4b7d-82cb-eb024f7fd442",
        "colab": {
          "base_uri": "https://localhost:8080/"
        }
      },
      "outputs": [
        {
          "output_type": "stream",
          "name": "stdout",
          "text": [
            "border collie\n",
            "australian cattle dog\n",
            "labrador retriever\n"
          ]
        }
      ],
      "source": [
        "dogs = ['border collie', 'australian cattle dog', 'labrador retriever']\n",
        "\n",
        "for dog in dogs:\n",
        "    print(dog)"
      ]
    },
    {
      "cell_type": "markdown",
      "metadata": {
        "id": "ygk1nGyVtzgO"
      },
      "source": [
        "Рассмотрим эту конструкцию:\n",
        "\n",
        "    for dog in dogs:\n",
        "\n",
        "- Ключевое слово \"for\" говорит Python, что это цикл.\n",
        "- Переменная \"dog\" (без \"s\" на конце) - временная, в ней хранятся элементы списка, один за одним.\n",
        "\n",
        "Сайт <a href=\"http://pythontutor.com/visualize.html#code=cars+%3D+%5B'aston+martin',+'porsche+cayenne',+'ferrari+california'%5D%0A%0Afor+car+in+cars%3A%0A++++print(car%29&mode=display&origin=opt-frontend.js&cumulative=false&heapPrimitives=false&textReferences=false&py=3&rawInputLstJSON=%5B%5D&curInstr=0\">pythontutor.com</a> позволяет запускать код по одной строке и отображает, что происходит с объектами Python. \n",
        "\n",
        "С элементами списка в цикле можно делать много всего, не только печатать их без изменений."
      ]
    },
    {
      "cell_type": "code",
      "execution_count": null,
      "metadata": {
        "id": "_t2hZIsstzgO",
        "outputId": "75d585be-7a4e-4a40-d25b-535ecc5b4d7a",
        "colab": {
          "base_uri": "https://localhost:8080/"
        }
      },
      "outputs": [
        {
          "output_type": "stream",
          "name": "stdout",
          "text": [
            "I like border collies.\n",
            "I like australian cattle dogs.\n",
            "I like labrador retrievers.\n"
          ]
        }
      ],
      "source": [
        "dogs = ['border collie', 'australian cattle dog', 'labrador retriever']\n",
        "for dog in dogs:\n",
        "    print('I like ' + dog + 's.')"
      ]
    },
    {
      "cell_type": "markdown",
      "metadata": {
        "id": "Rkq3IgR4tzgO"
      },
      "source": [
        "#### Метод enumerate для перечисления элементов списка вместе с их индексами"
      ]
    },
    {
      "cell_type": "code",
      "execution_count": null,
      "metadata": {
        "id": "YHDGUp5ItzgO",
        "outputId": "942eb391-b152-4953-e8f7-ee5dad397464",
        "colab": {
          "base_uri": "https://localhost:8080/"
        }
      },
      "outputs": [
        {
          "output_type": "stream",
          "name": "stdout",
          "text": [
            "Results for the dog show are as follows:\n",
            "\n",
            "Place: 0 Dog: Border Collie\n",
            "Place: 1 Dog: Australian Cattle Dog\n",
            "Place: 2 Dog: Labrador Retriever\n"
          ]
        }
      ],
      "source": [
        "dogs = ['border collie', 'australian cattle dog', 'labrador retriever']\n",
        "print(\"Results for the dog show are as follows:\\n\")\n",
        "for index, dog in enumerate(dogs):\n",
        "    place = str(index)\n",
        "    print(\"Place: \" + place + \" Dog: \" + dog.title())"
      ]
    },
    {
      "cell_type": "code",
      "execution_count": null,
      "metadata": {
        "id": "4vgp0fW0tzgP",
        "outputId": "ec25744a-f9bb-4ef5-cd1d-2fb31a6a29d5",
        "colab": {
          "base_uri": "https://localhost:8080/"
        }
      },
      "outputs": [
        {
          "output_type": "stream",
          "name": "stdout",
          "text": [
            "Results for the dog show are as follows:\n",
            "\n",
            "Place: 1 Dog: Border Collie\n",
            "Place: 2 Dog: Australian Cattle Dog\n",
            "Place: 3 Dog: Labrador Retriever\n"
          ]
        }
      ],
      "source": [
        "dogs = ['border collie', 'australian cattle dog', 'labrador retriever']\n",
        "print(\"Results for the dog show are as follows:\\n\")\n",
        "for index, dog in enumerate(dogs):\n",
        "    place = str(index + 1)\n",
        "    print(\"Place: \" + place + \" Dog: \" + dog.title())"
      ]
    },
    {
      "cell_type": "markdown",
      "metadata": {
        "id": "_L8vTfnMtzgP"
      },
      "source": [
        "#### Частая ошибка при использовании циклов со списком"
      ]
    },
    {
      "cell_type": "code",
      "execution_count": null,
      "metadata": {
        "id": "39mtBRYutzgP",
        "outputId": "f55d707d-414b-4edd-c5d7-f0d129b3d682",
        "colab": {
          "base_uri": "https://localhost:8080/"
        }
      },
      "outputs": [
        {
          "output_type": "stream",
          "name": "stdout",
          "text": [
            "['border collie', 'australian cattle dog', 'labrador retriever']\n",
            "['border collie', 'australian cattle dog', 'labrador retriever']\n",
            "['border collie', 'australian cattle dog', 'labrador retriever']\n"
          ]
        }
      ],
      "source": [
        "dogs = ['border collie', 'australian cattle dog', 'labrador retriever']\n",
        "for dog in dogs:\n",
        "    print(dogs)"
      ]
    },
    {
      "cell_type": "code",
      "execution_count": null,
      "metadata": {
        "id": "NTrSa8Q9tzgP",
        "outputId": "dfe59e77-af1a-4099-d2be-b2cecf507eef",
        "colab": {
          "base_uri": "https://localhost:8080/"
        }
      },
      "outputs": [
        {
          "output_type": "error",
          "ename": "TypeError",
          "evalue": "ignored",
          "traceback": [
            "\u001b[0;31m---------------------------------------------------------------------------\u001b[0m",
            "\u001b[0;31mTypeError\u001b[0m                                 Traceback (most recent call last)",
            "\u001b[0;32m<ipython-input-256-630abaa5bd4f>\u001b[0m in \u001b[0;36m<module>\u001b[0;34m\u001b[0m\n\u001b[1;32m      1\u001b[0m \u001b[0mdogs\u001b[0m \u001b[0;34m=\u001b[0m \u001b[0;34m[\u001b[0m\u001b[0;34m'border collie'\u001b[0m\u001b[0;34m,\u001b[0m \u001b[0;34m'australian cattle dog'\u001b[0m\u001b[0;34m,\u001b[0m \u001b[0;34m'labrador retriever'\u001b[0m\u001b[0;34m]\u001b[0m\u001b[0;34m\u001b[0m\u001b[0;34m\u001b[0m\u001b[0m\n\u001b[1;32m      2\u001b[0m \u001b[0;32mfor\u001b[0m \u001b[0mdog\u001b[0m \u001b[0;32min\u001b[0m \u001b[0mdogs\u001b[0m\u001b[0;34m:\u001b[0m\u001b[0;34m\u001b[0m\u001b[0;34m\u001b[0m\u001b[0m\n\u001b[0;32m----> 3\u001b[0;31m     \u001b[0mprint\u001b[0m\u001b[0;34m(\u001b[0m\u001b[0;34m'I like '\u001b[0m \u001b[0;34m+\u001b[0m \u001b[0mdogs\u001b[0m \u001b[0;34m+\u001b[0m \u001b[0;34m's.'\u001b[0m\u001b[0;34m)\u001b[0m\u001b[0;34m\u001b[0m\u001b[0;34m\u001b[0m\u001b[0m\n\u001b[0m",
            "\u001b[0;31mTypeError\u001b[0m: can only concatenate str (not \"list\") to str"
          ]
        }
      ],
      "source": [
        "dogs = ['border collie', 'australian cattle dog', 'labrador retriever']\n",
        "for dog in dogs:\n",
        "    print('I like ' + dogs + 's.')"
      ]
    },
    {
      "cell_type": "markdown",
      "metadata": {
        "id": "ifYTnq3qtzgQ"
      },
      "source": [
        "### Операции со списками"
      ]
    },
    {
      "cell_type": "markdown",
      "metadata": {
        "id": "kGl-l6nwtzgQ"
      },
      "source": [
        "#### Изменение элемента"
      ]
    },
    {
      "cell_type": "code",
      "execution_count": null,
      "metadata": {
        "id": "ZVyc7DhAtzgQ",
        "outputId": "76ef3ea7-4b71-457d-fd02-96b9216d4118",
        "colab": {
          "base_uri": "https://localhost:8080/"
        }
      },
      "outputs": [
        {
          "output_type": "stream",
          "name": "stdout",
          "text": [
            "['australian shepherd', 'australian cattle dog', 'labrador retriever']\n"
          ]
        }
      ],
      "source": [
        "dogs = ['border collie', 'australian cattle dog', 'labrador retriever']\n",
        "dogs[0] = 'australian shepherd'\n",
        "print(dogs)"
      ]
    },
    {
      "cell_type": "markdown",
      "metadata": {
        "id": "8_vT6qmltzgQ"
      },
      "source": [
        "#### Поиск элемента в списке"
      ]
    },
    {
      "cell_type": "code",
      "execution_count": null,
      "metadata": {
        "id": "F6tXSjpWtzgQ",
        "outputId": "210fb7c9-1678-41c4-93e6-ddc952167e93",
        "colab": {
          "base_uri": "https://localhost:8080/"
        }
      },
      "outputs": [
        {
          "output_type": "stream",
          "name": "stdout",
          "text": [
            "1\n"
          ]
        }
      ],
      "source": [
        "dogs = ['border collie', 'australian cattle dog', 'labrador retriever']\n",
        "print(dogs.index('australian cattle dog'))"
      ]
    },
    {
      "cell_type": "markdown",
      "metadata": {
        "id": "w3RxrZTEtzgQ"
      },
      "source": [
        "#### ValueError, если такого элемента нет"
      ]
    },
    {
      "cell_type": "code",
      "execution_count": null,
      "metadata": {
        "id": "VdyfYI5ftzgQ",
        "outputId": "b949db84-cb62-45b9-ba72-8128b7a923d5",
        "colab": {
          "base_uri": "https://localhost:8080/"
        }
      },
      "outputs": [
        {
          "output_type": "error",
          "ename": "ValueError",
          "evalue": "ignored",
          "traceback": [
            "\u001b[0;31m---------------------------------------------------------------------------\u001b[0m",
            "\u001b[0;31mValueError\u001b[0m                                Traceback (most recent call last)",
            "\u001b[0;32m<ipython-input-259-26f5a3a9c0e9>\u001b[0m in \u001b[0;36m<module>\u001b[0;34m\u001b[0m\n\u001b[1;32m      1\u001b[0m \u001b[0mdogs\u001b[0m \u001b[0;34m=\u001b[0m \u001b[0;34m[\u001b[0m\u001b[0;34m'border collie'\u001b[0m\u001b[0;34m,\u001b[0m \u001b[0;34m'australian cattle dog'\u001b[0m\u001b[0;34m,\u001b[0m \u001b[0;34m'labrador retriever'\u001b[0m\u001b[0;34m]\u001b[0m\u001b[0;34m\u001b[0m\u001b[0;34m\u001b[0m\u001b[0m\n\u001b[0;32m----> 2\u001b[0;31m \u001b[0mprint\u001b[0m\u001b[0;34m(\u001b[0m\u001b[0mdogs\u001b[0m\u001b[0;34m.\u001b[0m\u001b[0mindex\u001b[0m\u001b[0;34m(\u001b[0m\u001b[0;34m'poodle'\u001b[0m\u001b[0;34m)\u001b[0m\u001b[0;34m)\u001b[0m\u001b[0;34m\u001b[0m\u001b[0;34m\u001b[0m\u001b[0m\n\u001b[0m",
            "\u001b[0;31mValueError\u001b[0m: 'poodle' is not in list"
          ]
        }
      ],
      "source": [
        "dogs = ['border collie', 'australian cattle dog', 'labrador retriever']\n",
        "print(dogs.index('poodle'))"
      ]
    },
    {
      "cell_type": "code",
      "execution_count": null,
      "metadata": {
        "id": "-oyQjRKPtzgQ",
        "outputId": "cf19a988-d7a2-45a7-b8d1-186fedae723d",
        "colab": {
          "base_uri": "https://localhost:8080/"
        }
      },
      "outputs": [
        {
          "output_type": "stream",
          "name": "stdout",
          "text": [
            "True\n",
            "False\n"
          ]
        }
      ],
      "source": [
        "dogs = ['border collie', 'australian cattle dog', 'labrador retriever']\n",
        "\n",
        "print('australian cattle dog' in dogs)\n",
        "print('poodle' in dogs)"
      ]
    },
    {
      "cell_type": "markdown",
      "metadata": {
        "id": "dzJBeR9YtzgR"
      },
      "source": [
        "#### Добавление элемента в список методом append"
      ]
    },
    {
      "cell_type": "code",
      "execution_count": null,
      "metadata": {
        "id": "MBR4LDe2tzgR",
        "outputId": "ef09f5c2-a3f4-435e-dc4f-5b8d3f74a3af",
        "colab": {
          "base_uri": "https://localhost:8080/"
        }
      },
      "outputs": [
        {
          "output_type": "stream",
          "name": "stdout",
          "text": [
            "Border Collies are cool.\n",
            "Australian Cattle Dogs are cool.\n",
            "Labrador Retrievers are cool.\n",
            "Poodles are cool.\n"
          ]
        }
      ],
      "source": [
        "dogs = ['border collie', 'australian cattle dog', 'labrador retriever']\n",
        "dogs.append('poodle')\n",
        "\n",
        "for dog in dogs:\n",
        "    print(dog.title() + \"s are cool.\")"
      ]
    },
    {
      "cell_type": "markdown",
      "metadata": {
        "id": "7_JPIdj8tzgR"
      },
      "source": [
        "#### Добавление элемента в список методом insert"
      ]
    },
    {
      "cell_type": "code",
      "execution_count": null,
      "metadata": {
        "id": "3tlvIijltzgR",
        "outputId": "ff05ffae-6352-4371-c65c-6ca802120e76",
        "colab": {
          "base_uri": "https://localhost:8080/"
        }
      },
      "outputs": [
        {
          "output_type": "stream",
          "name": "stdout",
          "text": [
            "['border collie', 'poodle', 'australian cattle dog', 'labrador retriever']\n"
          ]
        }
      ],
      "source": [
        "dogs = ['border collie', 'australian cattle dog', 'labrador retriever']\n",
        "dogs.insert(1, 'poodle')\n",
        "\n",
        "print(dogs)"
      ]
    },
    {
      "cell_type": "markdown",
      "metadata": {
        "id": "oFfv940ptzgR"
      },
      "source": [
        "#### Создание пустого списка"
      ]
    },
    {
      "cell_type": "code",
      "execution_count": null,
      "metadata": {
        "id": "ojrms8JstzgR",
        "outputId": "64d2b4ba-232a-428e-c8f8-99385d57f1b0",
        "colab": {
          "base_uri": "https://localhost:8080/"
        }
      },
      "outputs": [
        {
          "output_type": "stream",
          "name": "stdout",
          "text": [
            "Welcome, Bernice!\n",
            "Welcome, Cody!\n",
            "Welcome, Aaron!\n"
          ]
        }
      ],
      "source": [
        "# Create an empty list to hold our users.\n",
        "usernames = []\n",
        "\n",
        "# Add some users.\n",
        "usernames.append('bernice')\n",
        "usernames.append('cody')\n",
        "usernames.append('aaron')\n",
        "\n",
        "# Greet all of our users.\n",
        "for username in usernames:\n",
        "    print(\"Welcome, \" + username.title() + '!')"
      ]
    },
    {
      "cell_type": "markdown",
      "metadata": {
        "id": "e3aZSmW2tzgS"
      },
      "source": [
        "#### Можно отслеживать порядок добавления"
      ]
    },
    {
      "cell_type": "code",
      "execution_count": null,
      "metadata": {
        "id": "iOl5K7kotzgS",
        "outputId": "c647b123-6423-4a3f-b8fd-37fccbf3a599",
        "colab": {
          "base_uri": "https://localhost:8080/"
        }
      },
      "outputs": [
        {
          "output_type": "stream",
          "name": "stdout",
          "text": [
            "Welcome, Bernice!\n",
            "Welcome, Cody!\n",
            "Welcome, Aaron!\n",
            "\n",
            "Thank you for being our very first user, Bernice!\n",
            "And a warm welcome to our newest user, Aaron!\n"
          ]
        }
      ],
      "source": [
        "# Create an empty list to hold our users.\n",
        "usernames = []\n",
        "\n",
        "# Add some users.\n",
        "usernames.append('bernice')\n",
        "usernames.append('cody')\n",
        "usernames.append('aaron')\n",
        "\n",
        "# Greet all of our users.\n",
        "for username in usernames:\n",
        "    print(\"Welcome, \" + username.title() + '!')\n",
        "\n",
        "# Recognize our first user, and welcome our newest user.\n",
        "print(\"\\nThank you for being our very first user, \" + usernames[0].title() + '!')\n",
        "print(\"And a warm welcome to our newest user, \" + usernames[-1].title() + '!')"
      ]
    },
    {
      "cell_type": "markdown",
      "metadata": {
        "id": "3x4vB83AtzgS"
      },
      "source": [
        "#### Сортировка списка"
      ]
    },
    {
      "cell_type": "code",
      "execution_count": null,
      "metadata": {
        "id": "9jc3n3dwtzgS",
        "outputId": "c97bcd4b-a0b0-43a8-d50f-ea436c7cd0d3",
        "colab": {
          "base_uri": "https://localhost:8080/"
        }
      },
      "outputs": [
        {
          "output_type": "stream",
          "name": "stdout",
          "text": [
            "Our students are currently in alphabetical order.\n",
            "Aaron\n",
            "Bernice\n",
            "Cody\n",
            "\n",
            "Our students are now in reverse alphabetical order.\n",
            "Cody\n",
            "Bernice\n",
            "Aaron\n"
          ]
        }
      ],
      "source": [
        "students = ['bernice', 'aaron', 'cody']\n",
        "\n",
        "# Put students in alphabetical order.\n",
        "students.sort()\n",
        "\n",
        "# Display the list in its current order.\n",
        "print(\"Our students are currently in alphabetical order.\")\n",
        "for student in students:\n",
        "    print(student.title())\n",
        "\n",
        "#Put students in reverse alphabetical order.\n",
        "students.sort(reverse=True)\n",
        "\n",
        "# Display the list in its current order.\n",
        "print(\"\\nOur students are now in reverse alphabetical order.\")\n",
        "for student in students:\n",
        "    print(student.title())"
      ]
    },
    {
      "cell_type": "markdown",
      "metadata": {
        "id": "XWKyreYOtzgS"
      },
      "source": [
        "#### *sorted()* vs. *sort()*"
      ]
    },
    {
      "cell_type": "code",
      "execution_count": null,
      "metadata": {
        "id": "Wt95oJyRtzgS",
        "outputId": "0569fd92-a355-4d2b-c00b-0546bea16a93",
        "colab": {
          "base_uri": "https://localhost:8080/"
        }
      },
      "outputs": [
        {
          "output_type": "stream",
          "name": "stdout",
          "text": [
            "Here is the list in alphabetical order:\n",
            "Aaron\n",
            "Bernice\n",
            "Cody\n",
            "\n",
            "Here is the list in reverse alphabetical order:\n",
            "Cody\n",
            "Bernice\n",
            "Aaron\n",
            "\n",
            "Here is the list in its original order:\n",
            "Bernice\n",
            "Aaron\n",
            "Cody\n"
          ]
        }
      ],
      "source": [
        "students = ['bernice', 'aaron', 'cody']\n",
        "\n",
        "# Display students in alphabetical order, but keep the original order.\n",
        "print(\"Here is the list in alphabetical order:\")\n",
        "for student in sorted(students):\n",
        "    print(student.title())\n",
        "\n",
        "# Display students in reverse alphabetical order, but keep the original order.\n",
        "print(\"\\nHere is the list in reverse alphabetical order:\")\n",
        "for student in sorted(students, reverse=True):\n",
        "    print(student.title())\n",
        "\n",
        "print(\"\\nHere is the list in its original order:\")\n",
        "# Show that the list is still in its original order.\n",
        "for student in students:\n",
        "    print(student.title())"
      ]
    },
    {
      "cell_type": "markdown",
      "metadata": {
        "id": "FADKeO45tzgS"
      },
      "source": [
        "#### Метод reverse"
      ]
    },
    {
      "cell_type": "code",
      "execution_count": null,
      "metadata": {
        "id": "wOsnVhMhtzgS",
        "outputId": "aa875a11-8105-4b7e-8ab4-5940f4fe630c",
        "colab": {
          "base_uri": "https://localhost:8080/"
        }
      },
      "outputs": [
        {
          "output_type": "stream",
          "name": "stdout",
          "text": [
            "['cody', 'aaron', 'bernice']\n"
          ]
        }
      ],
      "source": [
        "students = ['bernice', 'aaron', 'cody']\n",
        "students.reverse()\n",
        "\n",
        "print(students)"
      ]
    },
    {
      "cell_type": "markdown",
      "metadata": {
        "id": "XmLPc6jEtzgT"
      },
      "source": [
        "#### Сортировка списка чисел"
      ]
    },
    {
      "cell_type": "code",
      "execution_count": null,
      "metadata": {
        "id": "vbyX8ocAtzgT",
        "outputId": "2e06fd42-9855-4fe8-9e8c-07f564d810e3",
        "colab": {
          "base_uri": "https://localhost:8080/"
        }
      },
      "outputs": [
        {
          "output_type": "stream",
          "name": "stdout",
          "text": [
            "[1, 2, 3, 4]\n",
            "[4, 3, 2, 1]\n"
          ]
        }
      ],
      "source": [
        "numbers = [1, 3, 4, 2]\n",
        "\n",
        "# sort() puts numbers in increasing order.\n",
        "numbers.sort()\n",
        "print(numbers)\n",
        "\n",
        "# sort(reverse=True) puts numbers in decreasing order.\n",
        "numbers.sort(reverse=True)\n",
        "print(numbers)"
      ]
    },
    {
      "cell_type": "code",
      "execution_count": null,
      "metadata": {
        "id": "uVgJ-veDtzgT",
        "outputId": "a2367545-6209-4963-9897-87327b2b3c2c",
        "colab": {
          "base_uri": "https://localhost:8080/"
        }
      },
      "outputs": [
        {
          "output_type": "stream",
          "name": "stdout",
          "text": [
            "[1, 2, 3, 4]\n",
            "[1, 3, 4, 2]\n"
          ]
        }
      ],
      "source": [
        "numbers = [1, 3, 4, 2]\n",
        "\n",
        "# sorted() preserves the original order of the list:\n",
        "print(sorted(numbers))\n",
        "print(numbers)"
      ]
    },
    {
      "cell_type": "code",
      "execution_count": null,
      "metadata": {
        "id": "HsL8SHuPtzgT",
        "outputId": "819e50e5-f403-4765-f82b-789e79195d55",
        "colab": {
          "base_uri": "https://localhost:8080/"
        }
      },
      "outputs": [
        {
          "output_type": "stream",
          "name": "stdout",
          "text": [
            "[2, 4, 3, 1]\n"
          ]
        }
      ],
      "source": [
        "numbers = [1, 3, 4, 2]\n",
        "\n",
        "# The reverse() function also works for numerical lists.\n",
        "numbers.reverse()\n",
        "print(numbers)"
      ]
    },
    {
      "cell_type": "markdown",
      "metadata": {
        "id": "YRX2pCfitzgT"
      },
      "source": [
        "#### Длина (число элементов) списка"
      ]
    },
    {
      "cell_type": "code",
      "execution_count": null,
      "metadata": {
        "id": "Hu0qmtFztzgT",
        "outputId": "5ad2150c-7ae0-43eb-c585-2dd00fe31d55",
        "colab": {
          "base_uri": "https://localhost:8080/"
        }
      },
      "outputs": [
        {
          "output_type": "stream",
          "name": "stdout",
          "text": [
            "3\n"
          ]
        }
      ],
      "source": [
        "usernames = ['bernice', 'cody', 'aaron']\n",
        "user_count = len(usernames)\n",
        "\n",
        "print(user_count)"
      ]
    },
    {
      "cell_type": "code",
      "execution_count": null,
      "metadata": {
        "id": "KlBEHTPVtzgT",
        "outputId": "2cf17b17-446f-41b6-d3fe-8029bf8700cd",
        "colab": {
          "base_uri": "https://localhost:8080/"
        }
      },
      "outputs": [
        {
          "output_type": "stream",
          "name": "stdout",
          "text": [
            "We have 1 user!\n",
            "We have 3 users!\n"
          ]
        }
      ],
      "source": [
        "# Create an empty list to hold our users.\n",
        "usernames = []\n",
        "\n",
        "# Add some users, and report on how many users we have.\n",
        "usernames.append('bernice')\n",
        "user_count = len(usernames)\n",
        "\n",
        "print(\"We have \" + str(user_count) + \" user!\")\n",
        "\n",
        "usernames.append('cody')\n",
        "usernames.append('aaron')\n",
        "user_count = len(usernames)\n",
        "\n",
        "print(\"We have \" + str(user_count) + \" users!\")"
      ]
    },
    {
      "cell_type": "markdown",
      "metadata": {
        "id": "8F8JEK-DtzgU"
      },
      "source": [
        "### Удаление элементов списка"
      ]
    },
    {
      "cell_type": "markdown",
      "metadata": {
        "id": "7bCOMmm_tzgU"
      },
      "source": [
        "#### Удаление элементов списка по индексу - команда *del*"
      ]
    },
    {
      "cell_type": "code",
      "execution_count": null,
      "metadata": {
        "id": "ueWBFx31tzgU",
        "outputId": "d911417f-5bc5-4959-94a5-dcaf1a22cd2b",
        "colab": {
          "base_uri": "https://localhost:8080/"
        }
      },
      "outputs": [
        {
          "output_type": "stream",
          "name": "stdout",
          "text": [
            "['australian cattle dog', 'labrador retriever']\n"
          ]
        }
      ],
      "source": [
        "dogs = ['border collie', 'australian cattle dog', 'labrador retriever']\n",
        "# Remove the first dog from the list.\n",
        "del dogs[0]\n",
        "\n",
        "print(dogs)"
      ]
    },
    {
      "cell_type": "markdown",
      "metadata": {
        "id": "Zu_jgsvftzgU"
      },
      "source": [
        "#### Удаление элементов списка по значению - метод *remove*"
      ]
    },
    {
      "cell_type": "code",
      "execution_count": null,
      "metadata": {
        "id": "vq7LWbwHtzgU",
        "outputId": "8265e5b4-93ba-47f2-d6c5-1a716b140aa4",
        "colab": {
          "base_uri": "https://localhost:8080/"
        }
      },
      "outputs": [
        {
          "output_type": "stream",
          "name": "stdout",
          "text": [
            "['border collie', 'labrador retriever']\n"
          ]
        }
      ],
      "source": [
        "dogs = ['border collie', 'australian cattle dog', 'labrador retriever']\n",
        "# Remove australian cattle dog from the list.\n",
        "dogs.remove('australian cattle dog')\n",
        "\n",
        "print(dogs)"
      ]
    },
    {
      "cell_type": "markdown",
      "metadata": {
        "id": "fFwtzzRctzgU"
      },
      "source": [
        "Это удаляет только первый попавшийся элемент с заданным значением"
      ]
    },
    {
      "cell_type": "code",
      "execution_count": null,
      "metadata": {
        "id": "yJgGfJTZtzgU",
        "outputId": "cc6f791f-662a-4603-ce4c-a7d655f89851",
        "colab": {
          "base_uri": "https://localhost:8080/"
        }
      },
      "outputs": [
        {
          "output_type": "stream",
          "name": "stdout",
          "text": [
            "['b', 'c', 'a', 'b', 'c']\n"
          ]
        }
      ],
      "source": [
        "letters = ['a', 'b', 'c', 'a', 'b', 'c']\n",
        "# Remove the letter a from the list.\n",
        "letters.remove('a')\n",
        "\n",
        "print(letters)"
      ]
    },
    {
      "cell_type": "markdown",
      "metadata": {
        "id": "pOGdwqZXtzgV"
      },
      "source": [
        "#### Извлечение элементов списка - метод *pop*"
      ]
    },
    {
      "cell_type": "code",
      "execution_count": null,
      "metadata": {
        "id": "Zns35GwptzgV",
        "outputId": "24567cc8-c1e3-40ba-c127-472c2da25f1b",
        "colab": {
          "base_uri": "https://localhost:8080/"
        }
      },
      "outputs": [
        {
          "output_type": "stream",
          "name": "stdout",
          "text": [
            "labrador retriever\n",
            "['border collie', 'australian cattle dog']\n"
          ]
        }
      ],
      "source": [
        "dogs = ['border collie', 'australian cattle dog', 'labrador retriever']\n",
        "last_dog = dogs.pop()\n",
        "\n",
        "print(last_dog)\n",
        "print(dogs)"
      ]
    },
    {
      "cell_type": "markdown",
      "metadata": {
        "id": "iqypX0gmtzgV"
      },
      "source": [
        "Можно вытащить элемент по индексу"
      ]
    },
    {
      "cell_type": "code",
      "execution_count": null,
      "metadata": {
        "id": "Dgwl9QCqtzgV",
        "outputId": "3edb6538-2a5c-426c-8485-b5269cb42c96",
        "colab": {
          "base_uri": "https://localhost:8080/"
        }
      },
      "outputs": [
        {
          "output_type": "stream",
          "name": "stdout",
          "text": [
            "border collie\n",
            "['australian cattle dog', 'labrador retriever']\n"
          ]
        }
      ],
      "source": [
        "###highlight=[3]\n",
        "dogs = ['border collie', 'australian cattle dog', 'labrador retriever']\n",
        "first_dog = dogs.pop(0)\n",
        "\n",
        "print(first_dog)\n",
        "print(dogs)"
      ]
    },
    {
      "cell_type": "markdown",
      "metadata": {
        "id": "22s7y8Z9tzgV"
      },
      "source": [
        "#### Срез списка"
      ]
    },
    {
      "cell_type": "code",
      "execution_count": null,
      "metadata": {
        "id": "B0QbAVp4tzgV",
        "outputId": "56cc1bd7-93de-4467-ad3e-69b53e1241d5",
        "colab": {
          "base_uri": "https://localhost:8080/"
        }
      },
      "outputs": [
        {
          "output_type": "stream",
          "name": "stdout",
          "text": [
            "Bernice\n",
            "Cody\n",
            "Aaron\n"
          ]
        }
      ],
      "source": [
        "usernames = ['bernice', 'cody', 'aaron', 'ever', 'dalia']\n",
        "\n",
        "# Grab the first three users in the list.\n",
        "first_batch = usernames[0:3]\n",
        "\n",
        "for user in first_batch:\n",
        "    print(user.title())"
      ]
    },
    {
      "cell_type": "code",
      "execution_count": null,
      "metadata": {
        "id": "VJkx5f6PtzgV",
        "outputId": "cc435121-cb88-42af-a243-97de3743e717",
        "colab": {
          "base_uri": "https://localhost:8080/"
        }
      },
      "outputs": [
        {
          "output_type": "stream",
          "name": "stdout",
          "text": [
            "Bernice\n",
            "Cody\n",
            "Aaron\n"
          ]
        }
      ],
      "source": [
        "usernames = ['bernice', 'cody', 'aaron', 'ever', 'dalia']\n",
        "\n",
        "# Grab the first three users in the list.\n",
        "first_batch = usernames[:3]\n",
        "\n",
        "for user in first_batch:\n",
        "    print(user.title())"
      ]
    },
    {
      "cell_type": "markdown",
      "metadata": {
        "id": "KO0SIdCjtzgV"
      },
      "source": [
        "Исходный список остается неизменным"
      ]
    },
    {
      "cell_type": "code",
      "execution_count": null,
      "metadata": {
        "id": "sF2MHRijtzgV",
        "outputId": "463f44d2-2e23-46c1-8e60-7a96defa8fe4",
        "colab": {
          "base_uri": "https://localhost:8080/"
        }
      },
      "outputs": [
        {
          "output_type": "stream",
          "name": "stdout",
          "text": [
            "Bernice\n",
            "Cody\n",
            "Aaron\n",
            "Ever\n",
            "Dalia\n"
          ]
        }
      ],
      "source": [
        "usernames = ['bernice', 'cody', 'aaron', 'ever', 'dalia']\n",
        "\n",
        "# Grab the first three users in the list.\n",
        "first_batch = usernames[0:3]\n",
        "\n",
        "# The original list is unaffected.\n",
        "for user in usernames:\n",
        "    print(user.title())"
      ]
    },
    {
      "cell_type": "markdown",
      "metadata": {
        "id": "LHxQCXrAtzgW"
      },
      "source": [
        "#### Так можно обратиться к любому подмножеству элементов списка"
      ]
    },
    {
      "cell_type": "code",
      "execution_count": null,
      "metadata": {
        "id": "phvg9i2_tzgW",
        "outputId": "b62a066d-be7b-4e0c-bc54-fc7fd33f0051",
        "colab": {
          "base_uri": "https://localhost:8080/"
        }
      },
      "outputs": [
        {
          "output_type": "stream",
          "name": "stdout",
          "text": [
            "Cody\n",
            "Aaron\n",
            "Ever\n"
          ]
        }
      ],
      "source": [
        "usernames = ['bernice', 'cody', 'aaron', 'ever', 'dalia']\n",
        "\n",
        "# Grab a batch from the middle of the list.\n",
        "middle_batch = usernames[1:4]\n",
        "\n",
        "for user in middle_batch:\n",
        "    print(user.title())"
      ]
    },
    {
      "cell_type": "code",
      "execution_count": null,
      "metadata": {
        "id": "bNUIW7u9tzgW",
        "outputId": "3965823a-7cad-4315-be0f-de6e1ec25819",
        "colab": {
          "base_uri": "https://localhost:8080/"
        }
      },
      "outputs": [
        {
          "output_type": "stream",
          "name": "stdout",
          "text": [
            "Aaron\n",
            "Ever\n",
            "Dalia\n"
          ]
        }
      ],
      "source": [
        "usernames = ['bernice', 'cody', 'aaron', 'ever', 'dalia']\n",
        "\n",
        "# Grab all users from the third to the end.\n",
        "end_batch = usernames[2:]\n",
        "\n",
        "for user in end_batch:\n",
        "    print(user.title())"
      ]
    },
    {
      "cell_type": "markdown",
      "metadata": {
        "id": "6qx3N5wEtzgW"
      },
      "source": [
        "#### Копирование списка"
      ]
    },
    {
      "cell_type": "code",
      "execution_count": null,
      "metadata": {
        "id": "L6iKlauptzgW",
        "outputId": "7a14a874-385d-4062-8012-0e8f0f9a0872",
        "colab": {
          "base_uri": "https://localhost:8080/"
        }
      },
      "outputs": [
        {
          "output_type": "stream",
          "name": "stdout",
          "text": [
            "The full copied list:\n",
            "\t ['bernice', 'cody', 'aaron', 'ever', 'dalia']\n",
            "\n",
            "Two users removed from copied list:\n",
            "\t ['aaron', 'ever', 'dalia']\n",
            "\n",
            "The original list:\n",
            "\t ['bernice', 'cody', 'aaron', 'ever', 'dalia']\n"
          ]
        }
      ],
      "source": [
        "usernames = ['bernice', 'cody', 'aaron', 'ever', 'dalia']\n",
        "\n",
        "# Make a copy of the list.\n",
        "copied_usernames = usernames[:]\n",
        "print(\"The full copied list:\\n\\t\", copied_usernames)\n",
        "\n",
        "# Remove the first two users from the copied list.\n",
        "del copied_usernames[0]\n",
        "del copied_usernames[0]\n",
        "print(\"\\nTwo users removed from copied list:\\n\\t\", copied_usernames)\n",
        "\n",
        "# The original list is unaffected.\n",
        "print(\"\\nThe original list:\\n\\t\", usernames)"
      ]
    },
    {
      "cell_type": "code",
      "execution_count": null,
      "metadata": {
        "id": "p6DBORqatzgW",
        "outputId": "f1ed5e10-329b-4c24-e17b-33e9592779d8",
        "colab": {
          "base_uri": "https://localhost:8080/"
        }
      },
      "outputs": [
        {
          "output_type": "execute_result",
          "data": {
            "text/plain": [
              "[1, 2, 3]"
            ]
          },
          "metadata": {},
          "execution_count": 285
        }
      ],
      "source": [
        "a = [1, 2, 3]\n",
        "b = a[:]\n",
        "b.append(4)\n",
        "a"
      ]
    },
    {
      "cell_type": "markdown",
      "metadata": {
        "id": "gVSCnJ-ttzgW"
      },
      "source": [
        "#### Методы числовых списков"
      ]
    },
    {
      "cell_type": "code",
      "execution_count": null,
      "metadata": {
        "id": "yb-nIVKutzgX",
        "outputId": "ec1e2f58-bb47-4504-b115-b6c329dfb727",
        "colab": {
          "base_uri": "https://localhost:8080/"
        }
      },
      "outputs": [
        {
          "output_type": "stream",
          "name": "stdout",
          "text": [
            "1\n",
            "2\n",
            "3\n",
            "4\n",
            "5\n",
            "6\n",
            "7\n",
            "8\n",
            "9\n",
            "10\n"
          ]
        }
      ],
      "source": [
        "# Print out the first ten numbers.\n",
        "numbers = [1, 2, 3, 4, 5, 6, 7, 8, 9, 10]\n",
        "\n",
        "for number in numbers:\n",
        "    print(number)"
      ]
    },
    {
      "cell_type": "markdown",
      "metadata": {
        "id": "PJBaXp-MtzgX"
      },
      "source": [
        "#### Метод *range()* "
      ]
    },
    {
      "cell_type": "code",
      "execution_count": null,
      "metadata": {
        "id": "OyTyixbhtzgX",
        "outputId": "547024c1-4960-4130-e8d5-d5727a50eca5",
        "colab": {
          "base_uri": "https://localhost:8080/"
        }
      },
      "outputs": [
        {
          "output_type": "stream",
          "name": "stdout",
          "text": [
            "1\n",
            "2\n",
            "3\n",
            "4\n",
            "5\n",
            "6\n",
            "7\n",
            "8\n",
            "9\n",
            "10\n"
          ]
        }
      ],
      "source": [
        "# Print the first ten numbers.\n",
        "for number in range(1,11):\n",
        "    print(number)"
      ]
    },
    {
      "cell_type": "code",
      "execution_count": null,
      "metadata": {
        "id": "8dOgEtontzgX",
        "outputId": "e4bbcfb5-1741-4fa2-9119-ed548ea89202",
        "colab": {
          "base_uri": "https://localhost:8080/"
        }
      },
      "outputs": [
        {
          "output_type": "stream",
          "name": "stdout",
          "text": [
            "1\n",
            "3\n",
            "5\n",
            "7\n",
            "9\n",
            "11\n",
            "13\n",
            "15\n",
            "17\n",
            "19\n"
          ]
        }
      ],
      "source": [
        "# Print the first ten odd numbers.\n",
        "for number in range(1,21,2):\n",
        "    print(number)"
      ]
    },
    {
      "cell_type": "code",
      "execution_count": null,
      "metadata": {
        "id": "oCGacvGNtzgX",
        "outputId": "8bffd722-6680-4f07-ad90-074c4a3979ba",
        "colab": {
          "base_uri": "https://localhost:8080/"
        }
      },
      "outputs": [
        {
          "output_type": "stream",
          "name": "stdout",
          "text": [
            "[1, 2, 3, 4, 5, 6, 7, 8, 9, 10]\n"
          ]
        }
      ],
      "source": [
        "# Create a list of the first ten numbers.\n",
        "numbers = list(range(1,11))\n",
        "print(numbers)"
      ]
    },
    {
      "cell_type": "markdown",
      "metadata": {
        "id": "S9SZkJBOtzgX"
      },
      "source": [
        "#### Так можно создавать большие списки"
      ]
    },
    {
      "cell_type": "code",
      "execution_count": null,
      "metadata": {
        "id": "bcu_KK1stzgX",
        "outputId": "bc979198-d9bc-49c5-8d95-32f758ce1860",
        "colab": {
          "base_uri": "https://localhost:8080/"
        }
      },
      "outputs": [
        {
          "output_type": "stream",
          "name": "stdout",
          "text": [
            "The list 'numbers' has 1000000 numbers in it.\n",
            "\n",
            "The last ten numbers in the list are:\n",
            "999991\n",
            "999992\n",
            "999993\n",
            "999994\n",
            "999995\n",
            "999996\n",
            "999997\n",
            "999998\n",
            "999999\n",
            "1000000\n"
          ]
        }
      ],
      "source": [
        "# Store the first million numbers in a list.\n",
        "numbers = list(range(1,1000001))\n",
        "\n",
        "# Show the length of the list:\n",
        "print(\"The list 'numbers' has \" + str(len(numbers)) + \" numbers in it.\")\n",
        "\n",
        "# Show the last ten numbers:\n",
        "print(\"\\nThe last ten numbers in the list are:\")\n",
        "for number in numbers[-10:]:\n",
        "    print(number)"
      ]
    },
    {
      "cell_type": "markdown",
      "metadata": {
        "id": "FnnTRx1ItzgX"
      },
      "source": [
        "#### Методы *min()*, *max()* и *sum()* "
      ]
    },
    {
      "cell_type": "code",
      "execution_count": null,
      "metadata": {
        "id": "dLzOu-BLtzgY",
        "outputId": "933df4f8-0192-4b9c-b0fb-8c631ab677bd",
        "colab": {
          "base_uri": "https://localhost:8080/"
        }
      },
      "outputs": [
        {
          "output_type": "stream",
          "name": "stdout",
          "text": [
            "Our youngest reader is 11 years old.\n",
            "Our oldest reader is 38 years old.\n",
            "Together, we have 149 years worth of life experience.\n"
          ]
        }
      ],
      "source": [
        "ages = [23, 16, 14, 28, 19, 11, 38]\n",
        "\n",
        "youngest = min(ages)\n",
        "oldest = max(ages)\n",
        "total_years = sum(ages)\n",
        "\n",
        "print(\"Our youngest reader is \" + str(youngest) + \" years old.\")\n",
        "print(\"Our oldest reader is \" + str(oldest) + \" years old.\")\n",
        "print(\"Together, we have \" + str(total_years) + \" years worth of life experience.\")"
      ]
    },
    {
      "cell_type": "markdown",
      "metadata": {
        "id": "SZ9i9DWptzgY"
      },
      "source": [
        "### Сокращенные нотации списков (list comprehensions)\n",
        "Как бы мы создали список первых десяти полных квадратов"
      ]
    },
    {
      "cell_type": "code",
      "execution_count": null,
      "metadata": {
        "id": "b1J5eF70tzgY",
        "outputId": "fe35bc66-bb27-4d60-fd09-f5c9b8c92f55",
        "colab": {
          "base_uri": "https://localhost:8080/"
        }
      },
      "outputs": [
        {
          "output_type": "stream",
          "name": "stdout",
          "text": [
            "1\n",
            "4\n",
            "9\n",
            "16\n",
            "25\n",
            "36\n",
            "49\n",
            "64\n",
            "81\n",
            "100\n"
          ]
        }
      ],
      "source": [
        "# Store the first ten square numbers in a list.\n",
        "# Make an empty list that will hold our square numbers.\n",
        "squares = []\n",
        "\n",
        "# Go through the first ten numbers, square them, and add them to our list.\n",
        "for number in range(1,11):\n",
        "    new_square = number**2\n",
        "    squares.append(new_square)\n",
        "    \n",
        "# Show that our list is correct.\n",
        "for square in squares:\n",
        "    print(square)"
      ]
    },
    {
      "cell_type": "markdown",
      "metadata": {
        "id": "cTfwinKjtzgY"
      },
      "source": [
        "#### Синтаксис сокращенной нотации позволяет сделать это короче"
      ]
    },
    {
      "cell_type": "code",
      "execution_count": null,
      "metadata": {
        "id": "Ml03cCZ4tzgY",
        "outputId": "513a6552-22cf-488c-9bbd-b46919f566b2",
        "colab": {
          "base_uri": "https://localhost:8080/"
        }
      },
      "outputs": [
        {
          "output_type": "stream",
          "name": "stdout",
          "text": [
            "1\n",
            "4\n",
            "9\n",
            "16\n",
            "25\n",
            "36\n",
            "49\n",
            "64\n",
            "81\n",
            "100\n"
          ]
        }
      ],
      "source": [
        "# Store the first ten square numbers in a list.\n",
        "squares = [number**2 for number in range(1,11)]\n",
        "\n",
        "# Show that our list is correct.\n",
        "for square in squares:\n",
        "    print(square)"
      ]
    },
    {
      "cell_type": "markdown",
      "metadata": {
        "id": "pY8n9FBjtzgY"
      },
      "source": [
        "Другой пример: список первых десяти четных чисел"
      ]
    },
    {
      "cell_type": "code",
      "execution_count": null,
      "metadata": {
        "id": "wuZh4nNItzgY",
        "outputId": "f4f763b1-abb3-425e-a45f-8de298d407a2",
        "colab": {
          "base_uri": "https://localhost:8080/"
        }
      },
      "outputs": [
        {
          "output_type": "stream",
          "name": "stdout",
          "text": [
            "2\n",
            "4\n",
            "6\n",
            "8\n",
            "10\n",
            "12\n",
            "14\n",
            "16\n",
            "18\n",
            "20\n"
          ]
        }
      ],
      "source": [
        "# Make a list of the first ten even numbers.\n",
        "evens = [number*2 for number in range(1,11)]\n",
        "\n",
        "for even in evens:\n",
        "    print(even)"
      ]
    },
    {
      "cell_type": "markdown",
      "metadata": {
        "id": "J4fKR2cztzgY"
      },
      "source": [
        "#### То же можно делать и со списками строк"
      ]
    },
    {
      "cell_type": "code",
      "execution_count": null,
      "metadata": {
        "id": "SfyD934RtzgZ",
        "outputId": "477f9f54-8b8e-42e4-e7b5-420158b7b1e9",
        "colab": {
          "base_uri": "https://localhost:8080/"
        }
      },
      "outputs": [
        {
          "output_type": "stream",
          "name": "stdout",
          "text": [
            "Hello, Bernice the great!\n",
            "Hello, Aaron the great!\n",
            "Hello, Cody the great!\n"
          ]
        }
      ],
      "source": [
        "# Consider some students.\n",
        "students = ['bernice', 'aaron', 'cody']\n",
        "\n",
        "# Let's turn them into great students.\n",
        "great_students = [student.title() + \" the great!\" for student in students]\n",
        "\n",
        "# Let's greet each great student.\n",
        "for great_student in great_students:\n",
        "    print(\"Hello, \" + great_student)"
      ]
    },
    {
      "cell_type": "markdown",
      "metadata": {
        "id": "qflTvdyCtzgZ"
      },
      "source": [
        "### Строки как списки"
      ]
    },
    {
      "cell_type": "code",
      "execution_count": null,
      "metadata": {
        "id": "HWu3kgG8tzgZ",
        "outputId": "19d1dfdd-9bd4-403a-bd37-02e45d57db9c",
        "colab": {
          "base_uri": "https://localhost:8080/"
        }
      },
      "outputs": [
        {
          "output_type": "stream",
          "name": "stdout",
          "text": [
            "H\n",
            "e\n",
            "l\n",
            "l\n",
            "o\n",
            "!\n"
          ]
        }
      ],
      "source": [
        "message = \"Hello!\"\n",
        "\n",
        "for letter in message:\n",
        "    print(letter)"
      ]
    },
    {
      "cell_type": "code",
      "execution_count": null,
      "metadata": {
        "id": "1J4duyIhtzgZ",
        "outputId": "f369a4db-8563-4e51-ee97-9bf313088a6a",
        "colab": {
          "base_uri": "https://localhost:8080/"
        }
      },
      "outputs": [
        {
          "output_type": "stream",
          "name": "stdout",
          "text": [
            "['H', 'e', 'l', 'l', 'o', ' ', 'w', 'o', 'r', 'l', 'd', '!']\n"
          ]
        }
      ],
      "source": [
        "message = \"Hello world!\"\n",
        "\n",
        "message_list = list(message)\n",
        "print(message_list)"
      ]
    },
    {
      "cell_type": "markdown",
      "metadata": {
        "id": "CDWFvqixtzgZ"
      },
      "source": [
        "#### Срез строки"
      ]
    },
    {
      "cell_type": "code",
      "execution_count": null,
      "metadata": {
        "id": "TI7tuFpatzgZ",
        "outputId": "1e35e480-e0b6-41eb-f4c1-3469b4c190aa",
        "colab": {
          "base_uri": "https://localhost:8080/"
        }
      },
      "outputs": [
        {
          "output_type": "stream",
          "name": "stdout",
          "text": [
            "H !\n"
          ]
        }
      ],
      "source": [
        "message = \"Hello World!\"\n",
        "first_char = message[0]\n",
        "last_char = message[-1]\n",
        "\n",
        "print(first_char, last_char)"
      ]
    },
    {
      "cell_type": "code",
      "execution_count": null,
      "metadata": {
        "id": "Fd0LTnTutzgZ",
        "outputId": "f5512be3-a4a5-4d31-8ed2-6417572d312f",
        "colab": {
          "base_uri": "https://localhost:8080/"
        }
      },
      "outputs": [
        {
          "output_type": "stream",
          "name": "stdout",
          "text": [
            "Hel ld!\n"
          ]
        }
      ],
      "source": [
        "message = \"Hello World!\"\n",
        "first_three = message[:3]\n",
        "last_three = message[-3:]\n",
        "\n",
        "print(first_three, last_three)"
      ]
    },
    {
      "cell_type": "markdown",
      "metadata": {
        "id": "KKHYyPr1UVY6"
      },
      "source": [
        "#### Преобразование в список"
      ]
    },
    {
      "cell_type": "markdown",
      "source": [
        "Функция `list()` позволяет перобразовать любой итерируемый объект в список:"
      ],
      "metadata": {
        "id": "rOTZwgRoUc7T"
      }
    },
    {
      "cell_type": "code",
      "source": [
        "print(\"Hello\", list(\"Hello\"))\n",
        "print(range(1, 6), list(range(1, 6)))\n",
        "print((1, 2, 3, 4, 5), list((1, 2, 3, 4, 5)))"
      ],
      "metadata": {
        "colab": {
          "base_uri": "https://localhost:8080/"
        },
        "id": "5EDjw-OvUbuj",
        "outputId": "ffe4f825-04ab-4d0f-89b1-14dd71dcee36"
      },
      "execution_count": null,
      "outputs": [
        {
          "output_type": "stream",
          "name": "stdout",
          "text": [
            "Hello ['H', 'e', 'l', 'l', 'o']\n",
            "range(1, 6) [1, 2, 3, 4, 5]\n",
            "(1, 2, 3, 4, 5) [1, 2, 3, 4, 5]\n"
          ]
        }
      ]
    },
    {
      "cell_type": "markdown",
      "metadata": {
        "id": "Loix8ZpKtzgb"
      },
      "source": [
        "## Часть 2. Кортежи\n",
        "Кортеж - это неизменяемый список. Определяется круглыми скобками. "
      ]
    },
    {
      "cell_type": "code",
      "execution_count": null,
      "metadata": {
        "id": "k-hyrfyFtzgb",
        "outputId": "7fd071f9-20bd-485b-daef-ba690c16a4f1",
        "colab": {
          "base_uri": "https://localhost:8080/"
        }
      },
      "outputs": [
        {
          "output_type": "stream",
          "name": "stdout",
          "text": [
            "The first color is: red\n",
            "\n",
            "The available colors are:\n",
            "- red\n",
            "- green\n",
            "- blue\n"
          ]
        }
      ],
      "source": [
        "colors = ('red', 'green', 'blue')\n",
        "print(\"The first color is: \" + colors[0])\n",
        "\n",
        "print(\"\\nThe available colors are:\")\n",
        "for color in colors:\n",
        "    print(\"- \" + color)"
      ]
    },
    {
      "cell_type": "markdown",
      "metadata": {
        "id": "L0HKWNWTtzgc"
      },
      "source": [
        "#### Ничего добавить в кортеж нельзя"
      ]
    },
    {
      "cell_type": "code",
      "execution_count": null,
      "metadata": {
        "id": "wZ5qlFzltzgc",
        "outputId": "94d4aa46-3330-46a2-a2e0-c2438f2a5834",
        "colab": {
          "base_uri": "https://localhost:8080/"
        }
      },
      "outputs": [
        {
          "output_type": "error",
          "ename": "AttributeError",
          "evalue": "ignored",
          "traceback": [
            "\u001b[0;31m---------------------------------------------------------------------------\u001b[0m",
            "\u001b[0;31mAttributeError\u001b[0m                            Traceback (most recent call last)",
            "\u001b[0;32m<ipython-input-311-83aeaf8e9a14>\u001b[0m in \u001b[0;36m<module>\u001b[0;34m\u001b[0m\n\u001b[1;32m      1\u001b[0m \u001b[0mcolors\u001b[0m \u001b[0;34m=\u001b[0m \u001b[0;34m(\u001b[0m\u001b[0;34m'red'\u001b[0m\u001b[0;34m,\u001b[0m \u001b[0;34m'green'\u001b[0m\u001b[0;34m,\u001b[0m \u001b[0;34m'blue'\u001b[0m\u001b[0;34m)\u001b[0m\u001b[0;34m\u001b[0m\u001b[0;34m\u001b[0m\u001b[0m\n\u001b[0;32m----> 2\u001b[0;31m \u001b[0mcolors\u001b[0m\u001b[0;34m.\u001b[0m\u001b[0mappend\u001b[0m\u001b[0;34m(\u001b[0m\u001b[0;34m'purple'\u001b[0m\u001b[0;34m)\u001b[0m\u001b[0;34m\u001b[0m\u001b[0;34m\u001b[0m\u001b[0m\n\u001b[0m",
            "\u001b[0;31mAttributeError\u001b[0m: 'tuple' object has no attribute 'append'"
          ]
        }
      ],
      "source": [
        "colors = ('red', 'green', 'blue')\n",
        "colors.append('purple')"
      ]
    },
    {
      "cell_type": "markdown",
      "metadata": {
        "id": "QgXpalwstzgc"
      },
      "source": [
        "Также нельзя поменять или удалить элемент кортежа."
      ]
    },
    {
      "cell_type": "markdown",
      "metadata": {
        "id": "j2LkJogKtzgc"
      },
      "source": [
        "#### Форматирование строк с помощью кортежей"
      ]
    },
    {
      "cell_type": "code",
      "execution_count": null,
      "metadata": {
        "id": "QyXW6Zoytzgc",
        "outputId": "032d6bdc-5fca-4791-d700-17ccb5820310",
        "colab": {
          "base_uri": "https://localhost:8080/"
        }
      },
      "outputs": [
        {
          "output_type": "stream",
          "name": "stdout",
          "text": [
            "I have a dog.\n"
          ]
        }
      ],
      "source": [
        "animal = 'dog'\n",
        "print(\"I have a %s.\" % animal)"
      ]
    },
    {
      "cell_type": "code",
      "execution_count": null,
      "metadata": {
        "id": "6exJS9uUtzgc",
        "outputId": "9c76a295-5621-4cd5-ce13-31c4abaffb10",
        "colab": {
          "base_uri": "https://localhost:8080/"
        }
      },
      "outputs": [
        {
          "output_type": "stream",
          "name": "stdout",
          "text": [
            "I have a dog.\n",
            "I have a cat.\n",
            "I have a bear.\n"
          ]
        }
      ],
      "source": [
        "animals = ['dog', 'cat', 'bear']\n",
        "for animal in animals:\n",
        "    print(\"I have a %s.\" % animal)"
      ]
    },
    {
      "cell_type": "markdown",
      "metadata": {
        "id": "wk2_SqMwtzgc"
      },
      "source": [
        "#### Можно так же передать кортеж"
      ]
    },
    {
      "cell_type": "code",
      "execution_count": null,
      "metadata": {
        "id": "vrrg3kLttzgd",
        "outputId": "753cf009-5cd4-4d2b-e17a-fa3491f42482",
        "colab": {
          "base_uri": "https://localhost:8080/"
        }
      },
      "outputs": [
        {
          "output_type": "stream",
          "name": "stdout",
          "text": [
            "I have a dog, a cat, and a bear.\n"
          ]
        }
      ],
      "source": [
        "animals = ('dog', 'cat', 'bear')\n",
        "print(\"I have a %s, a %s, and a %s.\" % (animals[0], animals[1], animals[2]))"
      ]
    },
    {
      "cell_type": "markdown",
      "metadata": {
        "id": "KSDKOPNctzgd"
      },
      "source": [
        "#### Или использовать метод *format()* для строк"
      ]
    },
    {
      "cell_type": "markdown",
      "source": [
        "Символ `*` перед списком, кортежем, ... приводит к его распаковке, то есть к виду: `lst[0], lst[1], ..., lst[n]`"
      ],
      "metadata": {
        "id": "WmHi_F-fWOl8"
      }
    },
    {
      "cell_type": "code",
      "execution_count": null,
      "metadata": {
        "id": "emJ4OBO8tzgd",
        "outputId": "bd76c505-ef07-4e6c-8126-a9890d5f23ea",
        "colab": {
          "base_uri": "https://localhost:8080/"
        }
      },
      "outputs": [
        {
          "output_type": "stream",
          "name": "stdout",
          "text": [
            "I have a dog, a cat, and a bear.\n",
            "I have a dog, a cat, and a bear.\n"
          ]
        }
      ],
      "source": [
        "animals = ('dog', 'cat', 'bear')\n",
        "print(\"I have a {0}, a {1}, and a {2}.\".format(animals[0], animals[1], animals[2]))\n",
        "print(\"I have a {0}, a {1}, and a {2}.\".format(*animals))"
      ]
    }
  ],
  "metadata": {
    "kernelspec": {
      "display_name": "Python 3",
      "name": "python3"
    },
    "language_info": {
      "name": "python"
    },
    "name": "seminar2_part1_variables_strings_numbers.ipynb",
    "colab": {
      "provenance": [],
      "collapsed_sections": [
        "ye-pwj9Xp9hb",
        "6e_EJ4Eip9hb",
        "YTiUt-GGqcm7",
        "bRoWUN5OqcnB",
        "KHWGeh_FqcnE",
        "1MdvYB0zqcnD",
        "81H7u2kFqcnE",
        "qkIWt_3uqcnF",
        "qoHjYsxtqcnG",
        "18rPBC1frG_Q",
        "yGFQsWtCrG_S",
        "N-8IQdf-rG_X",
        "KjKyV1mMr29m",
        "WyE44sDyr29q",
        "-LLQ2raZsqau",
        "RwILnxo6tzgG",
        "WEoiwpyftzgJ",
        "_L8vTfnMtzgP",
        "ifYTnq3qtzgQ",
        "kGl-l6nwtzgQ",
        "8_vT6qmltzgQ",
        "w3RxrZTEtzgQ",
        "dzJBeR9YtzgR",
        "7_JPIdj8tzgR",
        "oFfv940ptzgR",
        "e3aZSmW2tzgS",
        "3x4vB83AtzgS",
        "XWKyreYOtzgS",
        "FADKeO45tzgS",
        "XmLPc6jEtzgT",
        "YRX2pCfitzgT",
        "8F8JEK-DtzgU",
        "7bCOMmm_tzgU",
        "Zu_jgsvftzgU",
        "pOGdwqZXtzgV",
        "22s7y8Z9tzgV",
        "LHxQCXrAtzgW",
        "6qx3N5wEtzgW",
        "gVSCnJ-ttzgW",
        "PJBaXp-MtzgX",
        "S9SZkJBOtzgX",
        "FnnTRx1ItzgX",
        "SZ9i9DWptzgY",
        "cTfwinKjtzgY",
        "J4fKR2cztzgY",
        "CDWFvqixtzgZ"
      ]
    }
  },
  "nbformat": 4,
  "nbformat_minor": 0
}