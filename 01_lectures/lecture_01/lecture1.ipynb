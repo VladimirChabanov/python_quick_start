{
  "cells": [
    {
      "cell_type": "markdown",
      "source": [
        "<img src=\"https://www.amd.com/system/files/76826-python-logo-1260x709.jpg\" height=\"300px\">"
      ],
      "metadata": {
        "id": "OWgAQ_Kiwuc3"
      }
    },
    {
      "cell_type": "markdown",
      "metadata": {
        "id": "ye-pwj9Xp9hb"
      },
      "source": [
        "# Урок 1. Основы языка Python"
      ]
    },
    {
      "cell_type": "markdown",
      "metadata": {
        "id": "6e_EJ4Eip9hb"
      },
      "source": [
        "## Часть 1. Встроенные типы данных"
      ]
    },
    {
      "cell_type": "markdown",
      "metadata": {
        "id": "zPFRt4CPp9hc"
      },
      "source": [
        "Зачем нужны встроенные типы данных (объекты)?\n",
        "- Встроенные объекты упрощают создание программ. Так как избавляют от необходимости\n",
        "реализации структур данных.\n",
        "- Встроенные объекты – это компоненты расширений. Для решения сложных задач вы можете\n",
        "создавать собственные объекты, используя для этого встроенные классы языка Python\n",
        "- Встроенные объекты часто более эффективны, чем созданные вручную структуры данных.\n",
        "Встроенные типы языка Python используют уже оптимизированные структуры данных,\n",
        "реализованные на языке C для достижения высокой производительности\n",
        "- Встроенные объекты – это стандартная часть языка. В определенной степени Python многое\n",
        "заимствует как из языков, полагающихся на использование встроенных инструментальных\n",
        "средств (таких как LISP), так и полагающихся на мастерство программиста, который должен\n",
        "выполнить собственную реализацию инструментов и структур данных (таких как C++). В языке\n",
        "Python можно создавать собственные типы объектов, но в самом начале делать это не\n",
        "рекомендуется. Более того, из-за того, что встроенные компоненты являются стандартными\n",
        "составляющими языка Python, они всегда остаются неизменными, тогда как собственные\n",
        "структуры имеют свойство изменяться от случая к случаю."
      ]
    },
    {
      "cell_type": "markdown",
      "metadata": {
        "id": "dNtuTAMwp9hc"
      },
      "source": [
        "Мы рассмотрим следующие встроенные типы данных:\n",
        " - Числа (7382, 3.14, 3+4j, Decimal, Fraction)\n",
        " - Строки ('net', \"your's\", u'радость')\n",
        " - Списки ([1, [2, 'three'], 4])\n",
        " - Словари ({'Alex': 2, 'Brian': 4})\n",
        " - Кортежи ('Leo', 21.7, 'single')\n",
        " - Множества (set(1,2,3), {'a', 'b', 'c'})\n",
        " - Файлы (open('myfile', 'r'))"
      ]
    },
    {
      "cell_type": "markdown",
      "metadata": {
        "id": "rmLz6XDxp9hd"
      },
      "source": [
        "**Динамическая типизация**\n",
        "\n",
        "Типы данных в языке Python определяются автоматически во время выполнения, а не в результате\n",
        "объявлений в программном коде. Переменные создаются при выполнении операции присваивания,\n",
        "могут ссылаться на объекты любых типов и им должны быть присвоены некоторые значения, прежде\n",
        "чем к ним можно будет обратиться."
      ]
    },
    {
      "cell_type": "markdown",
      "metadata": {
        "id": "8xqIPKEmp9he"
      },
      "source": [
        " - Переменные – это записи в системной таблице, где предусмотрено место для хранения ссылок на\n",
        "объекты.\n",
        " - Объекты – это области памяти с объемом, достаточным для представления значений этих объектов.\n",
        "Каждый объект имеет два стандартных поля: описатель типа, используемый для хранения\n",
        "информации о типе объекта, и счетчик ссылок, используемый для определения момента, когда\n",
        "память, занимаемая объектом, может быть освобождена.\n",
        " - Ссылки – это указатели на объекты."
      ]
    },
    {
      "cell_type": "markdown",
      "metadata": {
        "id": "YTiUt-GGqcm7"
      },
      "source": [
        "## Часть 2. Числа"
      ]
    },
    {
      "cell_type": "markdown",
      "metadata": {
        "id": "C_d9y_Axqcm7"
      },
      "source": [
        "Числа в Python бывают разные:\n",
        " - Целые числа (int): 122, -4, 99999999999, 0o177, 0x9ff, 0b101010\n",
        " - Вещественные числа (float): 1.0, 3.14, .5, 4E21, 4.0e21 \n",
        " - Комплексные числа (complex): 3 + 4j, 3.0 + 4.0j,  \n",
        " - Числа фиксированной точности: decimal.Decimal('0.1')\n",
        " - Рациональные числа: fractions.Fraction(3, 4)"
      ]
    },
    {
      "cell_type": "markdown",
      "metadata": {
        "id": "bRoWUN5OqcnB"
      },
      "source": [
        "### Целые числа"
      ]
    },
    {
      "cell_type": "code",
      "execution_count": null,
      "metadata": {
        "id": "-c8WlEdMqcnB",
        "outputId": "a522a0d9-ff77-49ab-85c4-f8f738e9db9b",
        "colab": {
          "base_uri": "https://localhost:8080/"
        }
      },
      "outputs": [
        {
          "output_type": "stream",
          "name": "stdout",
          "text": [
            "5\n"
          ]
        }
      ],
      "source": [
        "print(3+2)"
      ]
    },
    {
      "cell_type": "code",
      "execution_count": null,
      "metadata": {
        "id": "gVavE5OmqcnC",
        "outputId": "46b21f49-2622-4e81-c73b-620c6dd23759",
        "colab": {
          "base_uri": "https://localhost:8080/"
        }
      },
      "outputs": [
        {
          "output_type": "stream",
          "name": "stdout",
          "text": [
            "1\n"
          ]
        }
      ],
      "source": [
        "print(3-2)"
      ]
    },
    {
      "cell_type": "code",
      "execution_count": null,
      "metadata": {
        "id": "Hp0NQ4Z1qcnC",
        "outputId": "d1ce0952-e2f9-410d-e1f2-1e9ee6fd7365",
        "colab": {
          "base_uri": "https://localhost:8080/"
        }
      },
      "outputs": [
        {
          "output_type": "stream",
          "name": "stdout",
          "text": [
            "6\n"
          ]
        }
      ],
      "source": [
        "print(3*2)"
      ]
    },
    {
      "cell_type": "code",
      "execution_count": null,
      "metadata": {
        "id": "GqVxZdhKqcnD",
        "outputId": "3beaf3e9-0bae-4e83-bfbf-53e23b5a8b42",
        "colab": {
          "base_uri": "https://localhost:8080/"
        }
      },
      "outputs": [
        {
          "output_type": "stream",
          "name": "stdout",
          "text": [
            "1.5\n"
          ]
        }
      ],
      "source": [
        "print(3 / 2)"
      ]
    },
    {
      "cell_type": "code",
      "execution_count": null,
      "metadata": {
        "outputId": "6a6b2564-f79e-4335-9866-964383b9e2b9",
        "colab": {
          "base_uri": "https://localhost:8080/"
        },
        "id": "I3mpfDDl5ge_"
      },
      "outputs": [
        {
          "output_type": "stream",
          "name": "stdout",
          "text": [
            "1\n"
          ]
        }
      ],
      "source": [
        "print(3 // 2)"
      ]
    },
    {
      "cell_type": "code",
      "execution_count": null,
      "metadata": {
        "id": "BZDrIzf8qcnD",
        "outputId": "6e52c1e9-418c-4ec3-80d6-c35c9116d4a7",
        "colab": {
          "base_uri": "https://localhost:8080/"
        }
      },
      "outputs": [
        {
          "output_type": "stream",
          "name": "stdout",
          "text": [
            "8\n"
          ]
        }
      ],
      "source": [
        "print(2 ** 3)"
      ]
    },
    {
      "cell_type": "markdown",
      "metadata": {
        "id": "4xhp59wTqcnD"
      },
      "source": [
        "Можно использовать скобки для управления порядком операций"
      ]
    },
    {
      "cell_type": "code",
      "execution_count": null,
      "metadata": {
        "id": "bKudVIqBqcnD",
        "outputId": "3c0b96e6-cb59-4b1b-e4d4-c8b6bea7fef4",
        "colab": {
          "base_uri": "https://localhost:8080/"
        }
      },
      "outputs": [
        {
          "output_type": "stream",
          "name": "stdout",
          "text": [
            "14\n",
            "20\n"
          ]
        }
      ],
      "source": [
        "standard_order = 2 + 3*4\n",
        "print(standard_order)\n",
        "my_order = (2 + 3) * 4\n",
        "print(my_order)"
      ]
    },
    {
      "cell_type": "markdown",
      "metadata": {
        "id": "KHWGeh_FqcnE"
      },
      "source": [
        "#### Целые числа в Python 2 и Python 3\n",
        "В Python 2 результат деления двух челых чисел - тоже целое, а в Python 3 - float."
      ]
    },
    {
      "cell_type": "code",
      "execution_count": null,
      "metadata": {
        "id": "Ys0NMdNEqcnE",
        "outputId": "294d0da8-4639-4203-d3ed-975b45295488",
        "colab": {
          "base_uri": "https://localhost:8080/"
        }
      },
      "outputs": [
        {
          "output_type": "stream",
          "name": "stdout",
          "text": [
            "1.5\n"
          ]
        }
      ],
      "source": [
        "print(3 / 2)"
      ]
    },
    {
      "cell_type": "markdown",
      "metadata": {
        "id": "bY_GKIyHqcnE"
      },
      "source": [
        "В Python 3 результат - 1.5, в Python 2 (без подключения future) - 1 "
      ]
    },
    {
      "cell_type": "markdown",
      "metadata": {
        "id": "1MdvYB0zqcnD"
      },
      "source": [
        "### Вещественные числа"
      ]
    },
    {
      "cell_type": "code",
      "execution_count": null,
      "metadata": {
        "id": "8qdM9lfLqcnE",
        "outputId": "1b04d5e7-28be-4a28-f316-3fdc07d692f8",
        "colab": {
          "base_uri": "https://localhost:8080/"
        }
      },
      "outputs": [
        {
          "output_type": "stream",
          "name": "stdout",
          "text": [
            "0.2\n"
          ]
        }
      ],
      "source": [
        "print(.1 + .1)"
      ]
    },
    {
      "cell_type": "markdown",
      "metadata": {
        "id": "81H7u2kFqcnE"
      },
      "source": [
        "### Комплексные числа"
      ]
    },
    {
      "cell_type": "code",
      "execution_count": null,
      "metadata": {
        "id": "syygY8sBqcnF",
        "outputId": "8eeb859f-ba38-433e-daf0-0aadfae9524d",
        "colab": {
          "base_uri": "https://localhost:8080/"
        }
      },
      "outputs": [
        {
          "output_type": "stream",
          "name": "stdout",
          "text": [
            "|(2+3j)| = 3.605551275463989\n",
            "(1+1j) * (2+3j) = (-1+5j)\n"
          ]
        }
      ],
      "source": [
        "print(\"|{0}| = {1}\".format(complex(2, 3), abs(complex(2, 3))))\n",
        "print(\"{0} * {1} = {2}\".format(complex(1, 1), complex(2, 3), complex(1, 1) * complex(2, 3)))"
      ]
    },
    {
      "cell_type": "code",
      "execution_count": null,
      "metadata": {
        "id": "y0iFeE6rqcnF",
        "outputId": "adf55e92-3d36-4dfa-a453-70bac9bca449",
        "colab": {
          "base_uri": "https://localhost:8080/"
        }
      },
      "outputs": [
        {
          "output_type": "execute_result",
          "data": {
            "text/plain": [
              "(-5+10j)"
            ]
          },
          "metadata": {},
          "execution_count": 11
        }
      ],
      "source": [
        "(1 + 2j) * (3+4j)"
      ]
    },
    {
      "cell_type": "markdown",
      "metadata": {
        "id": "qkIWt_3uqcnF"
      },
      "source": [
        "### Числа фиксированной точности и рациональные числа"
      ]
    },
    {
      "cell_type": "markdown",
      "metadata": {
        "id": "8yheSiyrqcnF"
      },
      "source": [
        "Для решения проблем, связанных с точностью представления простых вещественных чисел введены\n",
        "вещественные числа с фиксированной точностью и рациональные числа (числа, представленные дробью, то есть парой целых чисел – числителем и знаменателем)."
      ]
    },
    {
      "cell_type": "code",
      "execution_count": null,
      "metadata": {
        "id": "mk3ZwgvBqcnF",
        "outputId": "61d702cd-4ae6-40b0-9330-5207dc3c987e",
        "colab": {
          "base_uri": "https://localhost:8080/"
        }
      },
      "outputs": [
        {
          "output_type": "stream",
          "name": "stdout",
          "text": [
            "0.3666666666666667\n"
          ]
        },
        {
          "output_type": "execute_result",
          "data": {
            "text/plain": [
              "True"
            ]
          },
          "metadata": {},
          "execution_count": 219
        }
      ],
      "source": [
        "print(1.1/3)\n",
        "from decimal import Decimal\n",
        "from decimal import getcontext\n",
        "\n",
        "getcontext().prec = 3\n",
        "Decimal('4') / 3 == Decimal('1.33')"
      ]
    },
    {
      "cell_type": "code",
      "execution_count": null,
      "metadata": {
        "id": "5JsjWuHaqcnG",
        "outputId": "797ecd69-3b17-401e-8f1c-6afce0756b8a",
        "colab": {
          "base_uri": "https://localhost:8080/"
        }
      },
      "outputs": [
        {
          "output_type": "stream",
          "name": "stdout",
          "text": [
            "0.37\n"
          ]
        }
      ],
      "source": [
        "from decimal import Decimal\n",
        "from decimal import getcontext\n",
        "getcontext().prec = 2\n",
        "print(Decimal('1.10') / 3)"
      ]
    },
    {
      "cell_type": "code",
      "execution_count": null,
      "metadata": {
        "id": "W_V05Wm0qcnG",
        "outputId": "39a694ec-968c-4fd4-922a-ab8e88a2c4e5",
        "colab": {
          "base_uri": "https://localhost:8080/"
        }
      },
      "outputs": [
        {
          "output_type": "stream",
          "name": "stdout",
          "text": [
            "0.09859154929577464\n",
            "False\n"
          ]
        }
      ],
      "source": [
        "print(7 / 71)\n",
        "print(7 / 71 * 71 == 7)"
      ]
    },
    {
      "cell_type": "code",
      "execution_count": null,
      "metadata": {
        "id": "dF0MbFwWqcnG",
        "outputId": "004722b7-218c-43bb-ce9a-d2f45bccb2ab",
        "colab": {
          "base_uri": "https://localhost:8080/"
        }
      },
      "outputs": [
        {
          "output_type": "stream",
          "name": "stdout",
          "text": [
            "True\n"
          ]
        }
      ],
      "source": [
        "from fractions import Fraction\n",
        "print(Fraction(7, 71) * 71 == 7)"
      ]
    },
    {
      "cell_type": "markdown",
      "metadata": {
        "id": "qoHjYsxtqcnG"
      },
      "source": [
        "### Приоритет арифметических операций в Python\n",
        "\n",
        "Чем выше оператор, тем больше приоритет.\n",
        "\n",
        "<img src=\"https://ylianova.ru/800/600/https/i.imgur.com/s6xAan5.png\">"
      ]
    },
    {
      "cell_type": "markdown",
      "metadata": {
        "id": "binBYUfCrG_P"
      },
      "source": [
        "## Часть 3. Строки"
      ]
    },
    {
      "cell_type": "markdown",
      "metadata": {
        "id": "18rPBC1frG_Q"
      },
      "source": [
        "### Строки выделяются одинарными или двойными кавычками"
      ]
    },
    {
      "cell_type": "code",
      "execution_count": null,
      "metadata": {
        "collapsed": true,
        "id": "00RZHeoyrG_R"
      },
      "outputs": [],
      "source": [
        "my_string = \"This is a \\\"double\\\"-quoted string.\"\n",
        "my_string = 'This is a \\'single-quoted\\' string.'"
      ]
    },
    {
      "cell_type": "code",
      "execution_count": null,
      "metadata": {
        "collapsed": true,
        "id": "0rPxq6XurG_R"
      },
      "outputs": [],
      "source": [
        "quote = \"Linus Torvalds once said, 'Any program is only as good as it is useful.'\""
      ]
    },
    {
      "cell_type": "code",
      "execution_count": null,
      "metadata": {
        "id": "c0nUgurtrG_S",
        "colab": {
          "base_uri": "https://localhost:8080/"
        },
        "outputId": "f0ffe4e8-a62d-42fd-d91a-fb362cd36243"
      },
      "outputs": [
        {
          "output_type": "stream",
          "name": "stdout",
          "text": [
            "eric\n",
            "Eric\n",
            "eric\n"
          ]
        }
      ],
      "source": [
        "first_name = 'eric'\n",
        "\n",
        "print(first_name)\n",
        "print(first_name.title())\n",
        "print(first_name)"
      ]
    },
    {
      "cell_type": "markdown",
      "metadata": {
        "id": "yGFQsWtCrG_S"
      },
      "source": [
        "### Разные регистры"
      ]
    },
    {
      "cell_type": "code",
      "execution_count": null,
      "metadata": {
        "id": "Ibh4ZsaRrG_T",
        "colab": {
          "base_uri": "https://localhost:8080/"
        },
        "outputId": "883dd175-3304-4bf9-8c71-992e98275f1d"
      },
      "outputs": [
        {
          "output_type": "stream",
          "name": "stdout",
          "text": [
            "eric\n",
            "Eric\n",
            "ERIC\n",
            "eric\n"
          ]
        }
      ],
      "source": [
        "first_name = 'eric'\n",
        "\n",
        "print(first_name)\n",
        "print(first_name.title())\n",
        "print(first_name.upper())\n",
        "\n",
        "first_name = 'Eric'\n",
        "print(first_name.lower())"
      ]
    },
    {
      "cell_type": "markdown",
      "metadata": {
        "id": "JyMWx7VxrG_T"
      },
      "source": [
        "*upper()*, *lower()* и *title()* - это методы. \n",
        "\n",
        "Синтаксис: variable_name.action()\n",
        "\n",
        "*action* - это название метода, который можно применить к переменной *variable_name*. В скобках можно указывать другие переменные (аргументы) метода. "
      ]
    },
    {
      "cell_type": "markdown",
      "metadata": {
        "id": "SrTO9EmrrG_T"
      },
      "source": [
        "### Конкатенация (\"склеивание\") строк"
      ]
    },
    {
      "cell_type": "code",
      "execution_count": null,
      "metadata": {
        "id": "ofXmvRgtrG_T",
        "outputId": "44e91fa9-87c4-4f8b-d4e7-a8c3e62c8838",
        "colab": {
          "base_uri": "https://localhost:8080/"
        }
      },
      "outputs": [
        {
          "output_type": "stream",
          "name": "stdout",
          "text": [
            "Ada Lovelace\n"
          ]
        }
      ],
      "source": [
        "first_name = 'ada'\n",
        "last_name = 'lovelace'\n",
        "\n",
        "full_name = first_name + ' ' + last_name\n",
        "\n",
        "print(full_name.title())"
      ]
    },
    {
      "cell_type": "code",
      "execution_count": null,
      "metadata": {
        "id": "b-1sUDK1rG_U",
        "outputId": "daf6527d-1162-492c-bfa7-fb6d928fd9f1",
        "colab": {
          "base_uri": "https://localhost:8080/"
        }
      },
      "outputs": [
        {
          "output_type": "stream",
          "name": "stdout",
          "text": [
            "Ada Lovelace was considered the world's first computer programmer.\n"
          ]
        }
      ],
      "source": [
        "first_name = 'ada'\n",
        "last_name = 'lovelace'\n",
        "full_name = first_name + ' ' + last_name\n",
        "\n",
        "message = full_name.title() + ' ' + \"was considered the world's first computer programmer.\"\n",
        "\n",
        "print(message)"
      ]
    },
    {
      "cell_type": "markdown",
      "metadata": {
        "id": "QLbendEGrG_U"
      },
      "source": [
        "### Пробельные символы (whitespaces)\n",
        " - \" \" - пробел (очевидно)\n",
        " - \"\\t\" - табуляция\n",
        " - \"\\n\" - перенос строки"
      ]
    },
    {
      "cell_type": "code",
      "execution_count": null,
      "metadata": {
        "id": "4hN-PYv-rG_V",
        "colab": {
          "base_uri": "https://localhost:8080/"
        },
        "outputId": "e30453a1-5011-4b42-dbac-cd195c07867e"
      },
      "outputs": [
        {
          "output_type": "stream",
          "name": "stdout",
          "text": [
            "Hello everyone!\n"
          ]
        }
      ],
      "source": [
        "print(\"Hello everyone!\")"
      ]
    },
    {
      "cell_type": "code",
      "execution_count": null,
      "metadata": {
        "id": "2YBSRpYhrG_V",
        "colab": {
          "base_uri": "https://localhost:8080/"
        },
        "outputId": "a98996e6-c833-479f-de5f-fd56a742246f"
      },
      "outputs": [
        {
          "output_type": "stream",
          "name": "stdout",
          "text": [
            "\tHello everyone!\n"
          ]
        }
      ],
      "source": [
        "print(\"\\tHello everyone!\")"
      ]
    },
    {
      "cell_type": "code",
      "execution_count": null,
      "metadata": {
        "id": "7v9y_dEYrG_V",
        "colab": {
          "base_uri": "https://localhost:8080/"
        },
        "outputId": "a6ed2351-d1d6-4e3f-ea58-e578dc18196f"
      },
      "outputs": [
        {
          "output_type": "stream",
          "name": "stdout",
          "text": [
            "Hello \teveryone!\n"
          ]
        }
      ],
      "source": [
        "print(\"Hello \\teveryone!\")"
      ]
    },
    {
      "cell_type": "code",
      "execution_count": null,
      "metadata": {
        "id": "YyGMbBm7rG_V",
        "colab": {
          "base_uri": "https://localhost:8080/"
        },
        "outputId": "7035ae41-92c1-4b64-c7f2-210622b705d0"
      },
      "outputs": [
        {
          "output_type": "stream",
          "name": "stdout",
          "text": [
            "Hello everyone!\n"
          ]
        }
      ],
      "source": [
        "print(\"Hello everyone!\")"
      ]
    },
    {
      "cell_type": "code",
      "execution_count": null,
      "metadata": {
        "id": "nbeTHaCWrG_V",
        "outputId": "b1af101d-da52-4133-9734-3c175c0b3da7",
        "colab": {
          "base_uri": "https://localhost:8080/"
        }
      },
      "outputs": [
        {
          "output_type": "stream",
          "name": "stdout",
          "text": [
            "Hello!\n",
            "\n",
            "Hello everyone!\n"
          ]
        }
      ],
      "source": [
        "print(\"Hello!\\n\")\n",
        "print(\"Hello everyone!\")"
      ]
    },
    {
      "cell_type": "code",
      "execution_count": null,
      "metadata": {
        "id": "_L_JDrL7rG_W",
        "colab": {
          "base_uri": "https://localhost:8080/"
        },
        "outputId": "c480c0d6-5e36-4a6b-fb0c-cb40269b62cd"
      },
      "outputs": [
        {
          "output_type": "stream",
          "name": "stdout",
          "text": [
            "Hello\n",
            " everyone!\n"
          ]
        }
      ],
      "source": [
        "print(\"Hello\\n everyone!\")"
      ]
    },
    {
      "cell_type": "code",
      "execution_count": null,
      "metadata": {
        "id": "9DM8lHerrG_W",
        "outputId": "d1bca557-a3b8-4954-e082-4427729a527a",
        "colab": {
          "base_uri": "https://localhost:8080/"
        }
      },
      "outputs": [
        {
          "output_type": "stream",
          "name": "stdout",
          "text": [
            "\n",
            "\n",
            "\n",
            "Hello everyone!\n"
          ]
        }
      ],
      "source": [
        "print(\"\\n\\n\\nHello everyone!\")"
      ]
    },
    {
      "cell_type": "markdown",
      "metadata": {
        "id": "bd6akThErG_W"
      },
      "source": [
        "### Удаление лишних пробельных символов\n",
        "\n",
        "Часто при заполнении веб-форм появляются лишние пробелы слева и/или справа. От них можно избавиться"
      ]
    },
    {
      "cell_type": "code",
      "execution_count": null,
      "metadata": {
        "id": "jTAJWF1mrG_W",
        "colab": {
          "base_uri": "https://localhost:8080/"
        },
        "outputId": "fb5e955b-06a1-4bf0-b5a0-24a8b16b58a3"
      },
      "outputs": [
        {
          "output_type": "stream",
          "name": "stdout",
          "text": [
            "eric \n",
            " eric\n",
            "eric\n"
          ]
        }
      ],
      "source": [
        "name = ' eric '\n",
        "\n",
        "print(name.lstrip())\n",
        "print(name.rstrip())\n",
        "print(name.strip())"
      ]
    },
    {
      "cell_type": "markdown",
      "metadata": {
        "id": "mJNL2z9RrG_W"
      },
      "source": [
        "Так нагляднее:"
      ]
    },
    {
      "cell_type": "code",
      "execution_count": null,
      "metadata": {
        "id": "MAXQJW0orG_X",
        "outputId": "b2b9342f-c84f-4b4f-ab95-ea7ffbf57138",
        "colab": {
          "base_uri": "https://localhost:8080/"
        }
      },
      "outputs": [
        {
          "output_type": "stream",
          "name": "stdout",
          "text": [
            "-eric -\n",
            "- eric-\n",
            "-eric-\n"
          ]
        }
      ],
      "source": [
        "name = ' eric '\n",
        "\n",
        "print('-' + name.lstrip() + '-')\n",
        "print('-' + name.rstrip() + '-')\n",
        "print('-' + name.strip() + '-')"
      ]
    },
    {
      "cell_type": "markdown",
      "metadata": {
        "id": "rlrX613BrG_X"
      },
      "source": [
        "Избавляться можно не только от пробелов. Здесь ',' - аргумент методов *lstrip()*, *rstrip()* и *strip()*"
      ]
    },
    {
      "cell_type": "code",
      "execution_count": null,
      "metadata": {
        "id": "5nykiHcgrG_X",
        "outputId": "b85731ff-0b3f-421d-e46d-542de3796c39",
        "colab": {
          "base_uri": "https://localhost:8080/"
        }
      },
      "outputs": [
        {
          "output_type": "stream",
          "name": "stdout",
          "text": [
            "-eric ,-\n",
            "-,,,, eric-\n",
            "-eric-\n"
          ]
        }
      ],
      "source": [
        "name = ',,,, eric ,'\n",
        "\n",
        "print('-' + name.lstrip(', ') + '-')\n",
        "print('-' + name.rstrip(', ') + '-')\n",
        "print('-' + name.strip(', ') + '-')"
      ]
    },
    {
      "cell_type": "markdown",
      "metadata": {
        "id": "N-8IQdf-rG_X"
      },
      "source": [
        "### Методы для работы со строками\n",
        "Обзор на <a href=\"http://pythonworld.ru/tipy-dannyx-v-python/stroki-funkcii-i-metody-strok.html\">Pythonworld</a>\n",
        "\n",
        "Все методы строк:"
      ]
    },
    {
      "cell_type": "code",
      "execution_count": null,
      "metadata": {
        "id": "xE8mpFIVrG_X",
        "outputId": "9c6dd89f-d71d-45a7-93fc-d590e7d4b291",
        "colab": {
          "base_uri": "https://localhost:8080/"
        }
      },
      "outputs": [
        {
          "output_type": "execute_result",
          "data": {
            "text/plain": [
              "['__add__',\n",
              " '__class__',\n",
              " '__contains__',\n",
              " '__delattr__',\n",
              " '__dir__',\n",
              " '__doc__',\n",
              " '__eq__',\n",
              " '__format__',\n",
              " '__ge__',\n",
              " '__getattribute__',\n",
              " '__getitem__',\n",
              " '__getnewargs__',\n",
              " '__gt__',\n",
              " '__hash__',\n",
              " '__init__',\n",
              " '__init_subclass__',\n",
              " '__iter__',\n",
              " '__le__',\n",
              " '__len__',\n",
              " '__lt__',\n",
              " '__mod__',\n",
              " '__mul__',\n",
              " '__ne__',\n",
              " '__new__',\n",
              " '__reduce__',\n",
              " '__reduce_ex__',\n",
              " '__repr__',\n",
              " '__rmod__',\n",
              " '__rmul__',\n",
              " '__setattr__',\n",
              " '__sizeof__',\n",
              " '__str__',\n",
              " '__subclasshook__',\n",
              " 'capitalize',\n",
              " 'casefold',\n",
              " 'center',\n",
              " 'count',\n",
              " 'encode',\n",
              " 'endswith',\n",
              " 'expandtabs',\n",
              " 'find',\n",
              " 'format',\n",
              " 'format_map',\n",
              " 'index',\n",
              " 'isalnum',\n",
              " 'isalpha',\n",
              " 'isascii',\n",
              " 'isdecimal',\n",
              " 'isdigit',\n",
              " 'isidentifier',\n",
              " 'islower',\n",
              " 'isnumeric',\n",
              " 'isprintable',\n",
              " 'isspace',\n",
              " 'istitle',\n",
              " 'isupper',\n",
              " 'join',\n",
              " 'ljust',\n",
              " 'lower',\n",
              " 'lstrip',\n",
              " 'maketrans',\n",
              " 'partition',\n",
              " 'replace',\n",
              " 'rfind',\n",
              " 'rindex',\n",
              " 'rjust',\n",
              " 'rpartition',\n",
              " 'rsplit',\n",
              " 'rstrip',\n",
              " 'split',\n",
              " 'splitlines',\n",
              " 'startswith',\n",
              " 'strip',\n",
              " 'swapcase',\n",
              " 'title',\n",
              " 'translate',\n",
              " 'upper',\n",
              " 'zfill']"
            ]
          },
          "metadata": {},
          "execution_count": 177
        }
      ],
      "source": [
        "dir(str)"
      ]
    },
    {
      "cell_type": "markdown",
      "metadata": {
        "id": "K_gMHWPlrG_X"
      },
      "source": [
        "**find** - поиск подстроки в строке. Возвращает номер первого вхождения или -1, если подстрока не найдена"
      ]
    },
    {
      "cell_type": "code",
      "execution_count": null,
      "metadata": {
        "id": "rSyFOgGwrG_Y",
        "outputId": "0fac5ac5-7e82-4c3b-b95d-9c077f1f4f11",
        "colab": {
          "base_uri": "https://localhost:8080/"
        }
      },
      "outputs": [
        {
          "output_type": "execute_result",
          "data": {
            "text/plain": [
              "0"
            ]
          },
          "metadata": {},
          "execution_count": 186
        }
      ],
      "source": [
        "\"we bought a new house and we are happy\".find(\"we\")"
      ]
    },
    {
      "cell_type": "markdown",
      "metadata": {
        "id": "vBG-Y6qIrG_Y"
      },
      "source": [
        "**rfind** - поиск подстроки в строке. Возвращает номер последнего вхождения или -1, если подстрока не найдена"
      ]
    },
    {
      "cell_type": "code",
      "execution_count": null,
      "metadata": {
        "id": "upwaEonLrG_Y",
        "outputId": "211f9857-1935-4b77-c187-9770b6f1ffee",
        "colab": {
          "base_uri": "https://localhost:8080/"
        }
      },
      "outputs": [
        {
          "output_type": "execute_result",
          "data": {
            "text/plain": [
              "26"
            ]
          },
          "metadata": {},
          "execution_count": 34
        }
      ],
      "source": [
        "\"we bought a new house and we are happy\".rfind(\"we\")"
      ]
    },
    {
      "cell_type": "markdown",
      "metadata": {
        "id": "KH2XgkqYrG_Y"
      },
      "source": [
        "**index** - поиск подстроки в строке. Возвращает номер первого вхождения или вызывает ValueError, если подстрока не найдена"
      ]
    },
    {
      "cell_type": "code",
      "execution_count": null,
      "metadata": {
        "id": "VsRHRU2xrG_Y",
        "outputId": "996a6023-eaa1-446d-8d73-25ac99dfe0a0",
        "colab": {
          "base_uri": "https://localhost:8080/"
        }
      },
      "outputs": [
        {
          "output_type": "execute_result",
          "data": {
            "text/plain": [
              "0"
            ]
          },
          "metadata": {},
          "execution_count": 184
        }
      ],
      "source": [
        "\"we bought a new house and we are happy\".index(\"we\")"
      ]
    },
    {
      "cell_type": "code",
      "execution_count": null,
      "metadata": {
        "id": "4sjeadHarG_Z",
        "outputId": "4fa3be5f-fb89-47b0-df7c-292a89dcc8d6",
        "colab": {
          "base_uri": "https://localhost:8080/"
        }
      },
      "outputs": [
        {
          "output_type": "error",
          "ename": "ValueError",
          "evalue": "ignored",
          "traceback": [
            "\u001b[0;31m---------------------------------------------------------------------------\u001b[0m",
            "\u001b[0;31mValueError\u001b[0m                                Traceback (most recent call last)",
            "\u001b[0;32m<ipython-input-187-631ddb9c52ce>\u001b[0m in \u001b[0;36m<module>\u001b[0;34m\u001b[0m\n\u001b[0;32m----> 1\u001b[0;31m \u001b[0;34m\"we bought a new house and we are happy\"\u001b[0m\u001b[0;34m.\u001b[0m\u001b[0mindex\u001b[0m\u001b[0;34m(\u001b[0m\u001b[0;34m\"land\"\u001b[0m\u001b[0;34m)\u001b[0m\u001b[0;34m\u001b[0m\u001b[0;34m\u001b[0m\u001b[0m\n\u001b[0m",
            "\u001b[0;31mValueError\u001b[0m: substring not found"
          ]
        }
      ],
      "source": [
        "\"we bought a new house and we are happy\".index(\"land\") # land не найден, поэтому ошибка"
      ]
    },
    {
      "cell_type": "markdown",
      "metadata": {
        "id": "OxdsFw8TrG_Z"
      },
      "source": [
        "**rindex** - поиск подстроки в строке. Возвращает номер последнего вхождения или вызывает ValueError"
      ]
    },
    {
      "cell_type": "code",
      "execution_count": null,
      "metadata": {
        "id": "Y327zgjjrG_Z",
        "outputId": "c1f7d699-68dd-401c-8221-20c49dc0c0d3",
        "colab": {
          "base_uri": "https://localhost:8080/"
        }
      },
      "outputs": [
        {
          "output_type": "execute_result",
          "data": {
            "text/plain": [
              "26"
            ]
          },
          "metadata": {},
          "execution_count": 188
        }
      ],
      "source": [
        "\"we bought a new house and we are happy\".rindex(\"we\")"
      ]
    },
    {
      "cell_type": "code",
      "execution_count": null,
      "metadata": {
        "id": "NfzUtnLPrG_Z",
        "outputId": "b039cf3a-8623-4fe2-af47-fea5b4d952ba",
        "colab": {
          "base_uri": "https://localhost:8080/"
        }
      },
      "outputs": [
        {
          "output_type": "error",
          "ename": "ValueError",
          "evalue": "ignored",
          "traceback": [
            "\u001b[0;31m---------------------------------------------------------------------------\u001b[0m",
            "\u001b[0;31mValueError\u001b[0m                                Traceback (most recent call last)",
            "\u001b[0;32m<ipython-input-189-10b900489e89>\u001b[0m in \u001b[0;36m<module>\u001b[0;34m\u001b[0m\n\u001b[0;32m----> 1\u001b[0;31m \u001b[0;34m\"we bought a new house and we are happy\"\u001b[0m\u001b[0;34m.\u001b[0m\u001b[0mrindex\u001b[0m\u001b[0;34m(\u001b[0m\u001b[0;34m\"land\"\u001b[0m\u001b[0;34m)\u001b[0m\u001b[0;34m\u001b[0m\u001b[0;34m\u001b[0m\u001b[0m\n\u001b[0m",
            "\u001b[0;31mValueError\u001b[0m: substring not found"
          ]
        }
      ],
      "source": [
        "\"we bought a new house and we are happy\".rindex(\"land\")"
      ]
    },
    {
      "cell_type": "markdown",
      "metadata": {
        "id": "P8gGWPDsrG_Z"
      },
      "source": [
        "**replace** - замена по шаблону\n",
        "\n",
        "**help** - показывает справочную информацию по любому объекту или методу"
      ]
    },
    {
      "cell_type": "code",
      "execution_count": null,
      "metadata": {
        "id": "aGlSMnd-rG_Z",
        "outputId": "e4f71f29-80c0-4b73-fbe3-ff7a29c59b9e",
        "colab": {
          "base_uri": "https://localhost:8080/"
        }
      },
      "outputs": [
        {
          "output_type": "stream",
          "name": "stdout",
          "text": [
            "Help on method_descriptor:\n",
            "\n",
            "replace(self, old, new, count=-1, /)\n",
            "    Return a copy with all occurrences of substring old replaced by new.\n",
            "    \n",
            "      count\n",
            "        Maximum number of occurrences to replace.\n",
            "        -1 (the default value) means replace all occurrences.\n",
            "    \n",
            "    If the optional argument count is given, only the first count occurrences are\n",
            "    replaced.\n",
            "\n"
          ]
        }
      ],
      "source": [
        "help(str.replace)"
      ]
    },
    {
      "cell_type": "code",
      "execution_count": null,
      "metadata": {
        "id": "YgabiAMQrG_Z",
        "outputId": "4d68be1c-5208-4885-eac1-138725448bd2",
        "colab": {
          "base_uri": "https://localhost:8080/"
        }
      },
      "outputs": [
        {
          "output_type": "execute_result",
          "data": {
            "text/plain": [
              "'we bought a new building'"
            ],
            "application/vnd.google.colaboratory.intrinsic+json": {
              "type": "string"
            }
          },
          "metadata": {},
          "execution_count": 191
        }
      ],
      "source": [
        "\"we bought a new house\".replace(\"house\", \"building\")"
      ]
    },
    {
      "cell_type": "code",
      "execution_count": null,
      "metadata": {
        "id": "oOUZzt95rG_Z",
        "outputId": "b46836c6-654d-4454-95e7-9e4d5ffd8117",
        "colab": {
          "base_uri": "https://localhost:8080/"
        }
      },
      "outputs": [
        {
          "output_type": "execute_result",
          "data": {
            "text/plain": [
              "'wow wow bla'"
            ],
            "application/vnd.google.colaboratory.intrinsic+json": {
              "type": "string"
            }
          },
          "metadata": {},
          "execution_count": 224
        }
      ],
      "source": [
        "\"bla bla bla\".replace(\"bla\", \"wow\", 2)"
      ]
    },
    {
      "cell_type": "markdown",
      "metadata": {
        "id": "6pdpOxD6rG_a"
      },
      "source": [
        "**split** - разбиение строки по разделителю"
      ]
    },
    {
      "cell_type": "code",
      "execution_count": null,
      "metadata": {
        "outputId": "4cb42552-d7d9-41cb-e40c-7e91ec2eb1a7",
        "colab": {
          "base_uri": "https://localhost:8080/"
        },
        "id": "LR8u3010Bx0l"
      },
      "outputs": [
        {
          "output_type": "execute_result",
          "data": {
            "text/plain": [
              "['hello', 'great', 'to', 'see', 'you']"
            ]
          },
          "metadata": {},
          "execution_count": 196
        }
      ],
      "source": [
        "\"hello great to see you\".split()"
      ]
    },
    {
      "cell_type": "code",
      "execution_count": null,
      "metadata": {
        "id": "JxPVh8vCrG_a",
        "outputId": "dff5a67d-1434-4bd1-aab6-e0ec09657ec0",
        "colab": {
          "base_uri": "https://localhost:8080/"
        }
      },
      "outputs": [
        {
          "output_type": "execute_result",
          "data": {
            "text/plain": [
              "['hello', 'great', 'to', 'see', 'you']"
            ]
          },
          "metadata": {},
          "execution_count": 42
        }
      ],
      "source": [
        "\"hello#$great#$to#$see#$you\".split(\"#$\")"
      ]
    },
    {
      "cell_type": "markdown",
      "metadata": {
        "id": "zDeIZBRjrG_a"
      },
      "source": [
        "- **isdigit** - состоит ли строка из цифр;\n",
        "- **isalpha** - состоит ли строка из букв;\n",
        "- **isalnum** - состоит ли строка из цифр или букв;\n",
        "- **islower** - состоит ли строка из символов в нижнем регистре;\n",
        "- **isupper** - состоит ли строка из символов в верхнем регистре;\n",
        "- **istitle** - начинаются ли слова в строке с заглавной буквы."
      ]
    },
    {
      "cell_type": "markdown",
      "metadata": {
        "collapsed": true,
        "id": "7G2neKXvrG_a"
      },
      "source": [
        "**join** - сборка строки из списка по разделителю, применяется к разделителю"
      ]
    },
    {
      "cell_type": "code",
      "execution_count": null,
      "metadata": {
        "id": "0ynMZFYVrG_a",
        "outputId": "df68743f-91b7-4747-cb5c-28885870e35a",
        "colab": {
          "base_uri": "https://localhost:8080/"
        }
      },
      "outputs": [
        {
          "output_type": "execute_result",
          "data": {
            "text/plain": [
              "'Ann + Leo + Tiffany'"
            ],
            "application/vnd.google.colaboratory.intrinsic+json": {
              "type": "string"
            }
          },
          "metadata": {},
          "execution_count": 199
        }
      ],
      "source": [
        "\" + \".join([\"Ann\", \"Leo\", \"Tiffany\"])"
      ]
    },
    {
      "cell_type": "markdown",
      "metadata": {
        "id": "jsQAbU8MrG_a"
      },
      "source": [
        "**format** - форматирование строки\n",
        "\n",
        "Пример"
      ]
    },
    {
      "cell_type": "code",
      "execution_count": null,
      "metadata": {
        "id": "FKIXjQBWrG_a",
        "outputId": "d62ad699-7a96-429d-a4c6-2ad7c5d19a9c",
        "colab": {
          "base_uri": "https://localhost:8080/"
        }
      },
      "outputs": [
        {
          "output_type": "stream",
          "name": "stdout",
          "text": [
            "Ann( age 29 ) is a Artist\n",
            "Ann( age 29 ) is a Artist\n"
          ]
        }
      ],
      "source": [
        "name = \"Ann\"\n",
        "age = 29\n",
        "occupation = \"Artist\"\n",
        "print(name + '( age', age, ') is a', occupation) # Плохо читается\n",
        "print(name + '( age '+ str(age) + ' ) is a ' + occupation) # Читается ещё хуже + работает медленней"
      ]
    },
    {
      "cell_type": "code",
      "execution_count": null,
      "metadata": {
        "outputId": "c0d55bcf-6cf1-4a68-a4ed-12a8a872bb11",
        "colab": {
          "base_uri": "https://localhost:8080/"
        },
        "id": "xeI2TOKuEPIv"
      },
      "outputs": [
        {
          "output_type": "stream",
          "name": "stdout",
          "text": [
            "Ann ( age 29 ) is a Artist\n"
          ]
        }
      ],
      "source": [
        "name = \"Ann\"\n",
        "age = 29\n",
        "occupation = \"Artist\"\n",
        "print(f\"{name} ( age {age} ) is a {occupation}\")"
      ]
    },
    {
      "cell_type": "code",
      "execution_count": null,
      "metadata": {
        "outputId": "09bbc86b-e26a-4c58-b326-9d4d926fd300",
        "colab": {
          "base_uri": "https://localhost:8080/"
        },
        "id": "JFHv8ieqCt4g"
      },
      "outputs": [
        {
          "output_type": "stream",
          "name": "stdout",
          "text": [
            "Ann ( age 29 ) is a Artist\n"
          ]
        }
      ],
      "source": [
        "name = \"Ann\"\n",
        "age = 29\n",
        "occupation = \"Artist\"\n",
        "print(\"{0} ( age {1} ) is a {2}\".format(name, age, occupation))"
      ]
    },
    {
      "cell_type": "markdown",
      "metadata": {
        "id": "TVaucnRar29j"
      },
      "source": [
        "## Часть 4. Переменные типа Bool. Условный оператор"
      ]
    },
    {
      "cell_type": "markdown",
      "metadata": {
        "id": "gXC724C5r29l"
      },
      "source": [
        "Для управления логикой программы нужен еще один тип переменной - bool. Переменная типа bool имеет всего два значения - True и False."
      ]
    },
    {
      "cell_type": "code",
      "execution_count": null,
      "metadata": {
        "id": "5lPIv1V5r29l",
        "outputId": "c6293a4d-c2fd-4703-c0e9-36e1fde314f6",
        "colab": {
          "base_uri": "https://localhost:8080/"
        }
      },
      "outputs": [
        {
          "output_type": "stream",
          "name": "stdout",
          "text": [
            "<class 'bool'>\n",
            "False\n",
            "<class 'bool'>\n",
            "True\n",
            "<class 'bool'>\n"
          ]
        }
      ],
      "source": [
        "is_connected = True\n",
        "print(type(is_connected))\n",
        "\n",
        "a, b = 5, 6\n",
        "a_greater_b = a > b\n",
        "print(a_greater_b)\n",
        "print(type(a_greater_b))\n",
        "\n",
        "c = bool(1)\n",
        "print(c)\n",
        "print(type(c))"
      ]
    },
    {
      "cell_type": "markdown",
      "metadata": {
        "id": "bPnHp7i2r29m"
      },
      "source": [
        "#### В простейшем виде условная инструкция в Питоне имеет следующий синтаксис:\n",
        "\n",
        "```python\n",
        "if Условие:\n",
        "   \n",
        "    Блок инструкций 1\n",
        "\n",
        "else:\n",
        "   \n",
        "    Блок инструкций 2\n",
        "```"
      ]
    },
    {
      "cell_type": "markdown",
      "metadata": {
        "id": "KjKyV1mMr29m"
      },
      "source": [
        "#### Пример\n",
        "\n",
        "Если число делится на 7, напечатать это число и строку \"YES\", в противном случае - \"NO\""
      ]
    },
    {
      "cell_type": "code",
      "execution_count": null,
      "metadata": {
        "id": "9e6Mw7tTr29n",
        "outputId": "c906f45b-8926-471d-c6ca-6235cc025ee5",
        "colab": {
          "base_uri": "https://localhost:8080/"
        }
      },
      "outputs": [
        {
          "output_type": "stream",
          "name": "stdout",
          "text": [
            "Insert a number: 56\n",
            "56\n",
            "YES\n"
          ]
        }
      ],
      "source": [
        "a = int(input(\"Insert a number: \"))\n",
        "if a % 7 == 0:\n",
        "    print(a)\n",
        "    print(\"YES\")\n",
        "else:\n",
        "    print(\"NO\")"
      ]
    },
    {
      "cell_type": "markdown",
      "metadata": {
        "id": "FHxrm6OTr29n"
      },
      "source": [
        "#### Если в каждом блоке всего по одной инструкции, можно использовать сокращенный синтаксис:\n",
        "\n",
        "Инструкция 1 if Условие else Инструкция 2"
      ]
    },
    {
      "cell_type": "code",
      "execution_count": null,
      "metadata": {
        "id": "L9fqzK7mr29o",
        "outputId": "93a3854d-3a05-497f-f9c7-a2b9f084e089",
        "colab": {
          "base_uri": "https://localhost:8080/"
        }
      },
      "outputs": [
        {
          "output_type": "stream",
          "name": "stdout",
          "text": [
            "0.07\n"
          ]
        }
      ],
      "source": [
        "has_debts = True\n",
        "comission = 0.07 if has_debts else 0.05\n",
        "print(comission)"
      ]
    },
    {
      "cell_type": "markdown",
      "metadata": {
        "id": "I75p0j6wr29o"
      },
      "source": [
        "#### Пример \n",
        "Написать, что число четное или нечетное"
      ]
    },
    {
      "cell_type": "code",
      "execution_count": null,
      "metadata": {
        "id": "X9wmW9k3r29o",
        "outputId": "117f0124-5e9d-4206-de7b-4dc1b7b53efa",
        "colab": {
          "base_uri": "https://localhost:8080/"
        }
      },
      "outputs": [
        {
          "output_type": "stream",
          "name": "stdout",
          "text": [
            "Insert a number: 7\n",
            "7 is odd\n"
          ]
        }
      ],
      "source": [
        "a = int(input(\"Insert a number: \"))\n",
        "print(str(a) + \" is \" + (\"even\" if a % 2 == 0 else \"odd\"))"
      ]
    },
    {
      "cell_type": "markdown",
      "metadata": {
        "id": "nksTPb7Cr29p"
      },
      "source": [
        "#### Условные конструкции могут быть вложенными. \n",
        "\n",
        "```python\n",
        "if Условие1:\n",
        "    \n",
        "    if Условие2:\n",
        "    \n",
        "        Блок инструкций 1\n",
        "        \n",
        "        ...\n",
        "        \n",
        "    else:\n",
        "    \n",
        "        Блок инструкций 2\n",
        "        \n",
        "else:\n",
        "   \n",
        "    Блок инструкций 3\n",
        "```"
      ]
    },
    {
      "cell_type": "markdown",
      "metadata": {
        "id": "vMJGYupGr29p"
      },
      "source": [
        "#### Пример\n",
        "Определить, в какой четверти находится точка, по ее координатам *(x, y)*"
      ]
    },
    {
      "cell_type": "code",
      "execution_count": null,
      "metadata": {
        "id": "9ZV54Rt5r29p",
        "outputId": "fe4d2e9f-7088-4a38-e95c-3c598628fcfb",
        "colab": {
          "base_uri": "https://localhost:8080/"
        }
      },
      "outputs": [
        {
          "output_type": "stream",
          "name": "stdout",
          "text": [
            "Введите x: 1\n",
            "Введите y: 2\n",
            "Первая четверть\n"
          ]
        }
      ],
      "source": [
        "x = int(input(\"Введите x: \"))\n",
        "y = int(input(\"Введите y: \"))\n",
        "if x > 0:\n",
        "    if y > 0:               # x>0, y>0\n",
        "        print(\"Первая четверть\")\n",
        "    else:                   # x>0, y<0\n",
        "        print(\"Четвертая четверть\")\n",
        "else:\n",
        "    if y > 0:               # x<0, y>0\n",
        "        print(\"Вторая четверть\")\n",
        "    else:                   # x<0, y<0\n",
        "        print(\"Третья четверть\")"
      ]
    },
    {
      "cell_type": "markdown",
      "metadata": {
        "id": "tYbaP2Sxr29p"
      },
      "source": [
        "#### Однако, не стоит злоупотреблять вложением конструкций. Если их слишком много вложенных друг в друга, читаемость кода сильно страдает (\"спагетти-код\") и разобраться в нем сложнее"
      ]
    },
    {
      "cell_type": "markdown",
      "metadata": {
        "id": "WyE44sDyr29q"
      },
      "source": [
        "#### Блок *if-elif-else* (каскадная конструкция)\n",
        "\n",
        "```python\n",
        "if Условие 1:\n",
        "   \n",
        "    Блок инструкций 1\n",
        "\n",
        "elif Условие 2:\n",
        "\n",
        "    Блок инструкций 2\n",
        "    \n",
        "...\n",
        "\n",
        "elif Условие n:\n",
        "\n",
        "    Блок инструкций n\n",
        "    \n",
        "else:\n",
        "   \n",
        "    Блок инструкций n+1\n",
        "```"
      ]
    },
    {
      "cell_type": "markdown",
      "source": [
        "Тот же пример, что и выше, но через `elif`:"
      ],
      "metadata": {
        "id": "ggl7XCkTM3qY"
      }
    },
    {
      "cell_type": "code",
      "execution_count": null,
      "metadata": {
        "id": "7T9j_4cKr29q",
        "outputId": "909ddf23-5acf-4616-e6b5-bf346557536e",
        "colab": {
          "base_uri": "https://localhost:8080/"
        }
      },
      "outputs": [
        {
          "output_type": "stream",
          "name": "stdout",
          "text": [
            "Введите x: 1\n",
            "Введите y: 1\n",
            "Первая четверть\n"
          ]
        }
      ],
      "source": [
        "x = int(input(\"Введите x: \"))\n",
        "y = int(input(\"Введите y: \"))\n",
        "if x > 0 and y > 0:\n",
        "    print(\"Первая четверть\")\n",
        "elif x > 0 and y < 0:\n",
        "    print(\"Четвертая четверть\")\n",
        "elif y > 0:\n",
        "    print(\"Вторая четверть\")\n",
        "else:\n",
        "    print(\"Третья четверть\")"
      ]
    },
    {
      "cell_type": "code",
      "source": [
        "print(1 < 0 < 3)\n",
        "# print((1 < 0) < 3) с точки зрения js\n",
        "# print((1 < 0) and (0 < 3)) с точки зрения Python"
      ],
      "metadata": {
        "colab": {
          "base_uri": "https://localhost:8080/"
        },
        "id": "zMdcFYpXH-wc",
        "outputId": "81d0b1e0-f7c4-46a4-e93c-aef09fd347cb"
      },
      "execution_count": null,
      "outputs": [
        {
          "output_type": "stream",
          "name": "stdout",
          "text": [
            "False\n"
          ]
        }
      ]
    },
    {
      "cell_type": "markdown",
      "metadata": {
        "id": "tBVtuc0Rsqak"
      },
      "source": [
        "## Часть 5. Циклы"
      ]
    },
    {
      "cell_type": "markdown",
      "metadata": {
        "id": "DZpF7jKasqak"
      },
      "source": [
        "### Цикл While \n",
        "\n",
        "Цикл While очень удобен, потому что он позволяет Вашей программе работать, пока Вы не решите её остановить. Эта конструкция позволяет организовать бесконечный цикл, который ждет действий пользователя. "
      ]
    },
    {
      "cell_type": "markdown",
      "metadata": {
        "id": "PXl_jmBHsqal"
      },
      "source": [
        "#### Что такое цикл while?\n",
        "\n",
        "Цикл while проверяет начальные условия. Если условие выполняется, цикл начинает работать. Каждый раз когда проходит одна итерация, условие проверяется снова. До тех пор, пока условие выполняется, цикл продолжает работать. Как только условие перестает выполняться, цикл заканчивает свою работу."
      ]
    },
    {
      "cell_type": "markdown",
      "metadata": {
        "id": "9xnx-dEqsqal"
      },
      "source": [
        "#### Общий синтаксис"
      ]
    },
    {
      "cell_type": "markdown",
      "source": [
        "Следующий код демострирует распространённую ошибку при испольщовании цикла `while`:"
      ],
      "metadata": {
        "id": "XWvj3pBANNiI"
      }
    },
    {
      "cell_type": "code",
      "execution_count": null,
      "metadata": {
        "id": "Ez34Eoaisqan",
        "colab": {
          "base_uri": "https://localhost:8080/"
        },
        "outputId": "55e38668-be4b-4a3e-d52a-e7b6334f3318"
      },
      "outputs": [
        {
          "output_type": "error",
          "ename": "KeyboardInterrupt",
          "evalue": "ignored",
          "traceback": [
            "\u001b[0;31m---------------------------------------------------------------------------\u001b[0m",
            "\u001b[0;31mKeyboardInterrupt\u001b[0m                         Traceback (most recent call last)",
            "\u001b[0;32m<ipython-input-1-b6101d430598>\u001b[0m in \u001b[0;36m<module>\u001b[0;34m\u001b[0m\n\u001b[1;32m      8\u001b[0m     \u001b[0;31m# В какой-то момент времени необходимо изменить значение game_active на False.\u001b[0m\u001b[0;34m\u001b[0m\u001b[0;34m\u001b[0m\u001b[0;34m\u001b[0m\u001b[0m\n\u001b[1;32m      9\u001b[0m     \u001b[0;31m# Когда это случится, цикл закончит свою работу\u001b[0m\u001b[0;34m\u001b[0m\u001b[0;34m\u001b[0m\u001b[0;34m\u001b[0m\u001b[0m\n\u001b[0;32m---> 10\u001b[0;31m     \u001b[0;32mif\u001b[0m \u001b[0mlives\u001b[0m \u001b[0;34m==\u001b[0m \u001b[0;36m0\u001b[0m\u001b[0;34m:\u001b[0m\u001b[0;34m\u001b[0m\u001b[0;34m\u001b[0m\u001b[0m\n\u001b[0m\u001b[1;32m     11\u001b[0m         \u001b[0mprint\u001b[0m\u001b[0;34m(\u001b[0m\u001b[0;34m\"Game Over!\"\u001b[0m\u001b[0;34m)\u001b[0m\u001b[0;34m\u001b[0m\u001b[0;34m\u001b[0m\u001b[0m\n\u001b[1;32m     12\u001b[0m         \u001b[0;32mbreak\u001b[0m\u001b[0;34m\u001b[0m\u001b[0;34m\u001b[0m\u001b[0m\n",
            "\u001b[0;31mKeyboardInterrupt\u001b[0m: "
          ]
        }
      ],
      "source": [
        "# Некоторое начальное условие\n",
        "game_active = True\n",
        "\n",
        "lives = 3\n",
        "# Сам цикл while \n",
        "while game_active:\n",
        "    # Запускаем игру.\n",
        "    # В какой-то момент времени необходимо изменить значение game_active на False.\n",
        "    # Когда это случится, цикл закончит свою работу\n",
        "    if lives == 0:\n",
        "        print(\"Game Over!\")\n",
        "        break\n",
        "    \n",
        "# Действия по окончанию цикла"
      ]
    },
    {
      "cell_type": "markdown",
      "metadata": {
        "id": "imF1HeoGsqao"
      },
      "source": [
        "- Каждый цикл должен иметь начальное условие которое выполнятеся\n",
        "- Ключевое слово `while` включает в себя проверяемое условие\n",
        "- Код внутри цикла выполняется до тех пор, пока верно начальное условие\n",
        "- Как только что-то меняется и начальное условие не выполняется, цикл перестает выполняться\n",
        "- По окончании цикла выполняется код, написанный далее"
      ]
    },
    {
      "cell_type": "markdown",
      "metadata": {
        "id": "gBYcUFzzsqao"
      },
      "source": [
        "#### Пример\n",
        "\n",
        "В примере игра, которая продолжается до тех пор, пока у игрока есть силы"
      ]
    },
    {
      "cell_type": "code",
      "execution_count": null,
      "metadata": {
        "id": "Ky2qzdU3sqap",
        "colab": {
          "base_uri": "https://localhost:8080/"
        },
        "outputId": "c3a4bc14-d3b6-4ef8-90fa-fd28ee3361c1"
      },
      "outputs": [
        {
          "output_type": "stream",
          "name": "stdout",
          "text": [
            "You are still playing because your power is 5.\n",
            "You are still playing because your power is 4.\n",
            "You are still playing because your power is 3.\n",
            "You are still playing because your power is 2.\n",
            "You are still playing because your power is 1.\n",
            "\n",
            "Oh no, your power dropped to 0! Game Over.\n"
          ]
        }
      ],
      "source": [
        "# Установим силы игрока - 5.\n",
        "power = 5\n",
        "\n",
        "# Играть можно пока сил не станет - 0.\n",
        "while power > 0:\n",
        "    print(\"You are still playing because your power is %d.\" % power)\n",
        "    # игра начинается тут: \n",
        "    #   возможная потеря сил\n",
        "    # Допустим, с каждым разом сила у Люка уменьшается на 1\n",
        "    power = power - 1\n",
        "else:    \n",
        "    print(\"\\nOh no, your power dropped to 0! Game Over.\")"
      ]
    },
    {
      "cell_type": "markdown",
      "metadata": {
        "id": "0Q0aqmSlsqaq"
      },
      "source": [
        "#### Другое применение цикла while\n",
        "\n",
        "Большинство программ работают до тех пор, пока вы не завершите работу, введя quit, exit ...etc. Рассмотрим пример организации цикла для подобного рода поведения:"
      ]
    },
    {
      "cell_type": "code",
      "execution_count": null,
      "metadata": {
        "id": "AsxgiwbPsqaq",
        "colab": {
          "base_uri": "https://localhost:8080/"
        },
        "outputId": "fc13bfa3-d562-4cd9-d91c-426e9dd89862"
      },
      "outputs": [
        {
          "output_type": "stream",
          "name": "stdout",
          "text": [
            "Please tell me someone I should know or enter 'quit': 1\n",
            "Please tell me someone I should know or enter 'quit': 2\n",
            "Please tell me someone I should know or enter 'quit': 3\n",
            "Please tell me someone I should know or enter 'quit': quit\n",
            "['1', '2', '3', 'quit']\n"
          ]
        }
      ],
      "source": [
        "# Создадим список\n",
        "names = []\n",
        "\n",
        "# Определим переменную new_name отличную от 'quit'.\n",
        "new_name = ''\n",
        "\n",
        "# Начнем цикл, который будет выполняться до тех пор, пока не набрано 'quit'.\n",
        "while new_name != 'quit':\n",
        "    # Попросим пользователя ввести имя\n",
        "    new_name = input(\"Please tell me someone I should know or enter 'quit': \")\n",
        "\n",
        "    # Добавим это имя в список который был создан ранее\n",
        "    names.append(new_name)\n",
        "\n",
        "# Покажем что все, что было набрано - добавлено в наш список.\n",
        "print(names)"
      ]
    },
    {
      "cell_type": "markdown",
      "metadata": {
        "id": "pmREc4RPsqaq"
      },
      "source": [
        "Все хорошо, но! - 'quit' добавилось в лист. Давайте добавим `if` чтобы убрать этот баг:"
      ]
    },
    {
      "cell_type": "code",
      "execution_count": null,
      "metadata": {
        "id": "6_90DXL8sqaq",
        "colab": {
          "base_uri": "https://localhost:8080/"
        },
        "outputId": "e2fac6cf-3d8c-4378-9ef5-09bbd50ca40a"
      },
      "outputs": [
        {
          "output_type": "stream",
          "name": "stdout",
          "text": [
            "Please tell me someone I should know, or enter 'quit': 1\n",
            "Please tell me someone I should know, or enter 'quit': 2\n",
            "Please tell me someone I should know, or enter 'quit': 3\n",
            "Please tell me someone I should know, or enter 'quit': quit\n",
            "['1', '2', '3']\n"
          ]
        }
      ],
      "source": [
        "#Ничего нового\n",
        "names = []\n",
        "\n",
        "new_name = ''\n",
        "\n",
        "while new_name != 'quit':\n",
        "    new_name = input(\"Please tell me someone I should know, or enter 'quit': \")\n",
        "    names.append(new_name)\n",
        "    \n",
        "del names[-1]\n",
        "        \n",
        "print(names)"
      ]
    },
    {
      "cell_type": "markdown",
      "metadata": {
        "id": "1MwyW2V6sqar"
      },
      "source": [
        "Теперь у нас есть способ организации ввода для пользователя и контроля времени выполнения программы."
      ]
    },
    {
      "cell_type": "markdown",
      "metadata": {
        "id": "9fwKEm28sqar"
      },
      "source": [
        "#### Использование цикла while для создания меню"
      ]
    },
    {
      "cell_type": "code",
      "execution_count": null,
      "metadata": {
        "id": "93Q2f3QFsqar",
        "colab": {
          "base_uri": "https://localhost:8080/"
        },
        "outputId": "e79b5de1-947f-47aa-c36d-bb032586f628"
      },
      "outputs": [
        {
          "output_type": "stream",
          "name": "stdout",
          "text": [
            "\n",
            "Welcome to the nature center. What would you like to do?\n",
            "\n",
            "[1] Enter 1 to take a bicycle ride.\n",
            "[2] Enter 2 to go for a run.\n",
            "[3] Enter 3 to climb a mountain.\n",
            "[q] Enter q to quit.\n",
            "\n",
            "What would you like to do? 1\n",
            "\n",
            "Here's a bicycle. Have fun!\n",
            "\n",
            "\n",
            "[1] Enter 1 to take a bicycle ride.\n",
            "[2] Enter 2 to go for a run.\n",
            "[3] Enter 3 to climb a mountain.\n",
            "[q] Enter q to quit.\n",
            "\n",
            "What would you like to do? q\n",
            "\n",
            "Thanks for playing. See you later.\n",
            "\n",
            "Thanks again, bye now.\n"
          ]
        }
      ],
      "source": [
        "# Give the user some context.\n",
        "print(\"\\nWelcome to the nature center. What would you like to do?\")\n",
        "\n",
        "# Set an initial value for choice other than the value for 'quit'.\n",
        "choice = ''\n",
        "\n",
        "# Start a loop that runs until the user enters the value for 'quit'.\n",
        "while choice != 'q':\n",
        "    # Give all the choices in a series of print statements.\n",
        "    print(\"\\n[1] Enter 1 to take a bicycle ride.\")\n",
        "    print(\"[2] Enter 2 to go for a run.\")\n",
        "    print(\"[3] Enter 3 to climb a mountain.\")\n",
        "    print(\"[q] Enter q to quit.\")\n",
        "\n",
        "    # Ask for the user's choice.\n",
        "    choice = input(\"\\nWhat would you like to do? \")\n",
        "\n",
        "    # Respond to the user's choice.\n",
        "    if choice == '1':\n",
        "        print(\"\\nHere's a bicycle. Have fun!\\n\")\n",
        "    elif choice == '2':\n",
        "        print(\"\\nHere are some running shoes. Run fast!\\n\")\n",
        "    elif choice == '3':\n",
        "        print(\"\\nHere's a map. Can you leave a trip plan for us?\\n\")\n",
        "    elif choice == 'q':\n",
        "        print(\"\\nThanks for playing. See you later.\\n\")\n",
        "    else:\n",
        "        print(\"\\nI don't understand that choice, please try again.\\n\")\n",
        "        \n",
        "# Print a message that we are all finished.\n",
        "print(\"Thanks again, bye now.\")"
      ]
    },
    {
      "cell_type": "markdown",
      "metadata": {
        "id": "RcHp1kY6sqar"
      },
      "source": [
        "Ещё одно меню, но немного симпатичного кода"
      ]
    },
    {
      "cell_type": "code",
      "execution_count": null,
      "metadata": {
        "id": "fnQu1kKEsqar",
        "colab": {
          "base_uri": "https://localhost:8080/"
        },
        "outputId": "454da98e-5e97-4997-c4ad-bd182e90c5cc"
      },
      "outputs": [
        {
          "output_type": "stream",
          "name": "stdout",
          "text": [
            "\n",
            "Welcome to the nature center. What would you like to do?\n",
            "\n",
            "[1] Enter 1 to take a bicycle ride.\n",
            "[2] Enter 2 to go for a run.\n",
            "[3] Enter 3 to climb a mountain.\n",
            "[q] Enter q to quit.\n",
            "\n",
            "What would you like to do? 1\n",
            "\n",
            "Here's a bicycle. Have fun!\n",
            "\n",
            "\n",
            "[1] Enter 1 to take a bicycle ride.\n",
            "[2] Enter 2 to go for a run.\n",
            "[3] Enter 3 to climb a mountain.\n",
            "[q] Enter q to quit.\n",
            "\n",
            "What would you like to do? q\n",
            "\n",
            "Thanks for playing. See you later.\n",
            "\n",
            "Thanks again, bye now.\n"
          ]
        }
      ],
      "source": [
        "# Define the actions for each choice we want to offer.\n",
        "def ride_bicycle():\n",
        "    print(\"\\nHere's a bicycle. Have fun!\\n\")\n",
        "    \n",
        "def go_running():\n",
        "    print(\"\\nHere are some running shoes. Run fast!\\n\")\n",
        "    \n",
        "def climb_mountain():\n",
        "    print(\"\\nHere's a map. Can you leave a trip plan for us?\\n\")\n",
        "\n",
        "# Give the user some context.\n",
        "print(\"\\nWelcome to the nature center. What would you like to do?\")\n",
        "\n",
        "# Set an initial value for choice other than the value for 'quit'.\n",
        "choice = ''\n",
        "\n",
        "# Start a loop that runs until the user enters the value for 'quit'.\n",
        "while choice != 'q':\n",
        "    # Give all the choices in a series of print statements.\n",
        "    print(\"\\n[1] Enter 1 to take a bicycle ride.\")\n",
        "    print(\"[2] Enter 2 to go for a run.\")\n",
        "    print(\"[3] Enter 3 to climb a mountain.\")\n",
        "    print(\"[q] Enter q to quit.\")\n",
        "    \n",
        "    # Ask for the user's choice.\n",
        "    choice = input(\"\\nWhat would you like to do? \")\n",
        "    \n",
        "    # Respond to the user's choice.\n",
        "    if choice == '1':\n",
        "        ride_bicycle()\n",
        "    elif choice == '2':\n",
        "        go_running()\n",
        "    elif choice == '3':\n",
        "        climb_mountain()\n",
        "    elif choice == 'q':\n",
        "        print(\"\\nThanks for playing. See you later.\\n\")\n",
        "    else:\n",
        "        print(\"\\nI don't understand that choice, please try again.\\n\")\n",
        "        \n",
        "# Print a message that we are all finished.\n",
        "print(\"Thanks again, bye now.\")"
      ]
    },
    {
      "cell_type": "markdown",
      "metadata": {
        "id": "FtIpgFsUsqas"
      },
      "source": [
        "#### Использование while для обработки элементов списка\n",
        "\n",
        "Мы можем достать элемент списка при помощи `pop()`. Цикл позволят нам пройти по элементам списка и применить к ним какие-то методы. Рассмотрим пример с обработкой неподтвержденных пользователей."
      ]
    },
    {
      "cell_type": "code",
      "execution_count": null,
      "metadata": {
        "id": "BS6iC4lqsqas",
        "colab": {
          "base_uri": "https://localhost:8080/"
        },
        "outputId": "8f657725-240c-40dc-e79a-f1a5ef20a273"
      },
      "outputs": [
        {
          "output_type": "stream",
          "name": "stdout",
          "text": [
            "Confirming user Daria...confirmed!\n",
            "Confirming user Clarence...confirmed!\n",
            "Confirming user Billy...confirmed!\n",
            "\n",
            "Unconfirmed users:\n",
            "- Ada\n",
            "\n",
            "Confirmed users:\n",
            "- Daria\n",
            "- Clarence\n",
            "- Billy\n"
          ]
        }
      ],
      "source": [
        "# Создадим два списка\n",
        "unconfirmed_users = ['ada', 'billy', 'clarence', 'daria']\n",
        "confirmed_users = []\n",
        "\n",
        "# Пройдем по списку и проверим каждого пользователя\n",
        "while len(unconfirmed_users) > 0:\n",
        "    \n",
        "    # Достанем последнего пользователя\n",
        "    current_user = unconfirmed_users.pop()\n",
        "    print(\"Confirming user %s...confirmed!\" % current_user.title())\n",
        "    \n",
        "    # добавим его в лист подтвержденных\n",
        "    confirmed_users.append(current_user)\n",
        "    \n",
        "# Пруфы обработок\n",
        "print(\"\\nUnconfirmed users:\")\n",
        "for user in unconfirmed_users:\n",
        "    print('- ' + user.title())\n",
        "    \n",
        "print(\"\\nConfirmed users:\")\n",
        "for user in confirmed_users:\n",
        "    print('- ' + user.title())"
      ]
    },
    {
      "cell_type": "markdown",
      "metadata": {
        "id": "LWgj_o1esqas"
      },
      "source": [
        "Все прекрасно, но давайте сделаем небольшое улучшение. Сейчас мы обрабатываем только новых пользователей. Если пользователи появляются быстрее чем мы их обрабатываем, мы пропустим кучу народу, поэтому надо организовать взаимодействие вида 'первый пришел, первый вышел' (FIFO), поэтому каждый раз мы будет выбирать первого."
      ]
    },
    {
      "cell_type": "code",
      "execution_count": null,
      "metadata": {
        "id": "YBorE0aesqas",
        "colab": {
          "base_uri": "https://localhost:8080/"
        },
        "outputId": "d68307a9-ada7-4a8b-ed8f-90fe2f704aae"
      },
      "outputs": [
        {
          "output_type": "stream",
          "name": "stdout",
          "text": [
            "Confirming user Ada...confirmed!\n",
            "Confirming user Billy...confirmed!\n",
            "Confirming user Clarence...confirmed!\n",
            "Confirming user Daria...confirmed!\n",
            "\n",
            "Unconfirmed users:\n",
            "\n",
            "Confirmed users:\n",
            "- Ada\n",
            "- Billy\n",
            "- Clarence\n",
            "- Daria\n"
          ]
        }
      ],
      "source": [
        "# Start with a list of unconfirmed users, and an empty list of confirmed users.\n",
        "unconfirmed_users = ['ada', 'billy', 'clarence', 'daria']\n",
        "confirmed_users = []\n",
        "\n",
        "# Work through the list, and confirm each user.\n",
        "while len(unconfirmed_users) > 0:\n",
        "    \n",
        "    # Get the latest unconfirmed user, and process them.\n",
        "    current_user = unconfirmed_users.pop(0)\n",
        "    print(\"Confirming user %s...confirmed!\" % current_user.title())\n",
        "    \n",
        "    # Move the current user to the list of confirmed users.\n",
        "    confirmed_users.append(current_user)\n",
        "    \n",
        "# Prove that we have finished confirming all users.\n",
        "print(\"\\nUnconfirmed users:\")\n",
        "for user in unconfirmed_users:\n",
        "    print('- ' + user.title())\n",
        "    \n",
        "print(\"\\nConfirmed users:\")\n",
        "for user in confirmed_users:\n",
        "    print('- ' + user.title())"
      ]
    },
    {
      "cell_type": "markdown",
      "metadata": {
        "id": "8Ei3n88gsqas"
      },
      "source": [
        "Так намного лучше - мы обрабатываем пользователей в порядке их поступления! "
      ]
    },
    {
      "cell_type": "markdown",
      "metadata": {
        "id": "19946GNZsqat"
      },
      "source": [
        "#### Случайные бесконечные циклы\n",
        "\n",
        "Иногда нужно выполнить цикл, но неизвестно, сколько итераций нужно совершить. Так часто возникают бесконечные циклы.\n",
        "\n",
        "Давайте посмотрим пример:"
      ]
    },
    {
      "cell_type": "code",
      "execution_count": null,
      "metadata": {
        "id": "C4GyN_PZsqat"
      },
      "outputs": [],
      "source": [
        "current_number = 1\n",
        "\n",
        "# Count up to 5, printing the number each time.\n",
        "while current_number <= 5:\n",
        "    print(current_number)"
      ]
    },
    {
      "cell_type": "code",
      "execution_count": null,
      "metadata": {
        "id": "52pA1uD_sqat"
      },
      "outputs": [],
      "source": [
        "1\n",
        "1\n",
        "1\n",
        "1\n",
        "1\n",
        "..."
      ]
    },
    {
      "cell_type": "markdown",
      "metadata": {
        "id": "lxZfB6Q2sqat"
      },
      "source": [
        "Не советую запускать код выше :) Как видите, цикл никогда не закончится, но пару советов, если дело плохо:\n",
        "\n",
        "- В большинстве систем, Ctrl-C прервет выполнение работающей программы\n",
        "\n",
        "Цикл бесконечный потому, что условие всегда выполняется. Для корректной работы необходимо в тело цикла добавить операцию инкремента переменной, значение которой проверяется в условии:"
      ]
    },
    {
      "cell_type": "code",
      "execution_count": null,
      "metadata": {
        "id": "T-PK33tnsqat",
        "colab": {
          "base_uri": "https://localhost:8080/"
        },
        "outputId": "d9e98db0-c53f-4443-db90-1d4e402198e1"
      },
      "outputs": [
        {
          "output_type": "stream",
          "name": "stdout",
          "text": [
            "1\n",
            "2\n",
            "3\n",
            "4\n",
            "5\n"
          ]
        }
      ],
      "source": [
        "current_number = 1\n",
        "\n",
        "# Count up to 5, printing the number each time.\n",
        "while current_number <= 5:\n",
        "    print(current_number)\n",
        "    current_number = current_number + 1"
      ]
    },
    {
      "cell_type": "markdown",
      "metadata": {
        "id": "tWLmUKpMsqat"
      },
      "source": [
        "Если Вы не написали бесконечный цикл хотя бы один раз, значит Вы никогда не писали циклы. Если Вы все-таки решили узнать, как выглядит бесконечность - нажмите Ctrl + C и ищите логическую ошибку. \n",
        "\n",
        "Ещё пара плохих примеров:"
      ]
    },
    {
      "cell_type": "code",
      "execution_count": null,
      "metadata": {
        "id": "I_Uv382Usqat"
      },
      "outputs": [],
      "source": [
        "current_number = 1\n",
        "\n",
        "# Считаем до 5, печатая номер каждый раз.\n",
        "while current_number <= 5:\n",
        "    print(current_number)\n",
        "    current_number = current_number - 1"
      ]
    },
    {
      "cell_type": "code",
      "execution_count": null,
      "metadata": {
        "id": "yMXHvHuzsqat"
      },
      "outputs": [],
      "source": [
        "1\n",
        "0\n",
        "-1\n",
        "-2\n",
        "-3\n",
        "..."
      ]
    },
    {
      "cell_type": "markdown",
      "metadata": {
        "id": "9IMJPaomsqau"
      },
      "source": [
        "Как видите, мы случайно начали считать не в ту сторону. Будьте внимательны!"
      ]
    },
    {
      "cell_type": "markdown",
      "metadata": {
        "id": "XHvh-fkFsqau"
      },
      "source": [
        "### Инструкции для работы с циклами\n",
        "---\n",
        "- **break** - Производит переход за пределы цикла\n",
        "\n",
        "- **continue** - Производит переход в начало цикла\n",
        "\n",
        "- **pass** - Ничего не делает, используется как заполнитель\n",
        "\n",
        "Блок **else** - выполняется, если цикл завершился необычным образом (break не в счет)\n",
        "\n",
        "Как это выглядит:"
      ]
    },
    {
      "cell_type": "markdown",
      "metadata": {
        "id": "vas6ACiYsqau"
      },
      "source": [
        "```python\n",
        "while <test1>:\n",
        "\n",
        "    <statements1>\n",
        "    \n",
        "    if <test2>: break # Выйти из цикла, пропустив часть else\n",
        "    \n",
        "    if <test3>: continue # Перейти в начало цикла, к выражению test1\n",
        "    \n",
        "else:\n",
        "\n",
        "    <statements2> # Выполняется, если не была использована инструкция ‘break’\n",
        "```"
      ]
    },
    {
      "cell_type": "markdown",
      "metadata": {
        "id": "GtxbZilIsqau"
      },
      "source": [
        "Инструкции **break** и **continue** могут появляться в любом месте внутри тела цикла **while** (или *for*), но, как правило, они используются в условных инструкциях **if**, чтобы выполнить необходимое действие в ответ на некоторое условие."
      ]
    },
    {
      "cell_type": "markdown",
      "metadata": {
        "id": "-LLQ2raZsqau"
      },
      "source": [
        "#### Использование Continue"
      ]
    },
    {
      "cell_type": "code",
      "execution_count": null,
      "metadata": {
        "id": "4LJBQcAPsqau",
        "outputId": "0a33b449-199d-4d01-f4f8-a57b67519bf9",
        "colab": {
          "base_uri": "https://localhost:8080/"
        }
      },
      "outputs": [
        {
          "output_type": "stream",
          "name": "stdout",
          "text": [
            "8\n",
            "6\n",
            "4\n",
            "2\n",
            "0\n"
          ]
        }
      ],
      "source": [
        "x = 10\n",
        "while x:\n",
        "    x = x - 1 # Или, x -= 1\n",
        "    if x % 2 != 0: continue # Нечетное? – пропустить вывод\n",
        "    print(x)"
      ]
    },
    {
      "cell_type": "markdown",
      "metadata": {
        "id": "HMYSYcg8sqav"
      },
      "source": [
        "#### Использование Break"
      ]
    },
    {
      "cell_type": "code",
      "execution_count": null,
      "metadata": {
        "id": "16GeCv8usqav",
        "outputId": "dd70f9c2-5f91-4b13-9000-9914ae358923",
        "colab": {
          "base_uri": "https://localhost:8080/"
        }
      },
      "outputs": [
        {
          "name": "stdout",
          "output_type": "stream",
          "text": [
            "Enter name:ivan\n",
            "Enter age: 20\n",
            "Hello ivan => 400\n",
            "Enter name:stop\n"
          ]
        }
      ],
      "source": [
        "while 1:\n",
        "    name = input('Enter name:')\n",
        "    if name == 'stop': break\n",
        "    age = input('Enter age: ')\n",
        "    print('Hello', name, '=>', int(age) ** 2)"
      ]
    },
    {
      "cell_type": "markdown",
      "metadata": {
        "id": "JXPBlUJLsqav"
      },
      "source": [
        "#### Использование Else\n",
        "Пример на проверку, простое ли число y"
      ]
    },
    {
      "cell_type": "code",
      "execution_count": null,
      "metadata": {
        "id": "CQapmI4Msqav",
        "outputId": "750dc72d-3953-41cd-c32a-6ad44eda070f",
        "colab": {
          "base_uri": "https://localhost:8080/"
        }
      },
      "outputs": [
        {
          "output_type": "stream",
          "name": "stdout",
          "text": [
            "23 is prime\n"
          ]
        }
      ],
      "source": [
        "x, y = 4, 23\n",
        "x = y // 2 # Для значений y > 1\n",
        "while x > 1:\n",
        "    if y % x == 0: # y делится на x\n",
        "        print(y, 'has factor', x)\n",
        "        break # Перешагнуть блок else\n",
        "    else: # y не делится на x\n",
        "        x -= 1\n",
        "else: # Нормальное завершение цикла\n",
        "    print(y, 'is prime')"
      ]
    },
    {
      "cell_type": "markdown",
      "metadata": {
        "id": "KJa_Wb3qsqav"
      },
      "source": [
        "### Цикл For\n",
        "\n",
        "Цикл `for` в языке Python начинается со строки заголовка, где указывается переменная для присваивания, а также итеритуемый объект, обход которого будет выполнен. Вслед за заголовком следует блок инструкций, которые требуется выполнить.\n",
        "\n",
        "Интерируемый, означает, что элементы объекта можно последовательно перебрать от начала до конца (строки, списки, генераторы, и т.д.):"
      ]
    },
    {
      "cell_type": "markdown",
      "source": [
        "```python\n",
        "for переменная in объект:\n",
        "    Блок инструкций\n",
        "```"
      ],
      "metadata": {
        "id": "ZxEPih5GQMuG"
      }
    },
    {
      "cell_type": "markdown",
      "metadata": {
        "id": "CXHGzPDOsqaw"
      },
      "source": [
        "Когда интерпретатор выполняет цикл `for`, он поочередно, один за другим, присваивает элементы объекта\n",
        "последовательности переменной цикла и выполняет тело цикла для каждого из них. Для обращения к\n",
        "текущему элементу последовательности в теле цикла обычно используется переменная цикла, как если\n",
        "бы это был курсор, шагающий от элемента к элементу.\n",
        "Имя (target), используемое в качестве переменной цикла (возможно, новой), которое указывается в\n",
        "заголовке цикла `for`, обычно находится в области видимости, где располагается сама инструкция `for`. Хотя\n",
        "она может быть изменена в теле цикла, тем не менее ей автоматически будет присвоен следующий\n",
        "элемент последовательности, когда управление вернется в начало цикла. После выхода из цикла эта\n",
        "переменная обычно все еще ссылается на последний элемент последовательности, если цикл не был\n",
        "завершен инструкцией break."
      ]
    },
    {
      "cell_type": "code",
      "execution_count": null,
      "metadata": {
        "id": "z8G-bgvZsqaw",
        "outputId": "55945775-465f-4d8c-b6b6-226d88e93e81",
        "colab": {
          "base_uri": "https://localhost:8080/"
        }
      },
      "outputs": [
        {
          "output_type": "stream",
          "name": "stdout",
          "text": [
            "spam <class 'str'>\n",
            "eggs <class 'str'>\n",
            "ham <class 'str'>\n"
          ]
        }
      ],
      "source": [
        "for x in ['spam', 'eggs', 'ham']:\n",
        "    print(x, type(x))"
      ]
    }
  ],
  "metadata": {
    "kernelspec": {
      "display_name": "Python 3",
      "name": "python3"
    },
    "language_info": {
      "name": "python"
    },
    "name": "seminar2_part1_variables_strings_numbers.ipynb",
    "colab": {
      "provenance": [],
      "collapsed_sections": [
        "6e_EJ4Eip9hb",
        "YTiUt-GGqcm7",
        "bRoWUN5OqcnB",
        "KHWGeh_FqcnE",
        "1MdvYB0zqcnD",
        "81H7u2kFqcnE",
        "qkIWt_3uqcnF",
        "qoHjYsxtqcnG",
        "18rPBC1frG_Q",
        "yGFQsWtCrG_S",
        "N-8IQdf-rG_X",
        "KjKyV1mMr29m",
        "WyE44sDyr29q"
      ]
    }
  },
  "nbformat": 4,
  "nbformat_minor": 0
}