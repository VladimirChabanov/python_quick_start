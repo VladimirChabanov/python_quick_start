{
  "cells": [
    {
      "cell_type": "markdown",
      "source": [
        "<img src=\"https://www.amd.com/system/files/76826-python-logo-1260x709.jpg\" height=\"150px\">\n",
        "<img src=\"https://miro.medium.com/max/1200/0*8GKnV4s-Ea-N0G0p.png\" height=\"180px\">"
      ],
      "metadata": {
        "id": "OWgAQ_Kiwuc3"
      }
    },
    {
      "cell_type": "markdown",
      "metadata": {
        "id": "wu8ZBz-c4M1B"
      },
      "source": [
        "# Урок 6. NumPy"
      ]
    },
    {
      "cell_type": "markdown",
      "source": [
        "[NumPy](https://numpy.org/) - это open-source модуль для python, который предоставляет общие математические и числовые операции в виде пре-скомпилированных, быстрых функций. NumPy (Numeric Python) предоставляет базовые методы для манипуляции с большими массивами и матрицами. SciPy (Scientific Python) расширяет функционал numpy огромной коллекцией полезных алгоритмов, таких как минимизация, преобразование Фурье, регрессия, и другие прикладные математические техники."
      ],
      "metadata": {
        "id": "8Gktjja-3FgL"
      }
    },
    {
      "cell_type": "markdown",
      "source": [
        "## 1. Установка"
      ],
      "metadata": {
        "id": "H0v7EfUE4HWe"
      }
    },
    {
      "cell_type": "markdown",
      "source": [
        "Процесс установки зависит от того, каким пакетным менеджером вы предпочитаете пользоваться:\n",
        "\n",
        "**PIP**\n",
        "\n",
        "```plaine\n",
        "pip install numpy\n",
        "```\n",
        "\n",
        "**CONDA**\n",
        "\n",
        "```plain\n",
        "# Best practice, use an environment rather than install in the base env\n",
        "conda create -n my-env\n",
        "conda activate my-env\n",
        "# If you want to install from conda-forge\n",
        "conda config --env --add channels conda-forge\n",
        "# The actual install command\n",
        "conda install numpy\n",
        "```\n",
        "\n",
        "В Google Colab `numpy` уже установлен, поэтому дополнительных телодвижений не требуется."
      ],
      "metadata": {
        "id": "LX9peaL14SZ7"
      }
    },
    {
      "cell_type": "markdown",
      "source": [
        "## 2. Подключение"
      ],
      "metadata": {
        "id": "pta_0Ota4Gve"
      }
    },
    {
      "cell_type": "markdown",
      "source": [
        "Есть несколько путей импорта. Стандартный метод это — использовать простое выражение:"
      ],
      "metadata": {
        "id": "UGEmHdtg3o5x"
      }
    },
    {
      "cell_type": "code",
      "source": [
        "import numpy"
      ],
      "metadata": {
        "id": "RgpbnSPI3zP9"
      },
      "execution_count": null,
      "outputs": []
    },
    {
      "cell_type": "markdown",
      "source": [
        "Тем не менее, для большого количества вызовов функций numpy, становится утомительно писать numpy.X снова и снова. Вместо этого намного легче сделать это так:"
      ],
      "metadata": {
        "id": "L6rO38i333CX"
      }
    },
    {
      "cell_type": "code",
      "source": [
        "import numpy as np"
      ],
      "metadata": {
        "id": "SfAOsJ6T36u0"
      },
      "execution_count": 94,
      "outputs": []
    },
    {
      "cell_type": "markdown",
      "source": [
        "Это выражение позволяет нам получать доступ к numpy объектам используя np.X вместо numpy.X. Также можно импортировать numpy прямо в используемое пространство имен, чтобы вообще не использовать функции через точку, а вызывать их напрямую:"
      ],
      "metadata": {
        "id": "VriT3nyE36Ko"
      }
    },
    {
      "cell_type": "code",
      "source": [
        "from numpy import *"
      ],
      "metadata": {
        "id": "nZm2vNzb4AZr"
      },
      "execution_count": null,
      "outputs": []
    },
    {
      "cell_type": "markdown",
      "source": [
        "Однако, этот вариант не приветствуется в программировании на python."
      ],
      "metadata": {
        "id": "x76vR4hI4CgM"
      }
    },
    {
      "cell_type": "markdown",
      "source": [
        "## 3. Массивы"
      ],
      "metadata": {
        "id": "8fsvHHO85YlP"
      }
    },
    {
      "cell_type": "markdown",
      "source": [
        "Главной особенностью numpy является объект `array`. Массивы схожи со списками в python, исключая тот факт, что элементы массива должны иметь одинаковый тип данных, как `float` и `int`. С массивами можно проводить числовые операции с большим объемом информации в разы быстрее и, главное, намного эффективнее чем со списками.\n",
        "\n",
        "Создание массива из списка:"
      ],
      "metadata": {
        "id": "CmwE3mWY5f1K"
      }
    },
    {
      "cell_type": "code",
      "source": [
        "a = np.array([1, 4, 5, 8], float)\n",
        "print(a, type(a), type(a[0]))"
      ],
      "metadata": {
        "colab": {
          "base_uri": "https://localhost:8080/"
        },
        "id": "YHC4ksxV5X9f",
        "outputId": "6ebb2ba6-22b6-4773-f7f7-c5aae0a67326"
      },
      "execution_count": 103,
      "outputs": [
        {
          "output_type": "stream",
          "name": "stdout",
          "text": [
            "[1. 4. 5. 8.] <class 'numpy.ndarray'> <class 'numpy.float64'>\n"
          ]
        }
      ]
    },
    {
      "cell_type": "code",
      "source": [
        "b = np.array([1, 4, 5, 8], int)\n",
        "print(b, type(b), type(b[0]))"
      ],
      "metadata": {
        "colab": {
          "base_uri": "https://localhost:8080/"
        },
        "id": "DC3RpEp5JRn9",
        "outputId": "7895fc5c-f495-4c8b-c75e-7a8eb4bf704b"
      },
      "execution_count": 104,
      "outputs": [
        {
          "output_type": "stream",
          "name": "stdout",
          "text": [
            "[1 4 5 8] <class 'numpy.ndarray'> <class 'numpy.int64'>\n"
          ]
        }
      ]
    },
    {
      "cell_type": "markdown",
      "source": [
        "Здесь функция array принимает два аргумента: список для конвертации в массив и тип для каждого элемента. Ко всем элементам можно получить доступ и манипулировать ими так же, как вы бы это делали с обычными списками:"
      ],
      "metadata": {
        "id": "HZINsIVR53wc"
      }
    },
    {
      "cell_type": "code",
      "source": [
        "print(a[:2])"
      ],
      "metadata": {
        "colab": {
          "base_uri": "https://localhost:8080/"
        },
        "id": "0md0RGZ056m9",
        "outputId": "01035600-16cd-4810-8273-e9cc2d52b243"
      },
      "execution_count": 105,
      "outputs": [
        {
          "output_type": "stream",
          "name": "stdout",
          "text": [
            "[1. 4.]\n"
          ]
        }
      ]
    },
    {
      "cell_type": "code",
      "source": [
        "print(a[3])"
      ],
      "metadata": {
        "colab": {
          "base_uri": "https://localhost:8080/"
        },
        "id": "f780SR1G6boD",
        "outputId": "ad384e3b-48a9-4e06-9ef1-7f1d7a4fb89f"
      },
      "execution_count": 106,
      "outputs": [
        {
          "output_type": "stream",
          "name": "stdout",
          "text": [
            "8.0\n"
          ]
        }
      ]
    },
    {
      "cell_type": "code",
      "source": [
        "a[0] = 5.0\n",
        "print(a)"
      ],
      "metadata": {
        "colab": {
          "base_uri": "https://localhost:8080/"
        },
        "id": "ozevM_176beL",
        "outputId": "ca6a73bb-4f99-4e83-eefb-9afcd09f927d"
      },
      "execution_count": 107,
      "outputs": [
        {
          "output_type": "stream",
          "name": "stdout",
          "text": [
            "[5. 4. 5. 8.]\n"
          ]
        }
      ]
    },
    {
      "cell_type": "markdown",
      "source": [
        "Массивы могут быть и многомерными. В отличии от списков можно использовать запятые в скобках. Вот пример двумерного массива (матрица):"
      ],
      "metadata": {
        "id": "NtqgLqqG6T4o"
      }
    },
    {
      "cell_type": "code",
      "source": [
        "a = np.array([[1, 2, 3], [4, 5, 6]], float)\n",
        "print(a)"
      ],
      "metadata": {
        "colab": {
          "base_uri": "https://localhost:8080/"
        },
        "id": "ImwCuPlF6VGY",
        "outputId": "3ceb6b9b-9e12-497e-eeaf-08d6048c448e"
      },
      "execution_count": 108,
      "outputs": [
        {
          "output_type": "stream",
          "name": "stdout",
          "text": [
            "[[1. 2. 3.]\n",
            " [4. 5. 6.]]\n"
          ]
        }
      ]
    },
    {
      "cell_type": "code",
      "source": [
        "print(a[0,0])"
      ],
      "metadata": {
        "colab": {
          "base_uri": "https://localhost:8080/"
        },
        "id": "ulo96_Xr6jyu",
        "outputId": "ec3ee747-88cf-42ee-9f4d-b7c4f11f5547"
      },
      "execution_count": 109,
      "outputs": [
        {
          "output_type": "stream",
          "name": "stdout",
          "text": [
            "1.0\n"
          ]
        }
      ]
    },
    {
      "cell_type": "code",
      "source": [
        "print(a[0,1])"
      ],
      "metadata": {
        "colab": {
          "base_uri": "https://localhost:8080/"
        },
        "id": "nj9NCe096nk4",
        "outputId": "ebac8970-4c54-4216-b61d-5d36bfb66003"
      },
      "execution_count": 111,
      "outputs": [
        {
          "output_type": "stream",
          "name": "stdout",
          "text": [
            "2.0\n"
          ]
        }
      ]
    },
    {
      "cell_type": "markdown",
      "source": [
        "Array slicing работает с многомерными массивами аналогично, как и с одномерными, применяя каждый срез, как фильтр для установленного измерения. Используйте \":\" в измерении для указывания использования всех элементов этого измерения:"
      ],
      "metadata": {
        "id": "V8lKRf_D6uKa"
      }
    },
    {
      "cell_type": "code",
      "source": [
        "a = np.array([[1, 2, 3], [4, 5, 6]], float)\n",
        "print(a)"
      ],
      "metadata": {
        "colab": {
          "base_uri": "https://localhost:8080/"
        },
        "id": "DWRI9tvF6wWb",
        "outputId": "088457ea-7546-4a94-991c-ffff21b3b6c4"
      },
      "execution_count": 112,
      "outputs": [
        {
          "output_type": "stream",
          "name": "stdout",
          "text": [
            "[[1. 2. 3.]\n",
            " [4. 5. 6.]]\n"
          ]
        }
      ]
    },
    {
      "cell_type": "code",
      "source": [
        "print(a[1,:])"
      ],
      "metadata": {
        "colab": {
          "base_uri": "https://localhost:8080/"
        },
        "id": "r-AnuMSZ6_ya",
        "outputId": "c7643623-fd8a-40f3-9fe0-4f052349dfc2"
      },
      "execution_count": 113,
      "outputs": [
        {
          "output_type": "stream",
          "name": "stdout",
          "text": [
            "[4. 5. 6.]\n"
          ]
        }
      ]
    },
    {
      "cell_type": "code",
      "source": [
        "print(a[:,2])"
      ],
      "metadata": {
        "colab": {
          "base_uri": "https://localhost:8080/"
        },
        "id": "JF0fIePn7Es8",
        "outputId": "bee2e236-d66f-4d0f-8b4e-a274b1358859"
      },
      "execution_count": 114,
      "outputs": [
        {
          "output_type": "stream",
          "name": "stdout",
          "text": [
            "[3. 6.]\n"
          ]
        }
      ]
    },
    {
      "cell_type": "code",
      "source": [
        "print(a[-1:, -2:])"
      ],
      "metadata": {
        "colab": {
          "base_uri": "https://localhost:8080/"
        },
        "id": "j5Vz83RD7J_O",
        "outputId": "e2b5f75d-9ef6-4ad5-ae42-58a3eb2b2e7e"
      },
      "execution_count": 117,
      "outputs": [
        {
          "output_type": "stream",
          "name": "stdout",
          "text": [
            "[[5. 6.]]\n"
          ]
        }
      ]
    },
    {
      "cell_type": "markdown",
      "source": [
        "Метод shape возвращает количество строк и столбцов в матрице:"
      ],
      "metadata": {
        "id": "-hJVwGRu7ev-"
      }
    },
    {
      "cell_type": "code",
      "source": [
        "print(a.shape)"
      ],
      "metadata": {
        "colab": {
          "base_uri": "https://localhost:8080/"
        },
        "id": "txX-ocYb7fUv",
        "outputId": "2ea8bb5b-8390-46d5-fbe0-fc23b5949da7"
      },
      "execution_count": 119,
      "outputs": [
        {
          "output_type": "stream",
          "name": "stdout",
          "text": [
            "(2, 3)\n"
          ]
        }
      ]
    },
    {
      "cell_type": "markdown",
      "source": [
        "Метод dtype возвращает тип переменных, хранящихся в массиве:"
      ],
      "metadata": {
        "id": "7koAiPVp7kzh"
      }
    },
    {
      "cell_type": "code",
      "source": [
        "print(a.dtype)"
      ],
      "metadata": {
        "colab": {
          "base_uri": "https://localhost:8080/"
        },
        "id": "F6avOCgW7lQn",
        "outputId": "a11d9cfe-a6c1-40b8-d922-c7547d85d8a9"
      },
      "execution_count": 120,
      "outputs": [
        {
          "output_type": "stream",
          "name": "stdout",
          "text": [
            "float64\n"
          ]
        }
      ]
    },
    {
      "cell_type": "markdown",
      "source": [
        "Тут float64, это числовой тип данных в numpy, который используется для хранения вещественных чисел двойной точности. Так же как float в Python.\n",
        "\n",
        "Метод len возвращает длину первого измерения (оси):"
      ],
      "metadata": {
        "id": "70iz03I57pmT"
      }
    },
    {
      "cell_type": "code",
      "source": [
        "a = np.array([[1, 2, 3], [4, 5, 6]], float)\n",
        "print(len(a))"
      ],
      "metadata": {
        "colab": {
          "base_uri": "https://localhost:8080/"
        },
        "id": "HYd-gvA57srN",
        "outputId": "4ef0d2dd-d60d-4783-901d-b79183e2ed79"
      },
      "execution_count": 122,
      "outputs": [
        {
          "output_type": "stream",
          "name": "stdout",
          "text": [
            "2\n"
          ]
        }
      ]
    },
    {
      "cell_type": "markdown",
      "source": [
        "Метод in используется для проверки на наличие элемента в массиве:"
      ],
      "metadata": {
        "id": "p4lx-zLV7wo-"
      }
    },
    {
      "cell_type": "code",
      "source": [
        "a = np.array([[1, 2, 3], [4, 5, 6]], float)\n",
        "print(2 in a)\n",
        "print(0 in a)"
      ],
      "metadata": {
        "colab": {
          "base_uri": "https://localhost:8080/"
        },
        "id": "4JM7uez57ynf",
        "outputId": "32bc838d-2ef0-4bd0-8cff-ce73fa18bd27"
      },
      "execution_count": 123,
      "outputs": [
        {
          "output_type": "stream",
          "name": "stdout",
          "text": [
            "True\n",
            "False\n"
          ]
        }
      ]
    },
    {
      "cell_type": "markdown",
      "source": [
        "Массивы можно переформировать при помощи метода, который задает новый многомерный массив. Следуя следующему примеру, мы переформатируем одномерный массив из десяти элементов во двумерный массив, состоящий из пяти строк и двух столбцов:"
      ],
      "metadata": {
        "id": "1kouiKEG762S"
      }
    },
    {
      "cell_type": "code",
      "source": [
        "a = np.array(range(10), float)\n",
        "print(a)"
      ],
      "metadata": {
        "colab": {
          "base_uri": "https://localhost:8080/"
        },
        "id": "6vrihrZ77_1s",
        "outputId": "9ede434b-db0a-470c-f552-0739ee37ec52"
      },
      "execution_count": 29,
      "outputs": [
        {
          "output_type": "stream",
          "name": "stdout",
          "text": [
            "[0. 1. 2. 3. 4. 5. 6. 7. 8. 9.]\n"
          ]
        }
      ]
    },
    {
      "cell_type": "code",
      "source": [
        "a = a.reshape((5, 2))\n",
        "print(a)"
      ],
      "metadata": {
        "colab": {
          "base_uri": "https://localhost:8080/"
        },
        "id": "5fcV9Mtc77gq",
        "outputId": "8733c57b-d3bf-4d62-b5a3-9bbef24eb79e"
      },
      "execution_count": 30,
      "outputs": [
        {
          "output_type": "stream",
          "name": "stdout",
          "text": [
            "[[0. 1.]\n",
            " [2. 3.]\n",
            " [4. 5.]\n",
            " [6. 7.]\n",
            " [8. 9.]]\n"
          ]
        }
      ]
    },
    {
      "cell_type": "code",
      "source": [
        "a.shape"
      ],
      "metadata": {
        "colab": {
          "base_uri": "https://localhost:8080/"
        },
        "id": "XccgrdYN8JkR",
        "outputId": "e1df56ba-3b40-46cd-9b53-b3ad27330bde"
      },
      "execution_count": 31,
      "outputs": [
        {
          "output_type": "execute_result",
          "data": {
            "text/plain": [
              "(5, 2)"
            ]
          },
          "metadata": {},
          "execution_count": 31
        }
      ]
    },
    {
      "cell_type": "markdown",
      "source": [
        "Обратите внимание, метод reshape создает новый массив, а не модифицирует оригинальный.\n",
        "\n",
        "Имейте ввиду, связывание имен в python работает и с массивами. Метод copy используется для создания копии существующего массива в памяти:"
      ],
      "metadata": {
        "id": "6yyd-g8O8Mup"
      }
    },
    {
      "cell_type": "code",
      "source": [
        "a = np.array([1, 2, 3], float)\n",
        "b = a\n",
        "c = a.copy()\n",
        "a[0] = 0\n",
        "print(a)\n",
        "print(b)\n",
        "print(c)"
      ],
      "metadata": {
        "colab": {
          "base_uri": "https://localhost:8080/"
        },
        "id": "dizkya7Q8OtS",
        "outputId": "03189b7d-5c14-4603-897e-a781207a2fde"
      },
      "execution_count": 124,
      "outputs": [
        {
          "output_type": "stream",
          "name": "stdout",
          "text": [
            "[0. 2. 3.]\n",
            "[0. 2. 3.]\n",
            "[1. 2. 3.]\n"
          ]
        }
      ]
    },
    {
      "cell_type": "markdown",
      "source": [
        "Списки можно тоже создавать с массивов:"
      ],
      "metadata": {
        "id": "IYm2R59S8dwZ"
      }
    },
    {
      "cell_type": "code",
      "source": [
        "a = np.array([1, 2, 3], float)\n",
        "print(a)\n",
        "print(a.tolist())\n",
        "print(list(a))    # или так"
      ],
      "metadata": {
        "colab": {
          "base_uri": "https://localhost:8080/"
        },
        "id": "A8u5wX-n8fUS",
        "outputId": "d52d9711-a124-4ed0-93ac-42ef91384f46"
      },
      "execution_count": 36,
      "outputs": [
        {
          "output_type": "stream",
          "name": "stdout",
          "text": [
            "[1. 2. 3.]\n",
            "[1.0, 2.0, 3.0]\n",
            "[1.0, 2.0, 3.0]\n"
          ]
        }
      ]
    },
    {
      "cell_type": "markdown",
      "source": [
        "Можно также переконвертировать массив в бинарную строку (то есть, не human-readable форму). Используйте метод tostring для этого. Метод fromstring работает в для обратного преобразования. Эти операции иногда полезны для сохранения большого количества данных в файлах, которые могут быть считаны в будущем."
      ],
      "metadata": {
        "id": "Mtq1pqij81sj"
      }
    },
    {
      "cell_type": "code",
      "source": [
        "a = np.array([1, 2, 3], float)\n",
        "s = a.tostring()\n",
        "print(s)"
      ],
      "metadata": {
        "colab": {
          "base_uri": "https://localhost:8080/"
        },
        "id": "OOci0HUd84Wk",
        "outputId": "e5ae48d1-ebb9-48d2-abd9-2bd64bbba61e"
      },
      "execution_count": 38,
      "outputs": [
        {
          "output_type": "stream",
          "name": "stdout",
          "text": [
            "b'\\x00\\x00\\x00\\x00\\x00\\x00\\xf0?\\x00\\x00\\x00\\x00\\x00\\x00\\x00@\\x00\\x00\\x00\\x00\\x00\\x00\\x08@'\n"
          ]
        },
        {
          "output_type": "stream",
          "name": "stderr",
          "text": [
            "/usr/local/lib/python3.7/dist-packages/ipykernel_launcher.py:2: DeprecationWarning: tostring() is deprecated. Use tobytes() instead.\n",
            "  \n"
          ]
        }
      ]
    },
    {
      "cell_type": "code",
      "source": [
        "print(np.fromstring(s))"
      ],
      "metadata": {
        "colab": {
          "base_uri": "https://localhost:8080/"
        },
        "id": "b-lZV6pG9FNR",
        "outputId": "19c765d7-031b-4ccc-feb0-dd95ee6580cf"
      },
      "execution_count": 39,
      "outputs": [
        {
          "output_type": "stream",
          "name": "stdout",
          "text": [
            "[1. 2. 3.]\n"
          ]
        },
        {
          "output_type": "stream",
          "name": "stderr",
          "text": [
            "/usr/local/lib/python3.7/dist-packages/ipykernel_launcher.py:1: DeprecationWarning: The binary mode of fromstring is deprecated, as it behaves surprisingly on unicode inputs. Use frombuffer instead\n",
            "  \"\"\"Entry point for launching an IPython kernel.\n"
          ]
        }
      ]
    },
    {
      "cell_type": "markdown",
      "source": [
        "Заполнение массива одинаковым значением."
      ],
      "metadata": {
        "id": "WbRf0F2N9Xv5"
      }
    },
    {
      "cell_type": "code",
      "source": [
        "a = np.array([1, 2, 3], float)\n",
        "print(a)\n",
        "a.fill(0)\n",
        "print(a)"
      ],
      "metadata": {
        "colab": {
          "base_uri": "https://localhost:8080/"
        },
        "id": "zJw5_JTW9XSp",
        "outputId": "18415eb0-66ab-43ad-ebef-0c6158ec37e4"
      },
      "execution_count": 41,
      "outputs": [
        {
          "output_type": "stream",
          "name": "stdout",
          "text": [
            "[1. 2. 3.]\n",
            "[0. 0. 0.]\n"
          ]
        }
      ]
    },
    {
      "cell_type": "markdown",
      "source": [
        "Транспонирование массивов также возможно, при этом создается новый массив:"
      ],
      "metadata": {
        "id": "L3B_lapp9jQm"
      }
    },
    {
      "cell_type": "code",
      "source": [
        "a = np.array(range(6), float).reshape((2, 3))\n",
        "print(a, '\\n')\n",
        "print(a.transpose())"
      ],
      "metadata": {
        "colab": {
          "base_uri": "https://localhost:8080/"
        },
        "id": "xx5hqOBQ9j5-",
        "outputId": "66cbe106-1444-43ee-abab-7bfb823c6778"
      },
      "execution_count": 44,
      "outputs": [
        {
          "output_type": "stream",
          "name": "stdout",
          "text": [
            "[[0. 1. 2.]\n",
            " [3. 4. 5.]] \n",
            "\n",
            "[[0. 3.]\n",
            " [1. 4.]\n",
            " [2. 5.]]\n"
          ]
        }
      ]
    },
    {
      "cell_type": "markdown",
      "source": [
        "Многомерный массив можно переконвертировать в одномерный при помощи метода flatten:"
      ],
      "metadata": {
        "id": "GXIoG5-h9yyE"
      }
    },
    {
      "cell_type": "code",
      "source": [
        "a = np.array([[1, 2, 3], [4, 5, 6]], float)\n",
        "print(a, '\\n')\n",
        "print(a.flatten())"
      ],
      "metadata": {
        "colab": {
          "base_uri": "https://localhost:8080/"
        },
        "id": "teyaQrzP9zNc",
        "outputId": "56798be6-0c21-488b-fa94-7922684c180d"
      },
      "execution_count": 45,
      "outputs": [
        {
          "output_type": "stream",
          "name": "stdout",
          "text": [
            "[[1. 2. 3.]\n",
            " [4. 5. 6.]] \n",
            "\n",
            "[1. 2. 3. 4. 5. 6.]\n"
          ]
        }
      ]
    },
    {
      "cell_type": "markdown",
      "source": [
        "Два или больше массивов можно сконкатенировать при помощи метода concatenate:"
      ],
      "metadata": {
        "id": "TAhHRC-k9-AB"
      }
    },
    {
      "cell_type": "code",
      "source": [
        "a = np.array([1,2], float)\n",
        "b = np.array([3,4,5,6], float)\n",
        "c = np.array([7,8,9], float)\n",
        "print(np.concatenate((a, b, c)))"
      ],
      "metadata": {
        "colab": {
          "base_uri": "https://localhost:8080/"
        },
        "id": "VRXR-FWe9-cB",
        "outputId": "902da0b9-2e07-4fa8-b394-53cae0d53529"
      },
      "execution_count": 125,
      "outputs": [
        {
          "output_type": "stream",
          "name": "stdout",
          "text": [
            "[1. 2. 3. 4. 5. 6. 7. 8. 9.]\n"
          ]
        }
      ]
    },
    {
      "cell_type": "markdown",
      "source": [
        "Если массив не одномерный, можно задать ось, по которой будет происходить соединение. По умолчанию (не задавая значения оси), соединение будет происходить по первому измерению:"
      ],
      "metadata": {
        "id": "uzOpeAOh-GdF"
      }
    },
    {
      "cell_type": "code",
      "source": [
        "a = np.array([[1, 2], [3, 4]], float)\n",
        "b = np.array([[5, 6], [7,8]], float)\n",
        "print(np.concatenate((a,b)))"
      ],
      "metadata": {
        "colab": {
          "base_uri": "https://localhost:8080/"
        },
        "id": "dG9Lneqh-IO2",
        "outputId": "c98dcfee-6837-4f6b-8c1f-699f3942dd66"
      },
      "execution_count": 126,
      "outputs": [
        {
          "output_type": "stream",
          "name": "stdout",
          "text": [
            "[[1. 2.]\n",
            " [3. 4.]\n",
            " [5. 6.]\n",
            " [7. 8.]]\n"
          ]
        }
      ]
    },
    {
      "cell_type": "code",
      "source": [
        "print(np.concatenate((a,b), axis=0))"
      ],
      "metadata": {
        "colab": {
          "base_uri": "https://localhost:8080/"
        },
        "id": "CFaju2-i-NB3",
        "outputId": "6ce6b4b4-c748-4a01-ef0c-f68d4d1e64c2"
      },
      "execution_count": 127,
      "outputs": [
        {
          "output_type": "stream",
          "name": "stdout",
          "text": [
            "[[1. 2.]\n",
            " [3. 4.]\n",
            " [5. 6.]\n",
            " [7. 8.]]\n"
          ]
        }
      ]
    },
    {
      "cell_type": "code",
      "source": [
        "print(np.concatenate((a,b), axis=1))"
      ],
      "metadata": {
        "colab": {
          "base_uri": "https://localhost:8080/"
        },
        "id": "1xiGaLj1-UCa",
        "outputId": "dac598ed-7f06-4bdf-9de3-691fe23a511a"
      },
      "execution_count": 130,
      "outputs": [
        {
          "output_type": "stream",
          "name": "stdout",
          "text": [
            "[[1. 2. 5. 6.]\n",
            " [3. 4. 7. 8.]]\n"
          ]
        }
      ]
    },
    {
      "cell_type": "markdown",
      "source": [
        "В заключении, размерность массива может быть увеличена при использовании константы `newaxis` в квадратных скобках:"
      ],
      "metadata": {
        "id": "ib-P3GII-gjY"
      }
    },
    {
      "cell_type": "code",
      "source": [
        "a = np.array([1, 2, 3], float)\n",
        "print(a)"
      ],
      "metadata": {
        "colab": {
          "base_uri": "https://localhost:8080/"
        },
        "id": "EXEGr-BR-iWo",
        "outputId": "801b988c-381b-4968-94ca-3f178ac181d2"
      },
      "execution_count": 136,
      "outputs": [
        {
          "output_type": "stream",
          "name": "stdout",
          "text": [
            "[1. 2. 3.]\n"
          ]
        }
      ]
    },
    {
      "cell_type": "code",
      "source": [
        "print(a[:,np.newaxis])"
      ],
      "metadata": {
        "colab": {
          "base_uri": "https://localhost:8080/"
        },
        "id": "p0vWQw72-mP5",
        "outputId": "4729dc16-bfa3-4d3a-94e6-eff997e3624e"
      },
      "execution_count": 137,
      "outputs": [
        {
          "output_type": "stream",
          "name": "stdout",
          "text": [
            "[[1.]\n",
            " [2.]\n",
            " [3.]]\n"
          ]
        }
      ]
    },
    {
      "cell_type": "code",
      "source": [
        "print(a[:,np.newaxis].shape)"
      ],
      "metadata": {
        "colab": {
          "base_uri": "https://localhost:8080/"
        },
        "id": "pGaIvyEJ-uzt",
        "outputId": "8bd88ff6-4ae7-4a37-af9a-61cfc3b32a6b"
      },
      "execution_count": 57,
      "outputs": [
        {
          "output_type": "stream",
          "name": "stdout",
          "text": [
            "(3, 1)\n"
          ]
        }
      ]
    },
    {
      "cell_type": "code",
      "source": [
        "print(a[np.newaxis,:])"
      ],
      "metadata": {
        "colab": {
          "base_uri": "https://localhost:8080/"
        },
        "id": "0N2V0mCR-xzv",
        "outputId": "9a9b6ea0-748a-4e98-e219-d7af68950a9c"
      },
      "execution_count": 59,
      "outputs": [
        {
          "output_type": "stream",
          "name": "stdout",
          "text": [
            "[[1. 2. 3.]]\n"
          ]
        }
      ]
    },
    {
      "cell_type": "code",
      "source": [
        "print(a[np.newaxis,:].shape)"
      ],
      "metadata": {
        "colab": {
          "base_uri": "https://localhost:8080/"
        },
        "id": "FMJLj-QM-2kY",
        "outputId": "705568f2-e7e7-429b-9de2-4d43974e5967"
      },
      "execution_count": 60,
      "outputs": [
        {
          "output_type": "stream",
          "name": "stdout",
          "text": [
            "(1, 3)\n"
          ]
        }
      ]
    },
    {
      "cell_type": "markdown",
      "source": [
        "Заметьте, тут каждый массив двумерный; созданный при помощи newaxis имеет размерность один. Метод newaxis подходит для удобного создания надлежаще-мерных массивов в векторной и матричной математике."
      ],
      "metadata": {
        "id": "HK6u8w-9_J4I"
      }
    },
    {
      "cell_type": "markdown",
      "source": [
        "## 4. Другие пути создания массивов"
      ],
      "metadata": {
        "id": "81nNtY-X_83G"
      }
    },
    {
      "cell_type": "markdown",
      "source": [
        "Функция arange аналогична функции range, но возвращает массив:"
      ],
      "metadata": {
        "id": "qGM4wdvkAFoi"
      }
    },
    {
      "cell_type": "code",
      "source": [
        "print(np.arange(5, dtype=float))"
      ],
      "metadata": {
        "colab": {
          "base_uri": "https://localhost:8080/"
        },
        "id": "XwGOoONNAEth",
        "outputId": "37e161f6-e3cc-41a2-9e76-56921808105c"
      },
      "execution_count": 139,
      "outputs": [
        {
          "output_type": "stream",
          "name": "stdout",
          "text": [
            "[0. 1. 2. 3. 4.]\n"
          ]
        }
      ]
    },
    {
      "cell_type": "code",
      "source": [
        "print(np.arange(1, 6, 2, dtype=int))"
      ],
      "metadata": {
        "colab": {
          "base_uri": "https://localhost:8080/"
        },
        "id": "TUIKGIwMD5am",
        "outputId": "4ccde04f-1115-452f-cd49-7945d68856d1"
      },
      "execution_count": 140,
      "outputs": [
        {
          "output_type": "stream",
          "name": "stdout",
          "text": [
            "[1 3 5]\n"
          ]
        }
      ]
    },
    {
      "cell_type": "markdown",
      "source": [
        "Функции zeros и ones создают новые массивы с установленной размерностью, заполненные этими значениями. Это, наверное, самые простые в использовании функции для создания массивов:"
      ],
      "metadata": {
        "id": "LXMoJ6GmAI7j"
      }
    },
    {
      "cell_type": "code",
      "source": [
        "print(np.ones((2,3), dtype=float))"
      ],
      "metadata": {
        "colab": {
          "base_uri": "https://localhost:8080/"
        },
        "id": "w27UFs63AKLD",
        "outputId": "4221bd33-edd9-4c2e-fa61-87be50dda770"
      },
      "execution_count": 63,
      "outputs": [
        {
          "output_type": "stream",
          "name": "stdout",
          "text": [
            "[[1. 1. 1.]\n",
            " [1. 1. 1.]]\n"
          ]
        }
      ]
    },
    {
      "cell_type": "code",
      "source": [
        "print(np.zeros(7, dtype=int))"
      ],
      "metadata": {
        "colab": {
          "base_uri": "https://localhost:8080/"
        },
        "id": "ijYlzjNWD-nh",
        "outputId": "96de5d93-1f67-450e-f077-cfe69e7fea10"
      },
      "execution_count": 64,
      "outputs": [
        {
          "output_type": "stream",
          "name": "stdout",
          "text": [
            "[0 0 0 0 0 0 0]\n"
          ]
        }
      ]
    },
    {
      "cell_type": "markdown",
      "source": [
        "Функции zeros_like и ones_like могут преобразовать уже созданный массив, заполнив его нулями и единицами соответственно:"
      ],
      "metadata": {
        "id": "xbxozXr2ALz0"
      }
    },
    {
      "cell_type": "code",
      "source": [
        "a = np.array([[1, 2, 3], [4, 5, 6]], float)\n",
        "print(np.zeros_like(a))"
      ],
      "metadata": {
        "colab": {
          "base_uri": "https://localhost:8080/"
        },
        "id": "xbE_OsL2ANFM",
        "outputId": "c9719059-bf8d-421d-af28-d73b3894ce17"
      },
      "execution_count": 65,
      "outputs": [
        {
          "output_type": "stream",
          "name": "stdout",
          "text": [
            "[[0. 0. 0.]\n",
            " [0. 0. 0.]]\n"
          ]
        }
      ]
    },
    {
      "cell_type": "code",
      "source": [
        "print(np.ones_like(a))"
      ],
      "metadata": {
        "colab": {
          "base_uri": "https://localhost:8080/"
        },
        "id": "LEHBm_UEEGKr",
        "outputId": "da2e1780-ca0f-4be8-fde5-4f3730d8b2a9"
      },
      "execution_count": 66,
      "outputs": [
        {
          "output_type": "stream",
          "name": "stdout",
          "text": [
            "[[1. 1. 1.]\n",
            " [1. 1. 1.]]\n"
          ]
        }
      ]
    },
    {
      "cell_type": "markdown",
      "source": [
        "Также есть некоторое количество функций для создания специальных матриц. Для создания квадратной матрицы с главной диагональю, которая заполненная единицами, воспользуемся методом identity:"
      ],
      "metadata": {
        "id": "jINCXgPPAOn1"
      }
    },
    {
      "cell_type": "code",
      "source": [
        "print(np.identity(4, dtype=float))"
      ],
      "metadata": {
        "colab": {
          "base_uri": "https://localhost:8080/"
        },
        "id": "KQDCmtUSAQQV",
        "outputId": "80521e58-0f74-47a7-dcef-108e71d4c6c1"
      },
      "execution_count": 67,
      "outputs": [
        {
          "output_type": "stream",
          "name": "stdout",
          "text": [
            "[[1. 0. 0. 0.]\n",
            " [0. 1. 0. 0.]\n",
            " [0. 0. 1. 0.]\n",
            " [0. 0. 0. 1.]]\n"
          ]
        }
      ]
    },
    {
      "cell_type": "markdown",
      "source": [
        "Функция eye возвращает матрицу с единичками на к-атой диагонали:"
      ],
      "metadata": {
        "id": "75aX7Y2aARcG"
      }
    },
    {
      "cell_type": "code",
      "source": [
        "print(np.eye(4, k=1, dtype=float))"
      ],
      "metadata": {
        "colab": {
          "base_uri": "https://localhost:8080/"
        },
        "id": "6bdTHGn2ATAv",
        "outputId": "619d67d2-1d3e-4e4c-8ffe-9228640aad0e"
      },
      "execution_count": 142,
      "outputs": [
        {
          "output_type": "stream",
          "name": "stdout",
          "text": [
            "[[0. 1. 0. 0.]\n",
            " [0. 0. 1. 0.]\n",
            " [0. 0. 0. 1.]\n",
            " [0. 0. 0. 0.]]\n"
          ]
        }
      ]
    },
    {
      "cell_type": "markdown",
      "source": [
        "## 5. Математические операции над массивами"
      ],
      "metadata": {
        "id": "QpkxcicnAUo_"
      }
    },
    {
      "cell_type": "markdown",
      "source": [
        "Когда для массивов мы используем стандартные математические операции, должен соблюдаться принцип: элемент--элемент. Это означает, что массивы должны быть одинакового размера во время сложения, вычитания и тому подобных операций:"
      ],
      "metadata": {
        "id": "IlcZuK0OAYXp"
      }
    },
    {
      "cell_type": "code",
      "source": [
        "a = np.array([1,2,3], float)\n",
        "b = np.array([5,2,6], float)\n",
        "print(a,'\\n')\n",
        "print(b)"
      ],
      "metadata": {
        "colab": {
          "base_uri": "https://localhost:8080/"
        },
        "id": "nHOQyEgmESKR",
        "outputId": "84cbea1a-57c6-45e4-9083-1b5f48db2a10"
      },
      "execution_count": 145,
      "outputs": [
        {
          "output_type": "stream",
          "name": "stdout",
          "text": [
            "[1. 2. 3.] \n",
            "\n",
            "[5. 2. 6.]\n"
          ]
        }
      ]
    },
    {
      "cell_type": "code",
      "source": [
        "print(a + b)"
      ],
      "metadata": {
        "colab": {
          "base_uri": "https://localhost:8080/"
        },
        "id": "Z8nw0xGWAZ7h",
        "outputId": "c4236126-9446-42a3-c8b2-45da1ff45830"
      },
      "execution_count": 70,
      "outputs": [
        {
          "output_type": "stream",
          "name": "stdout",
          "text": [
            "[6. 4. 9.]\n"
          ]
        }
      ]
    },
    {
      "cell_type": "code",
      "source": [
        "print(a - b)"
      ],
      "metadata": {
        "colab": {
          "base_uri": "https://localhost:8080/"
        },
        "id": "ao31ZUQTEa71",
        "outputId": "b0a93837-4c54-416e-d3f8-9c043fb259bc"
      },
      "execution_count": 73,
      "outputs": [
        {
          "output_type": "stream",
          "name": "stdout",
          "text": [
            "[-4.  0. -3.]\n"
          ]
        }
      ]
    },
    {
      "cell_type": "code",
      "source": [
        "print(a * b)"
      ],
      "metadata": {
        "colab": {
          "base_uri": "https://localhost:8080/"
        },
        "id": "1PRBuR3KEa0t",
        "outputId": "5dd06bee-a6f6-43ca-9825-186bb91a303a"
      },
      "execution_count": 72,
      "outputs": [
        {
          "output_type": "stream",
          "name": "stdout",
          "text": [
            "[ 5.  4. 18.]\n"
          ]
        }
      ]
    },
    {
      "cell_type": "code",
      "source": [
        "print(b / a)"
      ],
      "metadata": {
        "colab": {
          "base_uri": "https://localhost:8080/"
        },
        "id": "Wbb1hmX5Eass",
        "outputId": "c39c8275-dd2c-4bd7-995a-0d4d9c925be3"
      },
      "execution_count": 74,
      "outputs": [
        {
          "output_type": "stream",
          "name": "stdout",
          "text": [
            "[5. 1. 2.]\n"
          ]
        }
      ]
    },
    {
      "cell_type": "code",
      "source": [
        "print(a % b)"
      ],
      "metadata": {
        "colab": {
          "base_uri": "https://localhost:8080/"
        },
        "id": "TJMPduaZEagk",
        "outputId": "5d22d4df-f10d-42b5-f8fa-1b68ab53624d"
      },
      "execution_count": 75,
      "outputs": [
        {
          "output_type": "stream",
          "name": "stdout",
          "text": [
            "[1. 0. 3.]\n"
          ]
        }
      ]
    },
    {
      "cell_type": "code",
      "source": [
        "print(b**a)"
      ],
      "metadata": {
        "colab": {
          "base_uri": "https://localhost:8080/"
        },
        "id": "yYnJR-lcEd82",
        "outputId": "ae00b3d8-b4c4-4ffb-9944-8d7a2419f4be"
      },
      "execution_count": 146,
      "outputs": [
        {
          "output_type": "stream",
          "name": "stdout",
          "text": [
            "[  5.   4. 216.]\n"
          ]
        }
      ]
    },
    {
      "cell_type": "markdown",
      "source": [
        "Для двухмерных массивов, умножение остается поэлементным и не соответствует умножению матриц. Для этого существуют специальные функции, которые мы изучим позже."
      ],
      "metadata": {
        "id": "vORLn3ZwAbZy"
      }
    },
    {
      "cell_type": "code",
      "source": [
        "a = np.array([[1,2], [3,4]], float)\n",
        "b = np.array([[2,0], [1,3]], float)\n",
        "print(a * b)"
      ],
      "metadata": {
        "colab": {
          "base_uri": "https://localhost:8080/"
        },
        "id": "ALmRGcqvAePD",
        "outputId": "f53ae5a0-4b2b-4cba-e07d-c7b8289566ce"
      },
      "execution_count": 147,
      "outputs": [
        {
          "output_type": "stream",
          "name": "stdout",
          "text": [
            "[[ 2.  0.]\n",
            " [ 3. 12.]]\n"
          ]
        }
      ]
    },
    {
      "cell_type": "markdown",
      "source": [
        "При несоответствии в размере выбрасываются ошибки:"
      ],
      "metadata": {
        "id": "j3hC2XyNAelM"
      }
    },
    {
      "cell_type": "code",
      "source": [
        "a = np.array([1,2,3], float)\n",
        "b = np.array([4,5], float)\n",
        "a + b"
      ],
      "metadata": {
        "colab": {
          "base_uri": "https://localhost:8080/",
          "height": 201
        },
        "id": "UxJb0R9EAfv1",
        "outputId": "bd2fac77-7fb3-4693-d4f9-b8a284200d9b"
      },
      "execution_count": 78,
      "outputs": [
        {
          "output_type": "error",
          "ename": "ValueError",
          "evalue": "ignored",
          "traceback": [
            "\u001b[0;31m---------------------------------------------------------------------------\u001b[0m",
            "\u001b[0;31mValueError\u001b[0m                                Traceback (most recent call last)",
            "\u001b[0;32m<ipython-input-78-fcd7615d1f09>\u001b[0m in \u001b[0;36m<module>\u001b[0;34m\u001b[0m\n\u001b[1;32m      1\u001b[0m \u001b[0ma\u001b[0m \u001b[0;34m=\u001b[0m \u001b[0mnp\u001b[0m\u001b[0;34m.\u001b[0m\u001b[0marray\u001b[0m\u001b[0;34m(\u001b[0m\u001b[0;34m[\u001b[0m\u001b[0;36m1\u001b[0m\u001b[0;34m,\u001b[0m\u001b[0;36m2\u001b[0m\u001b[0;34m,\u001b[0m\u001b[0;36m3\u001b[0m\u001b[0;34m]\u001b[0m\u001b[0;34m,\u001b[0m \u001b[0mfloat\u001b[0m\u001b[0;34m)\u001b[0m\u001b[0;34m\u001b[0m\u001b[0;34m\u001b[0m\u001b[0m\n\u001b[1;32m      2\u001b[0m \u001b[0mb\u001b[0m \u001b[0;34m=\u001b[0m \u001b[0mnp\u001b[0m\u001b[0;34m.\u001b[0m\u001b[0marray\u001b[0m\u001b[0;34m(\u001b[0m\u001b[0;34m[\u001b[0m\u001b[0;36m4\u001b[0m\u001b[0;34m,\u001b[0m\u001b[0;36m5\u001b[0m\u001b[0;34m]\u001b[0m\u001b[0;34m,\u001b[0m \u001b[0mfloat\u001b[0m\u001b[0;34m)\u001b[0m\u001b[0;34m\u001b[0m\u001b[0;34m\u001b[0m\u001b[0m\n\u001b[0;32m----> 3\u001b[0;31m \u001b[0ma\u001b[0m \u001b[0;34m+\u001b[0m \u001b[0mb\u001b[0m\u001b[0;34m\u001b[0m\u001b[0;34m\u001b[0m\u001b[0m\n\u001b[0m",
            "\u001b[0;31mValueError\u001b[0m: operands could not be broadcast together with shapes (3,) (2,) "
          ]
        }
      ]
    },
    {
      "cell_type": "markdown",
      "source": [
        "Однако, если размерность массивов не совпадает, они будут преобразованы для выполнения математических операций. Это зачастую означает, что меньший массив будет использован несколько раз для завершения операций. Рассмотрим такой пример:"
      ],
      "metadata": {
        "id": "EcVsYNMrAhQl"
      }
    },
    {
      "cell_type": "code",
      "source": [
        "a = np.array([[1, 2], [3, 4], [5, 6]], float)\n",
        "b = np.array([-1, 3], float)\n",
        "print(a, '\\n\\n', b)"
      ],
      "metadata": {
        "colab": {
          "base_uri": "https://localhost:8080/"
        },
        "id": "4_lAQi5sAi_G",
        "outputId": "e2145f62-1958-4c9d-b6a8-3f60c0dd685c"
      },
      "execution_count": 148,
      "outputs": [
        {
          "output_type": "stream",
          "name": "stdout",
          "text": [
            "[[1. 2.]\n",
            " [3. 4.]\n",
            " [5. 6.]] \n",
            "\n",
            " [-1.  3.]\n"
          ]
        }
      ]
    },
    {
      "cell_type": "code",
      "source": [
        "print(a + b)"
      ],
      "metadata": {
        "colab": {
          "base_uri": "https://localhost:8080/"
        },
        "id": "Yp4XLeFyFBJU",
        "outputId": "92a5f387-b72e-4456-8ce9-5f6b2174546e"
      },
      "execution_count": 80,
      "outputs": [
        {
          "output_type": "stream",
          "name": "stdout",
          "text": [
            "[[0. 5.]\n",
            " [2. 7.]\n",
            " [4. 9.]]\n"
          ]
        }
      ]
    },
    {
      "cell_type": "markdown",
      "source": [
        "Тут, одномерный массив b был преобразован в двухмерный, который соответствует размеру массива a. По существу, b был повторен несколько раз, для каждой «строки» a. Иначе его можно представить так:"
      ],
      "metadata": {
        "id": "X0bnisj9Akpu"
      }
    },
    {
      "cell_type": "code",
      "source": [
        "array([[-1.,  3.],\n",
        "       [-1.,  3.],\n",
        "       [-1.,  3.]])"
      ],
      "metadata": {
        "id": "nYAIZ_eQAnhQ"
      },
      "execution_count": null,
      "outputs": []
    },
    {
      "cell_type": "markdown",
      "source": [
        "Python автоматически преобразовывает массивы в этом случае. Иногда, однако, когда преобразование играет роль, мы можем использовать константу newaxis, чтобы изменить преобразование:"
      ],
      "metadata": {
        "id": "LSwORD_3An6g"
      }
    },
    {
      "cell_type": "code",
      "source": [
        "a = np.zeros((2,2), float)\n",
        "b = np.array([-1., 3.], float)\n",
        "print(a, '\\n\\n', b)"
      ],
      "metadata": {
        "colab": {
          "base_uri": "https://localhost:8080/"
        },
        "id": "Zz68ifOVAptQ",
        "outputId": "0417bdc5-66ba-4395-cec3-46a41647c2bd"
      },
      "execution_count": 84,
      "outputs": [
        {
          "output_type": "stream",
          "name": "stdout",
          "text": [
            "[[0. 0.]\n",
            " [0. 0.]] \n",
            "\n",
            " [-1.  3.]\n"
          ]
        }
      ]
    },
    {
      "cell_type": "code",
      "source": [
        "print(a + b)"
      ],
      "metadata": {
        "colab": {
          "base_uri": "https://localhost:8080/"
        },
        "id": "s3SjOjrFFbu_",
        "outputId": "c19ac2dd-264d-45e0-c40d-9b128613ad5a"
      },
      "execution_count": 85,
      "outputs": [
        {
          "output_type": "stream",
          "name": "stdout",
          "text": [
            "[[-1.  3.]\n",
            " [-1.  3.]]\n"
          ]
        }
      ]
    },
    {
      "cell_type": "code",
      "source": [
        "print(a + b[np.newaxis,:])"
      ],
      "metadata": {
        "colab": {
          "base_uri": "https://localhost:8080/"
        },
        "id": "2fVkbCQtFeNR",
        "outputId": "32e99c43-e704-4de9-d133-bdc939deb167"
      },
      "execution_count": 86,
      "outputs": [
        {
          "output_type": "stream",
          "name": "stdout",
          "text": [
            "[[-1.  3.]\n",
            " [-1.  3.]]\n"
          ]
        }
      ]
    },
    {
      "cell_type": "code",
      "source": [
        "print(a + b[:,np.newaxis])"
      ],
      "metadata": {
        "colab": {
          "base_uri": "https://localhost:8080/"
        },
        "id": "zuVDZWgUFihK",
        "outputId": "36bfd2be-cff6-4e27-e4d5-94a3f671530d"
      },
      "execution_count": 87,
      "outputs": [
        {
          "output_type": "stream",
          "name": "stdout",
          "text": [
            "[[-1. -1.]\n",
            " [ 3.  3.]]\n"
          ]
        }
      ]
    },
    {
      "cell_type": "markdown",
      "source": [
        "Вдобавок к стандартным операторам, в numpy включена библиотека стандартных математических функций, которые могут быть применены поэлементно к массивам. Собственно функции: abs, sign, sqrt, log, log10, exp, sin, cos, tan, arcsin, arccos, arctan, sinh, cosh, tanh, arcsinh, arccosh, и arctanh."
      ],
      "metadata": {
        "id": "f2juA-dhArKR"
      }
    },
    {
      "cell_type": "code",
      "source": [
        "a = np.array([1, 4, 9], float)\n",
        "print(np.sqrt(a))"
      ],
      "metadata": {
        "colab": {
          "base_uri": "https://localhost:8080/"
        },
        "id": "ddBHAbpxAs5R",
        "outputId": "0194b220-4ea9-4aca-cca1-22a022f5f12d"
      },
      "execution_count": 88,
      "outputs": [
        {
          "output_type": "stream",
          "name": "stdout",
          "text": [
            "[1. 2. 3.]\n"
          ]
        }
      ]
    },
    {
      "cell_type": "markdown",
      "source": [
        "Функции floor, ceil и rint возвращают нижние, верхние или ближайшие (округлённое) значение:"
      ],
      "metadata": {
        "id": "KXpBjaUbAuMS"
      }
    },
    {
      "cell_type": "code",
      "source": [
        "a = np.array([1.1, 1.5, 1.9], float)\n",
        "print(np.floor(a))"
      ],
      "metadata": {
        "colab": {
          "base_uri": "https://localhost:8080/"
        },
        "id": "iEO6LnfVAvyr",
        "outputId": "f4e28ff1-bee4-4f79-f70a-2f50df1f3e38"
      },
      "execution_count": 89,
      "outputs": [
        {
          "output_type": "stream",
          "name": "stdout",
          "text": [
            "[1. 1. 1.]\n"
          ]
        }
      ]
    },
    {
      "cell_type": "code",
      "source": [
        "print(np.ceil(a))"
      ],
      "metadata": {
        "colab": {
          "base_uri": "https://localhost:8080/"
        },
        "id": "jCpFS6nMFtjf",
        "outputId": "8a8ad795-74f6-498d-841d-7b358454f13e"
      },
      "execution_count": 90,
      "outputs": [
        {
          "output_type": "stream",
          "name": "stdout",
          "text": [
            "[2. 2. 2.]\n"
          ]
        }
      ]
    },
    {
      "cell_type": "code",
      "source": [
        "print(np.rint(a))"
      ],
      "metadata": {
        "colab": {
          "base_uri": "https://localhost:8080/"
        },
        "id": "uTRACpQSFvw4",
        "outputId": "358d34e5-5acc-4136-cb45-4626392bbfa9"
      },
      "execution_count": 91,
      "outputs": [
        {
          "output_type": "stream",
          "name": "stdout",
          "text": [
            "[1. 2. 2.]\n"
          ]
        }
      ]
    },
    {
      "cell_type": "markdown",
      "source": [
        "Также в numpy включены две важные математические константы:"
      ],
      "metadata": {
        "id": "mNFsY1gsAxB7"
      }
    },
    {
      "cell_type": "code",
      "source": [
        "print(np.pi)\n",
        "print(np.e)"
      ],
      "metadata": {
        "colab": {
          "base_uri": "https://localhost:8080/"
        },
        "id": "5CgI1_7NAzyN",
        "outputId": "ee192c21-881c-4c08-9047-3048fa4aee3e"
      },
      "execution_count": 149,
      "outputs": [
        {
          "output_type": "stream",
          "name": "stdout",
          "text": [
            "3.141592653589793\n",
            "2.718281828459045\n"
          ]
        }
      ]
    },
    {
      "cell_type": "markdown",
      "source": [
        "## 6. Перебор элементов массива"
      ],
      "metadata": {
        "id": "I396FQK3AyeM"
      }
    },
    {
      "cell_type": "markdown",
      "source": [
        "Проводить итерацию массивов можно аналогично спискам:"
      ],
      "metadata": {
        "id": "BNEXs9BEA4n2"
      }
    },
    {
      "cell_type": "code",
      "source": [
        "a = np.array([1, 4, 5], int)\n",
        "for x in a:\n",
        "  print(x)"
      ],
      "metadata": {
        "colab": {
          "base_uri": "https://localhost:8080/"
        },
        "id": "197lYgizA7NH",
        "outputId": "b3f0b309-2cd9-456d-8873-fa63aba04ee8"
      },
      "execution_count": 150,
      "outputs": [
        {
          "output_type": "stream",
          "name": "stdout",
          "text": [
            "1\n",
            "4\n",
            "5\n"
          ]
        }
      ]
    },
    {
      "cell_type": "markdown",
      "source": [
        "Для многомерных массивов итерация будет проводиться по первой оси, так, что каждый проход цикла будет возвращать «строку» массива:"
      ],
      "metadata": {
        "id": "Ukn2QRoQA8B4"
      }
    },
    {
      "cell_type": "code",
      "source": [
        "a = np.array([[1, 2], [3, 4], [5, 6]], float)\n",
        "for x in a:\n",
        "  print(x)"
      ],
      "metadata": {
        "colab": {
          "base_uri": "https://localhost:8080/"
        },
        "id": "AhzUBKA3A9c4",
        "outputId": "cdde8b05-4afd-4737-b039-8f16e65155d4"
      },
      "execution_count": 152,
      "outputs": [
        {
          "output_type": "stream",
          "name": "stdout",
          "text": [
            "[1. 2.]\n",
            "[3. 4.]\n",
            "[5. 6.]\n"
          ]
        }
      ]
    },
    {
      "cell_type": "markdown",
      "source": [
        "Множественное присваивание также доступно при итерации:"
      ],
      "metadata": {
        "id": "o8wOkouBA-3p"
      }
    },
    {
      "cell_type": "code",
      "source": [
        "a = np.array([[1, 2], [3, 4], [5, 6]], float)\n",
        "for (x, y) in a:\n",
        "  print(x * y)"
      ],
      "metadata": {
        "colab": {
          "base_uri": "https://localhost:8080/"
        },
        "id": "sIA4XeG2BA07",
        "outputId": "8defe48e-e4a6-4930-f941-88d015aeb51b"
      },
      "execution_count": 153,
      "outputs": [
        {
          "output_type": "stream",
          "name": "stdout",
          "text": [
            "2.0\n",
            "12.0\n",
            "30.0\n"
          ]
        }
      ]
    },
    {
      "cell_type": "markdown",
      "source": [
        "## 7. Базовые операции над массивами"
      ],
      "metadata": {
        "id": "vXZp5OdyBCT6"
      }
    },
    {
      "cell_type": "markdown",
      "source": [
        "Для получения каких-либо свойств массивов существует много функций. Элементы могут быть суммированы или перемножены:"
      ],
      "metadata": {
        "id": "lcMWbPLmBHzW"
      }
    },
    {
      "cell_type": "code",
      "source": [
        "a = np.array([2, 4, 3], float)\n",
        "a.sum()"
      ],
      "metadata": {
        "colab": {
          "base_uri": "https://localhost:8080/"
        },
        "id": "BS8JR7oKBJBP",
        "outputId": "a8d8cbb2-22a3-416b-c3f9-0a56e412c5e5"
      },
      "execution_count": 154,
      "outputs": [
        {
          "output_type": "execute_result",
          "data": {
            "text/plain": [
              "9.0"
            ]
          },
          "metadata": {},
          "execution_count": 154
        }
      ]
    },
    {
      "cell_type": "code",
      "source": [
        "a.prod()"
      ],
      "metadata": {
        "colab": {
          "base_uri": "https://localhost:8080/"
        },
        "id": "JaV5EUKGVE_0",
        "outputId": "52326aaa-353f-45fc-ffdd-dfa5c395c03b"
      },
      "execution_count": 155,
      "outputs": [
        {
          "output_type": "execute_result",
          "data": {
            "text/plain": [
              "24.0"
            ]
          },
          "metadata": {},
          "execution_count": 155
        }
      ]
    },
    {
      "cell_type": "markdown",
      "source": [
        "В этом примере были использованы функции массива. Также можно использовать собственные функции numpy:"
      ],
      "metadata": {
        "id": "g8pabD3bBKPW"
      }
    },
    {
      "cell_type": "code",
      "source": [
        "np.sum(a)"
      ],
      "metadata": {
        "colab": {
          "base_uri": "https://localhost:8080/"
        },
        "id": "1CMWKZvzBLo2",
        "outputId": "63d816c5-76df-46e7-f49a-01bbcf1bc490"
      },
      "execution_count": 156,
      "outputs": [
        {
          "output_type": "execute_result",
          "data": {
            "text/plain": [
              "9.0"
            ]
          },
          "metadata": {},
          "execution_count": 156
        }
      ]
    },
    {
      "cell_type": "code",
      "source": [
        "np.prod(a)"
      ],
      "metadata": {
        "colab": {
          "base_uri": "https://localhost:8080/"
        },
        "id": "s6A2OABGVVnD",
        "outputId": "3a21410d-faa5-4231-f990-0d41fc4b9474"
      },
      "execution_count": 157,
      "outputs": [
        {
          "output_type": "execute_result",
          "data": {
            "text/plain": [
              "24.0"
            ]
          },
          "metadata": {},
          "execution_count": 157
        }
      ]
    },
    {
      "cell_type": "markdown",
      "source": [
        "Для большинства случаев могут использоваться оба варианта.\n",
        "Некие функции дают возможность оперировать статистическими данными. Это функции mean (среднее арифметическое), вариация и девиация:"
      ],
      "metadata": {
        "id": "N5U00NGgBMzP"
      }
    },
    {
      "cell_type": "code",
      "source": [
        "a = np.array([2, 1, 9], float)\n",
        "a.mean()"
      ],
      "metadata": {
        "colab": {
          "base_uri": "https://localhost:8080/"
        },
        "id": "jAb5Mz92BO9o",
        "outputId": "57a2d762-56bf-46ff-ae0a-7e9e8bd48781"
      },
      "execution_count": 161,
      "outputs": [
        {
          "output_type": "execute_result",
          "data": {
            "text/plain": [
              "4.0"
            ]
          },
          "metadata": {},
          "execution_count": 161
        }
      ]
    },
    {
      "cell_type": "code",
      "source": [
        "a.var()"
      ],
      "metadata": {
        "colab": {
          "base_uri": "https://localhost:8080/"
        },
        "id": "p4PvXKIpVcI9",
        "outputId": "1283dbbf-4205-460c-c1e2-cd2a7093cde5"
      },
      "execution_count": 162,
      "outputs": [
        {
          "output_type": "execute_result",
          "data": {
            "text/plain": [
              "12.666666666666666"
            ]
          },
          "metadata": {},
          "execution_count": 162
        }
      ]
    },
    {
      "cell_type": "code",
      "source": [
        "a.std()"
      ],
      "metadata": {
        "colab": {
          "base_uri": "https://localhost:8080/"
        },
        "id": "HBxe7erdVhz4",
        "outputId": "5ca0905d-97be-4e43-e4d2-3226b30820ef"
      },
      "execution_count": 163,
      "outputs": [
        {
          "output_type": "execute_result",
          "data": {
            "text/plain": [
              "3.559026084010437"
            ]
          },
          "metadata": {},
          "execution_count": 163
        }
      ]
    },
    {
      "cell_type": "markdown",
      "source": [
        "Можно найти минимум и максимум в массиве:"
      ],
      "metadata": {
        "id": "oIWxncGNBQbY"
      }
    },
    {
      "cell_type": "code",
      "source": [
        "a = np.array([2, 1, 9], float)\n",
        "print(a.min(), a.max())"
      ],
      "metadata": {
        "colab": {
          "base_uri": "https://localhost:8080/"
        },
        "id": "zEzvaNffBR3B",
        "outputId": "ee3c2ac2-0573-442e-fcce-56f2a0f8e4d0"
      },
      "execution_count": 164,
      "outputs": [
        {
          "output_type": "stream",
          "name": "stdout",
          "text": [
            "1.0 9.0\n"
          ]
        }
      ]
    },
    {
      "cell_type": "markdown",
      "source": [
        "Функции argmin и argmax возвращают индекс минимального или максимального элемента:"
      ],
      "metadata": {
        "id": "hFDt2Em6BTE5"
      }
    },
    {
      "cell_type": "code",
      "source": [
        "a = np.array([2, 1, 9], float)\n",
        "print(a.argmin(), a.argmax())"
      ],
      "metadata": {
        "colab": {
          "base_uri": "https://localhost:8080/"
        },
        "id": "kEq0-jsIBU07",
        "outputId": "4ebb03a0-f4bf-49d4-cc94-8e014407f64b"
      },
      "execution_count": 165,
      "outputs": [
        {
          "output_type": "stream",
          "name": "stdout",
          "text": [
            "1 2\n"
          ]
        }
      ]
    },
    {
      "cell_type": "markdown",
      "source": [
        "Для многомерных массивов каждая из функций может принять дополнительный аргумент axis и в зависимости от его значения выполнять функции по определенной оси, помещая результаты исполнения в массив:"
      ],
      "metadata": {
        "id": "l17o5FmoBV-S"
      }
    },
    {
      "cell_type": "code",
      "source": [
        "a = np.array([[0, 2], [3, -1], [3, 5]], float)\n",
        "a.mean(axis=0)"
      ],
      "metadata": {
        "colab": {
          "base_uri": "https://localhost:8080/"
        },
        "id": "22ss91LfBYJ8",
        "outputId": "9a155a45-d09f-460b-e546-ce963b1655d1"
      },
      "execution_count": 166,
      "outputs": [
        {
          "output_type": "execute_result",
          "data": {
            "text/plain": [
              "array([2., 2.])"
            ]
          },
          "metadata": {},
          "execution_count": 166
        }
      ]
    },
    {
      "cell_type": "code",
      "source": [
        "print(a.mean(axis=1))"
      ],
      "metadata": {
        "colab": {
          "base_uri": "https://localhost:8080/"
        },
        "id": "WipzShm0V-vf",
        "outputId": "37f74e26-6e77-415a-b627-eef2e19c1361"
      },
      "execution_count": 167,
      "outputs": [
        {
          "output_type": "stream",
          "name": "stdout",
          "text": [
            "[1. 1. 4.]\n"
          ]
        }
      ]
    },
    {
      "cell_type": "code",
      "source": [
        "a.min(axis=1)"
      ],
      "metadata": {
        "colab": {
          "base_uri": "https://localhost:8080/"
        },
        "id": "Esa8D7O0WO9L",
        "outputId": "2e45e904-37b3-4ceb-ff58-93785c085851"
      },
      "execution_count": 168,
      "outputs": [
        {
          "output_type": "execute_result",
          "data": {
            "text/plain": [
              "array([ 0., -1.,  3.])"
            ]
          },
          "metadata": {},
          "execution_count": 168
        }
      ]
    },
    {
      "cell_type": "code",
      "source": [
        "a.max(axis=0)"
      ],
      "metadata": {
        "colab": {
          "base_uri": "https://localhost:8080/"
        },
        "id": "LNKgPIpiWTPb",
        "outputId": "af4dc200-7802-470b-d9e4-54b330718abe"
      },
      "execution_count": 169,
      "outputs": [
        {
          "output_type": "execute_result",
          "data": {
            "text/plain": [
              "array([3., 5.])"
            ]
          },
          "metadata": {},
          "execution_count": 169
        }
      ]
    },
    {
      "cell_type": "markdown",
      "source": [
        "Как и списки, массивы можно отсортировать:"
      ],
      "metadata": {
        "id": "c-XURTeRBZ4c"
      }
    },
    {
      "cell_type": "code",
      "source": [
        "a = np.array([6, 2, 5, -1, 0], float)\n",
        "sorted(a)"
      ],
      "metadata": {
        "colab": {
          "base_uri": "https://localhost:8080/"
        },
        "id": "_1ho607rBbU1",
        "outputId": "93d81a66-9053-47d7-e9b3-89c3caec165d"
      },
      "execution_count": 170,
      "outputs": [
        {
          "output_type": "execute_result",
          "data": {
            "text/plain": [
              "[-1.0, 0.0, 2.0, 5.0, 6.0]"
            ]
          },
          "metadata": {},
          "execution_count": 170
        }
      ]
    },
    {
      "cell_type": "code",
      "source": [
        "a.sort()\n",
        "print(a)"
      ],
      "metadata": {
        "colab": {
          "base_uri": "https://localhost:8080/"
        },
        "id": "XSGUK3BjWcyX",
        "outputId": "7feca480-a54e-4dcf-be73-0cd292fe4cdc"
      },
      "execution_count": 175,
      "outputs": [
        {
          "output_type": "stream",
          "name": "stdout",
          "text": [
            "[1. 1. 4. 5. 5. 5. 7.]\n"
          ]
        }
      ]
    },
    {
      "cell_type": "markdown",
      "source": [
        "Значения в массиве могут быть «сокращены», чтобы принадлежать заданному диапазону. Это тоже самое что применять min(max(x, minval), maxval) к каждому элементу x:"
      ],
      "metadata": {
        "id": "XFCugTvhBcy1"
      }
    },
    {
      "cell_type": "code",
      "source": [
        "a = np.array([6, 2, 5, -1, 0], float)\n",
        "a.clip(0, 5)"
      ],
      "metadata": {
        "colab": {
          "base_uri": "https://localhost:8080/"
        },
        "id": "tpg41sN2Bede",
        "outputId": "6d9843c8-385b-4c15-de69-81206d619d5f"
      },
      "execution_count": 177,
      "outputs": [
        {
          "output_type": "execute_result",
          "data": {
            "text/plain": [
              "array([5., 2., 5., 0., 0.])"
            ]
          },
          "metadata": {},
          "execution_count": 177
        }
      ]
    },
    {
      "cell_type": "markdown",
      "source": [
        "Уникальные элементы могут быть извлечены вот так:"
      ],
      "metadata": {
        "id": "QjLHb94UBf6X"
      }
    },
    {
      "cell_type": "code",
      "source": [
        "a = np.array([1, 1, 4, 5, 5, 5, 7], float)\n",
        "np.unique(a)"
      ],
      "metadata": {
        "colab": {
          "base_uri": "https://localhost:8080/"
        },
        "id": "Tt3sxkvgBg_v",
        "outputId": "c8d75c68-3a53-4261-c1f5-b1dec160c564"
      },
      "execution_count": 178,
      "outputs": [
        {
          "output_type": "execute_result",
          "data": {
            "text/plain": [
              "array([1., 4., 5., 7.])"
            ]
          },
          "metadata": {},
          "execution_count": 178
        }
      ]
    },
    {
      "cell_type": "markdown",
      "source": [
        "Для двухмерных массивов диагональ можно получить так:"
      ],
      "metadata": {
        "id": "7vBg9z6UBijQ"
      }
    },
    {
      "cell_type": "code",
      "source": [
        "a = np.array([[1, 2], [3, 4]], float)\n",
        "a.diagonal()"
      ],
      "metadata": {
        "colab": {
          "base_uri": "https://localhost:8080/"
        },
        "id": "sciBTvFoBkEI",
        "outputId": "5a955948-28dd-41e1-93ba-b0f03317b2a3"
      },
      "execution_count": 179,
      "outputs": [
        {
          "output_type": "execute_result",
          "data": {
            "text/plain": [
              "array([1., 4.])"
            ]
          },
          "metadata": {},
          "execution_count": 179
        }
      ]
    },
    {
      "cell_type": "markdown",
      "source": [
        "## 8. Операторы сравнения и тестирование значений"
      ],
      "metadata": {
        "id": "jArhu7eABlTh"
      }
    },
    {
      "cell_type": "markdown",
      "source": [
        "Булево сравнение может быть использовано для поэлементного сравнения массивов одинаковых длин. Возвращаемое значение это массив булевых True/False значений:"
      ],
      "metadata": {
        "id": "NgclUgepBt2U"
      }
    },
    {
      "cell_type": "code",
      "source": [
        "a = np.array([1, 3, 0], float)\n",
        "b = np.array([0, 3, 2], float)\n",
        "print(a > b, (a > b).dtype)"
      ],
      "metadata": {
        "colab": {
          "base_uri": "https://localhost:8080/"
        },
        "id": "RY2fSEzFBvnO",
        "outputId": "b417e181-56f8-471d-d390-2dfa760a6e93"
      },
      "execution_count": 188,
      "outputs": [
        {
          "output_type": "stream",
          "name": "stdout",
          "text": [
            "[ True False False] bool\n"
          ]
        }
      ]
    },
    {
      "cell_type": "code",
      "source": [
        "print(a == b, (a == b).dtype)"
      ],
      "metadata": {
        "colab": {
          "base_uri": "https://localhost:8080/"
        },
        "id": "N0SvMbypXBsx",
        "outputId": "56a78015-f0ec-438e-c7e4-1b95e25aa6e3"
      },
      "execution_count": 189,
      "outputs": [
        {
          "output_type": "stream",
          "name": "stdout",
          "text": [
            "[False  True False] bool\n"
          ]
        }
      ]
    },
    {
      "cell_type": "code",
      "source": [
        "print(a <= b, (a <= b).dtype)"
      ],
      "metadata": {
        "colab": {
          "base_uri": "https://localhost:8080/"
        },
        "id": "MXV395HlXTM2",
        "outputId": "680e4bf7-07ab-43d8-8fc5-3a321740b27a"
      },
      "execution_count": 190,
      "outputs": [
        {
          "output_type": "stream",
          "name": "stdout",
          "text": [
            "[False  True  True] bool\n"
          ]
        }
      ]
    },
    {
      "cell_type": "markdown",
      "source": [
        "Результат сравнения может быть сохранен в массиве:"
      ],
      "metadata": {
        "id": "nsjOZBLlBw-u"
      }
    },
    {
      "cell_type": "code",
      "source": [
        "c = a > b\n",
        "c"
      ],
      "metadata": {
        "colab": {
          "base_uri": "https://localhost:8080/"
        },
        "id": "CRTiVOP9Bye-",
        "outputId": "b2e32a4f-89ed-460c-fec2-e27df855df8c"
      },
      "execution_count": 191,
      "outputs": [
        {
          "output_type": "execute_result",
          "data": {
            "text/plain": [
              "array([ True, False, False])"
            ]
          },
          "metadata": {},
          "execution_count": 191
        }
      ]
    },
    {
      "cell_type": "markdown",
      "source": [
        "Массивы могут быть сравнены с одиночным значением:"
      ],
      "metadata": {
        "id": "_loTBMFnBz7X"
      }
    },
    {
      "cell_type": "code",
      "source": [
        "a = np.array([1, 3, 0], float)\n",
        "a > 2"
      ],
      "metadata": {
        "colab": {
          "base_uri": "https://localhost:8080/"
        },
        "id": "TDY9tGzqB1pA",
        "outputId": "e078bb0e-56ba-4e6e-9726-9caf3c52fe08"
      },
      "execution_count": 192,
      "outputs": [
        {
          "output_type": "execute_result",
          "data": {
            "text/plain": [
              "array([False,  True, False])"
            ]
          },
          "metadata": {},
          "execution_count": 192
        }
      ]
    },
    {
      "cell_type": "markdown",
      "source": [
        "Операторы any и all могут быть использованы для определения истинны ли хотя бы один или все элементы соответственно:"
      ],
      "metadata": {
        "id": "IlYhXsQ3B27Y"
      }
    },
    {
      "cell_type": "code",
      "source": [
        "c = np.array([ True, False, False], bool)\n",
        "print('any =', any(c), ' all =', all(c))"
      ],
      "metadata": {
        "colab": {
          "base_uri": "https://localhost:8080/"
        },
        "id": "H9oB17YuB4Gy",
        "outputId": "9aac67a4-52c8-4437-c454-7d45a7e9169b"
      },
      "execution_count": 194,
      "outputs": [
        {
          "output_type": "stream",
          "name": "stdout",
          "text": [
            "any = True  all = False\n"
          ]
        }
      ]
    },
    {
      "cell_type": "markdown",
      "source": [
        "Комбинированные булевы выражения могут быть применены к массивам по принципу элемент — элемент используя специальные функции logical_and, logical_or и logical_not:"
      ],
      "metadata": {
        "id": "42DvObfbB5f5"
      }
    },
    {
      "cell_type": "code",
      "source": [
        "a = np.array([1, 3, 0], float)\n",
        "np.logical_and(a > 0, a < 3)"
      ],
      "metadata": {
        "colab": {
          "base_uri": "https://localhost:8080/"
        },
        "id": "U_i0QLfFB7Qx",
        "outputId": "af5905e0-fcf4-41e0-e388-b280e950b839"
      },
      "execution_count": 195,
      "outputs": [
        {
          "output_type": "execute_result",
          "data": {
            "text/plain": [
              "array([ True, False, False])"
            ]
          },
          "metadata": {},
          "execution_count": 195
        }
      ]
    },
    {
      "cell_type": "code",
      "source": [
        "b = np.array([True, False, True], bool)\n",
        "np.logical_not(b)"
      ],
      "metadata": {
        "colab": {
          "base_uri": "https://localhost:8080/"
        },
        "id": "gsqV41GCYghN",
        "outputId": "7b594c0e-5de4-460d-eaeb-83bb41b586dc"
      },
      "execution_count": 196,
      "outputs": [
        {
          "output_type": "execute_result",
          "data": {
            "text/plain": [
              "array([False,  True, False])"
            ]
          },
          "metadata": {},
          "execution_count": 196
        }
      ]
    },
    {
      "cell_type": "code",
      "source": [
        "c = np.array([False, True, False], bool)\n",
        "np.logical_or(b, c)"
      ],
      "metadata": {
        "colab": {
          "base_uri": "https://localhost:8080/"
        },
        "id": "G-GZI5I7YiL-",
        "outputId": "080dfb71-d5a4-43a9-ca5e-b2684c684d95"
      },
      "execution_count": 197,
      "outputs": [
        {
          "output_type": "execute_result",
          "data": {
            "text/plain": [
              "array([ True,  True,  True])"
            ]
          },
          "metadata": {},
          "execution_count": 197
        }
      ]
    },
    {
      "cell_type": "markdown",
      "source": [
        "Функция where создает новый массив из двух других массивов одинаковых длин используя булев фильтр для выбора межу двумя элементами. Базовый синтаксис: where(boolarray,\n",
        "truearray, falsearray):"
      ],
      "metadata": {
        "id": "Q7oa7BWwB8dS"
      }
    },
    {
      "cell_type": "code",
      "source": [
        "a = np.array([1, 3, -4], float)\n",
        "np.where(a < 0, -a, a)"
      ],
      "metadata": {
        "colab": {
          "base_uri": "https://localhost:8080/"
        },
        "id": "ZTshEHAWB-Uz",
        "outputId": "e55d6120-cdfc-4c6d-9077-69f5f07e325e"
      },
      "execution_count": 251,
      "outputs": [
        {
          "output_type": "execute_result",
          "data": {
            "text/plain": [
              "array([1., 3., 4.])"
            ]
          },
          "metadata": {},
          "execution_count": 251
        }
      ]
    },
    {
      "cell_type": "markdown",
      "source": [
        "С функцией where так же может быть реализовано «массовое сравнение»:"
      ],
      "metadata": {
        "id": "cJFlX2a2B_nE"
      }
    },
    {
      "cell_type": "code",
      "source": [
        "print(np.where(a > 0, 3, 2))"
      ],
      "metadata": {
        "colab": {
          "base_uri": "https://localhost:8080/"
        },
        "id": "I42eypAkCAv8",
        "outputId": "9e37cbdb-d97d-4fab-d861-a3af75cfd522"
      },
      "execution_count": 200,
      "outputs": [
        {
          "output_type": "stream",
          "name": "stdout",
          "text": [
            "[3 3 2]\n"
          ]
        }
      ]
    },
    {
      "cell_type": "markdown",
      "source": [
        "Некоторые функции дают возможность тестировать значения в массиве. Функция nonzero возвращает кортеж индексов ненулевых значений. Количество элементов в кортеже равно количеству осей в массиве:"
      ],
      "metadata": {
        "id": "zsaK3wQVCELd"
      }
    },
    {
      "cell_type": "code",
      "source": [
        "a = np.array([[0, 1], [3, 0]], float)\n",
        "a.nonzero()"
      ],
      "metadata": {
        "colab": {
          "base_uri": "https://localhost:8080/"
        },
        "id": "nfpugfqjCHLv",
        "outputId": "8264b2ff-a6bc-4be0-d4e2-003f5fe68372"
      },
      "execution_count": 204,
      "outputs": [
        {
          "output_type": "execute_result",
          "data": {
            "text/plain": [
              "(array([0, 1]), array([1, 0]))"
            ]
          },
          "metadata": {},
          "execution_count": 204
        }
      ]
    },
    {
      "cell_type": "markdown",
      "source": [
        "Также можно проверить значения на конечность и NaN(not a number):"
      ],
      "metadata": {
        "id": "bkRCyUq4CHjf"
      }
    },
    {
      "cell_type": "code",
      "source": [
        "a = np.array([1, np.NaN, np.Inf], float)\n",
        "print(a)"
      ],
      "metadata": {
        "colab": {
          "base_uri": "https://localhost:8080/"
        },
        "id": "sCtZTj7eCIww",
        "outputId": "01ab61a9-881c-49a8-bb86-839b8d361c95"
      },
      "execution_count": 208,
      "outputs": [
        {
          "output_type": "stream",
          "name": "stdout",
          "text": [
            "[ 1. nan inf]\n"
          ]
        }
      ]
    },
    {
      "cell_type": "code",
      "source": [
        "np.isnan(a)"
      ],
      "metadata": {
        "colab": {
          "base_uri": "https://localhost:8080/"
        },
        "id": "yoXzN7mzaBS-",
        "outputId": "d54143d9-9629-474b-fd74-79a9a7768d75"
      },
      "execution_count": 209,
      "outputs": [
        {
          "output_type": "execute_result",
          "data": {
            "text/plain": [
              "array([False,  True, False])"
            ]
          },
          "metadata": {},
          "execution_count": 209
        }
      ]
    },
    {
      "cell_type": "code",
      "source": [
        "np.isfinite(a)"
      ],
      "metadata": {
        "colab": {
          "base_uri": "https://localhost:8080/"
        },
        "id": "ABGmYiPtaDnf",
        "outputId": "e501f05e-2409-4c2d-e52a-2f11e4a5691a"
      },
      "execution_count": 210,
      "outputs": [
        {
          "output_type": "execute_result",
          "data": {
            "text/plain": [
              "array([ True, False, False])"
            ]
          },
          "metadata": {},
          "execution_count": 210
        }
      ]
    },
    {
      "cell_type": "markdown",
      "source": [
        "Хотя здесь мы использовали константы numpy чтобы добавить значения NaN и бесконечность, они могут быть результатами применения стандартных математических операций."
      ],
      "metadata": {
        "id": "fc_cVkLLCJ8w"
      }
    },
    {
      "cell_type": "markdown",
      "source": [
        "## 9. Выбор элементов массива и манипуляция с ними"
      ],
      "metadata": {
        "id": "48UXGImqCL4h"
      }
    },
    {
      "cell_type": "markdown",
      "source": [
        "Мы уже видели, как и у списков, элементы массива можно получить используя операцию доступа по индексу. Однако, в отличии от списков, массивы также позволяют делать выбор элементов используя другие массивы. Это значит, что мы можем использовать массив для фильтрации специфических подмножеств элементов других массивов.\n",
        "\n",
        "Булевы массивы могут быть использованы как массивы для фильтрации:"
      ],
      "metadata": {
        "id": "8v_RADyHCQKD"
      }
    },
    {
      "cell_type": "code",
      "source": [
        "a = np.array([[6, 4], [5, 9]], float)\n",
        "a >= 6"
      ],
      "metadata": {
        "colab": {
          "base_uri": "https://localhost:8080/"
        },
        "id": "my0d2MIbCSA7",
        "outputId": "af40331f-865c-4d1e-fab0-4b0f9f2378bb"
      },
      "execution_count": 211,
      "outputs": [
        {
          "output_type": "execute_result",
          "data": {
            "text/plain": [
              "array([[ True, False],\n",
              "       [False,  True]])"
            ]
          },
          "metadata": {},
          "execution_count": 211
        }
      ]
    },
    {
      "cell_type": "code",
      "source": [
        "a[a >= 6]"
      ],
      "metadata": {
        "colab": {
          "base_uri": "https://localhost:8080/"
        },
        "id": "EI9_-g5earTP",
        "outputId": "0c2590c8-5457-42f6-86d1-e08439aab120"
      },
      "execution_count": 214,
      "outputs": [
        {
          "output_type": "execute_result",
          "data": {
            "text/plain": [
              "array([6., 9.])"
            ]
          },
          "metadata": {},
          "execution_count": 214
        }
      ]
    },
    {
      "cell_type": "markdown",
      "source": [
        "Стоит заметить, что когда мы передаем булев массив a>=6 как индекс для операции доступа по индексу массива a, возвращаемый массив будет хранить только True значения. Также мы можем записать массив для фильтрации в переменную:"
      ],
      "metadata": {
        "id": "LsZWlupPCTSE"
      }
    },
    {
      "cell_type": "code",
      "source": [
        "a = np.array([[6, 4], [5, 9]], float)\n",
        "sel = (a >= 6)\n",
        "a[sel]"
      ],
      "metadata": {
        "colab": {
          "base_uri": "https://localhost:8080/"
        },
        "id": "YtvYfzJ6CVIk",
        "outputId": "b49b81fd-c765-4c2d-b61c-2607a5688712"
      },
      "execution_count": 256,
      "outputs": [
        {
          "output_type": "execute_result",
          "data": {
            "text/plain": [
              "array([6., 9.])"
            ]
          },
          "metadata": {},
          "execution_count": 256
        }
      ]
    },
    {
      "cell_type": "markdown",
      "source": [
        "Более замысловатая фильтрация может быть достигнута использованием булевых выражений:"
      ],
      "metadata": {
        "id": "hJyDA-QbCWek"
      }
    },
    {
      "cell_type": "code",
      "source": [
        "a[np.logical_and(a > 5, a < 9)]"
      ],
      "metadata": {
        "colab": {
          "base_uri": "https://localhost:8080/"
        },
        "id": "_dyOgRnICYJV",
        "outputId": "dd9eb691-0420-4922-dc17-1a423ceff6c8"
      },
      "execution_count": 218,
      "outputs": [
        {
          "output_type": "execute_result",
          "data": {
            "text/plain": [
              "array([6.])"
            ]
          },
          "metadata": {},
          "execution_count": 218
        }
      ]
    },
    {
      "cell_type": "markdown",
      "source": [
        "В придачу к булеву выбору, также можно использовать целочисленные массивы. В этом случае, целочисленный массив хранит индексы элементов, которые будут взяты из массива. Рассмотрим следующий одномерный пример:"
      ],
      "metadata": {
        "id": "1bni-0cECZYe"
      }
    },
    {
      "cell_type": "code",
      "source": [
        "a = np.array([2, 4, 6, 8], float)\n",
        "b = np.array([0, 0, 1, 3, 2, 1], int)\n",
        "a[b]"
      ],
      "metadata": {
        "colab": {
          "base_uri": "https://localhost:8080/"
        },
        "id": "aTYkfiDHCceA",
        "outputId": "01264db0-4a59-4786-8da0-3c2a5fad0959"
      },
      "execution_count": 219,
      "outputs": [
        {
          "output_type": "execute_result",
          "data": {
            "text/plain": [
              "array([2., 2., 4., 8., 6., 4.])"
            ]
          },
          "metadata": {},
          "execution_count": 219
        }
      ]
    },
    {
      "cell_type": "markdown",
      "source": [
        "Иными словами, когда мы используем b для получения элементов из a, мы берем 0-й, 0-й, 1-й, 3-й, 2-й и 1-й элементы a в этом порядке. Списки также могут быть использованы как массивы для фильтрации:"
      ],
      "metadata": {
        "id": "_u70TKhsCcuv"
      }
    },
    {
      "cell_type": "code",
      "source": [
        "a = np.array([2, 4, 6, 8], float)\n",
        "a[[0, 0, 1, 3, 2, 1]]"
      ],
      "metadata": {
        "colab": {
          "base_uri": "https://localhost:8080/"
        },
        "id": "kvn7-oTlbc5d",
        "outputId": "5eee2d4c-aabb-4d8d-eaf2-27f6a2f9cb31"
      },
      "execution_count": 220,
      "outputs": [
        {
          "output_type": "execute_result",
          "data": {
            "text/plain": [
              "array([2., 2., 4., 8., 6., 4.])"
            ]
          },
          "metadata": {},
          "execution_count": 220
        }
      ]
    },
    {
      "cell_type": "markdown",
      "source": [
        "Для многомерных массивов, нам необходимо передать несколько одномерных целочисленных массивов в оператор доступа индексу для каждой оси. Потом каждый из массивов проходит такую последовательность: первый элемент соответствует индексу строки, который является первым элементом массива b, второй элемент соответствует индексу столбца, который является первым элементом массива c и так далее. Пример:"
      ],
      "metadata": {
        "id": "VOAi7SpMCf0Y"
      }
    },
    {
      "cell_type": "code",
      "source": [
        "a = np.array([[1, 4], [9, 16]], float)\n",
        "b = np.array([0, 0, 1, 1, 0], int)\n",
        "c = np.array([0, 1, 1, 1, 1], int)\n",
        "a[b,c]"
      ],
      "metadata": {
        "colab": {
          "base_uri": "https://localhost:8080/"
        },
        "id": "oK5oTwGsCm8L",
        "outputId": "fb85de31-e59f-40f4-bec2-21e1bad5328b"
      },
      "execution_count": 221,
      "outputs": [
        {
          "output_type": "execute_result",
          "data": {
            "text/plain": [
              "array([ 1.,  4., 16., 16.,  4.])"
            ]
          },
          "metadata": {},
          "execution_count": 221
        }
      ]
    },
    {
      "cell_type": "markdown",
      "source": [
        "Специальная функция take доступна для выполнения выборки с целочисленными массивами. Это работает также как и использования оператора взятия по индексу:"
      ],
      "metadata": {
        "id": "x1VhmcWVCnSD"
      }
    },
    {
      "cell_type": "code",
      "source": [
        "a = np.array([2, 4, 6, 8], float)\n",
        "b = np.array([0, 0, 1, 3, 2, 1], int)\n",
        "a.take(b)"
      ],
      "metadata": {
        "colab": {
          "base_uri": "https://localhost:8080/"
        },
        "id": "04Bu83_oCpzs",
        "outputId": "6f89f51d-1d67-4c50-de13-849a4c7ff9d6"
      },
      "execution_count": 222,
      "outputs": [
        {
          "output_type": "execute_result",
          "data": {
            "text/plain": [
              "array([2., 2., 4., 8., 6., 4.])"
            ]
          },
          "metadata": {},
          "execution_count": 222
        }
      ]
    },
    {
      "cell_type": "markdown",
      "source": [
        "Функция take также предоставляет аргумент axis (ось) для взятия подсекции многомерного массива вдоль какой-либо оси. (Прим. переводчика: по строкам или столбцам (для двумерных массивов))."
      ],
      "metadata": {
        "id": "zLrg107XCoj0"
      }
    },
    {
      "cell_type": "code",
      "source": [
        "a = np.array([[0, 1], [2, 3]], float)\n",
        "b = np.array([0, 0, 1], int)\n",
        "a.take(b, axis=0)"
      ],
      "metadata": {
        "colab": {
          "base_uri": "https://localhost:8080/"
        },
        "id": "zcIytgqVCtVu",
        "outputId": "17a7fb27-90e1-4bf7-b0af-2d6fc964ee8e"
      },
      "execution_count": 223,
      "outputs": [
        {
          "output_type": "execute_result",
          "data": {
            "text/plain": [
              "array([[0., 1.],\n",
              "       [0., 1.],\n",
              "       [2., 3.]])"
            ]
          },
          "metadata": {},
          "execution_count": 223
        }
      ]
    },
    {
      "cell_type": "code",
      "source": [
        "a.take(b, axis=1)"
      ],
      "metadata": {
        "colab": {
          "base_uri": "https://localhost:8080/"
        },
        "id": "sT6ywBcqcBqi",
        "outputId": "86fcfe01-a3bc-4724-f991-b83aa7f45626"
      },
      "execution_count": 224,
      "outputs": [
        {
          "output_type": "execute_result",
          "data": {
            "text/plain": [
              "array([[0., 0., 1.],\n",
              "       [2., 2., 3.]])"
            ]
          },
          "metadata": {},
          "execution_count": 224
        }
      ]
    },
    {
      "cell_type": "markdown",
      "source": [
        "В противоположность к функции take есть функция put, которая будет брать значения из исходного массива и записывать их на специфические индексы в другом put-массиве."
      ],
      "metadata": {
        "id": "CO3BkYCGCuu2"
      }
    },
    {
      "cell_type": "code",
      "source": [
        "a = np.array([0, 1, 2, 3, 4, 5], float)\n",
        "b = np.array([9, 8, 7], float)\n",
        "a.put([0, 3], b)\n",
        "a"
      ],
      "metadata": {
        "colab": {
          "base_uri": "https://localhost:8080/"
        },
        "id": "Ki5jPGVgCzeR",
        "outputId": "67b54c86-2c12-48fd-8fb4-4a51087e99a5"
      },
      "execution_count": 225,
      "outputs": [
        {
          "output_type": "execute_result",
          "data": {
            "text/plain": [
              "array([9., 1., 2., 8., 4., 5.])"
            ]
          },
          "metadata": {},
          "execution_count": 225
        }
      ]
    },
    {
      "cell_type": "markdown",
      "source": [
        "Заметим, что значение 7 из исходного массива b не было использовано, так как только 2 индекса [0, 3] указаны. Исходный массив будет повторен если необходимо в случае не соответствия длин:"
      ],
      "metadata": {
        "id": "cqupPYvEC0TC"
      }
    },
    {
      "cell_type": "code",
      "source": [
        "a = np.array([0, 1, 2, 3, 4, 5], float)\n",
        "a.put([0, 3], 5)\n",
        "a"
      ],
      "metadata": {
        "colab": {
          "base_uri": "https://localhost:8080/"
        },
        "id": "Zs_mxXCqC5Nk",
        "outputId": "f39df3fd-7410-4fc7-9fbf-4a42b8677e92"
      },
      "execution_count": 226,
      "outputs": [
        {
          "output_type": "execute_result",
          "data": {
            "text/plain": [
              "array([5., 1., 2., 5., 4., 5.])"
            ]
          },
          "metadata": {},
          "execution_count": 226
        }
      ]
    },
    {
      "cell_type": "markdown",
      "source": [
        "## 10. Векторная и матричная математика"
      ],
      "metadata": {
        "id": "WxNSkUbmC5gW"
      }
    },
    {
      "cell_type": "markdown",
      "source": [
        "NumPy обеспечивает много функций для работы с векторами и матрицами. Функция dot возвращает скалярное произведение векторов:"
      ],
      "metadata": {
        "id": "z-SOrAriC90t"
      }
    },
    {
      "cell_type": "code",
      "source": [
        "a = np.array([1, 2, 3], float)\n",
        "b = np.array([0, 1, 1], float)\n",
        "np.dot(a, b)"
      ],
      "metadata": {
        "colab": {
          "base_uri": "https://localhost:8080/"
        },
        "id": "F7HjDlG0C-eW",
        "outputId": "a50708ed-3482-4486-9753-a28e39fefafa"
      },
      "execution_count": 227,
      "outputs": [
        {
          "output_type": "execute_result",
          "data": {
            "text/plain": [
              "5.0"
            ]
          },
          "metadata": {},
          "execution_count": 227
        }
      ]
    },
    {
      "cell_type": "markdown",
      "source": [
        "Функция dot также может умножать матрицы:"
      ],
      "metadata": {
        "id": "NacQrlYmC_yH"
      }
    },
    {
      "cell_type": "code",
      "source": [
        "a = np.array([[0, 1], [2, 3]], float)\n",
        "b = np.array([2, 3], float)\n",
        "c = np.array([[1, 1], [4, 0]], float)\n",
        "print(a, '\\n')\n",
        "print(b, '\\n')\n",
        "print(c)"
      ],
      "metadata": {
        "colab": {
          "base_uri": "https://localhost:8080/"
        },
        "id": "Cn249r8SDBR-",
        "outputId": "0ee4cf0f-8bd5-4456-ab76-d06c4aaae787"
      },
      "execution_count": 234,
      "outputs": [
        {
          "output_type": "stream",
          "name": "stdout",
          "text": [
            "[[0. 1.]\n",
            " [2. 3.]] \n",
            "\n",
            "[2. 3.] \n",
            "\n",
            "[[1. 1.]\n",
            " [4. 0.]]\n"
          ]
        }
      ]
    },
    {
      "cell_type": "code",
      "source": [
        "np.dot(b, a)"
      ],
      "metadata": {
        "colab": {
          "base_uri": "https://localhost:8080/"
        },
        "id": "UQrl4F-pclB5",
        "outputId": "e119d573-98f8-43e5-a33a-97c54a3c10f6"
      },
      "execution_count": 230,
      "outputs": [
        {
          "output_type": "execute_result",
          "data": {
            "text/plain": [
              "array([ 6., 11.])"
            ]
          },
          "metadata": {},
          "execution_count": 230
        }
      ]
    },
    {
      "cell_type": "code",
      "source": [
        "np.dot(a, b)"
      ],
      "metadata": {
        "colab": {
          "base_uri": "https://localhost:8080/"
        },
        "id": "RP579-NGcqcD",
        "outputId": "08eb4256-28d2-4ac6-e169-056b49cd07c8"
      },
      "execution_count": 231,
      "outputs": [
        {
          "output_type": "execute_result",
          "data": {
            "text/plain": [
              "array([ 3., 13.])"
            ]
          },
          "metadata": {},
          "execution_count": 231
        }
      ]
    },
    {
      "cell_type": "code",
      "source": [
        "np.dot(a, c)"
      ],
      "metadata": {
        "colab": {
          "base_uri": "https://localhost:8080/"
        },
        "id": "PcO9RU1hcsJf",
        "outputId": "7556a0e7-5284-4767-824c-13312446cd2b"
      },
      "execution_count": 232,
      "outputs": [
        {
          "output_type": "execute_result",
          "data": {
            "text/plain": [
              "array([[ 4.,  0.],\n",
              "       [14.,  2.]])"
            ]
          },
          "metadata": {},
          "execution_count": 232
        }
      ]
    },
    {
      "cell_type": "code",
      "source": [
        "np.dot(c, a)"
      ],
      "metadata": {
        "colab": {
          "base_uri": "https://localhost:8080/"
        },
        "id": "5ryFG-Zecyr3",
        "outputId": "ed881285-e157-4910-d7b7-c662721263e1"
      },
      "execution_count": 233,
      "outputs": [
        {
          "output_type": "execute_result",
          "data": {
            "text/plain": [
              "array([[2., 4.],\n",
              "       [0., 4.]])"
            ]
          },
          "metadata": {},
          "execution_count": 233
        }
      ]
    },
    {
      "cell_type": "markdown",
      "source": [
        "Также можно получить скалярное, тензорное и внешнее произведение матриц и векторов. Заметим, что для векторов внутреннее и скалярное произведение совпадает."
      ],
      "metadata": {
        "id": "qKHgSqDGDDin"
      }
    },
    {
      "cell_type": "code",
      "source": [
        "a = np.array([1, 4, 0], float)\n",
        "b = np.array([2, 2, 1], float)\n",
        "np.outer(a, b)"
      ],
      "metadata": {
        "colab": {
          "base_uri": "https://localhost:8080/"
        },
        "id": "Eq5yImdtDFo4",
        "outputId": "352ae61e-1927-4cc4-b5c5-670b9afcc50c"
      },
      "execution_count": 235,
      "outputs": [
        {
          "output_type": "execute_result",
          "data": {
            "text/plain": [
              "array([[2., 2., 1.],\n",
              "       [8., 8., 4.],\n",
              "       [0., 0., 0.]])"
            ]
          },
          "metadata": {},
          "execution_count": 235
        }
      ]
    },
    {
      "cell_type": "code",
      "source": [
        "np.inner(a, b)\n"
      ],
      "metadata": {
        "colab": {
          "base_uri": "https://localhost:8080/"
        },
        "id": "Ttg9J3fMdzSB",
        "outputId": "3ba4d2c5-5cb5-4807-9012-10a6270c9014"
      },
      "execution_count": 239,
      "outputs": [
        {
          "output_type": "execute_result",
          "data": {
            "text/plain": [
              "10.0"
            ]
          },
          "metadata": {},
          "execution_count": 239
        }
      ]
    },
    {
      "cell_type": "code",
      "source": [
        "np.cross(a, b)"
      ],
      "metadata": {
        "colab": {
          "base_uri": "https://localhost:8080/"
        },
        "id": "sE76eSZod12D",
        "outputId": "e4f5db17-89ec-48b8-de71-3b393dcf0eb3"
      },
      "execution_count": 237,
      "outputs": [
        {
          "output_type": "execute_result",
          "data": {
            "text/plain": [
              "array([ 4., -1., -6.])"
            ]
          },
          "metadata": {},
          "execution_count": 237
        }
      ]
    },
    {
      "cell_type": "markdown",
      "source": [
        "NumPy также предоставляет набор встроенных функций и методов для работы с линейной алгеброй. Это всё можно найти в под-модуле linalg. Этими модулями также можно оперировать с вырожденными и невырожденными матрицами. Определитель матрицы ищется таким образом:"
      ],
      "metadata": {
        "id": "HK07zz3bDHEp"
      }
    },
    {
      "cell_type": "code",
      "source": [
        "a = np.array([[4, 2, 0], [9, 3, 7], [1, 2, 1]], float)\n",
        "a"
      ],
      "metadata": {
        "colab": {
          "base_uri": "https://localhost:8080/"
        },
        "id": "o8uz9DPeDJ97",
        "outputId": "764504e4-c6d3-4dca-f6a5-414244597fcb"
      },
      "execution_count": 240,
      "outputs": [
        {
          "output_type": "execute_result",
          "data": {
            "text/plain": [
              "array([[4., 2., 0.],\n",
              "       [9., 3., 7.],\n",
              "       [1., 2., 1.]])"
            ]
          },
          "metadata": {},
          "execution_count": 240
        }
      ]
    },
    {
      "cell_type": "code",
      "source": [
        "np.linalg.det(a)"
      ],
      "metadata": {
        "colab": {
          "base_uri": "https://localhost:8080/"
        },
        "id": "gVfDzzAzfHRU",
        "outputId": "5caffba3-a33c-49a1-82eb-180ea4df33ef"
      },
      "execution_count": 241,
      "outputs": [
        {
          "output_type": "execute_result",
          "data": {
            "text/plain": [
              "-48.00000000000003"
            ]
          },
          "metadata": {},
          "execution_count": 241
        }
      ]
    },
    {
      "cell_type": "markdown",
      "source": [
        "Также можно найти собственный вектор и собственное значение матрицы:"
      ],
      "metadata": {
        "id": "XTaGmwnqDLRb"
      }
    },
    {
      "cell_type": "code",
      "source": [
        "vals, vecs = np.linalg.eig(a)\n",
        "print(vals)\n",
        "print(vecs)"
      ],
      "metadata": {
        "colab": {
          "base_uri": "https://localhost:8080/"
        },
        "id": "OdSrEUMTDMga",
        "outputId": "17aab75a-03e6-4cf0-b4d9-a51fbb4e3604"
      },
      "execution_count": 242,
      "outputs": [
        {
          "output_type": "stream",
          "name": "stdout",
          "text": [
            "[ 8.85591316  1.9391628  -2.79507597]\n",
            "[[-0.3663565  -0.54736745  0.25928158]\n",
            " [-0.88949768  0.5640176  -0.88091903]\n",
            " [-0.27308752  0.61828231  0.39592263]]\n"
          ]
        }
      ]
    },
    {
      "cell_type": "markdown",
      "source": [
        "Невырожденная матрица может быть найдена так:"
      ],
      "metadata": {
        "id": "qweu05KlDN1E"
      }
    },
    {
      "cell_type": "code",
      "source": [
        "b = np.linalg.inv(a)\n",
        "print(b)"
      ],
      "metadata": {
        "colab": {
          "base_uri": "https://localhost:8080/"
        },
        "id": "TNDoHyshDPtl",
        "outputId": "c6f85769-2f85-4681-bc14-accab1faea2b"
      },
      "execution_count": 243,
      "outputs": [
        {
          "output_type": "execute_result",
          "data": {
            "text/plain": [
              "array([[ 0.22916667,  0.04166667, -0.29166667],\n",
              "       [ 0.04166667, -0.08333333,  0.58333333],\n",
              "       [-0.3125    ,  0.125     ,  0.125     ]])"
            ]
          },
          "metadata": {},
          "execution_count": 243
        }
      ]
    },
    {
      "cell_type": "code",
      "source": [
        "np.dot(a, b)"
      ],
      "metadata": {
        "colab": {
          "base_uri": "https://localhost:8080/"
        },
        "id": "T30hWinBfi5H",
        "outputId": "abddfeeb-e104-4324-dd8c-ab407ad9170c"
      },
      "execution_count": 244,
      "outputs": [
        {
          "output_type": "execute_result",
          "data": {
            "text/plain": [
              "array([[1.00000000e+00, 5.55111512e-17, 0.00000000e+00],\n",
              "       [0.00000000e+00, 1.00000000e+00, 2.22044605e-16],\n",
              "       [0.00000000e+00, 1.38777878e-17, 1.00000000e+00]])"
            ]
          },
          "metadata": {},
          "execution_count": 244
        }
      ]
    },
    {
      "cell_type": "markdown",
      "source": [
        "Одиночное разложение (аналог диагонализации не квадратной матрицы) может быть достигнут так:"
      ],
      "metadata": {
        "id": "DDDbM-4SDRgG"
      }
    },
    {
      "cell_type": "code",
      "source": [
        "a = np.array([[1, 3,4], [5, 2, 3]], float)\n",
        "U, s, Vh = np.linalg.svd(a)\n",
        "U"
      ],
      "metadata": {
        "colab": {
          "base_uri": "https://localhost:8080/"
        },
        "id": "sDuMnELqDTmG",
        "outputId": "3cbd4d75-a915-4d07-d734-53ee1d821281"
      },
      "execution_count": 245,
      "outputs": [
        {
          "output_type": "execute_result",
          "data": {
            "text/plain": [
              "array([[-0.6113829 , -0.79133492],\n",
              "       [-0.79133492,  0.6113829 ]])"
            ]
          },
          "metadata": {},
          "execution_count": 245
        }
      ]
    },
    {
      "cell_type": "code",
      "source": [
        "s"
      ],
      "metadata": {
        "colab": {
          "base_uri": "https://localhost:8080/"
        },
        "id": "Q0ygUNMEf5N5",
        "outputId": "f84306ec-9be9-40c7-d24a-f1e595699dc5"
      },
      "execution_count": 246,
      "outputs": [
        {
          "output_type": "execute_result",
          "data": {
            "text/plain": [
              "array([7.46791327, 2.86884495])"
            ]
          },
          "metadata": {},
          "execution_count": 246
        }
      ]
    },
    {
      "cell_type": "code",
      "source": [
        "Vh"
      ],
      "metadata": {
        "colab": {
          "base_uri": "https://localhost:8080/"
        },
        "id": "P9AOe_Vgf7VB",
        "outputId": "180c737c-2326-4e1e-e476-79e40d8180d1"
      },
      "execution_count": 247,
      "outputs": [
        {
          "output_type": "execute_result",
          "data": {
            "text/plain": [
              "array([[-0.61169129, -0.45753324, -0.64536587],\n",
              "       [ 0.78971838, -0.40129005, -0.46401635],\n",
              "       [-0.046676  , -0.79349205,  0.60678804]])"
            ]
          },
          "metadata": {},
          "execution_count": 247
        }
      ]
    }
  ],
  "metadata": {
    "kernelspec": {
      "display_name": "Python 3",
      "name": "python3"
    },
    "language_info": {
      "name": "python"
    },
    "name": "seminar2_part1_variables_strings_numbers.ipynb",
    "colab": {
      "provenance": [],
      "collapsed_sections": []
    }
  },
  "nbformat": 4,
  "nbformat_minor": 0
}