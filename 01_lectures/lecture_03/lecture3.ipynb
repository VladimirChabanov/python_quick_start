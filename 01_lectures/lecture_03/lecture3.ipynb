{
  "cells": [
    {
      "cell_type": "markdown",
      "source": [
        "<img src=\"https://www.amd.com/system/files/76826-python-logo-1260x709.jpg\" height=\"300px\">"
      ],
      "metadata": {
        "id": "OWgAQ_Kiwuc3"
      }
    },
    {
      "cell_type": "markdown",
      "metadata": {
        "id": "RwILnxo6tzgG"
      },
      "source": [
        "# Урок 3. Структуры данных II"
      ]
    },
    {
      "cell_type": "markdown",
      "metadata": {
        "id": "Yt3QauyC1fSD"
      },
      "source": [
        "## Часть 1. Словари"
      ]
    },
    {
      "cell_type": "markdown",
      "metadata": {
        "id": "xIMRxSaN1fSD"
      },
      "source": [
        "Словари позволяют хранить связанную информацию. Пример: храним имя и возраст человека в одной структуре."
      ]
    },
    {
      "cell_type": "markdown",
      "metadata": {
        "id": "-r34s2ii1fSE"
      },
      "source": [
        "### Что такое словарь?\n",
        "\n",
        "Словарь - это способ хранения информации, которая каким-то образом связана. Словари хранят информацию в виде пары *ключ - значение*, то есть, каждая часть информации соединена как минимум с одним значением.\n",
        "\n",
        "Словари не хранят информацию в каком-то определенном порядке, поэтому не факт, что вы получите информацию в том порядке, в котором вы ее добавили."
      ]
    },
    {
      "cell_type": "markdown",
      "metadata": {
        "id": "lWxZU3kQ1fSE"
      },
      "source": [
        "### Общий синтаксис\n",
        "\n",
        "В общем виде словарь в Python выглядит так:"
      ]
    },
    {
      "cell_type": "code",
      "execution_count": null,
      "metadata": {
        "id": "0GfIbiDm1fSE"
      },
      "outputs": [],
      "source": [
        "dictionary_name = {key_1: value_1, key_2: value_2, key_3: value_3}"
      ]
    },
    {
      "cell_type": "markdown",
      "metadata": {
        "id": "X8d_Kpss1fSE"
      },
      "source": [
        "Поскольку пара *ключ-значение* может занимать довольно большое место на экране удобнее представлять словари в форме:"
      ]
    },
    {
      "cell_type": "code",
      "execution_count": null,
      "metadata": {
        "id": "7vgG0Cfj1fSE"
      },
      "outputs": [],
      "source": [
        "dictionary_name = {key_1: value_1,\n",
        "                   key_2: value_2,\n",
        "                   key_3: value_3,\n",
        "                   }"
      ]
    },
    {
      "cell_type": "markdown",
      "metadata": {
        "id": "rFDQNKBm1fSF"
      },
      "source": [
        "Такой способ записи намного более нагляден."
      ]
    },
    {
      "cell_type": "markdown",
      "metadata": {
        "id": "mqXiKR3_1fSF"
      },
      "source": [
        "#### Пример\n",
        "\n",
        "Простой пример использования словаря:"
      ]
    },
    {
      "cell_type": "code",
      "execution_count": null,
      "metadata": {
        "id": "wWSMpYA21fSF"
      },
      "outputs": [],
      "source": [
        "python_words = {'list': 'A collection of values that are not connected, but have an order.',\n",
        "                'dictionary': 'A collection of key-value pairs.',\n",
        "                'function': 'A named set of instructions that defines a set of actions in Python.',\n",
        "                }"
      ]
    },
    {
      "cell_type": "markdown",
      "metadata": {
        "id": "mFp6dE9T1fSF"
      },
      "source": [
        "Для обращения к элементу достаточно указать имя словаря и значения ключа в квадратных скобках:"
      ]
    },
    {
      "cell_type": "code",
      "execution_count": null,
      "metadata": {
        "id": "j8xMytaP1fSF",
        "outputId": "fda4efb4-94a2-4461-83e7-b9cb728e03ba",
        "colab": {
          "base_uri": "https://localhost:8080/"
        }
      },
      "outputs": [
        {
          "output_type": "stream",
          "name": "stdout",
          "text": [
            "\n",
            "Word: list\n",
            "Meaning: A collection of values that are not connected, but have an order.\n",
            "\n",
            "Word: dictionary\n",
            "Meaning: A collection of key-value pairs.\n",
            "\n",
            "Word: function\n",
            "Meaning: A named set of instructions that defines a set of actions in Python.\n"
          ]
        }
      ],
      "source": [
        "python_words = {'list': 'A collection of values that are not connected, but have an order.',\n",
        "                'dictionary': 'A collection of key-value pairs.',\n",
        "                'function': 'A named set of instructions that defines a set of actions in Python.',\n",
        "                }\n",
        "\n",
        "print(\"\\nWord: %s\" % 'list')\n",
        "print(\"Meaning: %s\" % python_words['list'])\n",
        "      \n",
        "print(\"\\nWord: %s\" % 'dictionary')\n",
        "print(\"Meaning: %s\" % python_words['dictionary'])\n",
        "\n",
        "print(\"\\nWord: %s\" % 'function')\n",
        "print(\"Meaning: %s\" % python_words['function'])"
      ]
    },
    {
      "cell_type": "markdown",
      "metadata": {
        "id": "w6vUWdBj1fSG"
      },
      "source": [
        "Вариант, который мы использовали в предыдущий раз, выглядит ужасно, поэтому для более компактной версии воспользуемся циклом:"
      ]
    },
    {
      "cell_type": "code",
      "execution_count": null,
      "metadata": {
        "id": "iXt5_zCf1fSG",
        "outputId": "5119c35c-38f1-49d1-e80f-5e559d87b3d2",
        "colab": {
          "base_uri": "https://localhost:8080/"
        }
      },
      "outputs": [
        {
          "output_type": "stream",
          "name": "stdout",
          "text": [
            "\n",
            "Word: list\n",
            "Meaning: A collection of values that are not connected, but have an order.\n",
            "\n",
            "Word: dictionary\n",
            "Meaning: A collection of key-value pairs.\n",
            "\n",
            "Word: function\n",
            "Meaning: A named set of instructions that defines a set of actions in Python.\n"
          ]
        }
      ],
      "source": [
        "python_words = {'list': 'A collection of values that are not connected, but have an order.',\n",
        "                'dictionary': 'A collection of key-value pairs.',\n",
        "                'function': 'A named set of instructions that defines a set of actions in Python.',\n",
        "                }\n",
        "\n",
        "# Print out the items in the dictionary.\n",
        "for word, meaning in python_words.items():\n",
        "    print(\"\\nWord: %s\" % word)\n",
        "    print(\"Meaning: %s\" % meaning)"
      ]
    },
    {
      "cell_type": "code",
      "execution_count": null,
      "metadata": {
        "id": "jBfmIYiw1fSG",
        "outputId": "e5435504-c57c-4fe0-8285-ddd7c16d5f18",
        "colab": {
          "base_uri": "https://localhost:8080/"
        }
      },
      "outputs": [
        {
          "output_type": "execute_result",
          "data": {
            "text/plain": [
              "dict_items([('list', 'A collection of values that are not connected, but have an order.'), ('dictionary', 'A collection of key-value pairs.'), ('function', 'A named set of instructions that defines a set of actions in Python.')])"
            ]
          },
          "metadata": {},
          "execution_count": 50
        }
      ],
      "source": [
        "python_words.items()"
      ]
    },
    {
      "cell_type": "markdown",
      "metadata": {
        "id": "sxlZ0h591fSH"
      },
      "source": [
        "3 строки вместо 6 выглядят намного лучше. То есть если у вас 100 элементов в словаре, напечатаете вы его с использованием тех-же 3-х строк.\n",
        "\n",
        "Общий синтаксис для использования цикла со словарем:"
      ]
    },
    {
      "cell_type": "code",
      "execution_count": null,
      "metadata": {
        "id": "unHZh7Dz1fSH",
        "colab": {
          "base_uri": "https://localhost:8080/",
          "height": 201
        },
        "outputId": "b20418c2-6ff4-4776-a26c-2f5ca6a6ee5e"
      },
      "outputs": [
        {
          "output_type": "error",
          "ename": "NameError",
          "evalue": "ignored",
          "traceback": [
            "\u001b[0;31m---------------------------------------------------------------------------\u001b[0m",
            "\u001b[0;31mNameError\u001b[0m                                 Traceback (most recent call last)",
            "\u001b[0;32m<ipython-input-51-40f8b39c1840>\u001b[0m in \u001b[0;36m<module>\u001b[0;34m\u001b[0m\n\u001b[0;32m----> 1\u001b[0;31m \u001b[0;32mfor\u001b[0m \u001b[0mkey_name\u001b[0m\u001b[0;34m,\u001b[0m \u001b[0mvalue_name\u001b[0m \u001b[0;32min\u001b[0m \u001b[0mdictionary_name\u001b[0m\u001b[0;34m.\u001b[0m\u001b[0mitems\u001b[0m\u001b[0;34m(\u001b[0m\u001b[0;34m)\u001b[0m\u001b[0;34m:\u001b[0m\u001b[0;34m\u001b[0m\u001b[0;34m\u001b[0m\u001b[0m\n\u001b[0m\u001b[1;32m      2\u001b[0m     \u001b[0mprint\u001b[0m\u001b[0;34m(\u001b[0m\u001b[0mkey_name\u001b[0m\u001b[0;34m)\u001b[0m \u001b[0;31m# The key is stored in whatever you called the first variable.\u001b[0m\u001b[0;34m\u001b[0m\u001b[0;34m\u001b[0m\u001b[0m\n\u001b[1;32m      3\u001b[0m     \u001b[0mprint\u001b[0m\u001b[0;34m(\u001b[0m\u001b[0mvalue_name\u001b[0m\u001b[0;34m)\u001b[0m \u001b[0;31m# The value associated with that key is stored in your second variable.\u001b[0m\u001b[0;34m\u001b[0m\u001b[0;34m\u001b[0m\u001b[0m\n",
            "\u001b[0;31mNameError\u001b[0m: name 'dictionary_name' is not defined"
          ]
        }
      ],
      "source": [
        "for key_name, value_name in dictionary_name.items():\n",
        "    print(key_name) # The key is stored in whatever you called the first variable.\n",
        "    print(value_name) # The value associated with that key is stored in your second variable."
      ]
    },
    {
      "cell_type": "markdown",
      "metadata": {
        "id": "vUCvYA5w1fSH"
      },
      "source": [
        "### Стандартные операции со словарями\n",
        "\n",
        "Есть ряд стандартных операций: добавление, изменение и удаление"
      ]
    },
    {
      "cell_type": "markdown",
      "metadata": {
        "id": "mmntBp5u1fSH"
      },
      "source": [
        "#### Добавление новой пары\n",
        "\n",
        "Для добавления новой пары необходимо к имени словаря в квадратных скобках вписать новый ключ и присвоить величину, с которой хотите связать ключ. Начнем с пустого словаря."
      ]
    },
    {
      "cell_type": "code",
      "execution_count": null,
      "metadata": {
        "id": "EVGuN83Z1fSH",
        "outputId": "5eef5e87-3265-491f-c0e0-ef9352f9fc31",
        "colab": {
          "base_uri": "https://localhost:8080/"
        }
      },
      "outputs": [
        {
          "output_type": "stream",
          "name": "stdout",
          "text": [
            "\n",
            "Word: list\n",
            "Meaning: A collection of values that are not connected, but have an order.\n",
            "\n",
            "Word: dictionary\n",
            "Meaning: A collection of key-value pairs.\n",
            "\n",
            "Word: function\n",
            "Meaning: A named set of instructions that defines a set of actions in Python.\n"
          ]
        }
      ],
      "source": [
        "# Create an empty dictionary.\n",
        "python_words = {}\n",
        "\n",
        "# Fill the dictionary, pair by pair.\n",
        "python_words['list'] = 'A collection of values that are not connected, but have an order.'\n",
        "python_words['dictionary'] = 'A collection of key-value pairs.'\n",
        "python_words['function'] = 'A named set of instructions that defines a set of actions in Python.'\n",
        "\n",
        "# Print out the items in the dictionary.\n",
        "for word, meaning in python_words.items():\n",
        "    print(\"\\nWord: %s\" % word)\n",
        "    print(\"Meaning: %s\" % meaning)"
      ]
    },
    {
      "cell_type": "markdown",
      "metadata": {
        "id": "6B26pADs1fSH"
      },
      "source": [
        "#### Изменение значения\n",
        "\n",
        "В какой-то момент приходится изменять значения в словаре. Изменение значения очень похоже на изменени элемента списка. Имя словаря[ключ] и присваиваем новое значение"
      ]
    },
    {
      "cell_type": "code",
      "execution_count": null,
      "metadata": {
        "id": "RSdXOFIK1fSI",
        "outputId": "5b034a78-1c4c-48bd-c76b-0e4a1f1d5aa6",
        "colab": {
          "base_uri": "https://localhost:8080/"
        }
      },
      "outputs": [
        {
          "output_type": "stream",
          "name": "stdout",
          "text": [
            "dictionary: A collection of key-value pairs.\n",
            "\n",
            "dictionary: A collection of key-value pairs. Each key can be used to access its corresponding value.\n"
          ]
        }
      ],
      "source": [
        "python_words = {'list': 'A collection of values that are not connected, but have an order.',\n",
        "                'dictionary': 'A collection of key-value pairs.',\n",
        "                'function': 'A named set of instructions that defines a set of actions in Python.',\n",
        "                }\n",
        "\n",
        "print('dictionary: ' + python_words['dictionary'])\n",
        "    \n",
        "# Clarify one of the meanings.\n",
        "python_words['dictionary'] = 'A collection of key-value pairs. Each key can be used to access its corresponding value.'\n",
        "\n",
        "print('\\ndictionary: ' + python_words['dictionary'])"
      ]
    },
    {
      "cell_type": "markdown",
      "metadata": {
        "id": "3QToeYNF1fSI"
      },
      "source": [
        "#### Удаление \n",
        "\n",
        "Для удаления можно использовать `del`, как и для списков."
      ]
    },
    {
      "cell_type": "code",
      "execution_count": null,
      "metadata": {
        "id": "jOYjNPVP1fSI",
        "outputId": "e36241ed-ebdc-4062-e3ea-17fb3b4a98ea",
        "colab": {
          "base_uri": "https://localhost:8080/"
        }
      },
      "outputs": [
        {
          "output_type": "stream",
          "name": "stdout",
          "text": [
            "\n",
            "\n",
            "These are the Python words I know:\n",
            "\n",
            "Word: list\n",
            "Meaning: A collection of values that are not connected, but have an order.\n",
            "\n",
            "Word: dictionary\n",
            "Meaning: A collection of key-value pairs.\n",
            "\n",
            "Word: function\n",
            "Meaning: A named set of instructions that defines a set of actions in Python.\n",
            "\n",
            "\n",
            "These are the Python words I know:\n",
            "\n",
            "Word: dictionary\n",
            "Meaning: A collection of key-value pairs.\n",
            "\n",
            "Word: function\n",
            "Meaning: A named set of instructions that defines a set of actions in Python.\n"
          ]
        }
      ],
      "source": [
        "python_words = {'list': 'A collection of values that are not connected, but have an order.',\n",
        "                'dictionary': 'A collection of key-value pairs.',\n",
        "                'function': 'A named set of instructions that defines a set of actions in Python.',\n",
        "                }\n",
        "\n",
        "# Show the current set of words and meanings.\n",
        "print(\"\\n\\nThese are the Python words I know:\")\n",
        "for word, meaning in python_words.items():\n",
        "    print(\"\\nWord: %s\" % word)\n",
        "    print(\"Meaning: %s\" % meaning)\n",
        "    \n",
        "# Remove the word 'list' and its meaning.\n",
        "del python_words['list']\n",
        "\n",
        "# Show the current set of words and meanings.\n",
        "print(\"\\n\\nThese are the Python words I know:\")\n",
        "for word, meaning in python_words.items():\n",
        "    print(\"\\nWord: %s\" % word)\n",
        "    print(\"Meaning: %s\" % meaning)"
      ]
    },
    {
      "cell_type": "markdown",
      "metadata": {
        "id": "67QQrecA1fSI"
      },
      "source": [
        "Если мы будем продолжать работать с этим кодом, лучше сделать вывод значений словаря в виде функции. Посмотрим как это выглядит:"
      ]
    },
    {
      "cell_type": "code",
      "execution_count": null,
      "metadata": {
        "id": "afd_9Zhe1fSI",
        "outputId": "1227f957-12b3-4a3f-ff4f-4e2e61395701",
        "colab": {
          "base_uri": "https://localhost:8080/"
        }
      },
      "outputs": [
        {
          "output_type": "stream",
          "name": "stdout",
          "text": [
            "\n",
            "\n",
            "These are the Python words I know:\n",
            "\n",
            "Word: list\n",
            "Meaning: A collection of values that are not connected, but have an order.\n",
            "\n",
            "Word: dictionary\n",
            "Meaning: A collection of key-value pairs.\n",
            "\n",
            "Word: function\n",
            "Meaning: A named set of instructions that defines a set of actions in Python.\n",
            "\n",
            "\n",
            "These are the Python words I know:\n",
            "\n",
            "Word: dictionary\n",
            "Meaning: A collection of key-value pairs.\n",
            "\n",
            "Word: function\n",
            "Meaning: A named set of instructions that defines a set of actions in Python.\n"
          ]
        }
      ],
      "source": [
        "def show_words_meanings(python_words):\n",
        "    # This function takes in a dictionary of python words and meanings,\n",
        "    #  and prints out each word with its meaning.\n",
        "    print(\"\\n\\nThese are the Python words I know:\")\n",
        "    for word, meaning in python_words.items():\n",
        "        print(\"\\nWord: %s\" % word)\n",
        "        print(\"Meaning: %s\" % meaning)\n",
        "        \n",
        "\n",
        "python_words = {'list': 'A collection of values that are not connected, but have an order.',\n",
        "                'dictionary': 'A collection of key-value pairs.',\n",
        "                'function': 'A named set of instructions that defines a set of actions in Python.',\n",
        "                }\n",
        "\n",
        "show_words_meanings(python_words)\n",
        "    \n",
        "# Remove the word 'list' and its meaning.\n",
        "del python_words['list']\n",
        "\n",
        "show_words_meanings(python_words)"
      ]
    },
    {
      "cell_type": "markdown",
      "metadata": {
        "id": "_0OsACyJ1fSI"
      },
      "source": [
        "Давайте поменяем наш пример с учетом написанной функции:"
      ]
    },
    {
      "cell_type": "code",
      "execution_count": null,
      "metadata": {
        "id": "IZUJOCx21fSJ",
        "outputId": "b94b1b32-d726-4766-efa8-22b00ec258fa",
        "colab": {
          "base_uri": "https://localhost:8080/"
        }
      },
      "outputs": [
        {
          "output_type": "stream",
          "name": "stdout",
          "text": [
            "\n",
            "\n",
            "These are the Python words I know:\n",
            "\n",
            "list: A collection of values that are not connected, but have an order.\n",
            "\n",
            "dictionary: A collection of key-value pairs.\n",
            "\n",
            "function: A named set of instructions that defines a set of actions in Python.\n",
            "\n",
            "\n",
            "These are the Python words I know:\n",
            "\n",
            "dictionary: A collection of key-value pairs.\n",
            "\n",
            "function: A named set of instructions that defines a set of actions in Python.\n"
          ]
        }
      ],
      "source": [
        "def show_words_meanings(python_words):\n",
        "    # This function takes in a dictionary of python words and meanings,\n",
        "    #  and prints out each word with its meaning.\n",
        "    print(\"\\n\\nThese are the Python words I know:\")\n",
        "    for word, meaning in python_words.items():\n",
        "        print(\"\\n%s: %s\" % (word, meaning))\n",
        "        \n",
        "\n",
        "python_words = {'list': 'A collection of values that are not connected, but have an order.',\n",
        "                'dictionary': 'A collection of key-value pairs.',\n",
        "                'function': 'A named set of instructions that defines a set of actions in Python.',\n",
        "                }\n",
        "\n",
        "show_words_meanings(python_words)\n",
        "    \n",
        "# Remove the word 'list' and its meaning.\n",
        "del python_words['list']\n",
        "\n",
        "show_words_meanings(python_words)"
      ]
    },
    {
      "cell_type": "markdown",
      "metadata": {
        "id": "D4AOaEo91fSJ"
      },
      "source": [
        "#### Изменяем ключи\n",
        "\n",
        "Изменение ключа делается следующим способом:\n",
        "\n",
        "- Создать новый ключ и скопировать значение к новому ключу.\n",
        "- Удалить старый ключ, который удалит и значение.\n",
        "\n",
        "Посмотрим как это выглядит на примере. "
      ]
    },
    {
      "cell_type": "code",
      "execution_count": null,
      "metadata": {
        "id": "V-09cYKc1fSJ",
        "outputId": "ddb292f9-476d-4bd5-eb8d-77254af5bae8",
        "colab": {
          "base_uri": "https://localhost:8080/"
        }
      },
      "outputs": [
        {
          "output_type": "stream",
          "name": "stdout",
          "text": [
            "{'list': 'A collection of values that are not connected, but have an order.'}\n"
          ]
        }
      ],
      "source": [
        "# We have a spelling mistake!\n",
        "python_words = {'lisst': 'A collection of values that are not connected, but have an order.'}\n",
        "\n",
        "# Create a new, correct key, and connect it to the old value.\n",
        "#  Then delete the old key.\n",
        "python_words['list'] = python_words['lisst']\n",
        "del python_words['lisst']\n",
        "\n",
        "# Print the dictionary, to show that the key has changed.\n",
        "print(python_words)"
      ]
    },
    {
      "cell_type": "markdown",
      "metadata": {
        "id": "yRkGkJpW1fSJ"
      },
      "source": [
        "### Цикл по словарю\n",
        "\n",
        "После добавления значени часто приходится что-то искать или выводить добавленные в словарь значения. Эти действия можно сделать несколькими способами:\n",
        "\n",
        "- Цикл через все пары;\n",
        "- Цикл по ключам;\n",
        "- Цикл по значениям."
      ]
    },
    {
      "cell_type": "markdown",
      "metadata": {
        "id": "dUl7aibV1fSJ"
      },
      "source": [
        "#### Цикл через все пары\n",
        "\n",
        "Такой цикл уже был показан в предыдущих примерах. В общем формате цикл выглядит так:"
      ]
    },
    {
      "cell_type": "code",
      "execution_count": null,
      "metadata": {
        "id": "qHimbKov1fSJ",
        "outputId": "9895f348-355d-48a8-f8e5-ecd7b323599f",
        "colab": {
          "base_uri": "https://localhost:8080/"
        }
      },
      "outputs": [
        {
          "output_type": "stream",
          "name": "stdout",
          "text": [
            "\n",
            "Key: key_1\n",
            "Value: value_1\n",
            "\n",
            "Key: key_2\n",
            "Value: value_2\n",
            "\n",
            "Key: key_3\n",
            "Value: value_3\n"
          ]
        }
      ],
      "source": [
        "my_dict = {'key_1': 'value_1',\n",
        "    'key_2': 'value_2',\n",
        "    'key_3': 'value_3',\n",
        "    }\n",
        "\n",
        "for key, value in my_dict.items():\n",
        "    print('\\nKey: %s' % key)\n",
        "    print('Value: %s' % value)"
      ]
    },
    {
      "cell_type": "markdown",
      "metadata": {
        "id": "nuuQDU5q1fSK"
      },
      "source": [
        "Это работает потому, что используется метод `.items()`, который вытаскивает пары в виде кортежей:"
      ]
    },
    {
      "cell_type": "code",
      "execution_count": null,
      "metadata": {
        "id": "XDax9tKt1fSK",
        "outputId": "95e74e92-63ce-499a-af6b-bddee56fad57",
        "colab": {
          "base_uri": "https://localhost:8080/"
        }
      },
      "outputs": [
        {
          "output_type": "stream",
          "name": "stdout",
          "text": [
            "dict_items([('key_1', 'value_1'), ('key_2', 'value_2'), ('key_3', 'value_3')])\n"
          ]
        }
      ],
      "source": [
        "my_dict = {'key_1': 'value_1',\n",
        "    'key_2': 'value_2',\n",
        "    'key_3': 'value_3',\n",
        "    }\n",
        "\n",
        "print(my_dict.items())"
      ]
    },
    {
      "cell_type": "markdown",
      "metadata": {
        "id": "VqNlUr4Z1fSK"
      },
      "source": [
        "Синтаксис `for key, value in my_dict.items():` выполняет проходку по списку tuples, и достает первый и второй элемент для нас.\n"
      ]
    },
    {
      "cell_type": "code",
      "execution_count": null,
      "metadata": {
        "id": "1HFvUahx1fSK",
        "outputId": "84af9e6d-98f7-40dd-a6c1-a6a87b11ec6f",
        "colab": {
          "base_uri": "https://localhost:8080/"
        }
      },
      "outputs": [
        {
          "output_type": "stream",
          "name": "stdout",
          "text": [
            "\n",
            "Word: list\n",
            "Meaning: A collection of values that are not connected, but have an order.\n",
            "\n",
            "Word: dictionary\n",
            "Meaning: A collection of key-value pairs.\n",
            "\n",
            "Word: function\n",
            "Meaning: A named set of instructions that defines a set of actions in Python.\n"
          ]
        }
      ],
      "source": [
        "python_words = {'list': 'A collection of values that are not connected, but have an order.',\n",
        "                'dictionary': 'A collection of key-value pairs.',\n",
        "                'function': 'A named set of instructions that defines a set of actions in Python.',\n",
        "                }\n",
        "\n",
        "for word, meaning in python_words.items():\n",
        "    print(\"\\nWord: %s\" % word)\n",
        "    print(\"Meaning: %s\" % meaning)"
      ]
    },
    {
      "cell_type": "markdown",
      "metadata": {
        "id": "x3KDAzxO1fSK"
      },
      "source": [
        "#### Цикл по ключам\n",
        "\n",
        "Python предоставляет инструмент для прохождения только по ключам словаря:"
      ]
    },
    {
      "cell_type": "code",
      "execution_count": null,
      "metadata": {
        "id": "bhEgfFMM1fSK",
        "outputId": "9db1a5e6-01ba-479c-8fa8-e1c25a0a8811",
        "colab": {
          "base_uri": "https://localhost:8080/"
        }
      },
      "outputs": [
        {
          "output_type": "stream",
          "name": "stdout",
          "text": [
            "Key: key_1\n",
            "Key: key_2\n",
            "Key: key_3\n"
          ]
        }
      ],
      "source": [
        "my_dict = {'key_1': 'value_1',\n",
        "    'key_2': 'value_2',\n",
        "    'key_3': 'value_3',\n",
        "    }\n",
        "\n",
        "for key in my_dict.keys():\n",
        "    print('Key: %s' % key)"
      ]
    },
    {
      "cell_type": "markdown",
      "metadata": {
        "id": "oCqlTMbj1fSL"
      },
      "source": [
        "Это стандартное поведение при проходе по словарю. Поэтому можно убрать `.keys()` и получить абсолютно такой же эффект:"
      ]
    },
    {
      "cell_type": "code",
      "execution_count": null,
      "metadata": {
        "id": "YHIGOyn31fSL",
        "outputId": "03f28ec6-94f1-4e95-9d94-31e1d1fafb56",
        "colab": {
          "base_uri": "https://localhost:8080/"
        }
      },
      "outputs": [
        {
          "output_type": "stream",
          "name": "stdout",
          "text": [
            "Key: key_1\n",
            "Key: key_2\n",
            "Key: key_3\n"
          ]
        }
      ],
      "source": [
        "my_dict = {'key_1': 'value_1',\n",
        "    'key_2': 'value_2',\n",
        "    'key_3': 'value_3',\n",
        "    }\n",
        "\n",
        "for key in my_dict:\n",
        "    print('Key: %s' % key)"
      ]
    },
    {
      "cell_type": "markdown",
      "metadata": {
        "id": "APl5MQUP1fSL"
      },
      "source": [
        "Единственное преимущество в использовании `.keys()` - это читаемость кода. В любом случае всякий, кто знаком с Python, поймет что происходит. Далее мы будем писать наши циклы без`.keys()`, если нам понадобится такой эффект.\n",
        "\n",
        "Можно также достать любое необходимое значение по ключу во время прохода циклом, используя стандартный способ доступа:"
      ]
    },
    {
      "cell_type": "code",
      "execution_count": null,
      "metadata": {
        "id": "fUZFKdTU1fSL",
        "outputId": "134bd11c-7259-42ca-d8a1-bb6be158c75c",
        "colab": {
          "base_uri": "https://localhost:8080/"
        }
      },
      "outputs": [
        {
          "output_type": "stream",
          "name": "stdout",
          "text": [
            "Key: key_1\n",
            "Key: key_2\n",
            "The value for key_2 is value_2.\n",
            "Key: key_3\n"
          ]
        }
      ],
      "source": [
        "my_dict = {'key_1': 'value_1',\n",
        "    'key_2': 'value_2',\n",
        "    'key_3': 'value_3',\n",
        "    }\n",
        "\n",
        "for key in my_dict:\n",
        "    print('Key: %s' % key)\n",
        "    if key == 'key_2':\n",
        "        print(\"The value for key_2 is %s.\" % my_dict[key])"
      ]
    },
    {
      "cell_type": "markdown",
      "metadata": {
        "id": "Ram6vFVG1fSL"
      },
      "source": [
        "Давайте применим этот способ к нашему словарю:"
      ]
    },
    {
      "cell_type": "code",
      "execution_count": null,
      "metadata": {
        "id": "17FgG0ez1fSL",
        "outputId": "16290494-de09-4f40-e651-ea83f2bd9a16",
        "colab": {
          "base_uri": "https://localhost:8080/"
        }
      },
      "outputs": [
        {
          "output_type": "stream",
          "name": "stdout",
          "text": [
            "The following Python words have been defined:\n",
            "- list\n",
            "- dictionary\n",
            "- function\n"
          ]
        }
      ],
      "source": [
        "python_words = {'list': 'A collection of values that are not connected, but have an order.',\n",
        "                'dictionary': 'A collection of key-value pairs.',\n",
        "                'function': 'A named set of instructions that defines a set of actions in Python.',\n",
        "                }\n",
        "\n",
        "# Show the words that are currently in the dictionary.\n",
        "print(\"The following Python words have been defined:\")\n",
        "for word in python_words:\n",
        "    print(\"- %s\" % word)"
      ]
    },
    {
      "cell_type": "markdown",
      "metadata": {
        "id": "3hwCVnsR1fSL"
      },
      "source": [
        "Можно добавить немного интерактива и спросить пользователя, какое слово ему интересно, и выдать ему значение:"
      ]
    },
    {
      "cell_type": "code",
      "execution_count": null,
      "metadata": {
        "id": "yY8acXR91fSM",
        "outputId": "71bf53fa-ab31-440d-bef9-af0fa19e44a7",
        "colab": {
          "base_uri": "https://localhost:8080/"
        }
      },
      "outputs": [
        {
          "output_type": "stream",
          "name": "stdout",
          "text": [
            "The following Python words have been defined:\n",
            "- list\n",
            "- dictionary\n",
            "- function\n",
            "\n",
            "What word would you like to learn about? dictionary\n",
            "\n",
            "dictionary: A collection of key-value pairs.\n"
          ]
        }
      ],
      "source": [
        "python_words = {'list': 'A collection of values that are not connected, but have an order.',\n",
        "                'dictionary': 'A collection of key-value pairs.',\n",
        "                'function': 'A named set of instructions that defines a set of actions in Python.',\n",
        "                }\n",
        "\n",
        "# Show the words that are currently in the dictionary.\n",
        "print(\"The following Python words have been defined:\")\n",
        "for word in python_words:\n",
        "    print(\"- %s\" % word)\n",
        "    \n",
        "# Allow the user to choose a word, and then display the meaning for that word.\n",
        "requested_word = input(\"\\nWhat word would you like to learn about? \")\n",
        "print(\"\\n%s: %s\" % (requested_word, python_words.get(requested_word)))"
      ]
    },
    {
      "cell_type": "markdown",
      "metadata": {
        "id": "kwKThcEf1fSM"
      },
      "source": [
        "Можно использовать цикл while, что позволит пользователю смотреть информацию по многим ключам:"
      ]
    },
    {
      "cell_type": "code",
      "execution_count": null,
      "metadata": {
        "id": "EbKukmq31fSM",
        "outputId": "198aff70-6b37-4757-d9e0-e258ae8b5c2d",
        "colab": {
          "base_uri": "https://localhost:8080/"
        }
      },
      "outputs": [
        {
          "output_type": "stream",
          "name": "stdout",
          "text": [
            "The following Python words have been defined:\n",
            "- list\n",
            "- dictionary\n",
            "- function\n",
            "\n",
            "What word would you like to learn about? (or 'quit') dictionary\n",
            "\n",
            "  dictionary: A collection of key-value pairs.\n",
            "\n",
            "What word would you like to learn about? (or 'quit') list\n",
            "\n",
            "  list: A collection of values that are not connected, but have an order.\n",
            "\n",
            "What word would you like to learn about? (or 'quit') quit\n",
            "\n",
            "  Sorry, I don't know that word.\n"
          ]
        }
      ],
      "source": [
        "python_words = {'list': 'A collection of values that are not connected, but have an order.',\n",
        "                'dictionary': 'A collection of key-value pairs.',\n",
        "                'function': 'A named set of instructions that defines a set of actions in Python.',\n",
        "                }\n",
        "\n",
        "# Show the words that are currently in the dictionary.\n",
        "print(\"The following Python words have been defined:\")\n",
        "for word in python_words:\n",
        "    print(\"- %s\" % word)\n",
        "\n",
        "requested_word = ''\n",
        "while requested_word != 'quit':\n",
        "    # Allow the user to choose a word, and then display the meaning for that word.\n",
        "    requested_word = input(\"\\nWhat word would you like to learn about? (or 'quit') \")\n",
        "    if requested_word in python_words.keys():\n",
        "        print(\"\\n  %s: %s\" % (requested_word, python_words[requested_word]))\n",
        "    else:\n",
        "        # Handle misspellings, and words not yet stored.\n",
        "        print(\"\\n  Sorry, I don't know that word.\")"
      ]
    },
    {
      "cell_type": "markdown",
      "metadata": {
        "id": "qR__61gA1fSM"
      },
      "source": [
        "Добавим конструкцию `elif`, чтобы `quit` не воспринималось как запрашиваемый ключ словаря:"
      ]
    },
    {
      "cell_type": "code",
      "execution_count": null,
      "metadata": {
        "id": "u9MaWeFS1fSM",
        "outputId": "af73b969-5571-4ba4-a76d-c6e094957e52",
        "colab": {
          "base_uri": "https://localhost:8080/"
        }
      },
      "outputs": [
        {
          "output_type": "stream",
          "name": "stdout",
          "text": [
            "The following Python words have been defined:\n",
            "- list\n",
            "- dictionary\n",
            "- function\n",
            "\n",
            "What word would you like to learn about? (or 'quit') quit\n",
            "\n",
            "  Bye!\n"
          ]
        }
      ],
      "source": [
        "python_words = {'list': 'A collection of values that are not connected, but have an order.',\n",
        "                'dictionary': 'A collection of key-value pairs.',\n",
        "                'function': 'A named set of instructions that defines a set of actions in Python.',\n",
        "                }\n",
        "\n",
        "# Show the words that are currently in the dictionary.\n",
        "print(\"The following Python words have been defined:\")\n",
        "for word in python_words:\n",
        "    print(\"- %s\" % word)\n",
        "\n",
        "requested_word = ''\n",
        "while requested_word != 'quit':\n",
        "    # Allow the user to choose a word, and then display the meaning for that word.\n",
        "    requested_word = input(\"\\nWhat word would you like to learn about? (or 'quit') \")\n",
        "    if requested_word in python_words.keys():\n",
        "        # This is a word we know, so show the meaning.\n",
        "        print(\"\\n  %s: %s\" % (requested_word, python_words[requested_word]))\n",
        "    elif requested_word != 'quit':\n",
        "        # This is not in python_words, and it's not 'quit'.\n",
        "        print(\"\\n  Sorry, I don't know that word.\")\n",
        "    else:\n",
        "        # The word is quit.\n",
        "        print(\"\\n  Bye!\")"
      ]
    },
    {
      "cell_type": "markdown",
      "metadata": {
        "id": "7PYwToDE1fSM"
      },
      "source": [
        "#### Цикл по всем значениям\n",
        "\n",
        "Python также позволяет проходить по значениям словаря:"
      ]
    },
    {
      "cell_type": "code",
      "execution_count": null,
      "metadata": {
        "id": "fFOY5lbV1fSM",
        "outputId": "c0037c1e-433a-4ee4-e7f5-a3a026112e6e",
        "colab": {
          "base_uri": "https://localhost:8080/"
        }
      },
      "outputs": [
        {
          "output_type": "stream",
          "name": "stdout",
          "text": [
            "Value: value_1\n",
            "Value: value_2\n",
            "Value: value_3\n"
          ]
        }
      ],
      "source": [
        "my_dict = {'key_1': 'value_1',\n",
        "    'key_2': 'value_2',\n",
        "    'key_3': 'value_3',\n",
        "    }\n",
        "\n",
        "for value in my_dict.values():\n",
        "    print('Value: %s' % value)"
      ]
    },
    {
      "cell_type": "markdown",
      "metadata": {
        "id": "6F9CRuKi1fSN"
      },
      "source": [
        "Используя предыдущий пример, можно сделать небольшой опросник, пользователь должен угадать слово по его описанию:"
      ]
    },
    {
      "cell_type": "code",
      "execution_count": null,
      "metadata": {
        "id": "8Boyc6vr1fSN",
        "outputId": "f326d70a-beff-4f87-c302-cbb9d0d1c412",
        "colab": {
          "base_uri": "https://localhost:8080/"
        }
      },
      "outputs": [
        {
          "output_type": "stream",
          "name": "stdout",
          "text": [
            "Meaning: A collection of values that are not connected, but have an order.\n",
            "Meaning: A collection of key-value pairs.\n",
            "Meaning: A named set of instructions that defines a set of actions in Python.\n"
          ]
        }
      ],
      "source": [
        "python_words = {'list': 'A collection of values that are not connected, but have an order.',\n",
        "                'dictionary': 'A collection of key-value pairs.',\n",
        "                'function': 'A named set of instructions that defines a set of actions in Python.',\n",
        "                }\n",
        "\n",
        "for meaning in python_words.values():\n",
        "    print(\"Meaning: %s\" % meaning)"
      ]
    },
    {
      "cell_type": "markdown",
      "metadata": {
        "id": "SjcQPdLW1fSN"
      },
      "source": [
        "Давайте спросим пользователя:"
      ]
    },
    {
      "cell_type": "code",
      "execution_count": null,
      "metadata": {
        "id": "GMp-uXoi1fSN",
        "outputId": "e18bca42-e6c5-486c-c878-0c635eb6b262",
        "colab": {
          "base_uri": "https://localhost:8080/",
          "height": 427
        }
      },
      "outputs": [
        {
          "name": "stdout",
          "output_type": "stream",
          "text": [
            "\n",
            "Meaning: A collection of values that are not connected, but have an order.\n",
            "What word do you think this is? list\n",
            "You got it!\n",
            "\n",
            "Meaning: A collection of key-value pairs.\n",
            "What word do you think this is? dictionary\n",
            "You got it!\n",
            "\n",
            "Meaning: A named set of instructions that defines a set of actions in Python.\n",
            "What word do you think this is? aaa\n"
          ]
        },
        {
          "output_type": "error",
          "ename": "KeyError",
          "evalue": "ignored",
          "traceback": [
            "\u001b[0;31m---------------------------------------------------------------------------\u001b[0m",
            "\u001b[0;31mKeyError\u001b[0m                                  Traceback (most recent call last)",
            "\u001b[0;32m<ipython-input-24-6e4eaa171681>\u001b[0m in \u001b[0;36m<module>\u001b[0;34m\u001b[0m\n\u001b[1;32m     12\u001b[0m \u001b[0;34m\u001b[0m\u001b[0m\n\u001b[1;32m     13\u001b[0m     \u001b[0;31m# The guess is correct if the guessed word's meaning matches the current meaning.\u001b[0m\u001b[0;34m\u001b[0m\u001b[0;34m\u001b[0m\u001b[0;34m\u001b[0m\u001b[0m\n\u001b[0;32m---> 14\u001b[0;31m     \u001b[0;32mif\u001b[0m \u001b[0mpython_words\u001b[0m\u001b[0;34m[\u001b[0m\u001b[0mguessed_word\u001b[0m\u001b[0;34m]\u001b[0m \u001b[0;34m==\u001b[0m \u001b[0mmeaning\u001b[0m\u001b[0;34m:\u001b[0m\u001b[0;34m\u001b[0m\u001b[0;34m\u001b[0m\u001b[0m\n\u001b[0m\u001b[1;32m     15\u001b[0m         \u001b[0mprint\u001b[0m\u001b[0;34m(\u001b[0m\u001b[0;34m\"You got it!\"\u001b[0m\u001b[0;34m)\u001b[0m\u001b[0;34m\u001b[0m\u001b[0;34m\u001b[0m\u001b[0m\n\u001b[1;32m     16\u001b[0m     \u001b[0;32melse\u001b[0m\u001b[0;34m:\u001b[0m\u001b[0;34m\u001b[0m\u001b[0;34m\u001b[0m\u001b[0m\n",
            "\u001b[0;31mKeyError\u001b[0m: 'aaa'"
          ]
        }
      ],
      "source": [
        "python_words = {'list': 'A collection of values that are not connected, but have an order.',\n",
        "                'dictionary': 'A collection of key-value pairs.',\n",
        "                'function': 'A named set of instructions that defines a set of actions in Python.',\n",
        "                }\n",
        "\n",
        "# Print each meaning, one at a time, and ask the user\n",
        "#  what word they think it is.\n",
        "for meaning in python_words.values():\n",
        "    print(\"\\nMeaning: %s\" % meaning)\n",
        "    \n",
        "    guessed_word = input(\"What word do you think this is? \")\n",
        "    \n",
        "    # The guess is correct if the guessed word's meaning matches the current meaning.\n",
        "    if python_words[guessed_word] == meaning:\n",
        "        print(\"You got it!\")\n",
        "    else:\n",
        "        print(\"Sorry, that's just not the right word.\")"
      ]
    },
    {
      "cell_type": "markdown",
      "metadata": {
        "id": "aGrFaVyq1fSN"
      },
      "source": [
        "И конечно несколько раз тоже можно спрашивать:"
      ]
    },
    {
      "cell_type": "code",
      "execution_count": null,
      "metadata": {
        "id": "hI3KVeCh1fSN",
        "outputId": "9448795e-f4b6-4e3a-c962-109a6d1dbc44",
        "colab": {
          "base_uri": "https://localhost:8080/",
          "height": 416
        }
      },
      "outputs": [
        {
          "output_type": "stream",
          "name": "stdout",
          "text": [
            "\n",
            "Meaning: A collection of values that are not connected, but have an order.\n"
          ]
        },
        {
          "output_type": "error",
          "ename": "KeyboardInterrupt",
          "evalue": "ignored",
          "traceback": [
            "\u001b[0;31m---------------------------------------------------------------------------\u001b[0m",
            "\u001b[0;31mKeyboardInterrupt\u001b[0m                         Traceback (most recent call last)",
            "\u001b[0;32m<ipython-input-25-1ac4c723ad16>\u001b[0m in \u001b[0;36m<module>\u001b[0;34m\u001b[0m\n\u001b[1;32m     12\u001b[0m     \u001b[0mcorrect\u001b[0m \u001b[0;34m=\u001b[0m \u001b[0;32mFalse\u001b[0m\u001b[0;34m\u001b[0m\u001b[0;34m\u001b[0m\u001b[0m\n\u001b[1;32m     13\u001b[0m     \u001b[0;32mwhile\u001b[0m \u001b[0;32mnot\u001b[0m \u001b[0mcorrect\u001b[0m\u001b[0;34m:\u001b[0m\u001b[0;34m\u001b[0m\u001b[0;34m\u001b[0m\u001b[0m\n\u001b[0;32m---> 14\u001b[0;31m         \u001b[0mguessed_word\u001b[0m \u001b[0;34m=\u001b[0m \u001b[0minput\u001b[0m\u001b[0;34m(\u001b[0m\u001b[0;34m\"\\nWhat word do you think this is? \"\u001b[0m\u001b[0;34m)\u001b[0m\u001b[0;34m\u001b[0m\u001b[0;34m\u001b[0m\u001b[0m\n\u001b[0m\u001b[1;32m     15\u001b[0m \u001b[0;34m\u001b[0m\u001b[0m\n\u001b[1;32m     16\u001b[0m         \u001b[0;31m# The guess is correct if the guessed word's meaning matches the current meaning.\u001b[0m\u001b[0;34m\u001b[0m\u001b[0;34m\u001b[0m\u001b[0;34m\u001b[0m\u001b[0m\n",
            "\u001b[0;32m/usr/local/lib/python3.7/dist-packages/ipykernel/kernelbase.py\u001b[0m in \u001b[0;36mraw_input\u001b[0;34m(self, prompt)\u001b[0m\n\u001b[1;32m    861\u001b[0m             \u001b[0mself\u001b[0m\u001b[0;34m.\u001b[0m\u001b[0m_parent_ident\u001b[0m\u001b[0;34m,\u001b[0m\u001b[0;34m\u001b[0m\u001b[0;34m\u001b[0m\u001b[0m\n\u001b[1;32m    862\u001b[0m             \u001b[0mself\u001b[0m\u001b[0;34m.\u001b[0m\u001b[0m_parent_header\u001b[0m\u001b[0;34m,\u001b[0m\u001b[0;34m\u001b[0m\u001b[0;34m\u001b[0m\u001b[0m\n\u001b[0;32m--> 863\u001b[0;31m             \u001b[0mpassword\u001b[0m\u001b[0;34m=\u001b[0m\u001b[0;32mFalse\u001b[0m\u001b[0;34m,\u001b[0m\u001b[0;34m\u001b[0m\u001b[0;34m\u001b[0m\u001b[0m\n\u001b[0m\u001b[1;32m    864\u001b[0m         )\n\u001b[1;32m    865\u001b[0m \u001b[0;34m\u001b[0m\u001b[0m\n",
            "\u001b[0;32m/usr/local/lib/python3.7/dist-packages/ipykernel/kernelbase.py\u001b[0m in \u001b[0;36m_input_request\u001b[0;34m(self, prompt, ident, parent, password)\u001b[0m\n\u001b[1;32m    902\u001b[0m             \u001b[0;32mexcept\u001b[0m \u001b[0mKeyboardInterrupt\u001b[0m\u001b[0;34m:\u001b[0m\u001b[0;34m\u001b[0m\u001b[0;34m\u001b[0m\u001b[0m\n\u001b[1;32m    903\u001b[0m                 \u001b[0;31m# re-raise KeyboardInterrupt, to truncate traceback\u001b[0m\u001b[0;34m\u001b[0m\u001b[0;34m\u001b[0m\u001b[0;34m\u001b[0m\u001b[0m\n\u001b[0;32m--> 904\u001b[0;31m                 \u001b[0;32mraise\u001b[0m \u001b[0mKeyboardInterrupt\u001b[0m\u001b[0;34m(\u001b[0m\u001b[0;34m\"Interrupted by user\"\u001b[0m\u001b[0;34m)\u001b[0m \u001b[0;32mfrom\u001b[0m \u001b[0;32mNone\u001b[0m\u001b[0;34m\u001b[0m\u001b[0;34m\u001b[0m\u001b[0m\n\u001b[0m\u001b[1;32m    905\u001b[0m             \u001b[0;32mexcept\u001b[0m \u001b[0mException\u001b[0m \u001b[0;32mas\u001b[0m \u001b[0me\u001b[0m\u001b[0;34m:\u001b[0m\u001b[0;34m\u001b[0m\u001b[0;34m\u001b[0m\u001b[0m\n\u001b[1;32m    906\u001b[0m                 \u001b[0mself\u001b[0m\u001b[0;34m.\u001b[0m\u001b[0mlog\u001b[0m\u001b[0;34m.\u001b[0m\u001b[0mwarning\u001b[0m\u001b[0;34m(\u001b[0m\u001b[0;34m\"Invalid Message:\"\u001b[0m\u001b[0;34m,\u001b[0m \u001b[0mexc_info\u001b[0m\u001b[0;34m=\u001b[0m\u001b[0;32mTrue\u001b[0m\u001b[0;34m)\u001b[0m\u001b[0;34m\u001b[0m\u001b[0;34m\u001b[0m\u001b[0m\n",
            "\u001b[0;31mKeyboardInterrupt\u001b[0m: Interrupted by user"
          ]
        }
      ],
      "source": [
        "python_words = {'list': 'A collection of values that are not connected, but have an order.',\n",
        "                'dictionary': 'A collection of key-value pairs.',\n",
        "                'function': 'A named set of instructions that defines a set of actions in Python.',\n",
        "                }\n",
        "\n",
        "# Print each meaning, one at a time, and ask the user\n",
        "#  what word they think it is.\n",
        "for meaning in python_words.values():\n",
        "    print(\"\\nMeaning: %s\" % meaning)\n",
        "    \n",
        "    # Assume the guess is not correct; keep guessing until correct.\n",
        "    correct = False\n",
        "    while not correct:\n",
        "        guessed_word = input(\"\\nWhat word do you think this is? \")\n",
        "    \n",
        "        # The guess is correct if the guessed word's meaning matches the current meaning.\n",
        "        if python_words[guessed_word] == meaning:\n",
        "            print(\"You got it!\")\n",
        "            correct = True\n",
        "        else:\n",
        "            print(\"Sorry, that's just not the right word.\")"
      ]
    },
    {
      "cell_type": "markdown",
      "metadata": {
        "id": "U4lnAjL91fSN"
      },
      "source": [
        "Последнее, можно показать из чего пользователь должен выбрать:"
      ]
    },
    {
      "cell_type": "code",
      "execution_count": null,
      "metadata": {
        "id": "7WQi5D-S1fSN",
        "outputId": "424b79e7-d70d-46cf-a75f-488ff27d94e5",
        "colab": {
          "base_uri": "https://localhost:8080/",
          "height": 468
        }
      },
      "outputs": [
        {
          "output_type": "stream",
          "name": "stdout",
          "text": [
            "\n",
            "A collection of values that are not connected, but have an order.\n",
            "\n",
            "What word do you think this is?\n",
            "list  dictionary  function  \n"
          ]
        },
        {
          "output_type": "error",
          "ename": "KeyboardInterrupt",
          "evalue": "ignored",
          "traceback": [
            "\u001b[0;31m---------------------------------------------------------------------------\u001b[0m",
            "\u001b[0;31mKeyboardInterrupt\u001b[0m                         Traceback (most recent call last)",
            "\u001b[0;32m<ipython-input-26-d4dbfd56ad9c>\u001b[0m in \u001b[0;36m<module>\u001b[0;34m\u001b[0m\n\u001b[1;32m     22\u001b[0m         \u001b[0mprint\u001b[0m\u001b[0;34m(\u001b[0m\u001b[0;34m\"\\nWhat word do you think this is?\"\u001b[0m\u001b[0;34m)\u001b[0m\u001b[0;34m\u001b[0m\u001b[0;34m\u001b[0m\u001b[0m\n\u001b[1;32m     23\u001b[0m         \u001b[0mshow_words\u001b[0m\u001b[0;34m(\u001b[0m\u001b[0mpython_words\u001b[0m\u001b[0;34m)\u001b[0m\u001b[0;34m\u001b[0m\u001b[0;34m\u001b[0m\u001b[0m\n\u001b[0;32m---> 24\u001b[0;31m         \u001b[0mguessed_word\u001b[0m \u001b[0;34m=\u001b[0m \u001b[0minput\u001b[0m\u001b[0;34m(\u001b[0m\u001b[0;34m\"- \"\u001b[0m\u001b[0;34m)\u001b[0m\u001b[0;34m\u001b[0m\u001b[0;34m\u001b[0m\u001b[0m\n\u001b[0m\u001b[1;32m     25\u001b[0m \u001b[0;34m\u001b[0m\u001b[0m\n\u001b[1;32m     26\u001b[0m         \u001b[0;31m# The guess is correct if the guessed word's meaning matches the current meaning.\u001b[0m\u001b[0;34m\u001b[0m\u001b[0;34m\u001b[0m\u001b[0;34m\u001b[0m\u001b[0m\n",
            "\u001b[0;32m/usr/local/lib/python3.7/dist-packages/ipykernel/kernelbase.py\u001b[0m in \u001b[0;36mraw_input\u001b[0;34m(self, prompt)\u001b[0m\n\u001b[1;32m    861\u001b[0m             \u001b[0mself\u001b[0m\u001b[0;34m.\u001b[0m\u001b[0m_parent_ident\u001b[0m\u001b[0;34m,\u001b[0m\u001b[0;34m\u001b[0m\u001b[0;34m\u001b[0m\u001b[0m\n\u001b[1;32m    862\u001b[0m             \u001b[0mself\u001b[0m\u001b[0;34m.\u001b[0m\u001b[0m_parent_header\u001b[0m\u001b[0;34m,\u001b[0m\u001b[0;34m\u001b[0m\u001b[0;34m\u001b[0m\u001b[0m\n\u001b[0;32m--> 863\u001b[0;31m             \u001b[0mpassword\u001b[0m\u001b[0;34m=\u001b[0m\u001b[0;32mFalse\u001b[0m\u001b[0;34m,\u001b[0m\u001b[0;34m\u001b[0m\u001b[0;34m\u001b[0m\u001b[0m\n\u001b[0m\u001b[1;32m    864\u001b[0m         )\n\u001b[1;32m    865\u001b[0m \u001b[0;34m\u001b[0m\u001b[0m\n",
            "\u001b[0;32m/usr/local/lib/python3.7/dist-packages/ipykernel/kernelbase.py\u001b[0m in \u001b[0;36m_input_request\u001b[0;34m(self, prompt, ident, parent, password)\u001b[0m\n\u001b[1;32m    902\u001b[0m             \u001b[0;32mexcept\u001b[0m \u001b[0mKeyboardInterrupt\u001b[0m\u001b[0;34m:\u001b[0m\u001b[0;34m\u001b[0m\u001b[0;34m\u001b[0m\u001b[0m\n\u001b[1;32m    903\u001b[0m                 \u001b[0;31m# re-raise KeyboardInterrupt, to truncate traceback\u001b[0m\u001b[0;34m\u001b[0m\u001b[0;34m\u001b[0m\u001b[0;34m\u001b[0m\u001b[0m\n\u001b[0;32m--> 904\u001b[0;31m                 \u001b[0;32mraise\u001b[0m \u001b[0mKeyboardInterrupt\u001b[0m\u001b[0;34m(\u001b[0m\u001b[0;34m\"Interrupted by user\"\u001b[0m\u001b[0;34m)\u001b[0m \u001b[0;32mfrom\u001b[0m \u001b[0;32mNone\u001b[0m\u001b[0;34m\u001b[0m\u001b[0;34m\u001b[0m\u001b[0m\n\u001b[0m\u001b[1;32m    905\u001b[0m             \u001b[0;32mexcept\u001b[0m \u001b[0mException\u001b[0m \u001b[0;32mas\u001b[0m \u001b[0me\u001b[0m\u001b[0;34m:\u001b[0m\u001b[0;34m\u001b[0m\u001b[0;34m\u001b[0m\u001b[0m\n\u001b[1;32m    906\u001b[0m                 \u001b[0mself\u001b[0m\u001b[0;34m.\u001b[0m\u001b[0mlog\u001b[0m\u001b[0;34m.\u001b[0m\u001b[0mwarning\u001b[0m\u001b[0;34m(\u001b[0m\u001b[0;34m\"Invalid Message:\"\u001b[0m\u001b[0;34m,\u001b[0m \u001b[0mexc_info\u001b[0m\u001b[0;34m=\u001b[0m\u001b[0;32mTrue\u001b[0m\u001b[0;34m)\u001b[0m\u001b[0;34m\u001b[0m\u001b[0;34m\u001b[0m\u001b[0m\n",
            "\u001b[0;31mKeyboardInterrupt\u001b[0m: Interrupted by user"
          ]
        }
      ],
      "source": [
        "python_words = {'list': 'A collection of values that are not connected, but have an order.',\n",
        "                'dictionary': 'A collection of key-value pairs.',\n",
        "                'function': 'A named set of instructions that defines a set of actions in Python.',\n",
        "                }\n",
        "\n",
        "def show_words(python_words):\n",
        "    # A simple function to show the words in the dictionary.\n",
        "    display_message = \"\"\n",
        "    for word in python_words.keys():\n",
        "        display_message += word + '  '\n",
        "    print(display_message)\n",
        "\n",
        "# Print each meaning, one at a time, and ask the user\n",
        "#  what word they think it is.\n",
        "for meaning in python_words.values():\n",
        "    print(\"\\n%s\" % meaning)\n",
        "\n",
        "    # Assume the guess is not correct; keep guessing until correct.\n",
        "    correct = False\n",
        "    while not correct:\n",
        "        \n",
        "        print(\"\\nWhat word do you think this is?\")\n",
        "        show_words(python_words)\n",
        "        guessed_word = input(\"- \")    \n",
        "        \n",
        "        # The guess is correct if the guessed word's meaning matches the current meaning.\n",
        "        if python_words[guessed_word] == meaning:\n",
        "            print(\"You got it!\")\n",
        "            correct = True\n",
        "        else:\n",
        "            print(\"Sorry, that's just not the right word.\")"
      ]
    },
    {
      "cell_type": "markdown",
      "metadata": {
        "id": "QqMfO9Fu1fSO"
      },
      "source": [
        "### Немного порядка\n",
        "\n",
        "Проблемой словарей является то, что связанные значения не отсортированы в каком-либо порядке. Когда вы достаете ключи или значение, вы никогда не знаете, в каком порядке их получите*. Пройтись по значениям довольно просто, но давайте сделаем сортировку.\n",
        "\n",
        "<i>* Начиная с версии 3.7 для словарей гарантируется упорядоченность. Ключи в словаре будут в том же порядке, в котором они были добавлены.</i>\n",
        "\n",
        "Посмотрим, что если просто использовать *dictionary.keys()*:"
      ]
    },
    {
      "cell_type": "code",
      "execution_count": null,
      "metadata": {
        "id": "U3cvNPdg1fSO",
        "outputId": "e750e9a9-54bc-40bd-dafb-f7fd0232f805",
        "colab": {
          "base_uri": "https://localhost:8080/"
        }
      },
      "outputs": [
        {
          "output_type": "stream",
          "name": "stdout",
          "text": [
            "list\n",
            "dictionary\n",
            "function\n"
          ]
        }
      ],
      "source": [
        "python_words = {'list': 'A collection of values that are not connected, but have an order.',\n",
        "                'dictionary': 'A collection of key-value pairs.',\n",
        "                'function': 'A named set of instructions that defines a set of actions in Python.',\n",
        "                }\n",
        "\n",
        "for word in python_words.keys():\n",
        "    print(word)"
      ]
    },
    {
      "cell_type": "markdown",
      "metadata": {
        "id": "Ugw9W9bK1fSO"
      },
      "source": [
        "Значения никак не отсортированы. Можно использовать *sorted()* чтобы отсортировать то, что мы будем получать:"
      ]
    },
    {
      "cell_type": "code",
      "execution_count": null,
      "metadata": {
        "id": "TvdgEqYI1fSO",
        "outputId": "66ce50c7-bd11-4d13-f94b-e5492d64f6c8",
        "colab": {
          "base_uri": "https://localhost:8080/"
        }
      },
      "outputs": [
        {
          "output_type": "stream",
          "name": "stdout",
          "text": [
            "dictionary\n",
            "function\n",
            "list\n"
          ]
        }
      ],
      "source": [
        "python_words = {'list': 'A collection of values that are not connected, but have an order.',\n",
        "                'dictionary': 'A collection of key-value pairs.',\n",
        "                'function': 'A named set of instructions that defines a set of actions in Python.',\n",
        "                }\n",
        "\n",
        "for word in sorted(python_words.keys()):\n",
        "    print(word)"
      ]
    },
    {
      "cell_type": "markdown",
      "metadata": {
        "id": "xvd-gBR71fSO"
      },
      "source": [
        "Такой подход можно использовать и для ключей, и для значений. Пример, когда слова и их значения могут быть выведены в алфавитном порядке:"
      ]
    },
    {
      "cell_type": "code",
      "execution_count": null,
      "metadata": {
        "id": "CNG9DQep1fSO",
        "outputId": "236382ed-1a98-4a26-af14-5eaabef91c5b",
        "colab": {
          "base_uri": "https://localhost:8080/"
        }
      },
      "outputs": [
        {
          "output_type": "stream",
          "name": "stdout",
          "text": [
            "Dictionary: A collection of key-value pairs.\n",
            "Function: A named set of instructions that defines a set of actions in Python.\n",
            "List: A collection of values that are not connected, but have an order.\n"
          ]
        }
      ],
      "source": [
        "python_words = {'list': 'A collection of values that are not connected, but have an order.',\n",
        "                'dictionary': 'A collection of key-value pairs.',\n",
        "                'function': 'A named set of instructions that defines a set of actions in Python.',\n",
        "                }\n",
        "\n",
        "for word in sorted(python_words.keys()):\n",
        "    print(\"%s: %s\" % (word.title(), python_words[word]))"
      ]
    },
    {
      "cell_type": "markdown",
      "metadata": {
        "id": "rEj87c6U1fSO"
      },
      "source": [
        "Данный подход не затрагивает содержание словаря. Но если вы хотите использовать отсортированные словари, существует структра данных, которая реализовывает такой подход - \n",
        "[OrderedDict](http://docs.python.org/3.3/library/collections.html#ordereddict-objects)."
      ]
    },
    {
      "cell_type": "markdown",
      "metadata": {
        "id": "3xx5WVhQ1fSP"
      },
      "source": [
        "### Nesting\n",
        "\n",
        "Nesting - одна из самых мощных концепций в Python. В данном случае она позволяет завернуть один словарь внутрь другого. Мы рассмотрим два примера: списки внутри словаря и словарь внутри словаря. Таким способом можно расширять имеющиеся структуры данных и полностью пересмотреть подход к организации данных."
      ]
    },
    {
      "cell_type": "markdown",
      "metadata": {
        "id": "4plEgjyj1fSP"
      },
      "source": [
        "#### Список в словаре\n",
        "\n",
        "Словарь объединяет 2 части информации (ключ и значение). Это могут быть части информации любого вида и любой структуры. В качестве ключей оставим строковые переменные, но в качестве значения будет список.\n",
        "\n",
        "В первом примере мы будем хранить имя человека и последовательность его любимых чисел. И мы по очереди пройдем по каждому человеку и его списку."
      ]
    },
    {
      "cell_type": "code",
      "execution_count": null,
      "metadata": {
        "collapsed": true,
        "id": "gOK6xVgT1fSP"
      },
      "outputs": [],
      "source": [
        "a = [1, 2, a]"
      ]
    },
    {
      "cell_type": "code",
      "execution_count": null,
      "metadata": {
        "id": "hCWaTvlE1fSP",
        "outputId": "727b44ed-792c-4a19-abea-c739f328bf56",
        "colab": {
          "base_uri": "https://localhost:8080/"
        }
      },
      "outputs": [
        {
          "output_type": "stream",
          "name": "stdout",
          "text": [
            "Eric's favorite numbers are:\n",
            "[3, 11, 19, 23, 42]\n",
            "\n",
            "Ever's favorite numbers are:\n",
            "[2, 4, 5]\n",
            "\n",
            "Willie's favorite numbers are:\n",
            "[5, 35, 120]\n"
          ]
        }
      ],
      "source": [
        "# This program stores people's favorite numbers, and displays them.\n",
        "favorite_numbers = {'eric': [3, 11, 19, 23, 42],\n",
        "                    'ever': [2, 4, 5],\n",
        "                    'willie': [5, 35, 120],\n",
        "                    }\n",
        "\n",
        "# Display each person's favorite numbers.\n",
        "print(\"Eric's favorite numbers are:\")\n",
        "print(favorite_numbers['eric'])\n",
        "\n",
        "print(\"\\nEver's favorite numbers are:\")\n",
        "print(favorite_numbers['ever'])\n",
        "\n",
        "print(\"\\nWillie's favorite numbers are:\")\n",
        "print(favorite_numbers['willie'])"
      ]
    },
    {
      "cell_type": "markdown",
      "metadata": {
        "id": "4nrq-MVt1fSP"
      },
      "source": [
        "Заменим циклом по ключам:"
      ]
    },
    {
      "cell_type": "code",
      "execution_count": null,
      "metadata": {
        "id": "tAGXq1CJ1fSP",
        "outputId": "c6ee885f-ee49-477d-84c2-5db0918b59d2",
        "colab": {
          "base_uri": "https://localhost:8080/"
        }
      },
      "outputs": [
        {
          "output_type": "stream",
          "name": "stdout",
          "text": [
            "\n",
            "Eric's favorite numbers are:\n",
            "[3, 11, 19, 23, 42]\n",
            "\n",
            "Ever's favorite numbers are:\n",
            "[2, 4, 5]\n",
            "\n",
            "Willie's favorite numbers are:\n",
            "[5, 35, 120]\n"
          ]
        }
      ],
      "source": [
        "# This program stores people's favorite numbers, and displays them.\n",
        "favorite_numbers = {'eric': [3, 11, 19, 23, 42],\n",
        "                    'ever': [2, 4, 5],\n",
        "                    'willie': [5, 35, 120],\n",
        "                    }\n",
        "\n",
        "# Display each person's favorite numbers.\n",
        "for name in favorite_numbers:\n",
        "    print(\"\\n%s's favorite numbers are:\" % name.title())\n",
        "    print(favorite_numbers[name])      "
      ]
    },
    {
      "cell_type": "markdown",
      "metadata": {
        "id": "K6FankrX1fSP"
      },
      "source": [
        "Структура вполне понятная, очевидно, что к чему привязанно в данном случае.\n",
        "\n",
        "Тем не менее это плохая идея - пробовать использовать сырой вывод для структуры с такой связностью. Лучше использовать еще один цикл. "
      ]
    },
    {
      "cell_type": "code",
      "execution_count": null,
      "metadata": {
        "id": "z7V-pk3K1fSR",
        "outputId": "3264655e-90bc-477d-a5fb-4199ddaf30d9",
        "colab": {
          "base_uri": "https://localhost:8080/"
        }
      },
      "outputs": [
        {
          "output_type": "stream",
          "name": "stdout",
          "text": [
            "\n",
            "Eric's favorite numbers are:\n",
            "3\n",
            "11\n",
            "19\n",
            "23\n",
            "42\n",
            "\n",
            "Ever's favorite numbers are:\n",
            "2\n",
            "4\n",
            "5\n",
            "\n",
            "Willie's favorite numbers are:\n",
            "5\n",
            "35\n",
            "120\n"
          ]
        }
      ],
      "source": [
        "# This program stores people's favorite numbers, and displays them.\n",
        "favorite_numbers = {'eric': [3, 11, 19, 23, 42],\n",
        "                    'ever': [2, 4, 5],\n",
        "                    'willie': [5, 35, 120],\n",
        "                    }\n",
        "\n",
        "# Display each person's favorite numbers.\n",
        "for name in favorite_numbers:\n",
        "    print(\"\\n%s's favorite numbers are:\" % name.title())\n",
        "    \n",
        "    # Each value is itself a list, so let's put that list in a variable.\n",
        "    current_favorite_numbers = favorite_numbers[name]\n",
        "    for favorite_number in current_favorite_numbers:\n",
        "        print(favorite_number)        "
      ]
    },
    {
      "cell_type": "markdown",
      "metadata": {
        "id": "PHF3S0u21fSS"
      },
      "source": [
        "#### Словарь в словаре\n",
        "\n",
        "Для демонстрации будем использовать следующий пример, возьмем словарь животных и добавим описание этому животному. Ключами будут имена/клички животных. Значение будет содержать: вид животного, хозяина и информацию о том, была ли проведена вакцинация."
      ]
    },
    {
      "cell_type": "code",
      "execution_count": null,
      "metadata": {
        "id": "LefKU_gF1fSS",
        "outputId": "8aab6a87-390e-4341-b8ab-687140f6e1ec",
        "colab": {
          "base_uri": "https://localhost:8080/"
        }
      },
      "outputs": [
        {
          "output_type": "stream",
          "name": "stdout",
          "text": [
            "Here is what I know about Willie:\n",
            "kind: dog\n",
            "owner: eric\n",
            "vaccinated: True\n",
            "\n",
            "Here is what I know about Walter:\n",
            "kind: cockroach\n",
            "owner: eric\n",
            "vaccinated: False\n",
            "\n",
            "Here is what I know about Peso:\n",
            "kind: dog\n",
            "owner: chloe\n",
            "vaccinated: True\n"
          ]
        }
      ],
      "source": [
        "# This program stores information about pets. For each pet,\n",
        "#   we store the kind of animal, the owner's name, and\n",
        "#   the breed.\n",
        "pets = {'willie': {'kind': 'dog', 'owner': 'eric', 'vaccinated': True},\n",
        "        'walter': {'kind': 'cockroach', 'owner': 'eric', 'vaccinated': False},\n",
        "        'peso': {'kind': 'dog', 'owner': 'chloe', 'vaccinated': True},\n",
        "        }\n",
        "\n",
        "# Let's show all the information for each pet.\n",
        "print(\"Here is what I know about Willie:\")\n",
        "print(\"kind: \" + pets['willie']['kind'])\n",
        "print(\"owner: \" + pets['willie']['owner'])\n",
        "print(\"vaccinated: \" + str(pets['willie']['vaccinated']))\n",
        "\n",
        "print(\"\\nHere is what I know about Walter:\")\n",
        "print(\"kind: \" + pets['walter']['kind'])\n",
        "print(\"owner: \" + pets['walter']['owner'])\n",
        "print(\"vaccinated: \" + str(pets['walter']['vaccinated']))\n",
        "\n",
        "print(\"\\nHere is what I know about Peso:\")\n",
        "print(\"kind: \" + pets['peso']['kind'])\n",
        "print(\"owner: \" + pets['peso']['owner'])\n",
        "print(\"vaccinated: \" + str(pets['peso']['vaccinated']))"
      ]
    },
    {
      "cell_type": "markdown",
      "metadata": {
        "id": "Gxu5hNLW1fSS"
      },
      "source": [
        "Довольно громоздкое описание, но, тем не менее, дает четкое понимание того, что происходит внутри структуры и как организованы данные.\n",
        "\n",
        "Давайте сделаем более компактный вариант:"
      ]
    },
    {
      "cell_type": "code",
      "execution_count": null,
      "metadata": {
        "id": "QsYWS_m21fSS",
        "outputId": "470913fc-4ffe-4d10-c0b8-1c69b7ae2d66",
        "colab": {
          "base_uri": "https://localhost:8080/"
        }
      },
      "outputs": [
        {
          "output_type": "stream",
          "name": "stdout",
          "text": [
            "\n",
            "Here is what I know about Willie:\n",
            "kind: dog\n",
            "owner: eric\n",
            "vaccinated: True\n",
            "\n",
            "Here is what I know about Walter:\n",
            "kind: cockroach\n",
            "owner: eric\n",
            "vaccinated: False\n",
            "\n",
            "Here is what I know about Peso:\n",
            "kind: dog\n",
            "owner: chloe\n",
            "vaccinated: True\n"
          ]
        }
      ],
      "source": [
        "# This program stores information about pets. For each pet,\n",
        "#   we store the kind of animal, the owner's name, and\n",
        "#   the breed.\n",
        "pets = {'willie': {'kind': 'dog', 'owner': 'eric', 'vaccinated': True},\n",
        "        'walter': {'kind': 'cockroach', 'owner': 'eric', 'vaccinated': False},\n",
        "        'peso': {'kind': 'dog', 'owner': 'chloe', 'vaccinated': True},\n",
        "        }\n",
        "\n",
        "# Let's show all the information for each pet.\n",
        "for pet_name, pet_information in pets.items():\n",
        "    print(\"\\nHere is what I know about %s:\" % pet_name.title())\n",
        "    print(\"kind: \" + pet_information['kind'])\n",
        "    print(\"owner: \" + pet_information['owner'])\n",
        "    print(\"vaccinated: \" + str(pet_information['vaccinated']))"
      ]
    },
    {
      "cell_type": "markdown",
      "metadata": {
        "id": "cGH2Ofv51fSS"
      },
      "source": [
        "Запись компактная, но если мы добавим информацию к исходному словарю, возникнут некоторые проблемы. Поэтому давайте дадим каждому словарю по циклу:"
      ]
    },
    {
      "cell_type": "code",
      "execution_count": null,
      "metadata": {
        "id": "Ti1zk4XN1fSS",
        "outputId": "e10dd509-347a-408e-f5f0-d98d9bcf5d1e",
        "colab": {
          "base_uri": "https://localhost:8080/"
        }
      },
      "outputs": [
        {
          "output_type": "stream",
          "name": "stdout",
          "text": [
            "\n",
            "Here is what I know about Willie:\n",
            "kind: dog\n",
            "owner: eric\n",
            "vaccinated: True\n",
            "\n",
            "Here is what I know about Walter:\n",
            "kind: cockroach\n",
            "owner: eric\n",
            "vaccinated: False\n",
            "\n",
            "Here is what I know about Peso:\n",
            "kind: dog\n",
            "owner: chloe\n",
            "vaccinated: True\n"
          ]
        }
      ],
      "source": [
        "# This program stores information about pets. For each pet,\n",
        "#   we store the kind of animal, the owner's name, and\n",
        "#   the breed.\n",
        "pets = {'willie': {'kind': 'dog', 'owner': 'eric', 'vaccinated': True},\n",
        "        'walter': {'kind': 'cockroach', 'owner': 'eric', 'vaccinated': False},\n",
        "        'peso': {'kind': 'dog', 'owner': 'chloe', 'vaccinated': True},\n",
        "        }\n",
        "\n",
        "# Let's show all the information for each pet.\n",
        "for pet_name, pet_information in pets.items():\n",
        "    print(\"\\nHere is what I know about %s:\" % pet_name.title())\n",
        "    # Each animal's dictionary is in 'information'\n",
        "    for key in pet_information:\n",
        "        print(key + \": \" + str(pet_information[key]))"
      ]
    },
    {
      "cell_type": "markdown",
      "metadata": {
        "id": "_6UTV6zI1fST"
      },
      "source": [
        "Такая структура в начеле может выглядить сложно, давайте поясним.\n",
        "\n",
        "- Первый цикл идет по ключам - имена животных\n",
        "- Каждое имя используется чтобы 'распаковать' словарь с описанием для этого имени.\n",
        "- Внутренний цикл идет по ключам описания, и вытаскивает все ключи, которые сохранены во вложенном словаре.\n",
        "- Мы печатаем ключ, который показывает нам, что мы собираемся увидеть, и значения ключа.\n",
        "- Мы так жеможем улучшить вывод:\n",
        "    - Имя владельца можно печатать с большой буквы\n",
        "    - Печатать 'yes' или 'no', вместо True и False.\n",
        "    \n",
        "Давайте выведем финальную версию:"
      ]
    },
    {
      "cell_type": "code",
      "execution_count": null,
      "metadata": {
        "id": "ID_vYvR01fST",
        "outputId": "c5a60a63-7730-447f-9583-cad519bef91d",
        "colab": {
          "base_uri": "https://localhost:8080/"
        }
      },
      "outputs": [
        {
          "output_type": "stream",
          "name": "stdout",
          "text": [
            "\n",
            "Here is what I know about Willie:\n",
            "kind: dog\n",
            "owner: Eric\n",
            "vaccinated: yes\n",
            "\n",
            "Here is what I know about Walter:\n",
            "kind: cockroach\n",
            "owner: Eric\n",
            "vaccinated: no\n",
            "\n",
            "Here is what I know about Peso:\n",
            "kind: dog\n",
            "owner: Chloe\n",
            "vaccinated: yes\n"
          ]
        }
      ],
      "source": [
        "# This program stores information about pets. For each pet,\n",
        "#   we store the kind of animal, the owner's name, and\n",
        "#   the breed.\n",
        "pets = {'willie': {'kind': 'dog', 'owner': 'eric', 'vaccinated': True},\n",
        "        'walter': {'kind': 'cockroach', 'owner': 'eric', 'vaccinated': False},\n",
        "        'peso': {'kind': 'dog', 'owner': 'chloe', 'vaccinated': True},\n",
        "        }\n",
        "\n",
        "# Let's show all the information for each pet.\n",
        "for pet_name, pet_information in pets.items():\n",
        "    print(\"\\nHere is what I know about %s:\" % pet_name.title())\n",
        "    # Each animal's dictionary is in pet_information\n",
        "    for key in pet_information:\n",
        "        if key == 'owner':\n",
        "            # Capitalize the owner's name.\n",
        "            print(key + \": \" + pet_information[key].title())\n",
        "        elif key == 'vaccinated':\n",
        "            # Print 'yes' for True, and 'no' for False.\n",
        "            vaccinated = pet_information['vaccinated']\n",
        "            if vaccinated:\n",
        "                print('vaccinated: yes')\n",
        "            else:\n",
        "                print('vaccinated: no')\n",
        "        else:\n",
        "            # No special formatting needed for this key.\n",
        "            print(key + \": \" + pet_information[key])"
      ]
    },
    {
      "cell_type": "markdown",
      "metadata": {
        "id": "8ZsDpbKA1fST"
      },
      "source": [
        "#### Важное замечание о nesting\n",
        "\n",
        "Вложения на 1-2 уровня могут быть очень удобны, но это становится плохо читаемым, если слишком увлекаеться таким подходом. Если у вас большая глубина вложений - задумайтесь, возможно, вы используете неправильный способ хранения информации. Для очень сложных разветвленных типов существуют классы и базы данных, которые позволяют сохранять сложную связанную информацию и взаимодействовать с ней.\n",
        "\n",
        "Чаще всего вы частично извлекаете информацию из базы данных и упаковываете её в словарь, нежели используете струтуры глубокой вложенности."
      ]
    },
    {
      "cell_type": "markdown",
      "metadata": {
        "id": "x3fSi3gl3tE4"
      },
      "source": [
        "### Пример чтения данных из файла в словарь"
      ]
    },
    {
      "cell_type": "markdown",
      "metadata": {
        "id": "PgGE-GZu3tE6"
      },
      "source": [
        "Предположим, есть файл с данными клиентов банка (пока не рассматриваем чтение из базы данных). В качестве простого примера воьзьмем txt-файл следующего содержания:\n",
        "___________________________________________\n",
        "lastname,age,debt,occupation\n",
        "\n",
        "Adrianov,25,30000,artist\n",
        "\n",
        "Belkin,42,4000,programmer\n",
        "\n",
        "Koltunov,32,100,sportsman \n",
        "___________________________________________"
      ]
    },
    {
      "cell_type": "code",
      "execution_count": null,
      "metadata": {
        "id": "DBURUVMX3tE6"
      },
      "outputs": [],
      "source": [
        "credit_history_file = open('../data/credit_sample.txt', 'r')\n",
        "\n",
        "print(credit_history_file.readline())\n",
        "\n",
        "for line in credit_history_file:\n",
        "    line = line.strip().split(\",\")\n",
        "    print(line)"
      ]
    },
    {
      "cell_type": "code",
      "execution_count": null,
      "metadata": {
        "id": "n1o9demN3tE7"
      },
      "outputs": [],
      "source": [
        "credit_history_file = open('../data/credit_sample.txt', 'r')\n",
        "\n",
        "# let's for now just skip the heading\n",
        "first_line = credit_history_file.readline()\n",
        "print(first_line)\n",
        "\n",
        "credit_history_dict = {}\n",
        "\n",
        "for line in credit_history_file:\n",
        "    lastname, age, debt, occupation = line.strip().split(\",\")\n",
        "    credit_history_dict[lastname] = (int(age), \n",
        "                                     int(debt), \n",
        "                                     occupation) \n",
        "print(credit_history_dict)\n",
        "    \n",
        "credit_history_file.close()"
      ]
    },
    {
      "cell_type": "markdown",
      "metadata": {
        "id": "1kdGW1H03tE8"
      },
      "source": [
        "Теперь можем добавлять записи в словарь вручную"
      ]
    },
    {
      "cell_type": "code",
      "execution_count": null,
      "metadata": {
        "id": "pQXYIBPM3tE8"
      },
      "outputs": [],
      "source": [
        "# adding clients by hand\n",
        "# Markin,34,500,journalist\n",
        "line = ''\n",
        "while(line != 'quit'):\n",
        "    line = input().strip()\n",
        "    if line == 'quit':\n",
        "        break\n",
        "    else:   # line != 'quit' \n",
        "        lastname, age, debt, occupation = line.split(\",\") \n",
        "        credit_history_dict[lastname] = (int(age), \n",
        "                                     int(debt), \n",
        "                                     occupation)\n",
        "print(credit_history_dict)  \n",
        "\n"
      ]
    },
    {
      "cell_type": "markdown",
      "metadata": {
        "id": "8igNw_223atR"
      },
      "source": [
        "## Часть 2. Множества\n",
        "Про множества на <a href=\"http://pythonworld.ru/tipy-dannyx-v-python/mnozhestva-set-i-frozenset.html\">Pythonworld</a>"
      ]
    },
    {
      "cell_type": "markdown",
      "metadata": {
        "id": "KMtYI_j23atS"
      },
      "source": [
        "Множество в Python содержит элементы в случайном порядке. Элементы повторяться не могут."
      ]
    },
    {
      "cell_type": "code",
      "execution_count": null,
      "metadata": {
        "id": "j__UQfcn3atS",
        "outputId": "d69abd4e-a527-486d-bfff-cdb61f035356",
        "colab": {
          "base_uri": "https://localhost:8080/"
        }
      },
      "outputs": [
        {
          "output_type": "stream",
          "name": "stdout",
          "text": [
            "{1, 2, 3}\n",
            "{4, 5, 6}\n"
          ]
        }
      ],
      "source": [
        "a = set([1, 2, 3])\n",
        "b = {4, 5, 6} # {} - dict, not set\n",
        "print(a)\n",
        "print(b)"
      ]
    },
    {
      "cell_type": "markdown",
      "metadata": {
        "id": "GjDlQpVs3atT"
      },
      "source": [
        "Видим, что порядок элементов случайный."
      ]
    },
    {
      "cell_type": "code",
      "execution_count": null,
      "metadata": {
        "id": "hyjUNGUc3atT",
        "outputId": "b589ef33-d346-49b6-c5a0-649c9770bb8a",
        "colab": {
          "base_uri": "https://localhost:8080/"
        }
      },
      "outputs": [
        {
          "output_type": "stream",
          "name": "stdout",
          "text": [
            "{0, 1, 64, 4, 36, 9, 16, 49, 81, 25}\n"
          ]
        }
      ],
      "source": [
        "a = {i ** 2 for i in range(10)}\n",
        "print(a)"
      ]
    },
    {
      "cell_type": "markdown",
      "metadata": {
        "id": "YbTjDHRr3atU"
      },
      "source": [
        "Основные методы для работы с множествами:"
      ]
    },
    {
      "cell_type": "markdown",
      "metadata": {
        "id": "w5s3gJyg3atU"
      },
      "source": [
        " - len(s) - число элементов в множестве s (мощность множества)"
      ]
    },
    {
      "cell_type": "code",
      "execution_count": null,
      "metadata": {
        "id": "FgPt0ANU3atV",
        "outputId": "7bda72d6-ec4a-4cb6-c4b3-37794a3c42b4",
        "colab": {
          "base_uri": "https://localhost:8080/"
        }
      },
      "outputs": [
        {
          "output_type": "stream",
          "name": "stdout",
          "text": [
            "4\n"
          ]
        }
      ],
      "source": [
        "print(len({3, 5, 7, 8}))"
      ]
    },
    {
      "cell_type": "markdown",
      "metadata": {
        "id": "RLFv_tlR3atV"
      },
      "source": [
        "- set.issubset(other) (или set <= other) - является ли множество подмножеством другого (other)"
      ]
    },
    {
      "cell_type": "code",
      "execution_count": null,
      "metadata": {
        "id": "9ktMlBjf3atV",
        "outputId": "7252c3fe-f4c9-4b53-e954-eb566ceaf0ab",
        "colab": {
          "base_uri": "https://localhost:8080/"
        }
      },
      "outputs": [
        {
          "output_type": "stream",
          "name": "stdout",
          "text": [
            "True\n",
            "True\n"
          ]
        }
      ],
      "source": [
        "print({2, 5, 6}.issubset({2, 4, 8, 3, 5, 6}))\n",
        "print({2, 5, 6} <= {2, 4, 8, 3, 5, 6})"
      ]
    },
    {
      "cell_type": "markdown",
      "metadata": {
        "id": "hXX6GsNK3atV"
      },
      "source": [
        "- set.union(other, ...) (или set | other | ) - объединение нескольких множеств"
      ]
    },
    {
      "cell_type": "code",
      "execution_count": null,
      "metadata": {
        "id": "CeMLJ4bP3atW",
        "outputId": "5af34a6f-cb55-4359-905c-839167fa8c8f",
        "colab": {
          "base_uri": "https://localhost:8080/"
        }
      },
      "outputs": [
        {
          "output_type": "execute_result",
          "data": {
            "text/plain": [
              "{2, 3, 5, 6, 7, 8}"
            ]
          },
          "metadata": {},
          "execution_count": 43
        }
      ],
      "source": [
        "{2, 5, 7}.union({2, 8, 3, 5, 6})"
      ]
    },
    {
      "cell_type": "markdown",
      "metadata": {
        "id": "4JvrHP5x3atW"
      },
      "source": [
        "- set.intersection(other, ...) (или set & other &) - пересечение нескольких множеств"
      ]
    },
    {
      "cell_type": "code",
      "execution_count": null,
      "metadata": {
        "id": "5I3nZvWJ3atW",
        "outputId": "edb40343-652d-4e8a-b881-a689d34a4cf8",
        "colab": {
          "base_uri": "https://localhost:8080/"
        }
      },
      "outputs": [
        {
          "output_type": "execute_result",
          "data": {
            "text/plain": [
              "{2}"
            ]
          },
          "metadata": {},
          "execution_count": 82
        }
      ],
      "source": [
        "{2, 5, 7, 4, 3, 5}.intersection({2, 4, 7}, {2, 7})"
      ]
    },
    {
      "cell_type": "markdown",
      "metadata": {
        "id": "Izxud9jo3atW"
      },
      "source": [
        "- set.difference(other, ...) (или set - other) - множество из всех элементов set, не принадлежащие ни одному из other."
      ]
    },
    {
      "cell_type": "code",
      "execution_count": null,
      "metadata": {
        "id": "cgxV8nTu3atX",
        "outputId": "6c0a0ea0-6122-40bd-a7a2-72d93e76570e",
        "colab": {
          "base_uri": "https://localhost:8080/"
        }
      },
      "outputs": [
        {
          "output_type": "execute_result",
          "data": {
            "text/plain": [
              "{3, 5}"
            ]
          },
          "metadata": {},
          "execution_count": 45
        }
      ],
      "source": [
        "{2, 5, 7, 4, 3, 5} - {2, 4, 7}"
      ]
    },
    {
      "cell_type": "markdown",
      "metadata": {
        "id": "m8JBAQRv3atX"
      },
      "source": [
        "- set.symmetric_difference(other) (или set ^ other) - множество из элементов, встречающихся в одном множестве, но не встречающиеся в обоих."
      ]
    },
    {
      "cell_type": "code",
      "execution_count": null,
      "metadata": {
        "id": "KAYHSplh3atX",
        "outputId": "d6dc63d1-bb0a-4cfb-ad37-50670fe4aa1b",
        "colab": {
          "base_uri": "https://localhost:8080/"
        }
      },
      "outputs": [
        {
          "output_type": "execute_result",
          "data": {
            "text/plain": [
              "{1, 2, 6, 7}"
            ]
          },
          "metadata": {},
          "execution_count": 46
        }
      ],
      "source": [
        "{1, 2, 3, 4, 5}.symmetric_difference({3, 4, 5, 6, 7})"
      ]
    },
    {
      "cell_type": "markdown",
      "metadata": {
        "id": "E_4rFwR73atX"
      },
      "source": [
        " - set.add(elem) - добавляет элемент в множество.\n",
        " - set.remove(elem) - удаляет элемент из множества. KeyError, если такого элемента не существует.\n",
        " - set.discard(elem) - удаляет элемент, если он находится в множестве.\n",
        " - set.pop() - удаляет первый элемент из множества. Так как множества не упорядочены, нельзя точно сказать, какой элемент будет первым.\n",
        " - set.clear() - очистка множества."
      ]
    },
    {
      "cell_type": "markdown",
      "metadata": {
        "id": "gSTusUTo3atY"
      },
      "source": [
        "### Frozenset"
      ]
    },
    {
      "cell_type": "markdown",
      "metadata": {
        "id": "c_Sgn8rb3atY"
      },
      "source": [
        "frozenset - то же множество, только неизменяемое"
      ]
    },
    {
      "cell_type": "code",
      "execution_count": null,
      "metadata": {
        "id": "lY6B5JWD3atY",
        "outputId": "cb249003-8799-441d-e51a-6c48fe3bb045",
        "colab": {
          "base_uri": "https://localhost:8080/"
        }
      },
      "outputs": [
        {
          "output_type": "stream",
          "name": "stdout",
          "text": [
            "{'Alex'}\n"
          ]
        }
      ],
      "source": [
        "manchester_fans = set([\"Alex\", \"Harry\"])\n",
        "detroit_fans = frozenset([\"Harry\", \"Nick\"])\n",
        "print(manchester_fans - detroit_fans)\n",
        "manchester_fans.add(\"Leo\")"
      ]
    },
    {
      "cell_type": "markdown",
      "metadata": {
        "id": "pe0t_mK33atY"
      },
      "source": [
        "В неизменяемое множество нельзя добавить элемент."
      ]
    },
    {
      "cell_type": "code",
      "execution_count": null,
      "metadata": {
        "id": "YwVt2I9A3atY",
        "outputId": "82ebb3fb-76b2-4f02-d54c-019b843559bc",
        "colab": {
          "base_uri": "https://localhost:8080/",
          "height": 166
        }
      },
      "outputs": [
        {
          "output_type": "error",
          "ename": "AttributeError",
          "evalue": "ignored",
          "traceback": [
            "\u001b[0;31m---------------------------------------------------------------------------\u001b[0m",
            "\u001b[0;31mAttributeError\u001b[0m                            Traceback (most recent call last)",
            "\u001b[0;32m<ipython-input-84-f1f66dbb0f9d>\u001b[0m in \u001b[0;36m<module>\u001b[0;34m\u001b[0m\n\u001b[0;32m----> 1\u001b[0;31m \u001b[0mdetroit_fans\u001b[0m\u001b[0;34m.\u001b[0m\u001b[0madd\u001b[0m\u001b[0;34m(\u001b[0m\u001b[0;34m\"Bill\"\u001b[0m\u001b[0;34m)\u001b[0m\u001b[0;34m\u001b[0m\u001b[0;34m\u001b[0m\u001b[0m\n\u001b[0m",
            "\u001b[0;31mAttributeError\u001b[0m: 'frozenset' object has no attribute 'add'"
          ]
        }
      ],
      "source": [
        "detroit_fans.add(\"Bill\")"
      ]
    }
  ],
  "metadata": {
    "kernelspec": {
      "display_name": "Python 3",
      "name": "python3"
    },
    "language_info": {
      "name": "python"
    },
    "name": "seminar2_part1_variables_strings_numbers.ipynb",
    "colab": {
      "provenance": [],
      "collapsed_sections": []
    }
  },
  "nbformat": 4,
  "nbformat_minor": 0
}